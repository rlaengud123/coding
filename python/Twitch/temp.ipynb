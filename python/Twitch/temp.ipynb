{
 "nbformat": 4,
 "nbformat_minor": 2,
 "metadata": {
  "language_info": {
   "name": "python",
   "codemirror_mode": {
    "name": "ipython",
    "version": 3
   },
   "version": "3.7.6-final"
  },
  "orig_nbformat": 2,
  "file_extension": ".py",
  "mimetype": "text/x-python",
  "name": "python",
  "npconvert_exporter": "python",
  "pygments_lexer": "ipython3",
  "version": 3,
  "kernelspec": {
   "name": "python37664bitlrcnconda81488d0fdaed43d5852de4dbfc33ce1f",
   "display_name": "Python 3.7.6 64-bit ('lrcn': conda)"
  }
 },
 "cells": [
  {
   "cell_type": "code",
   "execution_count": 1,
   "metadata": {},
   "outputs": [],
   "source": [
    "import pandas as pd"
   ]
  },
  {
   "cell_type": "code",
   "execution_count": 47,
   "metadata": {},
   "outputs": [],
   "source": [
    "df = pd.read_csv('data.csv', names=['title','code','none1','date','none2'])"
   ]
  },
  {
   "cell_type": "code",
   "execution_count": 48,
   "metadata": {},
   "outputs": [
    {
     "output_type": "execute_result",
     "data": {
      "text/plain": "                                                 title           code  none1  \\\n0    ['[2020 우리은행 LCK Spring Split] GRF vs. HLE - D...  ['593452129',    NaN   \n1    [2020 우리은행 LCK Spring Split] GEN vs. KT - T1 v...    592499039',    NaN   \n2    [2020 우리은행 LCK Spring Split] DRX vs. AF - HLE ...    589915716',    NaN   \n3    [2020 우리은행 LCK Spring Split] APK vs. HLE - SB ...    588984253',    NaN   \n4    [2020 우리은행 LCK Spring Split] DRX vs. DWG - T1 ...    588052356',    NaN   \n..                                                 ...            ...    ...   \n335            LCK Spring: AFS vs. JAG | MVP vs. ROX',    231248501',    NaN   \n336             LCK Spring: SKT vs. KSV | KDM vs. KT',    230928829',    NaN   \n337             LCK Spring: SKT vs. KSV | KDM vs. KT',    230928013',    NaN   \n338             LCK Spring: SKT vs. KSV | KDM vs. KT',    227914023',    NaN   \n339             LCK Spring: JAG vs. KZ | bbq vs. MVP']    227548193']    NaN   \n\n             date none2  \n0    2020년 4월 16일   NaN  \n1    2020년 4월 15일   NaN  \n2    2020년 4월 12일   NaN  \n3    2020년 4월 11일   NaN  \n4    2020년 4월 10일   NaN  \n..            ...   ...  \n335  2018년 2월 21일   NaN  \n336  2018년 2월 20일   NaN  \n337  2018년 2월 20일   NaN  \n338  2018년 2월 11일   NaN  \n339  2018년 2월 10일   NaN  \n\n[340 rows x 5 columns]",
      "text/html": "<div>\n<style scoped>\n    .dataframe tbody tr th:only-of-type {\n        vertical-align: middle;\n    }\n\n    .dataframe tbody tr th {\n        vertical-align: top;\n    }\n\n    .dataframe thead th {\n        text-align: right;\n    }\n</style>\n<table border=\"1\" class=\"dataframe\">\n  <thead>\n    <tr style=\"text-align: right;\">\n      <th></th>\n      <th>title</th>\n      <th>code</th>\n      <th>none1</th>\n      <th>date</th>\n      <th>none2</th>\n    </tr>\n  </thead>\n  <tbody>\n    <tr>\n      <th>0</th>\n      <td>['[2020 우리은행 LCK Spring Split] GRF vs. HLE - D...</td>\n      <td>['593452129',</td>\n      <td>NaN</td>\n      <td>2020년 4월 16일</td>\n      <td>NaN</td>\n    </tr>\n    <tr>\n      <th>1</th>\n      <td>[2020 우리은행 LCK Spring Split] GEN vs. KT - T1 v...</td>\n      <td>592499039',</td>\n      <td>NaN</td>\n      <td>2020년 4월 15일</td>\n      <td>NaN</td>\n    </tr>\n    <tr>\n      <th>2</th>\n      <td>[2020 우리은행 LCK Spring Split] DRX vs. AF - HLE ...</td>\n      <td>589915716',</td>\n      <td>NaN</td>\n      <td>2020년 4월 12일</td>\n      <td>NaN</td>\n    </tr>\n    <tr>\n      <th>3</th>\n      <td>[2020 우리은행 LCK Spring Split] APK vs. HLE - SB ...</td>\n      <td>588984253',</td>\n      <td>NaN</td>\n      <td>2020년 4월 11일</td>\n      <td>NaN</td>\n    </tr>\n    <tr>\n      <th>4</th>\n      <td>[2020 우리은행 LCK Spring Split] DRX vs. DWG - T1 ...</td>\n      <td>588052356',</td>\n      <td>NaN</td>\n      <td>2020년 4월 10일</td>\n      <td>NaN</td>\n    </tr>\n    <tr>\n      <th>...</th>\n      <td>...</td>\n      <td>...</td>\n      <td>...</td>\n      <td>...</td>\n      <td>...</td>\n    </tr>\n    <tr>\n      <th>335</th>\n      <td>LCK Spring: AFS vs. JAG | MVP vs. ROX',</td>\n      <td>231248501',</td>\n      <td>NaN</td>\n      <td>2018년 2월 21일</td>\n      <td>NaN</td>\n    </tr>\n    <tr>\n      <th>336</th>\n      <td>LCK Spring: SKT vs. KSV | KDM vs. KT',</td>\n      <td>230928829',</td>\n      <td>NaN</td>\n      <td>2018년 2월 20일</td>\n      <td>NaN</td>\n    </tr>\n    <tr>\n      <th>337</th>\n      <td>LCK Spring: SKT vs. KSV | KDM vs. KT',</td>\n      <td>230928013',</td>\n      <td>NaN</td>\n      <td>2018년 2월 20일</td>\n      <td>NaN</td>\n    </tr>\n    <tr>\n      <th>338</th>\n      <td>LCK Spring: SKT vs. KSV | KDM vs. KT',</td>\n      <td>227914023',</td>\n      <td>NaN</td>\n      <td>2018년 2월 11일</td>\n      <td>NaN</td>\n    </tr>\n    <tr>\n      <th>339</th>\n      <td>LCK Spring: JAG vs. KZ | bbq vs. MVP']</td>\n      <td>227548193']</td>\n      <td>NaN</td>\n      <td>2018년 2월 10일</td>\n      <td>NaN</td>\n    </tr>\n  </tbody>\n</table>\n<p>340 rows × 5 columns</p>\n</div>"
     },
     "metadata": {},
     "execution_count": 48
    }
   ],
   "source": [
    "df"
   ]
  },
  {
   "cell_type": "code",
   "execution_count": 49,
   "metadata": {},
   "outputs": [],
   "source": [
    "for i in range(len(df)):\n",
    "    if '\\'' in df['title'][i]:\n",
    "        df['title'][i] = df['title'][i].replace('\\'','')\n",
    "    if ',' in df['title'][i]:\n",
    "        df['title'][i] = df['title'][i].replace(',','')\n",
    "    if '\\'' in df['code'][i]:\n",
    "        df['code'][i] = df['code'][i].replace('\\'','')\n",
    "    if ',' in df['code'][i]:\n",
    "        df['code'][i] = df['code'][i].replace(',','')\n",
    "    df['title'][i] = df['title'][i].replace(':','')\n",
    "    df['title'][i] = df['title'][i].replace('|','')"
   ]
  },
  {
   "cell_type": "code",
   "execution_count": 50,
   "metadata": {},
   "outputs": [],
   "source": [
    "df.to_csv('temp_result.csv', index=False, encoding='utf-8-sig')"
   ]
  },
  {
   "cell_type": "code",
   "execution_count": 25,
   "metadata": {},
   "outputs": [],
   "source": [
    "df = pd.read_csv('prepro.csv', names=['title','code','date'])"
   ]
  },
  {
   "cell_type": "code",
   "execution_count": 26,
   "metadata": {},
   "outputs": [],
   "source": [
    "for i in range(len(df)):\n",
    "    df['date'][i] = df['date'][i].replace(' ','')\n",
    "    df['date'][i] = df['date'][i].replace('년','.')\n",
    "    df['date'][i] = df['date'][i].replace('월','.')\n",
    "    df['date'][i] = df['date'][i].replace('일','')"
   ]
  },
  {
   "cell_type": "code",
   "execution_count": 27,
   "metadata": {},
   "outputs": [
    {
     "output_type": "execute_result",
     "data": {
      "text/plain": "                                                 title       code        date\n0                 LCK Spring: JAG vs. KZ | bbq vs. MVP  227548193  2018.02.10\n1                 LCK Spring: SKT vs. KSV | KDM vs. KT  227914023  2018.02.11\n2                 LCK Spring: SKT vs. KSV | KDM vs. KT  230928013  2018.02.20\n3                 LCK Spring: SKT vs. KSV | KDM vs. KT  230928829  2018.02.20\n4                LCK Spring: AFS vs. JAG | MVP vs. ROX  231248501  2018.02.21\n..                                                 ...        ...         ...\n335  [2020 우리은행 LCK Spring Split] DRX vs. DWG - T1 ...  588052356  2020.04.10\n336  [2020 우리은행 LCK Spring Split] APK vs. HLE - SB ...  588984253  2020.04.11\n337  [2020 우리은행 LCK Spring Split] DRX vs. AF - HLE ...  589915716  2020.04.12\n338  [2020 우리은행 LCK Spring Split] GEN vs. KT - T1 v...  592499039  2020.04.15\n339  [2020 우리은행 LCK Spring Split] GRF vs. HLE - DRX...  593452129  2020.04.16\n\n[340 rows x 3 columns]",
      "text/html": "<div>\n<style scoped>\n    .dataframe tbody tr th:only-of-type {\n        vertical-align: middle;\n    }\n\n    .dataframe tbody tr th {\n        vertical-align: top;\n    }\n\n    .dataframe thead th {\n        text-align: right;\n    }\n</style>\n<table border=\"1\" class=\"dataframe\">\n  <thead>\n    <tr style=\"text-align: right;\">\n      <th></th>\n      <th>title</th>\n      <th>code</th>\n      <th>date</th>\n    </tr>\n  </thead>\n  <tbody>\n    <tr>\n      <th>0</th>\n      <td>LCK Spring: JAG vs. KZ | bbq vs. MVP</td>\n      <td>227548193</td>\n      <td>2018.02.10</td>\n    </tr>\n    <tr>\n      <th>1</th>\n      <td>LCK Spring: SKT vs. KSV | KDM vs. KT</td>\n      <td>227914023</td>\n      <td>2018.02.11</td>\n    </tr>\n    <tr>\n      <th>2</th>\n      <td>LCK Spring: SKT vs. KSV | KDM vs. KT</td>\n      <td>230928013</td>\n      <td>2018.02.20</td>\n    </tr>\n    <tr>\n      <th>3</th>\n      <td>LCK Spring: SKT vs. KSV | KDM vs. KT</td>\n      <td>230928829</td>\n      <td>2018.02.20</td>\n    </tr>\n    <tr>\n      <th>4</th>\n      <td>LCK Spring: AFS vs. JAG | MVP vs. ROX</td>\n      <td>231248501</td>\n      <td>2018.02.21</td>\n    </tr>\n    <tr>\n      <th>...</th>\n      <td>...</td>\n      <td>...</td>\n      <td>...</td>\n    </tr>\n    <tr>\n      <th>335</th>\n      <td>[2020 우리은행 LCK Spring Split] DRX vs. DWG - T1 ...</td>\n      <td>588052356</td>\n      <td>2020.04.10</td>\n    </tr>\n    <tr>\n      <th>336</th>\n      <td>[2020 우리은행 LCK Spring Split] APK vs. HLE - SB ...</td>\n      <td>588984253</td>\n      <td>2020.04.11</td>\n    </tr>\n    <tr>\n      <th>337</th>\n      <td>[2020 우리은행 LCK Spring Split] DRX vs. AF - HLE ...</td>\n      <td>589915716</td>\n      <td>2020.04.12</td>\n    </tr>\n    <tr>\n      <th>338</th>\n      <td>[2020 우리은행 LCK Spring Split] GEN vs. KT - T1 v...</td>\n      <td>592499039</td>\n      <td>2020.04.15</td>\n    </tr>\n    <tr>\n      <th>339</th>\n      <td>[2020 우리은행 LCK Spring Split] GRF vs. HLE - DRX...</td>\n      <td>593452129</td>\n      <td>2020.04.16</td>\n    </tr>\n  </tbody>\n</table>\n<p>340 rows × 3 columns</p>\n</div>"
     },
     "metadata": {},
     "execution_count": 27
    }
   ],
   "source": [
    "df"
   ]
  },
  {
   "cell_type": "code",
   "execution_count": 30,
   "metadata": {},
   "outputs": [],
   "source": [
    "df2 = pd.read_csv('./lol_result.csv')\n",
    "df2['title2'] = 'a'"
   ]
  },
  {
   "cell_type": "code",
   "execution_count": 34,
   "metadata": {},
   "outputs": [],
   "source": [
    "for i in range(len(df2)):\n",
    "    for j in range(len(df)):\n",
    "        if df2['date'][i] == df['date'][j]:\n",
    "            df2['title2'][i] = df['title'][j]"
   ]
  },
  {
   "cell_type": "code",
   "execution_count": 37,
   "metadata": {},
   "outputs": [
    {
     "output_type": "execute_result",
     "data": {
      "text/plain": "          team   cp1     cp2   cp3    cp4   cp5             pl1           pl2  \\\n0     진에어 그린윙스    오른  자르반 4세    조이   케이틀린  탐 켄치  Jin Air SoHwan  Jin Air UmTi   \n1      킹존 드래곤X    나르      잭스   라이즈   이즈리얼   브라움         KZ Khan     KZ Peanut   \n2     진에어 그린윙스    나르  자르반 4세   아지르   이즈리얼  탐 켄치  Jin Air SoHwan  Jin Air UmTi   \n3      킹존 드래곤X  갱플랭크     카직스   라이즈     자야    라칸         KZ Khan     KZ Peanut   \n4          MVP   초가스    세주아니   아지르   이즈리얼    타릭         MVP ADD    MVP Beyond   \n...        ...   ...     ...   ...    ...   ...             ...           ...   \n3339        T1   제이스    그라가스   코르키     세나    세트        T1 Canna       T1 Cuzz   \n3340   DragonX   제이스    세주아니  아트록스     직스   파이크       DRX Doran    DRX Pyosik   \n3341        T1   루시안    그라가스    럼블     세나  마오카이        T1 Canna       T1 Cuzz   \n3342   DragonX   루시안    그라가스   르블랑  아펠리오스  노틸러스       DRX Doran    DRX Pyosik   \n3343        T1    오른     트런들   코르키   칼리스타   브라움        T1 Canna       T1 Cuzz   \n\n                  pl3            pl4             pl5  score        date  \\\n0       Jin Air Grace  Jin Air Teddy  Jin Air Wraith      0  2018.02.10   \n1              KZ BDD        KZ PraY      KZ GorillA      1  2018.02.10   \n2     Jin Air Justice  Jin Air Teddy  Jin Air Wraith      0  2018.02.10   \n3              KZ BDD        KZ PraY      KZ GorillA      1  2018.02.10   \n4             MVP Ian      MVP Pilot         MVP Max      1  2018.02.10   \n...               ...            ...             ...    ...         ...   \n3339         T1 Faker       T1 Teddy       T1 Effort      1  2020.04.22   \n3340        DRX Chovy       DRX Deft       DRX Keria      1  2020.04.22   \n3341         T1 Faker       T1 Teddy       T1 Effort      0  2020.04.22   \n3342        DRX Chovy       DRX Deft       DRX Keria      0  2020.04.22   \n3343         T1 Faker       T1 Teddy       T1 Effort      1  2020.04.22   \n\n                    stage         title                                title2  \n0      2018 LCK 스프링 정규 시즌  19일차 1경기 1세트  LCK Spring: JAG vs. KZ | bbq vs. MVP  \n1      2018 LCK 스프링 정규 시즌  19일차 1경기 1세트  LCK Spring: JAG vs. KZ | bbq vs. MVP  \n2      2018 LCK 스프링 정규 시즌  19일차 1경기 2세트  LCK Spring: JAG vs. KZ | bbq vs. MVP  \n3      2018 LCK 스프링 정규 시즌  19일차 1경기 2세트  LCK Spring: JAG vs. KZ | bbq vs. MVP  \n4      2018 LCK 스프링 정규 시즌  19일차 2경기 1세트  LCK Spring: JAG vs. KZ | bbq vs. MVP  \n...                   ...           ...                                   ...  \n3339  2020 LCK 스프링 포스트 시즌  P.O 라운드2 2세트                                     a  \n3340  2020 LCK 스프링 포스트 시즌  P.O 라운드2 3세트                                     a  \n3341  2020 LCK 스프링 포스트 시즌  P.O 라운드2 3세트                                     a  \n3342  2020 LCK 스프링 포스트 시즌  P.O 라운드2 4세트                                     a  \n3343  2020 LCK 스프링 포스트 시즌  P.O 라운드2 4세트                                     a  \n\n[3344 rows x 16 columns]",
      "text/html": "<div>\n<style scoped>\n    .dataframe tbody tr th:only-of-type {\n        vertical-align: middle;\n    }\n\n    .dataframe tbody tr th {\n        vertical-align: top;\n    }\n\n    .dataframe thead th {\n        text-align: right;\n    }\n</style>\n<table border=\"1\" class=\"dataframe\">\n  <thead>\n    <tr style=\"text-align: right;\">\n      <th></th>\n      <th>team</th>\n      <th>cp1</th>\n      <th>cp2</th>\n      <th>cp3</th>\n      <th>cp4</th>\n      <th>cp5</th>\n      <th>pl1</th>\n      <th>pl2</th>\n      <th>pl3</th>\n      <th>pl4</th>\n      <th>pl5</th>\n      <th>score</th>\n      <th>date</th>\n      <th>stage</th>\n      <th>title</th>\n      <th>title2</th>\n    </tr>\n  </thead>\n  <tbody>\n    <tr>\n      <th>0</th>\n      <td>진에어 그린윙스</td>\n      <td>오른</td>\n      <td>자르반 4세</td>\n      <td>조이</td>\n      <td>케이틀린</td>\n      <td>탐 켄치</td>\n      <td>Jin Air SoHwan</td>\n      <td>Jin Air UmTi</td>\n      <td>Jin Air Grace</td>\n      <td>Jin Air Teddy</td>\n      <td>Jin Air Wraith</td>\n      <td>0</td>\n      <td>2018.02.10</td>\n      <td>2018 LCK 스프링 정규 시즌</td>\n      <td>19일차 1경기 1세트</td>\n      <td>LCK Spring: JAG vs. KZ | bbq vs. MVP</td>\n    </tr>\n    <tr>\n      <th>1</th>\n      <td>킹존 드래곤X</td>\n      <td>나르</td>\n      <td>잭스</td>\n      <td>라이즈</td>\n      <td>이즈리얼</td>\n      <td>브라움</td>\n      <td>KZ Khan</td>\n      <td>KZ Peanut</td>\n      <td>KZ BDD</td>\n      <td>KZ PraY</td>\n      <td>KZ GorillA</td>\n      <td>1</td>\n      <td>2018.02.10</td>\n      <td>2018 LCK 스프링 정규 시즌</td>\n      <td>19일차 1경기 1세트</td>\n      <td>LCK Spring: JAG vs. KZ | bbq vs. MVP</td>\n    </tr>\n    <tr>\n      <th>2</th>\n      <td>진에어 그린윙스</td>\n      <td>나르</td>\n      <td>자르반 4세</td>\n      <td>아지르</td>\n      <td>이즈리얼</td>\n      <td>탐 켄치</td>\n      <td>Jin Air SoHwan</td>\n      <td>Jin Air UmTi</td>\n      <td>Jin Air Justice</td>\n      <td>Jin Air Teddy</td>\n      <td>Jin Air Wraith</td>\n      <td>0</td>\n      <td>2018.02.10</td>\n      <td>2018 LCK 스프링 정규 시즌</td>\n      <td>19일차 1경기 2세트</td>\n      <td>LCK Spring: JAG vs. KZ | bbq vs. MVP</td>\n    </tr>\n    <tr>\n      <th>3</th>\n      <td>킹존 드래곤X</td>\n      <td>갱플랭크</td>\n      <td>카직스</td>\n      <td>라이즈</td>\n      <td>자야</td>\n      <td>라칸</td>\n      <td>KZ Khan</td>\n      <td>KZ Peanut</td>\n      <td>KZ BDD</td>\n      <td>KZ PraY</td>\n      <td>KZ GorillA</td>\n      <td>1</td>\n      <td>2018.02.10</td>\n      <td>2018 LCK 스프링 정규 시즌</td>\n      <td>19일차 1경기 2세트</td>\n      <td>LCK Spring: JAG vs. KZ | bbq vs. MVP</td>\n    </tr>\n    <tr>\n      <th>4</th>\n      <td>MVP</td>\n      <td>초가스</td>\n      <td>세주아니</td>\n      <td>아지르</td>\n      <td>이즈리얼</td>\n      <td>타릭</td>\n      <td>MVP ADD</td>\n      <td>MVP Beyond</td>\n      <td>MVP Ian</td>\n      <td>MVP Pilot</td>\n      <td>MVP Max</td>\n      <td>1</td>\n      <td>2018.02.10</td>\n      <td>2018 LCK 스프링 정규 시즌</td>\n      <td>19일차 2경기 1세트</td>\n      <td>LCK Spring: JAG vs. KZ | bbq vs. MVP</td>\n    </tr>\n    <tr>\n      <th>...</th>\n      <td>...</td>\n      <td>...</td>\n      <td>...</td>\n      <td>...</td>\n      <td>...</td>\n      <td>...</td>\n      <td>...</td>\n      <td>...</td>\n      <td>...</td>\n      <td>...</td>\n      <td>...</td>\n      <td>...</td>\n      <td>...</td>\n      <td>...</td>\n      <td>...</td>\n      <td>...</td>\n    </tr>\n    <tr>\n      <th>3339</th>\n      <td>T1</td>\n      <td>제이스</td>\n      <td>그라가스</td>\n      <td>코르키</td>\n      <td>세나</td>\n      <td>세트</td>\n      <td>T1 Canna</td>\n      <td>T1 Cuzz</td>\n      <td>T1 Faker</td>\n      <td>T1 Teddy</td>\n      <td>T1 Effort</td>\n      <td>1</td>\n      <td>2020.04.22</td>\n      <td>2020 LCK 스프링 포스트 시즌</td>\n      <td>P.O 라운드2 2세트</td>\n      <td>a</td>\n    </tr>\n    <tr>\n      <th>3340</th>\n      <td>DragonX</td>\n      <td>제이스</td>\n      <td>세주아니</td>\n      <td>아트록스</td>\n      <td>직스</td>\n      <td>파이크</td>\n      <td>DRX Doran</td>\n      <td>DRX Pyosik</td>\n      <td>DRX Chovy</td>\n      <td>DRX Deft</td>\n      <td>DRX Keria</td>\n      <td>1</td>\n      <td>2020.04.22</td>\n      <td>2020 LCK 스프링 포스트 시즌</td>\n      <td>P.O 라운드2 3세트</td>\n      <td>a</td>\n    </tr>\n    <tr>\n      <th>3341</th>\n      <td>T1</td>\n      <td>루시안</td>\n      <td>그라가스</td>\n      <td>럼블</td>\n      <td>세나</td>\n      <td>마오카이</td>\n      <td>T1 Canna</td>\n      <td>T1 Cuzz</td>\n      <td>T1 Faker</td>\n      <td>T1 Teddy</td>\n      <td>T1 Effort</td>\n      <td>0</td>\n      <td>2020.04.22</td>\n      <td>2020 LCK 스프링 포스트 시즌</td>\n      <td>P.O 라운드2 3세트</td>\n      <td>a</td>\n    </tr>\n    <tr>\n      <th>3342</th>\n      <td>DragonX</td>\n      <td>루시안</td>\n      <td>그라가스</td>\n      <td>르블랑</td>\n      <td>아펠리오스</td>\n      <td>노틸러스</td>\n      <td>DRX Doran</td>\n      <td>DRX Pyosik</td>\n      <td>DRX Chovy</td>\n      <td>DRX Deft</td>\n      <td>DRX Keria</td>\n      <td>0</td>\n      <td>2020.04.22</td>\n      <td>2020 LCK 스프링 포스트 시즌</td>\n      <td>P.O 라운드2 4세트</td>\n      <td>a</td>\n    </tr>\n    <tr>\n      <th>3343</th>\n      <td>T1</td>\n      <td>오른</td>\n      <td>트런들</td>\n      <td>코르키</td>\n      <td>칼리스타</td>\n      <td>브라움</td>\n      <td>T1 Canna</td>\n      <td>T1 Cuzz</td>\n      <td>T1 Faker</td>\n      <td>T1 Teddy</td>\n      <td>T1 Effort</td>\n      <td>1</td>\n      <td>2020.04.22</td>\n      <td>2020 LCK 스프링 포스트 시즌</td>\n      <td>P.O 라운드2 4세트</td>\n      <td>a</td>\n    </tr>\n  </tbody>\n</table>\n<p>3344 rows × 16 columns</p>\n</div>"
     },
     "metadata": {},
     "execution_count": 37
    }
   ],
   "source": [
    "df2"
   ]
  },
  {
   "cell_type": "code",
   "execution_count": 38,
   "metadata": {},
   "outputs": [],
   "source": [
    "for i in range(len(df2)):\n",
    "    df2['title2'][i] = df2['title2'][i].replace(':','')\n",
    "    df2['title2'][i] = df2['title2'][i].replace('|','')"
   ]
  },
  {
   "cell_type": "code",
   "execution_count": 40,
   "metadata": {},
   "outputs": [],
   "source": [
    "df2.to_csv('add_title.csv',index=False, encoding='utf-8-sig')"
   ]
  },
  {
   "cell_type": "code",
   "execution_count": 39,
   "metadata": {},
   "outputs": [
    {
     "output_type": "execute_result",
     "data": {
      "text/plain": "          team   cp1     cp2   cp3    cp4   cp5             pl1           pl2  \\\n0     진에어 그린윙스    오른  자르반 4세    조이   케이틀린  탐 켄치  Jin Air SoHwan  Jin Air UmTi   \n1      킹존 드래곤X    나르      잭스   라이즈   이즈리얼   브라움         KZ Khan     KZ Peanut   \n2     진에어 그린윙스    나르  자르반 4세   아지르   이즈리얼  탐 켄치  Jin Air SoHwan  Jin Air UmTi   \n3      킹존 드래곤X  갱플랭크     카직스   라이즈     자야    라칸         KZ Khan     KZ Peanut   \n4          MVP   초가스    세주아니   아지르   이즈리얼    타릭         MVP ADD    MVP Beyond   \n...        ...   ...     ...   ...    ...   ...             ...           ...   \n3339        T1   제이스    그라가스   코르키     세나    세트        T1 Canna       T1 Cuzz   \n3340   DragonX   제이스    세주아니  아트록스     직스   파이크       DRX Doran    DRX Pyosik   \n3341        T1   루시안    그라가스    럼블     세나  마오카이        T1 Canna       T1 Cuzz   \n3342   DragonX   루시안    그라가스   르블랑  아펠리오스  노틸러스       DRX Doran    DRX Pyosik   \n3343        T1    오른     트런들   코르키   칼리스타   브라움        T1 Canna       T1 Cuzz   \n\n                  pl3            pl4             pl5  score        date  \\\n0       Jin Air Grace  Jin Air Teddy  Jin Air Wraith      0  2018.02.10   \n1              KZ BDD        KZ PraY      KZ GorillA      1  2018.02.10   \n2     Jin Air Justice  Jin Air Teddy  Jin Air Wraith      0  2018.02.10   \n3              KZ BDD        KZ PraY      KZ GorillA      1  2018.02.10   \n4             MVP Ian      MVP Pilot         MVP Max      1  2018.02.10   \n...               ...            ...             ...    ...         ...   \n3339         T1 Faker       T1 Teddy       T1 Effort      1  2020.04.22   \n3340        DRX Chovy       DRX Deft       DRX Keria      1  2020.04.22   \n3341         T1 Faker       T1 Teddy       T1 Effort      0  2020.04.22   \n3342        DRX Chovy       DRX Deft       DRX Keria      0  2020.04.22   \n3343         T1 Faker       T1 Teddy       T1 Effort      1  2020.04.22   \n\n                    stage         title                              title2  \n0      2018 LCK 스프링 정규 시즌  19일차 1경기 1세트  LCK Spring JAG vs. KZ  bbq vs. MVP  \n1      2018 LCK 스프링 정규 시즌  19일차 1경기 1세트  LCK Spring JAG vs. KZ  bbq vs. MVP  \n2      2018 LCK 스프링 정규 시즌  19일차 1경기 2세트  LCK Spring JAG vs. KZ  bbq vs. MVP  \n3      2018 LCK 스프링 정규 시즌  19일차 1경기 2세트  LCK Spring JAG vs. KZ  bbq vs. MVP  \n4      2018 LCK 스프링 정규 시즌  19일차 2경기 1세트  LCK Spring JAG vs. KZ  bbq vs. MVP  \n...                   ...           ...                                 ...  \n3339  2020 LCK 스프링 포스트 시즌  P.O 라운드2 2세트                                   a  \n3340  2020 LCK 스프링 포스트 시즌  P.O 라운드2 3세트                                   a  \n3341  2020 LCK 스프링 포스트 시즌  P.O 라운드2 3세트                                   a  \n3342  2020 LCK 스프링 포스트 시즌  P.O 라운드2 4세트                                   a  \n3343  2020 LCK 스프링 포스트 시즌  P.O 라운드2 4세트                                   a  \n\n[3344 rows x 16 columns]",
      "text/html": "<div>\n<style scoped>\n    .dataframe tbody tr th:only-of-type {\n        vertical-align: middle;\n    }\n\n    .dataframe tbody tr th {\n        vertical-align: top;\n    }\n\n    .dataframe thead th {\n        text-align: right;\n    }\n</style>\n<table border=\"1\" class=\"dataframe\">\n  <thead>\n    <tr style=\"text-align: right;\">\n      <th></th>\n      <th>team</th>\n      <th>cp1</th>\n      <th>cp2</th>\n      <th>cp3</th>\n      <th>cp4</th>\n      <th>cp5</th>\n      <th>pl1</th>\n      <th>pl2</th>\n      <th>pl3</th>\n      <th>pl4</th>\n      <th>pl5</th>\n      <th>score</th>\n      <th>date</th>\n      <th>stage</th>\n      <th>title</th>\n      <th>title2</th>\n    </tr>\n  </thead>\n  <tbody>\n    <tr>\n      <th>0</th>\n      <td>진에어 그린윙스</td>\n      <td>오른</td>\n      <td>자르반 4세</td>\n      <td>조이</td>\n      <td>케이틀린</td>\n      <td>탐 켄치</td>\n      <td>Jin Air SoHwan</td>\n      <td>Jin Air UmTi</td>\n      <td>Jin Air Grace</td>\n      <td>Jin Air Teddy</td>\n      <td>Jin Air Wraith</td>\n      <td>0</td>\n      <td>2018.02.10</td>\n      <td>2018 LCK 스프링 정규 시즌</td>\n      <td>19일차 1경기 1세트</td>\n      <td>LCK Spring JAG vs. KZ  bbq vs. MVP</td>\n    </tr>\n    <tr>\n      <th>1</th>\n      <td>킹존 드래곤X</td>\n      <td>나르</td>\n      <td>잭스</td>\n      <td>라이즈</td>\n      <td>이즈리얼</td>\n      <td>브라움</td>\n      <td>KZ Khan</td>\n      <td>KZ Peanut</td>\n      <td>KZ BDD</td>\n      <td>KZ PraY</td>\n      <td>KZ GorillA</td>\n      <td>1</td>\n      <td>2018.02.10</td>\n      <td>2018 LCK 스프링 정규 시즌</td>\n      <td>19일차 1경기 1세트</td>\n      <td>LCK Spring JAG vs. KZ  bbq vs. MVP</td>\n    </tr>\n    <tr>\n      <th>2</th>\n      <td>진에어 그린윙스</td>\n      <td>나르</td>\n      <td>자르반 4세</td>\n      <td>아지르</td>\n      <td>이즈리얼</td>\n      <td>탐 켄치</td>\n      <td>Jin Air SoHwan</td>\n      <td>Jin Air UmTi</td>\n      <td>Jin Air Justice</td>\n      <td>Jin Air Teddy</td>\n      <td>Jin Air Wraith</td>\n      <td>0</td>\n      <td>2018.02.10</td>\n      <td>2018 LCK 스프링 정규 시즌</td>\n      <td>19일차 1경기 2세트</td>\n      <td>LCK Spring JAG vs. KZ  bbq vs. MVP</td>\n    </tr>\n    <tr>\n      <th>3</th>\n      <td>킹존 드래곤X</td>\n      <td>갱플랭크</td>\n      <td>카직스</td>\n      <td>라이즈</td>\n      <td>자야</td>\n      <td>라칸</td>\n      <td>KZ Khan</td>\n      <td>KZ Peanut</td>\n      <td>KZ BDD</td>\n      <td>KZ PraY</td>\n      <td>KZ GorillA</td>\n      <td>1</td>\n      <td>2018.02.10</td>\n      <td>2018 LCK 스프링 정규 시즌</td>\n      <td>19일차 1경기 2세트</td>\n      <td>LCK Spring JAG vs. KZ  bbq vs. MVP</td>\n    </tr>\n    <tr>\n      <th>4</th>\n      <td>MVP</td>\n      <td>초가스</td>\n      <td>세주아니</td>\n      <td>아지르</td>\n      <td>이즈리얼</td>\n      <td>타릭</td>\n      <td>MVP ADD</td>\n      <td>MVP Beyond</td>\n      <td>MVP Ian</td>\n      <td>MVP Pilot</td>\n      <td>MVP Max</td>\n      <td>1</td>\n      <td>2018.02.10</td>\n      <td>2018 LCK 스프링 정규 시즌</td>\n      <td>19일차 2경기 1세트</td>\n      <td>LCK Spring JAG vs. KZ  bbq vs. MVP</td>\n    </tr>\n    <tr>\n      <th>...</th>\n      <td>...</td>\n      <td>...</td>\n      <td>...</td>\n      <td>...</td>\n      <td>...</td>\n      <td>...</td>\n      <td>...</td>\n      <td>...</td>\n      <td>...</td>\n      <td>...</td>\n      <td>...</td>\n      <td>...</td>\n      <td>...</td>\n      <td>...</td>\n      <td>...</td>\n      <td>...</td>\n    </tr>\n    <tr>\n      <th>3339</th>\n      <td>T1</td>\n      <td>제이스</td>\n      <td>그라가스</td>\n      <td>코르키</td>\n      <td>세나</td>\n      <td>세트</td>\n      <td>T1 Canna</td>\n      <td>T1 Cuzz</td>\n      <td>T1 Faker</td>\n      <td>T1 Teddy</td>\n      <td>T1 Effort</td>\n      <td>1</td>\n      <td>2020.04.22</td>\n      <td>2020 LCK 스프링 포스트 시즌</td>\n      <td>P.O 라운드2 2세트</td>\n      <td>a</td>\n    </tr>\n    <tr>\n      <th>3340</th>\n      <td>DragonX</td>\n      <td>제이스</td>\n      <td>세주아니</td>\n      <td>아트록스</td>\n      <td>직스</td>\n      <td>파이크</td>\n      <td>DRX Doran</td>\n      <td>DRX Pyosik</td>\n      <td>DRX Chovy</td>\n      <td>DRX Deft</td>\n      <td>DRX Keria</td>\n      <td>1</td>\n      <td>2020.04.22</td>\n      <td>2020 LCK 스프링 포스트 시즌</td>\n      <td>P.O 라운드2 3세트</td>\n      <td>a</td>\n    </tr>\n    <tr>\n      <th>3341</th>\n      <td>T1</td>\n      <td>루시안</td>\n      <td>그라가스</td>\n      <td>럼블</td>\n      <td>세나</td>\n      <td>마오카이</td>\n      <td>T1 Canna</td>\n      <td>T1 Cuzz</td>\n      <td>T1 Faker</td>\n      <td>T1 Teddy</td>\n      <td>T1 Effort</td>\n      <td>0</td>\n      <td>2020.04.22</td>\n      <td>2020 LCK 스프링 포스트 시즌</td>\n      <td>P.O 라운드2 3세트</td>\n      <td>a</td>\n    </tr>\n    <tr>\n      <th>3342</th>\n      <td>DragonX</td>\n      <td>루시안</td>\n      <td>그라가스</td>\n      <td>르블랑</td>\n      <td>아펠리오스</td>\n      <td>노틸러스</td>\n      <td>DRX Doran</td>\n      <td>DRX Pyosik</td>\n      <td>DRX Chovy</td>\n      <td>DRX Deft</td>\n      <td>DRX Keria</td>\n      <td>0</td>\n      <td>2020.04.22</td>\n      <td>2020 LCK 스프링 포스트 시즌</td>\n      <td>P.O 라운드2 4세트</td>\n      <td>a</td>\n    </tr>\n    <tr>\n      <th>3343</th>\n      <td>T1</td>\n      <td>오른</td>\n      <td>트런들</td>\n      <td>코르키</td>\n      <td>칼리스타</td>\n      <td>브라움</td>\n      <td>T1 Canna</td>\n      <td>T1 Cuzz</td>\n      <td>T1 Faker</td>\n      <td>T1 Teddy</td>\n      <td>T1 Effort</td>\n      <td>1</td>\n      <td>2020.04.22</td>\n      <td>2020 LCK 스프링 포스트 시즌</td>\n      <td>P.O 라운드2 4세트</td>\n      <td>a</td>\n    </tr>\n  </tbody>\n</table>\n<p>3344 rows × 16 columns</p>\n</div>"
     },
     "metadata": {},
     "execution_count": 39
    }
   ],
   "source": [
    "df2"
   ]
  },
  {
   "cell_type": "code",
   "execution_count": null,
   "metadata": {},
   "outputs": [],
   "source": []
  }
 ]
}