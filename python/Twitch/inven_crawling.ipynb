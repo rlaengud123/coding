{
 "cells": [
  {
   "cell_type": "code",
   "execution_count": null,
   "metadata": {},
   "outputs": [],
   "source": [
    "f = open(\"./team.txt\", 'r', encoding='UTF8')\n",
    "line = f.read()"
   ]
  },
  {
   "cell_type": "code",
   "execution_count": null,
   "metadata": {},
   "outputs": [],
   "source": [
    "list_full = list(line.split('<'))"
   ]
  },
  {
   "cell_type": "code",
   "execution_count": 2,
   "metadata": {},
   "outputs": [
    {
     "output_type": "error",
     "ename": "KeyboardInterrupt",
     "evalue": "",
     "traceback": [
      "\u001b[1;31m---------------------------------------------------------------------------\u001b[0m",
      "\u001b[1;31mtimeout\u001b[0m                                   Traceback (most recent call last)",
      "\u001b[1;32m~\\Anaconda3\\envs\\lrcn\\lib\\socket.py\u001b[0m in \u001b[0;36mcreate_connection\u001b[1;34m(address, timeout, source_address)\u001b[0m\n\u001b[0;32m    715\u001b[0m                 \u001b[0msock\u001b[0m\u001b[1;33m.\u001b[0m\u001b[0mbind\u001b[0m\u001b[1;33m(\u001b[0m\u001b[0msource_address\u001b[0m\u001b[1;33m)\u001b[0m\u001b[1;33m\u001b[0m\u001b[1;33m\u001b[0m\u001b[0m\n\u001b[1;32m--> 716\u001b[1;33m             \u001b[0msock\u001b[0m\u001b[1;33m.\u001b[0m\u001b[0mconnect\u001b[0m\u001b[1;33m(\u001b[0m\u001b[0msa\u001b[0m\u001b[1;33m)\u001b[0m\u001b[1;33m\u001b[0m\u001b[1;33m\u001b[0m\u001b[0m\n\u001b[0m\u001b[0;32m    717\u001b[0m             \u001b[1;31m# Break explicitly a reference cycle\u001b[0m\u001b[1;33m\u001b[0m\u001b[1;33m\u001b[0m\u001b[1;33m\u001b[0m\u001b[0m\n",
      "\u001b[1;31mtimeout\u001b[0m: timed out",
      "\nDuring handling of the above exception, another exception occurred:\n",
      "\u001b[1;31mKeyboardInterrupt\u001b[0m                         Traceback (most recent call last)",
      "\u001b[1;32m<ipython-input-2-e577fa6128da>\u001b[0m in \u001b[0;36m<module>\u001b[1;34m\u001b[0m\n\u001b[0;32m      7\u001b[0m \u001b[1;33m\u001b[0m\u001b[0m\n\u001b[0;32m      8\u001b[0m \u001b[0mlist_full\u001b[0m \u001b[1;33m=\u001b[0m \u001b[1;33m[\u001b[0m\u001b[1;33m]\u001b[0m\u001b[1;33m\u001b[0m\u001b[1;33m\u001b[0m\u001b[0m\n\u001b[1;32m----> 9\u001b[1;33m \u001b[0mdriver\u001b[0m \u001b[1;33m=\u001b[0m \u001b[0mwebdriver\u001b[0m\u001b[1;33m.\u001b[0m\u001b[0mFirefox\u001b[0m\u001b[1;33m(\u001b[0m\u001b[1;33m)\u001b[0m\u001b[1;33m\u001b[0m\u001b[1;33m\u001b[0m\u001b[0m\n\u001b[0m\u001b[0;32m     10\u001b[0m \u001b[0mdf\u001b[0m \u001b[1;33m=\u001b[0m \u001b[0mpd\u001b[0m\u001b[1;33m.\u001b[0m\u001b[0mDataFrame\u001b[0m\u001b[1;33m(\u001b[0m\u001b[0mcolumns\u001b[0m\u001b[1;33m=\u001b[0m\u001b[1;33m[\u001b[0m\u001b[1;34m'team'\u001b[0m\u001b[1;33m,\u001b[0m \u001b[1;34m'cp1'\u001b[0m\u001b[1;33m,\u001b[0m\u001b[1;34m'cp2'\u001b[0m\u001b[1;33m,\u001b[0m\u001b[1;34m'cp3'\u001b[0m\u001b[1;33m,\u001b[0m\u001b[1;34m'cp4'\u001b[0m\u001b[1;33m,\u001b[0m\u001b[1;34m'cp5'\u001b[0m\u001b[1;33m,\u001b[0m\u001b[1;34m'pl1'\u001b[0m\u001b[1;33m,\u001b[0m\u001b[1;34m'pl2'\u001b[0m\u001b[1;33m,\u001b[0m\u001b[1;34m'pl3'\u001b[0m\u001b[1;33m,\u001b[0m\u001b[1;34m'pl4'\u001b[0m\u001b[1;33m,\u001b[0m\u001b[1;34m'pl5'\u001b[0m\u001b[1;33m,\u001b[0m\u001b[1;34m'score'\u001b[0m\u001b[1;33m,\u001b[0m\u001b[1;34m'date'\u001b[0m\u001b[1;33m,\u001b[0m\u001b[1;34m'stage'\u001b[0m\u001b[1;33m,\u001b[0m\u001b[1;34m'title'\u001b[0m\u001b[1;33m]\u001b[0m\u001b[1;33m)\u001b[0m\u001b[1;33m\u001b[0m\u001b[1;33m\u001b[0m\u001b[0m\n\u001b[0;32m     11\u001b[0m \u001b[1;33m\u001b[0m\u001b[0m\n",
      "\u001b[1;32m~\\Anaconda3\\envs\\lrcn\\lib\\site-packages\\selenium\\webdriver\\firefox\\webdriver.py\u001b[0m in \u001b[0;36m__init__\u001b[1;34m(self, firefox_profile, firefox_binary, timeout, capabilities, proxy, executable_path, options, service_log_path, firefox_options, service_args, desired_capabilities, log_path, keep_alive)\u001b[0m\n\u001b[0;32m    167\u001b[0m \u001b[1;33m\u001b[0m\u001b[0m\n\u001b[0;32m    168\u001b[0m             executor = FirefoxRemoteConnection(\n\u001b[1;32m--> 169\u001b[1;33m                 remote_server_addr=self.service.service_url)\n\u001b[0m\u001b[0;32m    170\u001b[0m             RemoteWebDriver.__init__(\n\u001b[0;32m    171\u001b[0m                 \u001b[0mself\u001b[0m\u001b[1;33m,\u001b[0m\u001b[1;33m\u001b[0m\u001b[1;33m\u001b[0m\u001b[0m\n",
      "\u001b[1;32m~\\Anaconda3\\envs\\lrcn\\lib\\site-packages\\selenium\\webdriver\\firefox\\remote_connection.py\u001b[0m in \u001b[0;36m__init__\u001b[1;34m(self, remote_server_addr, keep_alive)\u001b[0m\n\u001b[0;32m     21\u001b[0m \u001b[1;32mclass\u001b[0m \u001b[0mFirefoxRemoteConnection\u001b[0m\u001b[1;33m(\u001b[0m\u001b[0mRemoteConnection\u001b[0m\u001b[1;33m)\u001b[0m\u001b[1;33m:\u001b[0m\u001b[1;33m\u001b[0m\u001b[1;33m\u001b[0m\u001b[0m\n\u001b[0;32m     22\u001b[0m     \u001b[1;32mdef\u001b[0m \u001b[0m__init__\u001b[0m\u001b[1;33m(\u001b[0m\u001b[0mself\u001b[0m\u001b[1;33m,\u001b[0m \u001b[0mremote_server_addr\u001b[0m\u001b[1;33m,\u001b[0m \u001b[0mkeep_alive\u001b[0m\u001b[1;33m=\u001b[0m\u001b[1;32mTrue\u001b[0m\u001b[1;33m)\u001b[0m\u001b[1;33m:\u001b[0m\u001b[1;33m\u001b[0m\u001b[1;33m\u001b[0m\u001b[0m\n\u001b[1;32m---> 23\u001b[1;33m         \u001b[0mRemoteConnection\u001b[0m\u001b[1;33m.\u001b[0m\u001b[0m__init__\u001b[0m\u001b[1;33m(\u001b[0m\u001b[0mself\u001b[0m\u001b[1;33m,\u001b[0m \u001b[0mremote_server_addr\u001b[0m\u001b[1;33m,\u001b[0m \u001b[0mkeep_alive\u001b[0m\u001b[1;33m)\u001b[0m\u001b[1;33m\u001b[0m\u001b[1;33m\u001b[0m\u001b[0m\n\u001b[0m\u001b[0;32m     24\u001b[0m \u001b[1;33m\u001b[0m\u001b[0m\n\u001b[0;32m     25\u001b[0m         \u001b[0mself\u001b[0m\u001b[1;33m.\u001b[0m\u001b[0m_commands\u001b[0m\u001b[1;33m[\u001b[0m\u001b[1;34m\"GET_CONTEXT\"\u001b[0m\u001b[1;33m]\u001b[0m \u001b[1;33m=\u001b[0m \u001b[1;33m(\u001b[0m\u001b[1;34m'GET'\u001b[0m\u001b[1;33m,\u001b[0m \u001b[1;34m'/session/$sessionId/moz/context'\u001b[0m\u001b[1;33m)\u001b[0m\u001b[1;33m\u001b[0m\u001b[1;33m\u001b[0m\u001b[0m\n",
      "\u001b[1;32m~\\Anaconda3\\envs\\lrcn\\lib\\site-packages\\selenium\\webdriver\\remote\\remote_connection.py\u001b[0m in \u001b[0;36m__init__\u001b[1;34m(self, remote_server_addr, keep_alive, resolve_ip)\u001b[0m\n\u001b[0;32m    112\u001b[0m             \u001b[1;32mif\u001b[0m \u001b[0mparsed_url\u001b[0m\u001b[1;33m.\u001b[0m\u001b[0mscheme\u001b[0m \u001b[1;33m==\u001b[0m \u001b[1;34m\"https\"\u001b[0m\u001b[1;33m:\u001b[0m\u001b[1;33m\u001b[0m\u001b[1;33m\u001b[0m\u001b[0m\n\u001b[0;32m    113\u001b[0m                 \u001b[0mip\u001b[0m \u001b[1;33m=\u001b[0m \u001b[0mparsed_url\u001b[0m\u001b[1;33m.\u001b[0m\u001b[0mhostname\u001b[0m\u001b[1;33m\u001b[0m\u001b[1;33m\u001b[0m\u001b[0m\n\u001b[1;32m--> 114\u001b[1;33m             \u001b[1;32melif\u001b[0m \u001b[0mport\u001b[0m \u001b[1;32mand\u001b[0m \u001b[1;32mnot\u001b[0m \u001b[0mcommon_utils\u001b[0m\u001b[1;33m.\u001b[0m\u001b[0mis_connectable\u001b[0m\u001b[1;33m(\u001b[0m\u001b[0mport\u001b[0m\u001b[1;33m,\u001b[0m \u001b[0mparsed_url\u001b[0m\u001b[1;33m.\u001b[0m\u001b[0mhostname\u001b[0m\u001b[1;33m)\u001b[0m\u001b[1;33m:\u001b[0m\u001b[1;33m\u001b[0m\u001b[1;33m\u001b[0m\u001b[0m\n\u001b[0m\u001b[0;32m    115\u001b[0m                 \u001b[0mip\u001b[0m \u001b[1;33m=\u001b[0m \u001b[1;32mNone\u001b[0m\u001b[1;33m\u001b[0m\u001b[1;33m\u001b[0m\u001b[0m\n\u001b[0;32m    116\u001b[0m                 LOGGER.info('Could not connect to port {} on host '\n",
      "\u001b[1;32m~\\Anaconda3\\envs\\lrcn\\lib\\site-packages\\selenium\\webdriver\\common\\utils.py\u001b[0m in \u001b[0;36mis_connectable\u001b[1;34m(port, host)\u001b[0m\n\u001b[0;32m    104\u001b[0m     \u001b[0msocket_\u001b[0m \u001b[1;33m=\u001b[0m \u001b[1;32mNone\u001b[0m\u001b[1;33m\u001b[0m\u001b[1;33m\u001b[0m\u001b[0m\n\u001b[0;32m    105\u001b[0m     \u001b[1;32mtry\u001b[0m\u001b[1;33m:\u001b[0m\u001b[1;33m\u001b[0m\u001b[1;33m\u001b[0m\u001b[0m\n\u001b[1;32m--> 106\u001b[1;33m         \u001b[0msocket_\u001b[0m \u001b[1;33m=\u001b[0m \u001b[0msocket\u001b[0m\u001b[1;33m.\u001b[0m\u001b[0mcreate_connection\u001b[0m\u001b[1;33m(\u001b[0m\u001b[1;33m(\u001b[0m\u001b[0mhost\u001b[0m\u001b[1;33m,\u001b[0m \u001b[0mport\u001b[0m\u001b[1;33m)\u001b[0m\u001b[1;33m,\u001b[0m \u001b[1;36m1\u001b[0m\u001b[1;33m)\u001b[0m\u001b[1;33m\u001b[0m\u001b[1;33m\u001b[0m\u001b[0m\n\u001b[0m\u001b[0;32m    107\u001b[0m         \u001b[0mresult\u001b[0m \u001b[1;33m=\u001b[0m \u001b[1;32mTrue\u001b[0m\u001b[1;33m\u001b[0m\u001b[1;33m\u001b[0m\u001b[0m\n\u001b[0;32m    108\u001b[0m     \u001b[1;32mexcept\u001b[0m \u001b[0msocket\u001b[0m\u001b[1;33m.\u001b[0m\u001b[0merror\u001b[0m\u001b[1;33m:\u001b[0m\u001b[1;33m\u001b[0m\u001b[1;33m\u001b[0m\u001b[0m\n",
      "\u001b[1;32m~\\Anaconda3\\envs\\lrcn\\lib\\socket.py\u001b[0m in \u001b[0;36mcreate_connection\u001b[1;34m(address, timeout, source_address)\u001b[0m\n\u001b[0;32m    714\u001b[0m             \u001b[1;32mif\u001b[0m \u001b[0msource_address\u001b[0m\u001b[1;33m:\u001b[0m\u001b[1;33m\u001b[0m\u001b[1;33m\u001b[0m\u001b[0m\n\u001b[0;32m    715\u001b[0m                 \u001b[0msock\u001b[0m\u001b[1;33m.\u001b[0m\u001b[0mbind\u001b[0m\u001b[1;33m(\u001b[0m\u001b[0msource_address\u001b[0m\u001b[1;33m)\u001b[0m\u001b[1;33m\u001b[0m\u001b[1;33m\u001b[0m\u001b[0m\n\u001b[1;32m--> 716\u001b[1;33m             \u001b[0msock\u001b[0m\u001b[1;33m.\u001b[0m\u001b[0mconnect\u001b[0m\u001b[1;33m(\u001b[0m\u001b[0msa\u001b[0m\u001b[1;33m)\u001b[0m\u001b[1;33m\u001b[0m\u001b[1;33m\u001b[0m\u001b[0m\n\u001b[0m\u001b[0;32m    717\u001b[0m             \u001b[1;31m# Break explicitly a reference cycle\u001b[0m\u001b[1;33m\u001b[0m\u001b[1;33m\u001b[0m\u001b[1;33m\u001b[0m\u001b[0m\n\u001b[0;32m    718\u001b[0m             \u001b[0merr\u001b[0m \u001b[1;33m=\u001b[0m \u001b[1;32mNone\u001b[0m\u001b[1;33m\u001b[0m\u001b[1;33m\u001b[0m\u001b[0m\n",
      "\u001b[1;31mKeyboardInterrupt\u001b[0m: "
     ]
    }
   ],
   "source": [
    "import time\n",
    "from selenium import webdriver\n",
    "import requests\n",
    "from bs4 import BeautifulSoup\n",
    "import pandas as pd\n",
    "\n",
    "\n",
    "list_full = []\n",
    "driver = webdriver.Firefox()\n",
    "df = pd.DataFrame(columns=['team', 'cp1','cp2','cp3','cp4','cp5','pl1','pl2','pl3','pl4','pl5','score','date','stage','title'])\n",
    "\n",
    "\n",
    "\n",
    "for i in range(1,50):\n",
    "    driver.get('http://lol.inven.co.kr/dataninfo/match/teamList.php?pg=' + str(i));   \n",
    "    res = driver.page_source\n",
    "    soup = BeautifulSoup(res, 'html.parser')\n",
    "    title = soup.find(id='lolDbMatchTeamList')\n",
    "\n",
    "    list_page = []\n",
    "    for j in title:\n",
    "        list_page.append(str(j))\n",
    "    match_list = []\n",
    "    for k in list_page:\n",
    "        if 'listFrame' in k:\n",
    "            match_list.append(k.split('listFrame')[1].split('id=\"')[1].split('>')[0].split('\"')[0])\n",
    "\n",
    "    time.sleep(2)\t\t\t\t\n",
    "    for l in match_list:\n",
    "        search_box = driver.find_element_by_xpath('//*[@id=\"{}\"]/div[5]/a'.format(l))  \n",
    "        search_box.send_keys('\\n')\t\t\n",
    "        search_box.click()\t\t\t\n",
    "\n",
    "\n",
    "    res2 = driver.page_source\n",
    "    soup2 = BeautifulSoup(res2, 'html.parser')\n",
    "    title2 = soup2.find(id='lolDbMatchTeamList')\n",
    "\n",
    "    \n",
    "    for m in range(0,25):\n",
    "        list_left = []\n",
    "        list_right = []\n",
    "\n",
    "        lTeam = str(soup2.find_all(class_='lTeam')[m]).split('<') #0부터 24까지\n",
    "        for i in lTeam:\n",
    "            if 'teamname' in i:\n",
    "                list_right.append(i.split('>')[1])\n",
    "\n",
    "\n",
    "        wTeam = str(soup2.find_all(class_='wTeam')[m]).split('<')\n",
    "        for i in wTeam:\n",
    "            if 'teamname' in i:\n",
    "                list_left.append(i.split('>')[1])\n",
    "\n",
    "\n",
    "        left = str(soup2.find_all(class_='left')[m]).split('<')\n",
    "        for i in left:\n",
    "            if 'champicon' in i:\n",
    "                list_left.append(i.split('(')[2].split(')')[0].split('\\'')[1])\n",
    "        for i in left:\n",
    "            if 'playername color1' in i:\n",
    "                list_left.append(i.split('>')[1])\n",
    "\n",
    "        right = str(soup2.find_all(class_='right')[m]).split('<')\n",
    "        for i in right:\n",
    "            if 'champicon' in i:\n",
    "                list_right.append(i.split('(')[2].split(')')[0].split('\\'')[1])\n",
    "        for i in right:\n",
    "            if 'playername color2' in i:\n",
    "                list_right.append(i.split('>')[1])\n",
    "        for i in lTeam:\n",
    "            if 'color2 tx5' in i:\n",
    "                list_right.append(i.split('>')[1])\n",
    "\n",
    "        for i in wTeam:\n",
    "            if 'color1 tx5' in i:\n",
    "                list_left.append(i.split('>')[1])\n",
    "\n",
    "        listTop = str(soup2.find_all(class_='listTop')[m]).split('<')\n",
    "        for i in listTop:\n",
    "            if 'title' in i:\n",
    "                list_left.append(i.split('>')[1])\n",
    "                list_right.append(i.split('>')[1])\n",
    "            if 'date' in i:\n",
    "                list_left.append(i.split('>')[1])\n",
    "                list_right.append(i.split('>')[1])\n",
    "            if 'stage' in i:\n",
    "                list_left.append(i.split('>')[1])\n",
    "                list_right.append(i.split('>')[1])\n",
    "\n",
    "        a_series1 = pd.Series(list_right, index = df.columns)\n",
    "        a_series2 = pd.Series(list_left, index = df.columns)\n",
    "        df = df.append(a_series1, ignore_index=True)\n",
    "        df = df.append(a_series2, ignore_index=True)\n",
    "\n",
    "    list_full.append(str(title2))\n",
    "\n"
   ]
  },
  {
   "cell_type": "code",
   "execution_count": 2,
   "metadata": {},
   "outputs": [
    {
     "output_type": "execute_result",
     "data": {
      "text/plain": " bold;}\n\t.broadWebzine .week ul.selected2 li.week2 {background: url('http://static.inven.co.kr/image_2011/common/module/afreecabroad/week_selected_orange2.png') no-repeat left top;}\n\t.broadWebzine .week ul.selected2 li.week2 a{color: white;font-weight: bold;}\n\t.broadWebzine .week ul.selected3 li.week3 {background: url('http://static.inven.co.kr/image_2011/common/module/afreecabroad/week_selected_orange2.png') no-repeat left top;}\n\t.broadWebzine .week ul.selected3 li.week3 a{color: white;font-weight: bold;}\n\t.broadWebzine .week ul.selected4 li.week4 {background: url('http://static.inven.co.kr/image_2011/common/module/afreecabroad/week_selected_orange2.png') no-repeat left top;}\n\t.broadWebzine .week ul.selected4 li.week4 a{color: white;font-weight: bold;}\n\t.broadWebzine .week ul.selected5 li.week5 {background: url('http://static.inven.co.kr/image_2011/common/module/afreecabroad/week_selected_orange2.png') no-repeat left top;}\n\t.broadWebzine .week ul.selected5 li.week5 a{color: white;font-weight: bold;}\n\t.broadWebzine .week ul.selected6 li.week6 {background: url('http://static.inven.co.kr/image_2011/common/module/afreecabroad/week_selected_orange2.png') no-repeat left top;}\n\t.broadWebzine .week ul.selected6 li.week6 a{color: white;font-weight: bold;}\n\t.broadWebzine .week ul.selected7 li.week7 {background: url('http://static.inven.co.kr/image_2011/common/module/afreecabroad/week_selected_orange2.png') no-repeat left top;}\n\t.broadWebzine .week ul.selected7 li.week7 a{color: white;font-weight: bold;}\n\t.broadWebzine .week ul li a { font-size: 12px; color: #333333; display: block; text-align: center; padding-top: 7px; }\n\t.broadWebzine .week ul li.week6 a { color: #1b84d5; }\n\t.broadWebzine .week ul li.week7 a { color: #de0808; }\n\t.broadWebzine .week ul li a:hover{ color: #5a9300; text-decoration: none; font-weight: bold; letter-spacing: -1px; }\n\t/* DESC PART */\n\t\t/* DEFAULT LIST */\n\t\t\t.broadWebzine .contents ul { margin-bottom: -1px; }\n\t\t\t.broadWebzine .contents ul li {\n\t\t\t\tbackground: url('http://static.inven.co.kr/image_2011/common/module/afreecabroad/dot_1x3_gray.png') repeat-x left bottom;\n\t\t\t\tpadding: 6px 0 5px; width: 198px; margin-left: 2px; display: none;\n\t\t\t}\n\t\t\t.broadWebzine .contents ul li.on {\n\t\t\t\toverflow: hidden;\n\t\t\t\tbackground: #f3f2f2 url('http://static.inven.co.kr/image_2011/common/module/afreecabroad/dot_1x3_gray.png') repeat-x left bottom;\n\t\t\t}\n\t\t\t.broadWebzine .contents ul li a { color: #555555; font-size: 12px; cursor: pointer; }\n\t\t\t.broadWebzine .contents ul li a:hover { text-decoration: none; }\n\t\t\t.broadWebzine .contents ul li a span { display: block; overflow: hidden; float: left; }\n\t\t\t.broadWebzine .contents ul li a span.timeSpan { \n\t\t\t\twidth: 34px; _width: 39px; padding-top: 2px; padding-left: 5px; margin-left: 6px; \n\t\t\t\tbackground: url('http://static.inven.co.kr/image_2011/common/module/afreecabroad/icon_rect_2x2_gray1.png') no-repeat left 6px;\n\t\t\t}\n\t\t\t.broadWebzine .contents ul li a span.contentPart { width: 147px; padding-top: 2px; color: #800000; font-weight: bold; letter-spacing: -1px; }\n\t\t\t.broadWebzine .contents ul li a span.contentPart img.onAir { _margin-top: -2px; }\n\t\t/* ONAIR FOCUS */\n\t\t\t.broadWebzine .contents ul li a.focusOn { width: 153px; font-size: 12px; font-weight: bold; letter-spacing: -1px; color: #006400; font-family: 'Malgun Gothic',gulim, 'Apple SD Gothic Neo', Helvetica; cursor: pointer; display:block; float:right; }\n\t\t\t.broadWebzine .contents ul li a.focusOn span { width: 153px; display:block; text-align: left; }\n\t\t\t.broadWebzine .contents ul li a.focusOn:hover { color: #3d78ff; }\n\n/* NCEL */\n\t.ncelCommunity { width: 213px; overflow: hidden; padding-top: 5px; }\n\t/* WRAP */\n\t.ncelCommunity .wrapComGR1 { width: 213px; overflow: hidden; }\n\t.ncelCommunity .wrapComGR1 .wComT {\n\t\twidth: 213px; height: 41px; text-indent: -10000em; overflow: hidden;\n\t\tbackground: url('http://static.inven.co.kr/image_2011/ncel/common/wrap_213_broad_top.png') no-repeat left top;\n\t}\n\t.ncelCommunity .wrapComGR1 .wComM {\n\t\twidth: 213px; overflow: hidden;\n\t\tbackground: url('http://static.inven.co.kr/image_2011/ncel/common/wrap_213_broad_mid.png') repeat-y left top;\n\t}\n\t.ncelCommunity .wrapComGR1 .wComB{\n\t\twidth: 213px; height: 1px; overflow: hidden;\n\t\tbackground: url('http://static.inven.co.kr/image_2011/ncel/common/wrap_213_broad_bot.png') no-repeat left top;\n\t}\n\t/* WEEK PART */\n\t.ncelCommunity .week {\n\t\twidth: 211px; height: 26px; margin-left: 1px;\n\t\tbackground: url('http://static.inven.co.kr/image_2011/common/module/afreecabroad/bg_1x26_gray1.png') repeat-x left top;\n\t}\n\t.ncelCommunity .week ul { width: 210px; overflow: hidden; }\n\t.ncelCommunity .week ul li { width: 30px; height: 26px; }\n\t/* SELECTED */\n\t.ncelCommunity .week ul.selected1 li.week1 {background: url('http://static.inven.co.kr/image_2011/ncel/common/week_selected_orange3.png') no-repeat left top;}\n\t.ncelCommunity .week ul.selected1 li.week1 a{color: white;font-weight: bold;}\n\t.ncelCommunity .week ul.selected2 li.week2 {background: url('http://static.inven.co.kr/image_2011/ncel/common/week_selected_orange3.png') no-repeat left top;}\n\t.ncelCommunity .week ul.selected2 li.week2 a{color: white;font-weight: bold;}\n\t.ncelCommunity .week ul.selected3 li.week3 {background: url('http://static.inven.co.kr/image_2011/ncel/common/week_selected_orange3.png') no-repeat left top;}\n\t.ncelCommunity .week ul.selected3 li.week3 a{color: white;font-weight: bold;}\n\t.ncelCommunity .week ul.selected4 li.week4 {background: url('http://static.inven.co.kr/image_2011/ncel/common/week_selected_orange3.png') no-repeat left top;}\n\t.ncelCommunity .week ul.selected4 li.week4 a{color: white;font-weight: bold;}\n\t.ncelCommunity .week ul.selected5 li.week5 {background: url('http://static.inven.co.kr/image_2011/ncel/common/week_selected_orange3.png') no-repeat left top;}\n\t.ncelCommunity .week ul.selected5 li.week5 a{color: white;font-weight: bold;}\n\t.ncelCommunity .week ul.selected6 li.week6 {background: url('http://static.inven.co.kr/image_2011/ncel/common/week_selected_orange3.png') no-repeat left top;}\n\t.ncelCommunity .week ul.selected6 li.week6 a{color: white;font-weight: bold;}\n\t.ncelCommunity .week ul.selected7 li.week7 {background: url('http://static.inven.co.kr/image_2011/ncel/common/week_selected_orange3.png') no-repeat left top;}\n\t.ncelCommunity .week ul.selected7 li.week7 a{color: white;font-weight: bold;}\n\t.ncelCommunity .week ul li a { font-size: 12px; color: #333333; display: block; text-align: center; padding-top: 7px; }\n\t.ncelCommunity .week ul li.week6 a { color: #1b84d5; }\n\t.ncelCommunity .week ul li.week7 a { color: #de0808; }\n\t.ncelCommunity .week ul li a:hover { color: #5a9300; text-decoration: none; font-weight: bold; letter-spacing: -1px; }\n\t/* DESC PART */\n\t\t/* DEFAULT LIST */\n\t\t\t.ncelCommunity .contents ul { margin-bottom: -1px; }\n\t\t\t.ncelCommunity .contents ul li {\n\t\t\t\tbackground: url('http://static.inven.co.kr/image_2011/common/module/afreecabroad/dot_1x3_gray.png') repeat-x left bottom;\n\t\t\t\tpadding: 6px 0 5px; width: 210px; margin-left: 2px; display: none; \n\t\t\t}\n\t\t\t.ncelCommunity .contents ul li.on {\n\t\t\t\toverflow: hidden;\n\t\t\t\tbackground: #f3f2f2 url('http://static.inven.co.kr/image_2011/common/module/afreecabroad/dot_1x3_gray.png') repeat-x left bottom;\n\t\t\t}\n\t\t\t.ncelCommunity .contents ul li a { color: #555555; font-size: 12px; cursor: pointer; }\n\t\t\t.ncelCommunity .contents ul li a:hover { text-decoration: none; }\n\t\t\t.ncelCommunity .contents ul li a span { display: block; overflow: hidden; float: left; }\n\t\t\t.ncelCommunity .contents ul li a span.timeSpan {\n\t\t\t\twidth: 34px; _width: 39px; padding-top: 2px; padding-left: 5px; margin-left: 6px; \n\t\t\t\tbackground: url('http://static.inven.co.kr/image_2011/common/module/afreecabroad/icon_rect_2x2_gray1.png') no-repeat left 6px;\n\t\t\t}\n\t\t\t.ncelCommunity .contents ul li a span.contentPart { width: 165px; padding-top: 2px; color: #800000; font-weight: bold; letter-spacing: -1px; }\n\t\t\t.ncelCommunity .contents ul li a span.contentPart img.onAir { _margin-top: -2px; }\n\t\t/* ONAIR FOCUS */\n\t\t\t.ncelCommunity .contents ul li a.focusOn { width: 153px; font-size: 12px; font-weight: bold; letter-spacing: -1px; color: #006400; font-family: 'Malgun Gothic',gulim, 'Apple SD Gothic Neo', Helvetica; cursor: pointer; display:block; float:right; }\n\t\t\t.ncelCommunity .contents ul li a.focusOn span { width: 153px; display:block; text-align: left; }\n\t\t\t.ncelCommunity .contents ul li a.focusOn:hover { color: #3d78ff; }\n\n</style>\n<div class=\"broadSchedule broadCommunity\">\n<div class=\"wrapComGR1\">\n<div class=\"wComT\">인벤 방송국 편성표</div>\n<div class=\"wComM\">\n<div class=\"week\">\n<ul class=\"selected6\">\n<li class=\"week1\"><a href=\"javascript:;\" onclick=\"javascript:onWeekClick(1);\" onmouseover=\"javascript:onWeekOver(1);\">월</a></li>\n<li class=\"week2\"><a href=\"javascript:;\" onclick=\"javascript:onWeekClick(2);\" onmouseover=\"javascript:onWeekOver(2);\">화</a></li>\n<li class=\"week3\"><a href=\"javascript:;\" onclick=\"javascript:onWeekClick(3);\" onmouseover=\"javascript:onWeekOver(3);\">수</a></li>\n<li class=\"week4\"><a href=\"javascript:;\" onclick=\"javascript:onWeekClick(4);\" onmouseover=\"javascript:onWeekOver(4);\">목</a></li>\n<li class=\"week5\"><a href=\"javascript:;\" onclick=\"javascript:onWeekClick(5);\" onmouseover=\"javascript:onWeekOver(5);\">금</a></li>\n<li class=\"week6\"><a href=\"javascript:;\" onclick=\"javascript:onWeekClick(6);\" onmouseover=\"javascript:onWeekOver(6);\">토</a></li>\n<li class=\"week7\"><a href=\"javascript:;\" onclick=\"javascript:onWeekClick(7);\" onmouseover=\"javascript:onWeekOver(7);\">일</a></li>\n</ul>\n</div>\n<div class=\"contents\">\n<ul>\n<li class=\"week1\" style=\"display: none;\">\n<div>\n<a href=\"http://ibs.inven.co.kr\" target=\"_blank\">\n<span class=\"timeSpan\"></span>\n<span class=\"contentPart\">방송 준비 중입니다.</span>\n</a>\n<a class=\"focusOn\" href=\"http://ibs.inven.co.kr\" target=\"_blank\">\n<span>[차기 방송 준비<br/>\n\t\t\t\t\t\t\t\t\t\t중입니다.]<br/><br/>\n\t\t\t\t\t\t\t\t\t\t시청자 여러분!<br/>\n\t\t\t\t\t\t\t\t\t\t아쉽지만 금일은<br/>\n\t\t\t\t\t\t\t\t\t\t방송이 없습니다.<br/><br/> \n\t\t\t\t\t\t\t\t\t\t더 좋은 방송을 <br/>\n\t\t\t\t\t\t\t\t\t\t만들수 있도록 <br/>\n\t\t\t\t\t\t\t\t\t\t최선을 다하겠습니다.<br/>\n\t\t\t\t\t\t\t\t\t\t감사합니다.\n\t\t\t\t\t\t\t\t\t</span>\n</a>\n</div>\n</li> <li class=\"week2\" style=\"display: none;\">\n<div>\n<a href=\"http://ibs.inven.co.kr\" target=\"_blank\">\n<span class=\"timeSpan\">14:00</span>\n<span class=\"contentPart\">모여봐요 TFT 갤럭시숲</span>\n</a>\n<a class=\"focusOn\" href=\"http://www.twitch.tv/teaminven\" target=\"_blank\">\n<span>미션이 있기에 누구나<br/>\n우승할 수 있는곳<br/>\n<br/>\nTFT 갤럭시숲!<br/>\n<br/>\n최광원캐스터의<br/>\n최종 순위는?<br/>\n<br/>\n[최광원,유희은,진수]</span>\n</a>\n</div>\n</li> <li class=\"week2\" style=\"display: none;\">\n<div>\n<a href=\"http://ibs.inven.co.kr\" target=\"_blank\">\n<span class=\"timeSpan\">19:00</span>\n<span class=\"contentPart\">오버워치 어서옵쇼</span>\n</a>\n<a class=\"focusOn\" href=\"https://www.twitch.tv/overwatchkr\" target=\"_blank\">\n<span>어서옵쇼 팀원들에게<br/>\n도전장을 내민<br/>\n'리퍼짱짱맨' 그의 정체는?<br/>\n<br/>\n1부.오버워치이슈토크<br/>\n<br/>\n2부.시청자 참여 매치<br/>\n<br/>\n[김정민,용봉탕,꽃빈,<br/>\n루밍쨩,빈본,리퍼짱짱맨]</span>\n</a>\n</div>\n</li> <li class=\"week3\" style=\"display: none;\">\n<div>\n<a href=\"http://ibs.inven.co.kr\" target=\"_blank\">\n<span class=\"timeSpan\">13:00</span>\n<span class=\"contentPart\">피망섯다 용쟁화투 광중왕전</span>\n</a>\n<a class=\"focusOn\" href=\"http://www.twitch.tv/teaminven\" target=\"_blank\">\n<span>피망 섯다에서 맞붙는<br/>\n광들의 대결!<br/>\n<br/>\n왕이 될 최고의 광은<br/>\n누구일까요?<br/>\n<br/>\n[김영일,철면수심,<br/>\n던, 노돌리]</span>\n</a>\n</div>\n</li> <li class=\"week4\" style=\"display: none;\">\n<div>\n<a href=\"http://ibs.inven.co.kr\" target=\"_blank\">\n<span class=\"timeSpan\"></span>\n<span class=\"contentPart\">방송 준비 중입니다.</span>\n</a>\n<a class=\"focusOn\" href=\"http://ibs.inven.co.kr\" target=\"_blank\">\n<span>[차기 방송 준비<br/>\n\t\t\t\t\t\t\t\t\t\t중입니다.]<br/><br/>\n\t\t\t\t\t\t\t\t\t\t시청자 여러분!<br/>\n\t\t\t\t\t\t\t\t\t\t아쉽지만 금일은<br/>\n\t\t\t\t\t\t\t\t\t\t방송이 없습니다.<br/><br/> \n\t\t\t\t\t\t\t\t\t\t더 좋은 방송을 <br/>\n\t\t\t\t\t\t\t\t\t\t만들수 있도록 <br/>\n\t\t\t\t\t\t\t\t\t\t최선을 다하겠습니다.<br/>\n\t\t\t\t\t\t\t\t\t\t감사합니다.\n\t\t\t\t\t\t\t\t\t</span>\n</a>\n</div>\n</li> <li class=\"week5\" style=\"display: none;\">\n<div>\n<a href=\"http://ibs.inven.co.kr\" target=\"_blank\">\n<span class=\"timeSpan\">13:00</span>\n<span class=\"contentPart\">제5인격 심연의부름III 글로벌 페스티벌</span>\n</a>\n<a class=\"focusOn\" href=\"https://www.youtube.com/channel/UCKcYqk0hDDbgHpmZVQWjDcQ\" target=\"_blank\">\n<span>각 지역 예선을 뚫고<br/>\n올라온 16팀의 대결!<br/>\n<br/>\n제5인격 세계<br/>\n최강팀을 가리는<br/>\n글로벌 결승전 개막!<br/>\n<br/>\n[최광원,광주야생마,<br/>\n데릭]</span>\n</a>\n</div>\n</li> <li class=\"week5\" style=\"display: none;\">\n<div>\n<a href=\"http://ibs.inven.co.kr\" target=\"_blank\">\n<span class=\"timeSpan\">18:00</span>\n<span class=\"contentPart\">전.룬.협</span>\n</a>\n<a class=\"focusOn\" href=\"https://www.twitch.tv/riotgames_korea/\" target=\"_blank\">\n<span>&lt;전국 룬테라 협회&gt;<br/>\n룬테라 신규지역<br/>\n빌지워터!<br/>\n<br/>\n신규 카드 평가를 위해<br/>\n전국 룬테라 협회장들이<br/>\n회동한다!<br/>\n<br/>\n[김영일,따효니,울프,<br/>\n철면수심,페가소스,이카루스]</span>\n</a>\n</div>\n</li> <li class=\"week6 on\" style=\"display: block;\">\n<div>\n<a href=\"http://ibs.inven.co.kr\" target=\"_blank\">\n<span class=\"timeSpan\">13:00<br/><img align=\"top\" class=\"onAir\" src=\"http://static.inven.co.kr/image_2011/common/fonticon/fonticon_onair.png\"/></span>\n<span class=\"contentPart\">제5인격 심연의부름III 글로벌 페스티벌</span>\n</a>\n<a class=\"focusOn\" href=\"https://www.youtube.com/channel/UCKcYqk0hDDbgHpmZVQWjDcQ\" target=\"_blank\">\n<span>각 지역 예선을 뚫고<br/>\n올라온 16팀의 대결!<br/>\n<br/>\n제5인격 세계<br/>\n최강팀을 가리는<br/>\n글로벌 결승전 개막!<br/>\n<br/>\n[최광원,광주야생마,<br/>\n데릭]</span>\n</a>\n</div>\n</li> <li class=\"week7\" style=\"display: none;\">\n<div>\n<a href=\"http://ibs.inven.co.kr\" target=\"_blank\">\n<span class=\"timeSpan\">12:00</span>\n<span class=\"contentPart\">제5인격 심연의부름III 글로벌 페스티벌</span>\n</a>\n<a class=\"focusOn\" href=\"https://www.youtube.com/channel/UCKcYqk0hDDbgHpmZVQWjDcQ\" target=\"_blank\">\n<span>각 지역 예선을 뚫고<br/>\n올라온 16팀의 대결!<br/>\n<br/>\n제5인격 세계<br/>\n최강팀을 가리는<br/>\n글로벌 결승전 개막!<br/>\n<br/>\n[최광원,광주야생마,<br/>\n데릭]</span>\n</a>\n</div>\n</li> </ul>\n</div>\n</div>\n<div class=\"wComB\"></div>\n</div>\n</div>\n<script type=\"text/javascript\">\nfunction onWeekOver(tgNum) {\n\t$(\".broadSchedule .contents ul li\").css('display', 'none');\n\t$(\".broadSchedule .contents ul li.week\"+tgNum).css('display', 'block');\n}\nfunction onWeekClick(tgNum) {\n\t$(\".broadSchedule .contents ul li\").css('display', 'none');\n\t$(\".broadSchedule .contents ul li.week\"+tgNum).css('display', 'block');\n\t$(\".broadSchedule .week ul\").attr('class','');\n\t$(\".broadSchedule .week ul\").attr('class','selected'+tgNum);\n \n\t$(\".broadSchedule .week ul li a\").mouseout(function() {\n\t\tonWeekOver(tgNum); \n\t});\n}\n$(document).ready(function() {\n\tonWeekOver(6); \n\t$(\".broadSchedule .week ul li a\").mouseout(function() {\n\t\tonWeekOver(6); \n\t});\n});\n</script><div class=\"menuGroup\">\n<div class=\"menuItems\">\n<link href=\"http://www.inven.co.kr/common/module/lib/style/cosplay_121025.css?v=140915aa\" rel=\"stylesheet\" type=\"text/css\"/>\n<div id=\"modRightSpcats\">\n<div class=\"cosplay cosplay-w167\">\n<h2><a class=\"title\" href=\"http://www.inven.co.kr/board/powerbbs.php?come_idx=2898\">플겜 인벤 추천 코스프레</a></h2>\n<div class=\"articleBody\">\n<img class=\"topimage\" src=\"http://upload3.inven.co.kr/upload/2020/04/09/bbs/i13996512463.jpg\"/>\n<a class=\"frontimage\" href=\"http://www.inven.co.kr/board/webzine/2898/1809\"><img src=\"http://static.inven.co.kr/image_2011/pg/common/bg_front_cosplay2.png\"/></a>\n<div class=\"info\">\n<span>귀멸의 칼날</span>\n<span>나나비-이비</span><br/>\n<span>키부츠지 무잔</span>\n</div>\n<div class=\"banner\">\n<ul>\n<li><a href=\"http://www.inven.co.kr/board/powerbbs.php?come_idx=3714\" target=\"_blank\"><img src=\"http://pds.inven.co.kr/upload/2013/12/19/intro/i2206809472.jpg\"/></a></li>\n</ul>\n</div>\n</div>\n</div>\n</div>\n</div>\n</div>\n<div class=\"ieFix\">                  </div>\n</div>\n</div>\n</div>\n</div>\n</div>\n</div>\n<div id=\"lolTail\">\n<div id=\"comTailCoplyright\">\n<h2 class=\"hidden\">인포메이션</h2>\n<div class=\"infomationMenu\">\n<ul class=\"infomationMenuList\">\n<li class=\"menu menu1\"><a href=\"http://www.inven.co.kr/webzine/zone/inventeam/?page=introduce\" title=\"\">회사소개</a></li>\n<li class=\"menu menu2\"><a href=\"http://www.inven.co.kr/partner/\" title=\"\">제휴문의</a></li>\n<li class=\"menu menu3\"><a href=\"http://www.inven.co.kr/ad/contact/\" title=\"\">광고문의</a></li>\n<li class=\"menu menu4\"><a href=\"http://www.inven.co.kr/doc/service.php\" title=\"\">이용약관</a></li>\n<li class=\"menu menu5\"><a href=\"http://www.inven.co.kr/doc/privacy.php\" title=\"\"><strong>개인정보취급방침</strong></a></li>\n<li class=\"menu menu6\"><a href=\"http://www.inven.co.kr/doc/youthpolicy.php\" title=\"\"><strong>청소년보호정책</strong></a></li>\n<li class=\"menu menu7\"><a href=\"http://www.inven.co.kr/webzine/zone/inventeam/?page=location\" title=\"\">찾아오시는 길</a></li>\n<li class=\"menu menu8\"><a href=\"http://www.inven.co.kr/board/powerbbs.php?come_idx=1292&amp;iskin=lol\" title=\"\">공지사항</a></li>\n</ul>\n<div class=\"infomationContent\">\n명칭: <b>주식회사 인벤</b> | 등록번호: 경기 아51514 | 등록연월일: 2009. 12. 14 | 제호: 인벤<span>(INVEN)</span><br/>\n발행인: 서형준 | 편집인: 강민우 | 발행소: 경기 성남시 분당구 성남대로 331번길 8, 17층<br/>\n발행연월일: 2004 11. 11 | 전화번호: 02 - 6393 - 7700 | E-mail: help@inven.co.kr<br/><br/>\n인벤의 콘텐츠 및 기사는 저작권법의 보호를 받으므로, 무단 전재, 복사, 배포 등을 금합니다.<br/>\nCopyrightⓒ <span class=\"copyrightInven\">Inven.</span> All rights reserved.\n\t\t</div>\n<div class=\"isms\"><a href=\"https://isms.kisa.or.kr/main/isms/issue/?certificationMode=list&amp;crtfYear=2017&amp;searchCondition=2&amp;searchKeyword=ISMS+17-042\" target=\"_blank\" title=\"\">ISMS 인증서</a></div>\n</div>\n<div class=\"tail2TopBttn\" onclick=\"document.getElementById('comHeadlink').scrollIntoView();\" title=\"맨위로\">▲</div>\n<div class=\"hidden\">\n\t\t(주)인벤 사업자등록번호 : 120-86-74756<br/>\n\t\t대표전화 : 02-6393-7700<br/>\n\t\tFAX : 02-6393-7706<br/>\n\t\t인벤의 콘텐츠 및 기사는 저작권법의 보호를 받으므로, 무단 전재·복사·배포 등을 금합니다.\t<br/>\n\t\tCopyright © Inven Communications. All rights reserved.\n\t</div>\n</div>\n<script>\n  (function(i,s,o,g,r,a,m){i['GoogleAnalyticsObject']=r;i[r]=i[r]||function(){\n  (i[r].q=i[r].q||[]).push(arguments)},i[r].l=1*new Date();a=s.createElement(o),\n  m=s.getElementsByTagName(o)[0];a.async=1;a.src=g;m.parentNode.insertBefore(a,m)\n  })(window,document,'script','https://www.google-analytics.com/analytics.js','ga');\n  ga('create', 'UA-7385590-7', {'sampleRate' : 1});\n  ga('require', 'linkid');\n  ga('send', 'pageview');\n</script>\n<script type=\"text/javascript\">\nvar linkback = linkback|| {};\n(function() {\n\tvar d = document, scr = d.createElement('script'), pro = d.location.protocol,\n\ttar = d.getElementsByTagName('head')[0];\n\tscr.type = 'text/javascript';  scr.async = true;\n\tscr.src = ((pro === 'https:') ? 'https' : 'http') + '://linkback.contentsfeed.com/src/lb4iv.min.js?v=170111a';\n\tscr.charset='utf-8';\n\tif(!linkback.l){linkback.l=true; tar.insertBefore(scr, tar.firstChild);}\n})();\n</script>\n<script src=\"//wcs.naver.net/wcslog.js\" type=\"text/javascript\"></script>\n<script type=\"text/javascript\">\n\t    if(!wcs_add) var wcs_add = {};\n\t    wcs_add[\"wa\"] = \"1b897950b5fce1\";\n\t    wcs_do();\n\t</script>\n</div>\n<div id=\"lolMainFloatings\">\n<div class=\"lolMainFloatings1\">\n<div class=\"adSky adSky1\" id=\"lolSky\"><script type=\"text/javascript\">INVEN.Ad.showSky2('lol');</script><iframe frameborder=\"0\" height=\"300\" id=\"comAdSky3\" marginheight=\"0\" marginwidth=\"0\" name=\"comAdSky3\" scrolling=\"no\" src=\"http://adn.inven.co.kr/imp?slot=1337&amp;type=if\" topmargin=\"0\" width=\"150\"></iframe></div>\n</div>\n</div>\n<script type=\"text/javascript\">ie9ResizeBodyWidth('lol');</script>\n</div>\n</div><div class=\"inven-float-alarm\"><ul><li data-code=\"20200502a\" style=\"margin-left: -500px;\"><a href=\"http://imart.inven.co.kr/specialpoint/\" style=\"color:#00FFFF;\" target=\"_self\" title=\"\">[안내] 인벤 마블 오류 수정 보상 포인트</a><a class=\"close\" href=\"#close-alram\">x</a></li></ul></div><div class=\"ui-datepicker ui-widget ui-widget-content ui-helper-clearfix ui-corner-all\" id=\"ui-datepicker-div\"></div><ul aria-activedescendant=\"ui-active-menuitem\" class=\"ui-autocomplete ui-menu ui-widget ui-widget-content ui-corner-all\" role=\"listbox\" style=\"z-index: 1; top: 0px; left: 0px; display: none;\"></ul><ul aria-activedescendant=\"ui-active-menuitem\" class=\"ui-autocomplete ui-menu ui-widget ui-widget-content ui-corner-all\" role=\"listbox\" style=\"z-index: 1; top: 0px; left: 0px; display: none;\"></ul><div id=\"comFloatAlert\" style=\"display: none;\"><ul class=\"textlist\"></ul></div><div id=\"lolCommonLayer\"></div><div id=\"lolHeadmenuSub\"></div></body></html>"
     },
     "metadata": {},
     "execution_count": 2
    }
   ],
   "source": [
    "soup"
   ]
  },
  {
   "cell_type": "code",
   "execution_count": null,
   "metadata": {},
   "outputs": [],
   "source": [
    "df.to_csv(\"./result.csv\",index=False, encoding='utf-8-sig')"
   ]
  },
  {
   "cell_type": "code",
   "execution_count": 2,
   "metadata": {},
   "outputs": [],
   "source": [
    "import time\n",
    "from selenium import webdriver\n",
    "import requests\n",
    "from bs4 import BeautifulSoup\n",
    "import pandas as pd\n",
    "\n",
    "\n",
    "\n",
    "driver = webdriver.Firefox()\n",
    "time = []\n",
    "for i in range(1,70):\n",
    "\n",
    "    driver.get('http://lol.inven.co.kr/dataninfo/match/teamList.php?pg=' + str(i));   \n",
    "    res = driver.page_source\n",
    "    soup = BeautifulSoup(res, 'html.parser')\n",
    "    title = soup.find(id='lolDbMatchTeamList')\n",
    "\n",
    "    \n",
    "    for m in range(0,25):\n",
    "        list_ = str(soup.find_all(class_='score')[m]).split('<')\n",
    "        for i in range(len(list_)):\n",
    "            if 'PLAY TIME' in list_[i]:\n",
    "                time.append(list_[i+1].split('>')[1])\n",
    "\n",
    "\n"
   ]
  },
  {
   "cell_type": "code",
   "execution_count": 3,
   "metadata": {
    "tags": [
     "outputPrepend"
    ]
   },
   "outputs": [],
   "source": [
    "for i in range(len(time)):\n",
    "    if '\\t' in time[i]:\n",
    "        time[i] = time[i].replace('\\t','')\n",
    "        time[i] = time[i].replace('\\n','')"
   ]
  },
  {
   "cell_type": "code",
   "execution_count": 4,
   "metadata": {},
   "outputs": [],
   "source": [
    "temp = time"
   ]
  },
  {
   "cell_type": "code",
   "execution_count": 5,
   "metadata": {},
   "outputs": [],
   "source": [
    "max = 0\n",
    "for i in time:\n",
    "    if len(i) > max:\n",
    "        max = len(i)"
   ]
  },
  {
   "cell_type": "code",
   "execution_count": 6,
   "metadata": {},
   "outputs": [],
   "source": [
    "for i in range(len(temp)):\n",
    "    if len(temp[i]) == 6:\n",
    "        temp[i] = temp[i][:3] + ' 0' + temp[i][4:]\n",
    "    if len(time[i]) == 3:\n",
    "        temp[i] = temp[i][:3] + ' 00초'"
   ]
  },
  {
   "cell_type": "code",
   "execution_count": 12,
   "metadata": {},
   "outputs": [
    {
     "output_type": "execute_result",
     "data": {
      "text/plain": "['31분 29초',\n '29분 02초',\n '29분 05초',\n '36분 50초',\n '31분 15초',\n '23분 27초',\n '26분 37초',\n '38분 10초',\n '28분 26초',\n '35분 53초',\n '26분 59초',\n '33분 29초',\n '29분 36초',\n '19분 05초',\n '45분 27초',\n '29분 18초',\n '35분 12초',\n '30분 34초',\n '34분 58초',\n '30분 18초',\n '41분 02초',\n '36분 34초',\n '31분 59초',\n '30분 47초',\n '38분 44초',\n '35분 38초',\n '39분 30초',\n '24분 36초',\n '29분 30초',\n '25분 12초',\n '29분 17초',\n '34분 34초',\n '32분 19초',\n '31분 40초',\n '35분 07초',\n '26분 14초',\n '28분 13초',\n '35분 34초',\n '26분 38초',\n '40분 11초',\n '31분 28초',\n '42분 22초',\n '36분 55초',\n '35분 47초',\n '28분 05초',\n '26분 09초',\n '24분 22초',\n '31분 01초',\n '38분 47초',\n '40분 36초',\n '33분 39초',\n '37분 26초',\n '35분 48초',\n '42분 24초',\n '33분 49초',\n '27분 06초',\n '35분 39초',\n '39분 21초',\n '31분 38초',\n '31분 37초',\n '29분 50초',\n '50분 03초',\n '31분 14초',\n '27분 52초',\n '39분 23초',\n '28분 45초',\n '30분 05초',\n '35분 56초',\n '29분 28초',\n '36분 42초',\n '31분 39초',\n '25분 44초',\n '41분 27초',\n '34분 23초',\n '29분 50초',\n '29분 25초',\n '36분 20초',\n '31분 00초',\n '31분 02초',\n '40분 26초',\n '43분 39초',\n '41분 40초',\n '30분 18초',\n '31분 08초',\n '38분 19초',\n '34분 32초',\n '27분 56초',\n '27분 55초',\n '28분 24초',\n '25분 07초',\n '26분 26초',\n '36분 42초',\n '36분 58초',\n '29분 18초',\n '27분 03초',\n '38분 45초',\n '27분 22초',\n '36분 18초',\n '33분 15초',\n '25분 08초',\n '39분 36초',\n '29분 55초',\n '40분 07초',\n '34분 48초',\n '24분 47초',\n '40분 06초',\n '29분 34초',\n '39분 38초',\n '29분 12초',\n '24분 30초',\n '26분 59초',\n '28분 11초',\n '33분 40초',\n '39분 41초',\n '33분 36초',\n '54분 36초',\n '33분 04초',\n '47분 41초',\n '33분 05초',\n '33분 20초',\n '30분 36초',\n '24분 26초',\n '29분 02초',\n '35분 06초',\n '28분 01초',\n '31분 07초',\n '23분 47초',\n '37분 40초',\n '31분 23초',\n '36분 34초',\n '33분 41초',\n '32분 37초',\n '26분 34초',\n '34분 31초',\n '28분 09초',\n '26분 25초',\n '25분 12초',\n '29분 37초',\n '33분 32초',\n '36분 09초',\n '33분 09초',\n '34분 12초',\n '35분 41초',\n '28분 24초',\n '47분 34초',\n '43분 27초',\n '31분 05초',\n '33분 11초',\n '33분 08초',\n '32분 21초',\n '37분 36초',\n '32분 44초',\n '28분 07초',\n '42분 19초',\n '30분 04초',\n '25분 46초',\n '30분 51초',\n '34분 25초',\n '29분 44초',\n '30분 38초',\n '31분 02초',\n '28분 10초',\n '33분 37초',\n '26분 49초',\n '33분 28초',\n '28분 50초',\n '29분 37초',\n '45분 34초',\n '34분 05초',\n '27분 03초',\n '26분 00초',\n '32분 55초',\n '32분 26초',\n '34분 46초',\n '32분 16초',\n '37분 01초',\n '37분 55초',\n '32분 30초',\n '37분 21초',\n '31분 37초',\n '28분 10초',\n '37분 35초',\n '36분 41초',\n '32분 52초',\n '30분 55초',\n '36분 51초',\n '31분 57초',\n '34분 15초',\n '44분 37초',\n '34분 45초',\n '40분 36초',\n '29분 26초',\n '28분 36초',\n '34분 40초',\n '34분 54초',\n '34분 01초',\n '34분 28초',\n '27분 58초',\n '31분 59초',\n '38분 42초',\n '31분 01초',\n '43분 40초',\n '33분 02초',\n '28분 37초',\n '44분 07초',\n '41분 50초',\n '25분 06초',\n '33분 29초',\n '36분 17초',\n '46분 07초',\n '38분 37초',\n '42분 02초',\n '29분 06초',\n '32분 28초',\n '30분 03초',\n '24분 17초',\n '26분 53초',\n '31분 58초',\n '36분 12초',\n '39분 52초',\n '39분 05초',\n '28분 48초',\n '39분 12초',\n '41분 38초',\n '36분 48초',\n '27분 20초',\n '32분 37초',\n '46분 37초',\n '32분 22초',\n '35분 27초',\n '39분 22초',\n '27분 49초',\n '28분 04초',\n '31분 43초',\n '36분 32초',\n '34분 28초',\n '34분 28초',\n '43분 02초',\n '29분 10초',\n '37분 25초',\n '37분 43초',\n '51분 08초',\n '29분 25초',\n '22분 21초',\n '30분 12초',\n '26분 49초',\n '29분 08초',\n '36분 20초',\n '47분 50초',\n '40분 41초',\n '34분 45초',\n '30분 09초',\n '23분 13초',\n '26분 34초',\n '25분 48초',\n '30분 12초',\n '33분 19초',\n '28분 31초',\n '37분 07초',\n '37분 00초',\n '25분 13초',\n '31분 23초',\n '47분 17초',\n '34분 22초',\n '35분 49초',\n '39분 00초',\n '30분 28초',\n '33분 30초',\n '29분 36초',\n '42분 57초',\n '26분 59초',\n '34분 58초',\n '24분 38초',\n '37분 27초',\n '34분 30초',\n '37분 50초',\n '32분 23초',\n '25분 18초',\n '32분 35초',\n '42분 03초',\n '31분 23초',\n '19분 39초',\n '25분 03초',\n '41분 13초',\n '24분 01초',\n '22분 23초',\n '20분 10초',\n '26분 04초',\n '28분 15초',\n '27분 30초',\n '40분 16초',\n '30분 25초',\n '36분 33초',\n '32분 37초',\n '37분 37초',\n '36분 57초',\n '30분 22초',\n '25분 38초',\n '40분 54초',\n '36분 01초',\n '33분 40초',\n '35분 59초',\n '34분 33초',\n '34분 49초',\n '25분 49초',\n '42분 29초',\n '28분 25초',\n '30분 22초',\n '31분 04초',\n '44분 22초',\n '34분 21초',\n '31분 54초',\n '31분 49초',\n '27분 28초',\n '29분 09초',\n '35분 53초',\n '26분 57초',\n '24분 29초',\n '26분 08초',\n '25분 42초',\n '36분 33초',\n '34분 40초',\n '43분 53초',\n '24분 07초',\n '29분 30초',\n '32분 05초',\n '30분 57초',\n '32분 18초',\n '32분 36초',\n '32분 25초',\n '33분 06초',\n '29분 40초',\n '26분 57초',\n '48분 39초',\n '35분 30초',\n '28분 29초',\n '27분 19초',\n '27분 56초',\n '31분 57초',\n '30분 08초',\n '29분 42초',\n '23분 55초',\n '38분 56초',\n '23분 51초',\n '33분 09초',\n '34분 16초',\n '26분 49초',\n '28분 29초',\n '28분 39초',\n '30분 37초',\n '43분 28초',\n '44분 41초',\n '23분 33초',\n '26분 10초',\n '36분 21초',\n '24분 37초',\n '37분 51초',\n '39분 06초',\n '34분 53초',\n '42분 02초',\n '38분 14초',\n '47분 02초',\n '29분 48초',\n '27분 36초',\n '33분 47초',\n '39분 04초',\n '42분 44초',\n '30분 28초',\n '36분 39초',\n '31분 05초',\n '29분 40초',\n '31분 23초',\n '35분 43초',\n '37분 51초',\n '42분 10초',\n '30분 30초',\n '31분 34초',\n '45분 32초',\n '36분 42초',\n '40분 21초',\n '33분 01초',\n '27분 56초',\n '36분 59초',\n '27분 38초',\n '29분 59초',\n '22분 43초',\n '33분 06초',\n '26분 13초',\n '41분 40초',\n '27분 54초',\n '30분 22초',\n '40분 34초',\n '34분 09초',\n '28분 12초',\n '39분 25초',\n '30분 37초',\n '31분 02초',\n '28분 23초',\n '38분 56초',\n '24분 36초',\n '63분 25초',\n '41분 10초',\n '33분 40초',\n '38분 53초',\n '30분 01초',\n '24분 17초',\n '40분 02초',\n '30분 08초',\n '34분 15초',\n '34분 38초',\n '30분 09초',\n '39분 01초',\n '39분 29초',\n '37분 35초',\n '26분 32초',\n '38분 04초',\n '40분 49초',\n '40분 35초',\n '42분 00초',\n '44분 13초',\n '33분 04초',\n '34분 24초',\n '27분 22초',\n '38분 31초',\n '32분 59초',\n '40분 38초',\n '35분 25초',\n '38분 34초',\n '37분 08초',\n '26분 36초',\n '34분 38초',\n '37분 47초',\n '24분 03초',\n '42분 32초',\n '25분 54초',\n '35분 56초',\n '24분 31초',\n '29분 44초',\n '28분 49초',\n '29분 37초',\n '34분 17초',\n '24분 32초',\n '30분 07초',\n '27분 03초',\n '41분 36초',\n '28분 53초',\n '34분 45초',\n '33분 15초',\n '34분 02초',\n '27분 17초',\n '41분 26초',\n '43분 39초',\n '25분 59초',\n '34분 35초',\n '33분 03초',\n '37분 16초',\n '30분 28초',\n '36분 57초',\n '30분 41초',\n '30분 02초',\n '31분 34초',\n '28분 12초',\n '34분 51초',\n '28분 19초',\n '37분 04초',\n '40분 12초',\n '36분 39초',\n '50분 48초',\n '47분 13초',\n '35분 31초',\n '38분 35초',\n '34분 24초',\n '32분 34초',\n '29분 09초',\n '53분 40초',\n '28분 30초',\n '36분 43초',\n '38분 47초',\n '34분 43초',\n '25분 39초',\n '31분 09초',\n '38분 08초',\n '28분 54초',\n '36분 03초',\n '35분 15초',\n '32분 37초',\n '28분 55초',\n '30분 09초',\n '31분 35초',\n '29분 10초',\n '32분 39초',\n '35분 14초',\n '36분 39초',\n '33분 26초',\n '34분 05초',\n '25분 06초',\n '29분 07초',\n '32분 21초',\n '27분 55초',\n '32분 04초',\n '37분 33초',\n '36분 22초',\n '31분 08초',\n '32분 27초',\n '33분 23초',\n '35분 36초',\n '29분 07초',\n '31분 14초',\n '37분 43초',\n '30분 42초',\n '32분 29초',\n '30분 55초',\n '44분 07초',\n '22분 49초',\n '33분 08초',\n '42분 42초',\n '36분 40초',\n '35분 07초',\n '30분 55초',\n '33분 24초',\n '32분 24초',\n '37분 07초',\n '33분 28초',\n '33분 36초',\n '38분 41초',\n '37분 19초',\n '34분 39초',\n '42분 35초',\n '43분 49초',\n '23분 29초',\n '33분 40초',\n '43분 20초',\n '27분 28초',\n '29분 26초',\n '36분 39초',\n '31분 02초',\n '37분 38초',\n '29분 39초',\n '46분 08초',\n '31분 52초',\n '46분 23초',\n '22분 12초',\n '38분 40초',\n '28분 28초',\n '27분 40초',\n '30분 17초',\n '27분 53초',\n '43분 02초',\n '34분 06초',\n '25분 59초',\n '30분 13초',\n '29분 22초',\n '26분 52초',\n '36분 10초',\n '32분 22초',\n '23분 17초',\n '47분 11초',\n '32분 56초',\n '49분 14초',\n '35분 35초',\n '32분 25초',\n '34분 49초',\n '30분 27초',\n '25분 29초',\n '36분 35초',\n '37분 26초',\n '29분 27초',\n '25분 57초',\n '30분 39초',\n '45분 31초',\n '32분 32초',\n '38분 00초',\n '31분 42초',\n '27분 39초',\n '26분 17초',\n '27분 53초',\n '26분 37초',\n '43분 12초',\n '31분 54초',\n '32분 01초',\n '27분 23초',\n '31분 52초',\n '33분 07초',\n '29분 13초',\n '30분 59초',\n '27분 30초',\n '29분 42초',\n '43분 00초',\n '23분 24초',\n '34분 13초',\n '32분 34초',\n '29분 46초',\n '27분 35초',\n '32분 00초',\n '33분 24초',\n '33분 11초',\n '39분 35초',\n '27분 22초',\n '27분 31초',\n '35분 08초',\n '34분 03초',\n '35분 41초',\n '35분 32초',\n '25분 26초',\n '32분 27초',\n '30분 38초',\n '41분 08초',\n '33분 29초',\n '49분 24초',\n '34분 04초',\n '30분 56초',\n '28분 18초',\n '36분 35초',\n '49분 46초',\n '33분 08초',\n '29분 04초',\n '29분 34초',\n '31분 04초',\n '34분 07초',\n '43분 13초',\n '30분 06초',\n '27분 58초',\n '41분 21초',\n '27분 55초',\n '32분 29초',\n '28분 44초',\n '33분 53초',\n '25분 31초',\n '47분 37초',\n '30분 54초',\n '39분 41초',\n '32분 21초',\n '36분 45초',\n '32분 40초',\n '37분 10초',\n '27분 22초',\n '39분 11초',\n '28분 19초',\n '24분 40초',\n '28분 05초',\n '35분 40초',\n '40분 28초',\n '37분 42초',\n '30분 28초',\n '34분 09초',\n '37분 42초',\n '27분 43초',\n '36분 14초',\n '24분 52초',\n '26분 04초',\n '29분 21초',\n '31분 24초',\n '33분 57초',\n '29분 26초',\n '25분 30초',\n '30분 42초',\n '27분 37초',\n '26분 42초',\n '34분 12초',\n '26분 42초',\n '37분 41초',\n '30분 16초',\n '32분 10초',\n '35분 19초',\n '32분 42초',\n '31분 06초',\n '23분 19초',\n '28분 11초',\n '29분 03초',\n '31분 48초',\n '30분 59초',\n '30분 46초',\n '38분 59초',\n '40분 57초',\n '27분 15초',\n '34분 21초',\n '38분 43초',\n '27분 28초',\n '50분 01초',\n '33분 27초',\n '26분 56초',\n '32분 06초',\n '31분 24초',\n '43분 47초',\n '45분 51초',\n '27분 36초',\n '45분 28초',\n '37분 58초',\n '34분 38초',\n '33분 38초',\n '35분 22초',\n '33분 36초',\n '33분 33초',\n '41분 43초',\n '31분 04초',\n '18분 05초',\n '27분 58초',\n '24분 40초',\n '30분 36초',\n '35분 00초',\n '34분 36초',\n '31분 24초',\n '24분 40초',\n '33분 23초',\n '33분 06초',\n '32분 42초',\n '41분 05초',\n '32분 10초',\n '30분 47초',\n '29분 59초',\n '30분 03초',\n '32분 00초',\n '29분 08초',\n '26분 32초',\n '29분 27초',\n '31분 11초',\n '34분 05초',\n '26분 51초',\n '30분 52초',\n '27분 07초',\n '35분 28초',\n '34분 02초',\n '31분 10초',\n '44분 03초',\n '30분 29초',\n '16분 01초',\n '32분 22초',\n '28분 12초',\n '33분 10초',\n '44분 40초',\n '30분 12초',\n '29분 06초',\n '28분 54초',\n '27분 10초',\n '33분 58초',\n '28분 02초',\n '26분 39초',\n '41분 33초',\n '29분 18초',\n '28분 46초',\n '32분 07초',\n '27분 06초',\n '32분 22초',\n '32분 01초',\n '24분 48초',\n '41분 54초',\n '29분 16초',\n '25분 33초',\n '32분 00초',\n '38분 39초',\n '29분 57초',\n '26분 25초',\n '30분 25초',\n '22분 46초',\n '32분 12초',\n '38분 06초',\n '30분 58초',\n '33분 59초',\n '38분 35초',\n '32분 35초',\n '37분 42초',\n '29분 38초',\n '33분 25초',\n '36분 22초',\n '29분 08초',\n '28분 26초',\n '28분 39초',\n '33분 35초',\n '36분 58초',\n '31분 17초',\n '28분 16초',\n '26분 13초',\n '30분 20초',\n '29분 02초',\n '37분 02초',\n '49분 51초',\n '46분 09초',\n '37분 10초',\n '38분 08초',\n '27분 09초',\n '39분 05초',\n '27분 34초',\n '35분 05초',\n '29분 23초',\n '24분 10초',\n '31분 10초',\n '34분 42초',\n '29분 58초',\n '32분 09초',\n '30분 15초',\n '30분 09초',\n '29분 44초',\n '38분 45초',\n '37분 17초',\n '45분 44초',\n '39분 13초',\n '29분 24초',\n '26분 30초',\n '27분 47초',\n '27분 41초',\n '30분 05초',\n '38분 09초',\n '26분 55초',\n '43분 24초',\n '34분 27초',\n '33분 35초',\n '45분 16초',\n '36분 38초',\n '35분 57초',\n '36분 36초',\n '28분 24초',\n '33분 48초',\n '31분 56초',\n '31분 17초',\n '29분 35초',\n '40분 27초',\n '32분 30초',\n '39분 09초',\n '32분 12초',\n '27분 59초',\n '28분 59초',\n '37분 28초',\n '30분 42초',\n '36분 49초',\n '32분 56초',\n '27분 58초',\n '40분 41초',\n '39분 43초',\n '30분 07초',\n '39분 31초',\n '48분 15초',\n '35분 59초',\n '34분 34초',\n '35분 58초',\n '30분 44초',\n '27분 41초',\n '41분 15초',\n '40분 00초',\n '28분 48초',\n '28분 00초',\n '29분 47초',\n '26분 14초',\n '39분 00초',\n '29분 11초',\n '37분 53초',\n '31분 52초',\n '36분 46초',\n '36분 13초',\n '34분 31초',\n '32분 30초',\n '36분 03초',\n '27분 02초',\n '34분 57초',\n '33분 13초',\n '39분 04초',\n '36분 44초',\n '39분 57초',\n '33분 21초',\n '41분 13초',\n '31분 50초',\n '29분 01초',\n '27분 02초',\n '33분 40초',\n '34분 52초',\n '38분 00초',\n '30분 31초',\n '37분 03초',\n '38분 52초',\n '34분 23초',\n '39분 15초',\n '39분 52초',\n '32분 27초',\n '33분 23초',\n '31분 10초',\n '31분 46초',\n '41분 22초',\n '31분 11초',\n '27분 41초',\n '36분 38초',\n '27분 26초',\n '33분 50초',\n '29분 45초',\n '34분 58초',\n '33분 31초',\n '29분 11초',\n '29분 31초',\n '39분 28초',\n '34분 47초',\n '29분 19초',\n '37분 01초',\n '31분 21초',\n '30분 11초',\n '27분 53초',\n '37분 40초',\n '45분 42초',\n '36분 41초',\n '40분 37초',\n '41분 26초',\n '35분 24초',\n '45분 26초',\n '45분 21초',\n '30분 33초',\n '28분 46초',\n '28분 45초',\n '51분 06초',\n '31분 46초',\n '26분 39초',\n '21분 51초',\n '38분 28초',\n '29분 25초',\n '42분 08초',\n '33분 32초',\n '25분 24초',\n '30분 36초',\n '30분 53초',\n '51분 11초',\n '27분 39초',\n '31분 17초',\n '36분 40초',\n '38분 09초',\n '31분 59초',\n '31분 11초',\n '30분 52초',\n '30분 55초',\n '40분 47초',\n '37분 30초',\n '31분 39초',\n '36분 44초',\n '41분 16초',\n '31분 02초',\n '26분 59초',\n '36분 34초',\n '33분 31초',\n '34분 19초',\n '29분 58초',\n '28분 59초',\n '35분 05초',\n '38분 28초',\n '36분 36초',\n '29분 32초',\n '36분 25초',\n '25분 34초',\n '29분 42초',\n '43분 35초',\n '32분 15초',\n '39분 12초',\n '34분 34초',\n '36분 51초',\n '33분 58초',\n '29분 44초',\n '36분 23초',\n '31분 07초',\n '39분 21초',\n '32분 11초',\n '43분 39초',\n '36분 13초',\n '41분 18초',\n '39분 26초',\n '28분 51초',\n '36분 52초',\n '24분 12초',\n '57분 26초',\n '40분 26초',\n '23분 36초',\n '41분 31초',\n '31분 35초',\n '39분 41초',\n '32분 50초',\n '33분 55초',\n '33분 09초',\n '37분 21초',\n '34분 04초',\n '29분 22초',\n '33분 02초',\n '26분 08초',\n '27분 35초',\n '40분 34초',\n '28분 42초',\n '45분 13초',\n '43분 57초',\n '39분 51초',\n '32분 26초',\n '30분 10초',\n '29분 17초',\n '33분 13초',\n '28분 58초',\n '37분 20초',\n '26분 34초',\n '45분 43초',\n '29분 58초',\n '37분 04초',\n '28분 21초',\n '33분 17초',\n '28분 33초',\n '27분 25초',\n '34분 34초',\n '37분 29초',\n '25분 20초',\n '28분 55초',\n '31분 36초',\n ...]"
     },
     "metadata": {},
     "execution_count": 12
    }
   ],
   "source": [
    "temp"
   ]
  },
  {
   "cell_type": "code",
   "execution_count": 30,
   "metadata": {},
   "outputs": [],
   "source": [
    "templst = []\n",
    "for i in temp:\n",
    "    i = i.strip('초').split('분 ')\n",
    "    templst.append(int(i[0])*60+int(i[1]))"
   ]
  },
  {
   "cell_type": "code",
   "execution_count": 33,
   "metadata": {},
   "outputs": [
    {
     "output_type": "execute_result",
     "data": {
      "text/plain": "2040.4689855072463"
     },
     "metadata": {},
     "execution_count": 33
    }
   ],
   "source": [
    "import numpy as np\n",
    "np.mean(np.array(templst))"
   ]
  },
  {
   "cell_type": "code",
   "execution_count": 38,
   "metadata": {},
   "outputs": [
    {
     "output_type": "execute_result",
     "data": {
      "text/plain": "(array([  1.,   1.,   1.,   3.,   0.,  14.,  29.,  46.,  57., 100., 106.,\n        127., 138., 123., 133., 135., 106., 106.,  93.,  89.,  61.,  55.,\n         47.,  31.,  26.,  28.,  10.,  17.,   7.,  11.,   7.,   1.,   3.,\n          4.,   1.,   3.,   0.,   0.,   1.,   2.,   1.,   0.,   0.,   0.,\n          0.,   0.,   0.,   0.,   0.,   1.]),\n array([ 961.  , 1030.62, 1100.24, 1169.86, 1239.48, 1309.1 , 1378.72,\n        1448.34, 1517.96, 1587.58, 1657.2 , 1726.82, 1796.44, 1866.06,\n        1935.68, 2005.3 , 2074.92, 2144.54, 2214.16, 2283.78, 2353.4 ,\n        2423.02, 2492.64, 2562.26, 2631.88, 2701.5 , 2771.12, 2840.74,\n        2910.36, 2979.98, 3049.6 , 3119.22, 3188.84, 3258.46, 3328.08,\n        3397.7 , 3467.32, 3536.94, 3606.56, 3676.18, 3745.8 , 3815.42,\n        3885.04, 3954.66, 4024.28, 4093.9 , 4163.52, 4233.14, 4302.76,\n        4372.38, 4442.  ]),\n <a list of 50 Patch objects>)"
     },
     "metadata": {},
     "execution_count": 38
    },
    {
     "output_type": "display_data",
     "data": {
      "text/plain": "<Figure size 432x288 with 1 Axes>",
      "image/svg+xml": "<?xml version=\"1.0\" encoding=\"utf-8\" standalone=\"no\"?>\r\n<!DOCTYPE svg PUBLIC \"-//W3C//DTD SVG 1.1//EN\"\r\n  \"http://www.w3.org/Graphics/SVG/1.1/DTD/svg11.dtd\">\r\n<!-- Created with matplotlib (https://matplotlib.org/) -->\r\n<svg height=\"248.518125pt\" version=\"1.1\" viewBox=\"0 0 377.865588 248.518125\" width=\"377.865588pt\" xmlns=\"http://www.w3.org/2000/svg\" xmlns:xlink=\"http://www.w3.org/1999/xlink\">\r\n <defs>\r\n  <style type=\"text/css\">\r\n*{stroke-linecap:butt;stroke-linejoin:round;}\r\n  </style>\r\n </defs>\r\n <g id=\"figure_1\">\r\n  <g id=\"patch_1\">\r\n   <path d=\"M 0 248.518125 \r\nL 377.865588 248.518125 \r\nL 377.865588 0 \r\nL 0 0 \r\nz\r\n\" style=\"fill:none;\"/>\r\n  </g>\r\n  <g id=\"axes_1\">\r\n   <g id=\"patch_2\">\r\n    <path d=\"M 33.2875 224.64 \r\nL 368.0875 224.64 \r\nL 368.0875 7.2 \r\nL 33.2875 7.2 \r\nz\r\n\" style=\"fill:#ffffff;\"/>\r\n   </g>\r\n   <g id=\"patch_3\">\r\n    <path clip-path=\"url(#pdc31b9bcc7)\" d=\"M 48.505682 224.64 \r\nL 54.592955 224.64 \r\nL 54.592955 223.139379 \r\nL 48.505682 223.139379 \r\nz\r\n\" style=\"fill:#1f77b4;\"/>\r\n   </g>\r\n   <g id=\"patch_4\">\r\n    <path clip-path=\"url(#pdc31b9bcc7)\" d=\"M 54.592955 224.64 \r\nL 60.680227 224.64 \r\nL 60.680227 223.139379 \r\nL 54.592955 223.139379 \r\nz\r\n\" style=\"fill:#1f77b4;\"/>\r\n   </g>\r\n   <g id=\"patch_5\">\r\n    <path clip-path=\"url(#pdc31b9bcc7)\" d=\"M 60.680227 224.64 \r\nL 66.7675 224.64 \r\nL 66.7675 223.139379 \r\nL 60.680227 223.139379 \r\nz\r\n\" style=\"fill:#1f77b4;\"/>\r\n   </g>\r\n   <g id=\"patch_6\">\r\n    <path clip-path=\"url(#pdc31b9bcc7)\" d=\"M 66.7675 224.64 \r\nL 72.854773 224.64 \r\nL 72.854773 220.138137 \r\nL 66.7675 220.138137 \r\nz\r\n\" style=\"fill:#1f77b4;\"/>\r\n   </g>\r\n   <g id=\"patch_7\">\r\n    <path clip-path=\"url(#pdc31b9bcc7)\" d=\"M 72.854773 224.64 \r\nL 78.942045 224.64 \r\nL 78.942045 224.64 \r\nL 72.854773 224.64 \r\nz\r\n\" style=\"fill:#1f77b4;\"/>\r\n   </g>\r\n   <g id=\"patch_8\">\r\n    <path clip-path=\"url(#pdc31b9bcc7)\" d=\"M 78.942045 224.64 \r\nL 85.029318 224.64 \r\nL 85.029318 203.631304 \r\nL 78.942045 203.631304 \r\nz\r\n\" style=\"fill:#1f77b4;\"/>\r\n   </g>\r\n   <g id=\"patch_9\">\r\n    <path clip-path=\"url(#pdc31b9bcc7)\" d=\"M 85.029318 224.64 \r\nL 91.116591 224.64 \r\nL 91.116591 181.121988 \r\nL 85.029318 181.121988 \r\nz\r\n\" style=\"fill:#1f77b4;\"/>\r\n   </g>\r\n   <g id=\"patch_10\">\r\n    <path clip-path=\"url(#pdc31b9bcc7)\" d=\"M 91.116591 224.64 \r\nL 97.203864 224.64 \r\nL 97.203864 155.611429 \r\nL 91.116591 155.611429 \r\nz\r\n\" style=\"fill:#1f77b4;\"/>\r\n   </g>\r\n   <g id=\"patch_11\">\r\n    <path clip-path=\"url(#pdc31b9bcc7)\" d=\"M 97.203864 224.64 \r\nL 103.291136 224.64 \r\nL 103.291136 139.104596 \r\nL 97.203864 139.104596 \r\nz\r\n\" style=\"fill:#1f77b4;\"/>\r\n   </g>\r\n   <g id=\"patch_12\">\r\n    <path clip-path=\"url(#pdc31b9bcc7)\" d=\"M 103.291136 224.64 \r\nL 109.378409 224.64 \r\nL 109.378409 74.577888 \r\nL 103.291136 74.577888 \r\nz\r\n\" style=\"fill:#1f77b4;\"/>\r\n   </g>\r\n   <g id=\"patch_13\">\r\n    <path clip-path=\"url(#pdc31b9bcc7)\" d=\"M 109.378409 224.64 \r\nL 115.465682 224.64 \r\nL 115.465682 65.574161 \r\nL 109.378409 65.574161 \r\nz\r\n\" style=\"fill:#1f77b4;\"/>\r\n   </g>\r\n   <g id=\"patch_14\">\r\n    <path clip-path=\"url(#pdc31b9bcc7)\" d=\"M 115.465682 224.64 \r\nL 121.552955 224.64 \r\nL 121.552955 34.061118 \r\nL 115.465682 34.061118 \r\nz\r\n\" style=\"fill:#1f77b4;\"/>\r\n   </g>\r\n   <g id=\"patch_15\">\r\n    <path clip-path=\"url(#pdc31b9bcc7)\" d=\"M 121.552955 224.64 \r\nL 127.640227 224.64 \r\nL 127.640227 17.554286 \r\nL 121.552955 17.554286 \r\nz\r\n\" style=\"fill:#1f77b4;\"/>\r\n   </g>\r\n   <g id=\"patch_16\">\r\n    <path clip-path=\"url(#pdc31b9bcc7)\" d=\"M 127.640227 224.64 \r\nL 133.7275 224.64 \r\nL 133.7275 40.063602 \r\nL 127.640227 40.063602 \r\nz\r\n\" style=\"fill:#1f77b4;\"/>\r\n   </g>\r\n   <g id=\"patch_17\">\r\n    <path clip-path=\"url(#pdc31b9bcc7)\" d=\"M 133.7275 224.64 \r\nL 139.814773 224.64 \r\nL 139.814773 25.057391 \r\nL 133.7275 25.057391 \r\nz\r\n\" style=\"fill:#1f77b4;\"/>\r\n   </g>\r\n   <g id=\"patch_18\">\r\n    <path clip-path=\"url(#pdc31b9bcc7)\" d=\"M 139.814773 224.64 \r\nL 145.902045 224.64 \r\nL 145.902045 22.056149 \r\nL 139.814773 22.056149 \r\nz\r\n\" style=\"fill:#1f77b4;\"/>\r\n   </g>\r\n   <g id=\"patch_19\">\r\n    <path clip-path=\"url(#pdc31b9bcc7)\" d=\"M 145.902045 224.64 \r\nL 151.989318 224.64 \r\nL 151.989318 65.574161 \r\nL 145.902045 65.574161 \r\nz\r\n\" style=\"fill:#1f77b4;\"/>\r\n   </g>\r\n   <g id=\"patch_20\">\r\n    <path clip-path=\"url(#pdc31b9bcc7)\" d=\"M 151.989318 224.64 \r\nL 158.076591 224.64 \r\nL 158.076591 65.574161 \r\nL 151.989318 65.574161 \r\nz\r\n\" style=\"fill:#1f77b4;\"/>\r\n   </g>\r\n   <g id=\"patch_21\">\r\n    <path clip-path=\"url(#pdc31b9bcc7)\" d=\"M 158.076591 224.64 \r\nL 164.163864 224.64 \r\nL 164.163864 85.082236 \r\nL 158.076591 85.082236 \r\nz\r\n\" style=\"fill:#1f77b4;\"/>\r\n   </g>\r\n   <g id=\"patch_22\">\r\n    <path clip-path=\"url(#pdc31b9bcc7)\" d=\"M 164.163864 224.64 \r\nL 170.251136 224.64 \r\nL 170.251136 91.08472 \r\nL 164.163864 91.08472 \r\nz\r\n\" style=\"fill:#1f77b4;\"/>\r\n   </g>\r\n   <g id=\"patch_23\">\r\n    <path clip-path=\"url(#pdc31b9bcc7)\" d=\"M 170.251136 224.64 \r\nL 176.338409 224.64 \r\nL 176.338409 133.102112 \r\nL 170.251136 133.102112 \r\nz\r\n\" style=\"fill:#1f77b4;\"/>\r\n   </g>\r\n   <g id=\"patch_24\">\r\n    <path clip-path=\"url(#pdc31b9bcc7)\" d=\"M 176.338409 224.64 \r\nL 182.425682 224.64 \r\nL 182.425682 142.105839 \r\nL 176.338409 142.105839 \r\nz\r\n\" style=\"fill:#1f77b4;\"/>\r\n   </g>\r\n   <g id=\"patch_25\">\r\n    <path clip-path=\"url(#pdc31b9bcc7)\" d=\"M 182.425682 224.64 \r\nL 188.512955 224.64 \r\nL 188.512955 154.110807 \r\nL 182.425682 154.110807 \r\nz\r\n\" style=\"fill:#1f77b4;\"/>\r\n   </g>\r\n   <g id=\"patch_26\">\r\n    <path clip-path=\"url(#pdc31b9bcc7)\" d=\"M 188.512955 224.64 \r\nL 194.600227 224.64 \r\nL 194.600227 178.120745 \r\nL 188.512955 178.120745 \r\nz\r\n\" style=\"fill:#1f77b4;\"/>\r\n   </g>\r\n   <g id=\"patch_27\">\r\n    <path clip-path=\"url(#pdc31b9bcc7)\" d=\"M 194.600227 224.64 \r\nL 200.6875 224.64 \r\nL 200.6875 185.623851 \r\nL 194.600227 185.623851 \r\nz\r\n\" style=\"fill:#1f77b4;\"/>\r\n   </g>\r\n   <g id=\"patch_28\">\r\n    <path clip-path=\"url(#pdc31b9bcc7)\" d=\"M 200.6875 224.64 \r\nL 206.774773 224.64 \r\nL 206.774773 182.622609 \r\nL 200.6875 182.622609 \r\nz\r\n\" style=\"fill:#1f77b4;\"/>\r\n   </g>\r\n   <g id=\"patch_29\">\r\n    <path clip-path=\"url(#pdc31b9bcc7)\" d=\"M 206.774773 224.64 \r\nL 212.862045 224.64 \r\nL 212.862045 209.633789 \r\nL 206.774773 209.633789 \r\nz\r\n\" style=\"fill:#1f77b4;\"/>\r\n   </g>\r\n   <g id=\"patch_30\">\r\n    <path clip-path=\"url(#pdc31b9bcc7)\" d=\"M 212.862045 224.64 \r\nL 218.949318 224.64 \r\nL 218.949318 199.129441 \r\nL 212.862045 199.129441 \r\nz\r\n\" style=\"fill:#1f77b4;\"/>\r\n   </g>\r\n   <g id=\"patch_31\">\r\n    <path clip-path=\"url(#pdc31b9bcc7)\" d=\"M 218.949318 224.64 \r\nL 225.036591 224.64 \r\nL 225.036591 214.135652 \r\nL 218.949318 214.135652 \r\nz\r\n\" style=\"fill:#1f77b4;\"/>\r\n   </g>\r\n   <g id=\"patch_32\">\r\n    <path clip-path=\"url(#pdc31b9bcc7)\" d=\"M 225.036591 224.64 \r\nL 231.123864 224.64 \r\nL 231.123864 208.133168 \r\nL 225.036591 208.133168 \r\nz\r\n\" style=\"fill:#1f77b4;\"/>\r\n   </g>\r\n   <g id=\"patch_33\">\r\n    <path clip-path=\"url(#pdc31b9bcc7)\" d=\"M 231.123864 224.64 \r\nL 237.211136 224.64 \r\nL 237.211136 214.135652 \r\nL 231.123864 214.135652 \r\nz\r\n\" style=\"fill:#1f77b4;\"/>\r\n   </g>\r\n   <g id=\"patch_34\">\r\n    <path clip-path=\"url(#pdc31b9bcc7)\" d=\"M 237.211136 224.64 \r\nL 243.298409 224.64 \r\nL 243.298409 223.139379 \r\nL 237.211136 223.139379 \r\nz\r\n\" style=\"fill:#1f77b4;\"/>\r\n   </g>\r\n   <g id=\"patch_35\">\r\n    <path clip-path=\"url(#pdc31b9bcc7)\" d=\"M 243.298409 224.64 \r\nL 249.385682 224.64 \r\nL 249.385682 220.138137 \r\nL 243.298409 220.138137 \r\nz\r\n\" style=\"fill:#1f77b4;\"/>\r\n   </g>\r\n   <g id=\"patch_36\">\r\n    <path clip-path=\"url(#pdc31b9bcc7)\" d=\"M 249.385682 224.64 \r\nL 255.472955 224.64 \r\nL 255.472955 218.637516 \r\nL 249.385682 218.637516 \r\nz\r\n\" style=\"fill:#1f77b4;\"/>\r\n   </g>\r\n   <g id=\"patch_37\">\r\n    <path clip-path=\"url(#pdc31b9bcc7)\" d=\"M 255.472955 224.64 \r\nL 261.560227 224.64 \r\nL 261.560227 223.139379 \r\nL 255.472955 223.139379 \r\nz\r\n\" style=\"fill:#1f77b4;\"/>\r\n   </g>\r\n   <g id=\"patch_38\">\r\n    <path clip-path=\"url(#pdc31b9bcc7)\" d=\"M 261.560227 224.64 \r\nL 267.6475 224.64 \r\nL 267.6475 220.138137 \r\nL 261.560227 220.138137 \r\nz\r\n\" style=\"fill:#1f77b4;\"/>\r\n   </g>\r\n   <g id=\"patch_39\">\r\n    <path clip-path=\"url(#pdc31b9bcc7)\" d=\"M 267.6475 224.64 \r\nL 273.734773 224.64 \r\nL 273.734773 224.64 \r\nL 267.6475 224.64 \r\nz\r\n\" style=\"fill:#1f77b4;\"/>\r\n   </g>\r\n   <g id=\"patch_40\">\r\n    <path clip-path=\"url(#pdc31b9bcc7)\" d=\"M 273.734773 224.64 \r\nL 279.822045 224.64 \r\nL 279.822045 224.64 \r\nL 273.734773 224.64 \r\nz\r\n\" style=\"fill:#1f77b4;\"/>\r\n   </g>\r\n   <g id=\"patch_41\">\r\n    <path clip-path=\"url(#pdc31b9bcc7)\" d=\"M 279.822045 224.64 \r\nL 285.909318 224.64 \r\nL 285.909318 223.139379 \r\nL 279.822045 223.139379 \r\nz\r\n\" style=\"fill:#1f77b4;\"/>\r\n   </g>\r\n   <g id=\"patch_42\">\r\n    <path clip-path=\"url(#pdc31b9bcc7)\" d=\"M 285.909318 224.64 \r\nL 291.996591 224.64 \r\nL 291.996591 221.638758 \r\nL 285.909318 221.638758 \r\nz\r\n\" style=\"fill:#1f77b4;\"/>\r\n   </g>\r\n   <g id=\"patch_43\">\r\n    <path clip-path=\"url(#pdc31b9bcc7)\" d=\"M 291.996591 224.64 \r\nL 298.083864 224.64 \r\nL 298.083864 223.139379 \r\nL 291.996591 223.139379 \r\nz\r\n\" style=\"fill:#1f77b4;\"/>\r\n   </g>\r\n   <g id=\"patch_44\">\r\n    <path clip-path=\"url(#pdc31b9bcc7)\" d=\"M 298.083864 224.64 \r\nL 304.171136 224.64 \r\nL 304.171136 224.64 \r\nL 298.083864 224.64 \r\nz\r\n\" style=\"fill:#1f77b4;\"/>\r\n   </g>\r\n   <g id=\"patch_45\">\r\n    <path clip-path=\"url(#pdc31b9bcc7)\" d=\"M 304.171136 224.64 \r\nL 310.258409 224.64 \r\nL 310.258409 224.64 \r\nL 304.171136 224.64 \r\nz\r\n\" style=\"fill:#1f77b4;\"/>\r\n   </g>\r\n   <g id=\"patch_46\">\r\n    <path clip-path=\"url(#pdc31b9bcc7)\" d=\"M 310.258409 224.64 \r\nL 316.345682 224.64 \r\nL 316.345682 224.64 \r\nL 310.258409 224.64 \r\nz\r\n\" style=\"fill:#1f77b4;\"/>\r\n   </g>\r\n   <g id=\"patch_47\">\r\n    <path clip-path=\"url(#pdc31b9bcc7)\" d=\"M 316.345682 224.64 \r\nL 322.432955 224.64 \r\nL 322.432955 224.64 \r\nL 316.345682 224.64 \r\nz\r\n\" style=\"fill:#1f77b4;\"/>\r\n   </g>\r\n   <g id=\"patch_48\">\r\n    <path clip-path=\"url(#pdc31b9bcc7)\" d=\"M 322.432955 224.64 \r\nL 328.520227 224.64 \r\nL 328.520227 224.64 \r\nL 322.432955 224.64 \r\nz\r\n\" style=\"fill:#1f77b4;\"/>\r\n   </g>\r\n   <g id=\"patch_49\">\r\n    <path clip-path=\"url(#pdc31b9bcc7)\" d=\"M 328.520227 224.64 \r\nL 334.6075 224.64 \r\nL 334.6075 224.64 \r\nL 328.520227 224.64 \r\nz\r\n\" style=\"fill:#1f77b4;\"/>\r\n   </g>\r\n   <g id=\"patch_50\">\r\n    <path clip-path=\"url(#pdc31b9bcc7)\" d=\"M 334.6075 224.64 \r\nL 340.694773 224.64 \r\nL 340.694773 224.64 \r\nL 334.6075 224.64 \r\nz\r\n\" style=\"fill:#1f77b4;\"/>\r\n   </g>\r\n   <g id=\"patch_51\">\r\n    <path clip-path=\"url(#pdc31b9bcc7)\" d=\"M 340.694773 224.64 \r\nL 346.782045 224.64 \r\nL 346.782045 224.64 \r\nL 340.694773 224.64 \r\nz\r\n\" style=\"fill:#1f77b4;\"/>\r\n   </g>\r\n   <g id=\"patch_52\">\r\n    <path clip-path=\"url(#pdc31b9bcc7)\" d=\"M 346.782045 224.64 \r\nL 352.869318 224.64 \r\nL 352.869318 223.139379 \r\nL 346.782045 223.139379 \r\nz\r\n\" style=\"fill:#1f77b4;\"/>\r\n   </g>\r\n   <g id=\"matplotlib.axis_1\">\r\n    <g id=\"xtick_1\">\r\n     <g id=\"line2d_1\">\r\n      <defs>\r\n       <path d=\"M 0 0 \r\nL 0 3.5 \r\n\" id=\"m87aba1d38d\" style=\"stroke:#000000;stroke-width:0.8;\"/>\r\n      </defs>\r\n      <g>\r\n       <use style=\"stroke:#000000;stroke-width:0.8;\" x=\"51.915674\" xlink:href=\"#m87aba1d38d\" y=\"224.64\"/>\r\n      </g>\r\n     </g>\r\n     <g id=\"text_1\">\r\n      <!-- 1000 -->\r\n      <defs>\r\n       <path d=\"M 12.40625 8.296875 \r\nL 28.515625 8.296875 \r\nL 28.515625 63.921875 \r\nL 10.984375 60.40625 \r\nL 10.984375 69.390625 \r\nL 28.421875 72.90625 \r\nL 38.28125 72.90625 \r\nL 38.28125 8.296875 \r\nL 54.390625 8.296875 \r\nL 54.390625 0 \r\nL 12.40625 0 \r\nz\r\n\" id=\"DejaVuSans-49\"/>\r\n       <path d=\"M 31.78125 66.40625 \r\nQ 24.171875 66.40625 20.328125 58.90625 \r\nQ 16.5 51.421875 16.5 36.375 \r\nQ 16.5 21.390625 20.328125 13.890625 \r\nQ 24.171875 6.390625 31.78125 6.390625 \r\nQ 39.453125 6.390625 43.28125 13.890625 \r\nQ 47.125 21.390625 47.125 36.375 \r\nQ 47.125 51.421875 43.28125 58.90625 \r\nQ 39.453125 66.40625 31.78125 66.40625 \r\nz\r\nM 31.78125 74.21875 \r\nQ 44.046875 74.21875 50.515625 64.515625 \r\nQ 56.984375 54.828125 56.984375 36.375 \r\nQ 56.984375 17.96875 50.515625 8.265625 \r\nQ 44.046875 -1.421875 31.78125 -1.421875 \r\nQ 19.53125 -1.421875 13.0625 8.265625 \r\nQ 6.59375 17.96875 6.59375 36.375 \r\nQ 6.59375 54.828125 13.0625 64.515625 \r\nQ 19.53125 74.21875 31.78125 74.21875 \r\nz\r\n\" id=\"DejaVuSans-48\"/>\r\n      </defs>\r\n      <g transform=\"translate(39.190674 239.238437)scale(0.1 -0.1)\">\r\n       <use xlink:href=\"#DejaVuSans-49\"/>\r\n       <use x=\"63.623047\" xlink:href=\"#DejaVuSans-48\"/>\r\n       <use x=\"127.246094\" xlink:href=\"#DejaVuSans-48\"/>\r\n       <use x=\"190.869141\" xlink:href=\"#DejaVuSans-48\"/>\r\n      </g>\r\n     </g>\r\n    </g>\r\n    <g id=\"xtick_2\">\r\n     <g id=\"line2d_2\">\r\n      <g>\r\n       <use style=\"stroke:#000000;stroke-width:0.8;\" x=\"95.633519\" xlink:href=\"#m87aba1d38d\" y=\"224.64\"/>\r\n      </g>\r\n     </g>\r\n     <g id=\"text_2\">\r\n      <!-- 1500 -->\r\n      <defs>\r\n       <path d=\"M 10.796875 72.90625 \r\nL 49.515625 72.90625 \r\nL 49.515625 64.59375 \r\nL 19.828125 64.59375 \r\nL 19.828125 46.734375 \r\nQ 21.96875 47.46875 24.109375 47.828125 \r\nQ 26.265625 48.1875 28.421875 48.1875 \r\nQ 40.625 48.1875 47.75 41.5 \r\nQ 54.890625 34.8125 54.890625 23.390625 \r\nQ 54.890625 11.625 47.5625 5.09375 \r\nQ 40.234375 -1.421875 26.90625 -1.421875 \r\nQ 22.3125 -1.421875 17.546875 -0.640625 \r\nQ 12.796875 0.140625 7.71875 1.703125 \r\nL 7.71875 11.625 \r\nQ 12.109375 9.234375 16.796875 8.0625 \r\nQ 21.484375 6.890625 26.703125 6.890625 \r\nQ 35.15625 6.890625 40.078125 11.328125 \r\nQ 45.015625 15.765625 45.015625 23.390625 \r\nQ 45.015625 31 40.078125 35.4375 \r\nQ 35.15625 39.890625 26.703125 39.890625 \r\nQ 22.75 39.890625 18.8125 39.015625 \r\nQ 14.890625 38.140625 10.796875 36.28125 \r\nz\r\n\" id=\"DejaVuSans-53\"/>\r\n      </defs>\r\n      <g transform=\"translate(82.908519 239.238437)scale(0.1 -0.1)\">\r\n       <use xlink:href=\"#DejaVuSans-49\"/>\r\n       <use x=\"63.623047\" xlink:href=\"#DejaVuSans-53\"/>\r\n       <use x=\"127.246094\" xlink:href=\"#DejaVuSans-48\"/>\r\n       <use x=\"190.869141\" xlink:href=\"#DejaVuSans-48\"/>\r\n      </g>\r\n     </g>\r\n    </g>\r\n    <g id=\"xtick_3\">\r\n     <g id=\"line2d_3\">\r\n      <g>\r\n       <use style=\"stroke:#000000;stroke-width:0.8;\" x=\"139.351364\" xlink:href=\"#m87aba1d38d\" y=\"224.64\"/>\r\n      </g>\r\n     </g>\r\n     <g id=\"text_3\">\r\n      <!-- 2000 -->\r\n      <defs>\r\n       <path d=\"M 19.1875 8.296875 \r\nL 53.609375 8.296875 \r\nL 53.609375 0 \r\nL 7.328125 0 \r\nL 7.328125 8.296875 \r\nQ 12.9375 14.109375 22.625 23.890625 \r\nQ 32.328125 33.6875 34.8125 36.53125 \r\nQ 39.546875 41.84375 41.421875 45.53125 \r\nQ 43.3125 49.21875 43.3125 52.78125 \r\nQ 43.3125 58.59375 39.234375 62.25 \r\nQ 35.15625 65.921875 28.609375 65.921875 \r\nQ 23.96875 65.921875 18.8125 64.3125 \r\nQ 13.671875 62.703125 7.8125 59.421875 \r\nL 7.8125 69.390625 \r\nQ 13.765625 71.78125 18.9375 73 \r\nQ 24.125 74.21875 28.421875 74.21875 \r\nQ 39.75 74.21875 46.484375 68.546875 \r\nQ 53.21875 62.890625 53.21875 53.421875 \r\nQ 53.21875 48.921875 51.53125 44.890625 \r\nQ 49.859375 40.875 45.40625 35.40625 \r\nQ 44.1875 33.984375 37.640625 27.21875 \r\nQ 31.109375 20.453125 19.1875 8.296875 \r\nz\r\n\" id=\"DejaVuSans-50\"/>\r\n      </defs>\r\n      <g transform=\"translate(126.626364 239.238437)scale(0.1 -0.1)\">\r\n       <use xlink:href=\"#DejaVuSans-50\"/>\r\n       <use x=\"63.623047\" xlink:href=\"#DejaVuSans-48\"/>\r\n       <use x=\"127.246094\" xlink:href=\"#DejaVuSans-48\"/>\r\n       <use x=\"190.869141\" xlink:href=\"#DejaVuSans-48\"/>\r\n      </g>\r\n     </g>\r\n    </g>\r\n    <g id=\"xtick_4\">\r\n     <g id=\"line2d_4\">\r\n      <g>\r\n       <use style=\"stroke:#000000;stroke-width:0.8;\" x=\"183.069208\" xlink:href=\"#m87aba1d38d\" y=\"224.64\"/>\r\n      </g>\r\n     </g>\r\n     <g id=\"text_4\">\r\n      <!-- 2500 -->\r\n      <g transform=\"translate(170.344208 239.238437)scale(0.1 -0.1)\">\r\n       <use xlink:href=\"#DejaVuSans-50\"/>\r\n       <use x=\"63.623047\" xlink:href=\"#DejaVuSans-53\"/>\r\n       <use x=\"127.246094\" xlink:href=\"#DejaVuSans-48\"/>\r\n       <use x=\"190.869141\" xlink:href=\"#DejaVuSans-48\"/>\r\n      </g>\r\n     </g>\r\n    </g>\r\n    <g id=\"xtick_5\">\r\n     <g id=\"line2d_5\">\r\n      <g>\r\n       <use style=\"stroke:#000000;stroke-width:0.8;\" x=\"226.787053\" xlink:href=\"#m87aba1d38d\" y=\"224.64\"/>\r\n      </g>\r\n     </g>\r\n     <g id=\"text_5\">\r\n      <!-- 3000 -->\r\n      <defs>\r\n       <path d=\"M 40.578125 39.3125 \r\nQ 47.65625 37.796875 51.625 33 \r\nQ 55.609375 28.21875 55.609375 21.1875 \r\nQ 55.609375 10.40625 48.1875 4.484375 \r\nQ 40.765625 -1.421875 27.09375 -1.421875 \r\nQ 22.515625 -1.421875 17.65625 -0.515625 \r\nQ 12.796875 0.390625 7.625 2.203125 \r\nL 7.625 11.71875 \r\nQ 11.71875 9.328125 16.59375 8.109375 \r\nQ 21.484375 6.890625 26.8125 6.890625 \r\nQ 36.078125 6.890625 40.9375 10.546875 \r\nQ 45.796875 14.203125 45.796875 21.1875 \r\nQ 45.796875 27.640625 41.28125 31.265625 \r\nQ 36.765625 34.90625 28.71875 34.90625 \r\nL 20.21875 34.90625 \r\nL 20.21875 43.015625 \r\nL 29.109375 43.015625 \r\nQ 36.375 43.015625 40.234375 45.921875 \r\nQ 44.09375 48.828125 44.09375 54.296875 \r\nQ 44.09375 59.90625 40.109375 62.90625 \r\nQ 36.140625 65.921875 28.71875 65.921875 \r\nQ 24.65625 65.921875 20.015625 65.03125 \r\nQ 15.375 64.15625 9.8125 62.3125 \r\nL 9.8125 71.09375 \r\nQ 15.4375 72.65625 20.34375 73.4375 \r\nQ 25.25 74.21875 29.59375 74.21875 \r\nQ 40.828125 74.21875 47.359375 69.109375 \r\nQ 53.90625 64.015625 53.90625 55.328125 \r\nQ 53.90625 49.265625 50.4375 45.09375 \r\nQ 46.96875 40.921875 40.578125 39.3125 \r\nz\r\n\" id=\"DejaVuSans-51\"/>\r\n      </defs>\r\n      <g transform=\"translate(214.062053 239.238437)scale(0.1 -0.1)\">\r\n       <use xlink:href=\"#DejaVuSans-51\"/>\r\n       <use x=\"63.623047\" xlink:href=\"#DejaVuSans-48\"/>\r\n       <use x=\"127.246094\" xlink:href=\"#DejaVuSans-48\"/>\r\n       <use x=\"190.869141\" xlink:href=\"#DejaVuSans-48\"/>\r\n      </g>\r\n     </g>\r\n    </g>\r\n    <g id=\"xtick_6\">\r\n     <g id=\"line2d_6\">\r\n      <g>\r\n       <use style=\"stroke:#000000;stroke-width:0.8;\" x=\"270.504898\" xlink:href=\"#m87aba1d38d\" y=\"224.64\"/>\r\n      </g>\r\n     </g>\r\n     <g id=\"text_6\">\r\n      <!-- 3500 -->\r\n      <g transform=\"translate(257.779898 239.238437)scale(0.1 -0.1)\">\r\n       <use xlink:href=\"#DejaVuSans-51\"/>\r\n       <use x=\"63.623047\" xlink:href=\"#DejaVuSans-53\"/>\r\n       <use x=\"127.246094\" xlink:href=\"#DejaVuSans-48\"/>\r\n       <use x=\"190.869141\" xlink:href=\"#DejaVuSans-48\"/>\r\n      </g>\r\n     </g>\r\n    </g>\r\n    <g id=\"xtick_7\">\r\n     <g id=\"line2d_7\">\r\n      <g>\r\n       <use style=\"stroke:#000000;stroke-width:0.8;\" x=\"314.222743\" xlink:href=\"#m87aba1d38d\" y=\"224.64\"/>\r\n      </g>\r\n     </g>\r\n     <g id=\"text_7\">\r\n      <!-- 4000 -->\r\n      <defs>\r\n       <path d=\"M 37.796875 64.3125 \r\nL 12.890625 25.390625 \r\nL 37.796875 25.390625 \r\nz\r\nM 35.203125 72.90625 \r\nL 47.609375 72.90625 \r\nL 47.609375 25.390625 \r\nL 58.015625 25.390625 \r\nL 58.015625 17.1875 \r\nL 47.609375 17.1875 \r\nL 47.609375 0 \r\nL 37.796875 0 \r\nL 37.796875 17.1875 \r\nL 4.890625 17.1875 \r\nL 4.890625 26.703125 \r\nz\r\n\" id=\"DejaVuSans-52\"/>\r\n      </defs>\r\n      <g transform=\"translate(301.497743 239.238437)scale(0.1 -0.1)\">\r\n       <use xlink:href=\"#DejaVuSans-52\"/>\r\n       <use x=\"63.623047\" xlink:href=\"#DejaVuSans-48\"/>\r\n       <use x=\"127.246094\" xlink:href=\"#DejaVuSans-48\"/>\r\n       <use x=\"190.869141\" xlink:href=\"#DejaVuSans-48\"/>\r\n      </g>\r\n     </g>\r\n    </g>\r\n    <g id=\"xtick_8\">\r\n     <g id=\"line2d_8\">\r\n      <g>\r\n       <use style=\"stroke:#000000;stroke-width:0.8;\" x=\"357.940588\" xlink:href=\"#m87aba1d38d\" y=\"224.64\"/>\r\n      </g>\r\n     </g>\r\n     <g id=\"text_8\">\r\n      <!-- 4500 -->\r\n      <g transform=\"translate(345.215588 239.238437)scale(0.1 -0.1)\">\r\n       <use xlink:href=\"#DejaVuSans-52\"/>\r\n       <use x=\"63.623047\" xlink:href=\"#DejaVuSans-53\"/>\r\n       <use x=\"127.246094\" xlink:href=\"#DejaVuSans-48\"/>\r\n       <use x=\"190.869141\" xlink:href=\"#DejaVuSans-48\"/>\r\n      </g>\r\n     </g>\r\n    </g>\r\n   </g>\r\n   <g id=\"matplotlib.axis_2\">\r\n    <g id=\"ytick_1\">\r\n     <g id=\"line2d_9\">\r\n      <defs>\r\n       <path d=\"M 0 0 \r\nL -3.5 0 \r\n\" id=\"m839671f909\" style=\"stroke:#000000;stroke-width:0.8;\"/>\r\n      </defs>\r\n      <g>\r\n       <use style=\"stroke:#000000;stroke-width:0.8;\" x=\"33.2875\" xlink:href=\"#m839671f909\" y=\"224.64\"/>\r\n      </g>\r\n     </g>\r\n     <g id=\"text_9\">\r\n      <!-- 0 -->\r\n      <g transform=\"translate(19.925 228.439219)scale(0.1 -0.1)\">\r\n       <use xlink:href=\"#DejaVuSans-48\"/>\r\n      </g>\r\n     </g>\r\n    </g>\r\n    <g id=\"ytick_2\">\r\n     <g id=\"line2d_10\">\r\n      <g>\r\n       <use style=\"stroke:#000000;stroke-width:0.8;\" x=\"33.2875\" xlink:href=\"#m839671f909\" y=\"194.627578\"/>\r\n      </g>\r\n     </g>\r\n     <g id=\"text_10\">\r\n      <!-- 20 -->\r\n      <g transform=\"translate(13.5625 198.426796)scale(0.1 -0.1)\">\r\n       <use xlink:href=\"#DejaVuSans-50\"/>\r\n       <use x=\"63.623047\" xlink:href=\"#DejaVuSans-48\"/>\r\n      </g>\r\n     </g>\r\n    </g>\r\n    <g id=\"ytick_3\">\r\n     <g id=\"line2d_11\">\r\n      <g>\r\n       <use style=\"stroke:#000000;stroke-width:0.8;\" x=\"33.2875\" xlink:href=\"#m839671f909\" y=\"164.615155\"/>\r\n      </g>\r\n     </g>\r\n     <g id=\"text_11\">\r\n      <!-- 40 -->\r\n      <g transform=\"translate(13.5625 168.414374)scale(0.1 -0.1)\">\r\n       <use xlink:href=\"#DejaVuSans-52\"/>\r\n       <use x=\"63.623047\" xlink:href=\"#DejaVuSans-48\"/>\r\n      </g>\r\n     </g>\r\n    </g>\r\n    <g id=\"ytick_4\">\r\n     <g id=\"line2d_12\">\r\n      <g>\r\n       <use style=\"stroke:#000000;stroke-width:0.8;\" x=\"33.2875\" xlink:href=\"#m839671f909\" y=\"134.602733\"/>\r\n      </g>\r\n     </g>\r\n     <g id=\"text_12\">\r\n      <!-- 60 -->\r\n      <defs>\r\n       <path d=\"M 33.015625 40.375 \r\nQ 26.375 40.375 22.484375 35.828125 \r\nQ 18.609375 31.296875 18.609375 23.390625 \r\nQ 18.609375 15.53125 22.484375 10.953125 \r\nQ 26.375 6.390625 33.015625 6.390625 \r\nQ 39.65625 6.390625 43.53125 10.953125 \r\nQ 47.40625 15.53125 47.40625 23.390625 \r\nQ 47.40625 31.296875 43.53125 35.828125 \r\nQ 39.65625 40.375 33.015625 40.375 \r\nz\r\nM 52.59375 71.296875 \r\nL 52.59375 62.3125 \r\nQ 48.875 64.0625 45.09375 64.984375 \r\nQ 41.3125 65.921875 37.59375 65.921875 \r\nQ 27.828125 65.921875 22.671875 59.328125 \r\nQ 17.53125 52.734375 16.796875 39.40625 \r\nQ 19.671875 43.65625 24.015625 45.921875 \r\nQ 28.375 48.1875 33.59375 48.1875 \r\nQ 44.578125 48.1875 50.953125 41.515625 \r\nQ 57.328125 34.859375 57.328125 23.390625 \r\nQ 57.328125 12.15625 50.6875 5.359375 \r\nQ 44.046875 -1.421875 33.015625 -1.421875 \r\nQ 20.359375 -1.421875 13.671875 8.265625 \r\nQ 6.984375 17.96875 6.984375 36.375 \r\nQ 6.984375 53.65625 15.1875 63.9375 \r\nQ 23.390625 74.21875 37.203125 74.21875 \r\nQ 40.921875 74.21875 44.703125 73.484375 \r\nQ 48.484375 72.75 52.59375 71.296875 \r\nz\r\n\" id=\"DejaVuSans-54\"/>\r\n      </defs>\r\n      <g transform=\"translate(13.5625 138.401952)scale(0.1 -0.1)\">\r\n       <use xlink:href=\"#DejaVuSans-54\"/>\r\n       <use x=\"63.623047\" xlink:href=\"#DejaVuSans-48\"/>\r\n      </g>\r\n     </g>\r\n    </g>\r\n    <g id=\"ytick_5\">\r\n     <g id=\"line2d_13\">\r\n      <g>\r\n       <use style=\"stroke:#000000;stroke-width:0.8;\" x=\"33.2875\" xlink:href=\"#m839671f909\" y=\"104.590311\"/>\r\n      </g>\r\n     </g>\r\n     <g id=\"text_13\">\r\n      <!-- 80 -->\r\n      <defs>\r\n       <path d=\"M 31.78125 34.625 \r\nQ 24.75 34.625 20.71875 30.859375 \r\nQ 16.703125 27.09375 16.703125 20.515625 \r\nQ 16.703125 13.921875 20.71875 10.15625 \r\nQ 24.75 6.390625 31.78125 6.390625 \r\nQ 38.8125 6.390625 42.859375 10.171875 \r\nQ 46.921875 13.96875 46.921875 20.515625 \r\nQ 46.921875 27.09375 42.890625 30.859375 \r\nQ 38.875 34.625 31.78125 34.625 \r\nz\r\nM 21.921875 38.8125 \r\nQ 15.578125 40.375 12.03125 44.71875 \r\nQ 8.5 49.078125 8.5 55.328125 \r\nQ 8.5 64.0625 14.71875 69.140625 \r\nQ 20.953125 74.21875 31.78125 74.21875 \r\nQ 42.671875 74.21875 48.875 69.140625 \r\nQ 55.078125 64.0625 55.078125 55.328125 \r\nQ 55.078125 49.078125 51.53125 44.71875 \r\nQ 48 40.375 41.703125 38.8125 \r\nQ 48.828125 37.15625 52.796875 32.3125 \r\nQ 56.78125 27.484375 56.78125 20.515625 \r\nQ 56.78125 9.90625 50.3125 4.234375 \r\nQ 43.84375 -1.421875 31.78125 -1.421875 \r\nQ 19.734375 -1.421875 13.25 4.234375 \r\nQ 6.78125 9.90625 6.78125 20.515625 \r\nQ 6.78125 27.484375 10.78125 32.3125 \r\nQ 14.796875 37.15625 21.921875 38.8125 \r\nz\r\nM 18.3125 54.390625 \r\nQ 18.3125 48.734375 21.84375 45.5625 \r\nQ 25.390625 42.390625 31.78125 42.390625 \r\nQ 38.140625 42.390625 41.71875 45.5625 \r\nQ 45.3125 48.734375 45.3125 54.390625 \r\nQ 45.3125 60.0625 41.71875 63.234375 \r\nQ 38.140625 66.40625 31.78125 66.40625 \r\nQ 25.390625 66.40625 21.84375 63.234375 \r\nQ 18.3125 60.0625 18.3125 54.390625 \r\nz\r\n\" id=\"DejaVuSans-56\"/>\r\n      </defs>\r\n      <g transform=\"translate(13.5625 108.389529)scale(0.1 -0.1)\">\r\n       <use xlink:href=\"#DejaVuSans-56\"/>\r\n       <use x=\"63.623047\" xlink:href=\"#DejaVuSans-48\"/>\r\n      </g>\r\n     </g>\r\n    </g>\r\n    <g id=\"ytick_6\">\r\n     <g id=\"line2d_14\">\r\n      <g>\r\n       <use style=\"stroke:#000000;stroke-width:0.8;\" x=\"33.2875\" xlink:href=\"#m839671f909\" y=\"74.577888\"/>\r\n      </g>\r\n     </g>\r\n     <g id=\"text_14\">\r\n      <!-- 100 -->\r\n      <g transform=\"translate(7.2 78.377107)scale(0.1 -0.1)\">\r\n       <use xlink:href=\"#DejaVuSans-49\"/>\r\n       <use x=\"63.623047\" xlink:href=\"#DejaVuSans-48\"/>\r\n       <use x=\"127.246094\" xlink:href=\"#DejaVuSans-48\"/>\r\n      </g>\r\n     </g>\r\n    </g>\r\n    <g id=\"ytick_7\">\r\n     <g id=\"line2d_15\">\r\n      <g>\r\n       <use style=\"stroke:#000000;stroke-width:0.8;\" x=\"33.2875\" xlink:href=\"#m839671f909\" y=\"44.565466\"/>\r\n      </g>\r\n     </g>\r\n     <g id=\"text_15\">\r\n      <!-- 120 -->\r\n      <g transform=\"translate(7.2 48.364685)scale(0.1 -0.1)\">\r\n       <use xlink:href=\"#DejaVuSans-49\"/>\r\n       <use x=\"63.623047\" xlink:href=\"#DejaVuSans-50\"/>\r\n       <use x=\"127.246094\" xlink:href=\"#DejaVuSans-48\"/>\r\n      </g>\r\n     </g>\r\n    </g>\r\n    <g id=\"ytick_8\">\r\n     <g id=\"line2d_16\">\r\n      <g>\r\n       <use style=\"stroke:#000000;stroke-width:0.8;\" x=\"33.2875\" xlink:href=\"#m839671f909\" y=\"14.553043\"/>\r\n      </g>\r\n     </g>\r\n     <g id=\"text_16\">\r\n      <!-- 140 -->\r\n      <g transform=\"translate(7.2 18.352262)scale(0.1 -0.1)\">\r\n       <use xlink:href=\"#DejaVuSans-49\"/>\r\n       <use x=\"63.623047\" xlink:href=\"#DejaVuSans-52\"/>\r\n       <use x=\"127.246094\" xlink:href=\"#DejaVuSans-48\"/>\r\n      </g>\r\n     </g>\r\n    </g>\r\n   </g>\r\n   <g id=\"patch_53\">\r\n    <path d=\"M 33.2875 224.64 \r\nL 33.2875 7.2 \r\n\" style=\"fill:none;stroke:#000000;stroke-linecap:square;stroke-linejoin:miter;stroke-width:0.8;\"/>\r\n   </g>\r\n   <g id=\"patch_54\">\r\n    <path d=\"M 368.0875 224.64 \r\nL 368.0875 7.2 \r\n\" style=\"fill:none;stroke:#000000;stroke-linecap:square;stroke-linejoin:miter;stroke-width:0.8;\"/>\r\n   </g>\r\n   <g id=\"patch_55\">\r\n    <path d=\"M 33.2875 224.64 \r\nL 368.0875 224.64 \r\n\" style=\"fill:none;stroke:#000000;stroke-linecap:square;stroke-linejoin:miter;stroke-width:0.8;\"/>\r\n   </g>\r\n   <g id=\"patch_56\">\r\n    <path d=\"M 33.2875 7.2 \r\nL 368.0875 7.2 \r\n\" style=\"fill:none;stroke:#000000;stroke-linecap:square;stroke-linejoin:miter;stroke-width:0.8;\"/>\r\n   </g>\r\n  </g>\r\n </g>\r\n <defs>\r\n  <clipPath id=\"pdc31b9bcc7\">\r\n   <rect height=\"217.44\" width=\"334.8\" x=\"33.2875\" y=\"7.2\"/>\r\n  </clipPath>\r\n </defs>\r\n</svg>\r\n",
      "image/png": "[encoded data removed]"
     },
     "metadata": {
      "needs_background": "light"
     }
    }
   ],
   "source": [
    "import matplotlib.pylab as plt\n",
    "plt.hist(templst, bins=50)"
   ]
  },
  {
   "cell_type": "code",
   "execution_count": null,
   "metadata": {},
   "outputs": [],
   "source": []
  },
  {
   "cell_type": "code",
   "execution_count": 8,
   "metadata": {},
   "outputs": [],
   "source": [
    "hour = 0\n",
    "minute = 0\n",
    "second = 0"
   ]
  },
  {
   "cell_type": "code",
   "execution_count": 9,
   "metadata": {},
   "outputs": [],
   "source": [
    "for i in temp:\n",
    "    minute += int(i[:2])\n",
    "    second += int(i[4:6])\n"
   ]
  },
  {
   "cell_type": "code",
   "execution_count": 10,
   "metadata": {},
   "outputs": [
    {
     "output_type": "execute_result",
     "data": {
      "text/plain": "(57828, 50129)"
     },
     "metadata": {},
     "execution_count": 10
    }
   ],
   "source": [
    "minute, second"
   ]
  },
  {
   "cell_type": "code",
   "execution_count": null,
   "metadata": {},
   "outputs": [],
   "source": [
    "minute/60"
   ]
  },
  {
   "cell_type": "code",
   "execution_count": null,
   "metadata": {},
   "outputs": [],
   "source": [
    "(second/60)"
   ]
  },
  {
   "cell_type": "code",
   "execution_count": null,
   "metadata": {},
   "outputs": [],
   "source": [
    "len(temp)"
   ]
  },
  {
   "cell_type": "code",
   "execution_count": null,
   "metadata": {},
   "outputs": [],
   "source": [
    "# 977시간 56분 30초"
   ]
  },
  {
   "cell_type": "code",
   "execution_count": null,
   "metadata": {},
   "outputs": [],
   "source": [
    "978/1725"
   ]
  },
  {
   "cell_type": "code",
   "execution_count": 8,
   "metadata": {},
   "outputs": [],
   "source": [
    "temp_df = pd.DataFrame(columns=['time'])"
   ]
  },
  {
   "cell_type": "code",
   "execution_count": 11,
   "metadata": {},
   "outputs": [
    {
     "output_type": "error",
     "ename": "ValueError",
     "evalue": "Length of passed values is 1725, index implies 1.",
     "traceback": [
      "\u001b[1;31m---------------------------------------------------------------------------\u001b[0m",
      "\u001b[1;31mValueError\u001b[0m                                Traceback (most recent call last)",
      "\u001b[1;32m<ipython-input-11-eaa577b384b8>\u001b[0m in \u001b[0;36m<module>\u001b[1;34m\u001b[0m\n\u001b[1;32m----> 1\u001b[1;33m \u001b[0ma\u001b[0m \u001b[1;33m=\u001b[0m \u001b[0mpd\u001b[0m\u001b[1;33m.\u001b[0m\u001b[0mSeries\u001b[0m\u001b[1;33m(\u001b[0m\u001b[0mtemp\u001b[0m\u001b[1;33m,\u001b[0m \u001b[0mindex\u001b[0m\u001b[1;33m=\u001b[0m\u001b[0mtemp_df\u001b[0m\u001b[1;33m.\u001b[0m\u001b[0mcolumns\u001b[0m\u001b[1;33m)\u001b[0m\u001b[1;33m\u001b[0m\u001b[1;33m\u001b[0m\u001b[0m\n\u001b[0m",
      "\u001b[1;32m~\\Anaconda3\\envs\\lrcn\\lib\\site-packages\\pandas\\core\\series.py\u001b[0m in \u001b[0;36m__init__\u001b[1;34m(self, data, index, dtype, name, copy, fastpath)\u001b[0m\n\u001b[0;32m    290\u001b[0m                     \u001b[1;32mif\u001b[0m \u001b[0mlen\u001b[0m\u001b[1;33m(\u001b[0m\u001b[0mindex\u001b[0m\u001b[1;33m)\u001b[0m \u001b[1;33m!=\u001b[0m \u001b[0mlen\u001b[0m\u001b[1;33m(\u001b[0m\u001b[0mdata\u001b[0m\u001b[1;33m)\u001b[0m\u001b[1;33m:\u001b[0m\u001b[1;33m\u001b[0m\u001b[1;33m\u001b[0m\u001b[0m\n\u001b[0;32m    291\u001b[0m                         raise ValueError(\n\u001b[1;32m--> 292\u001b[1;33m                             \u001b[1;34mf\"Length of passed values is {len(data)}, \"\u001b[0m\u001b[1;33m\u001b[0m\u001b[1;33m\u001b[0m\u001b[0m\n\u001b[0m\u001b[0;32m    293\u001b[0m                             \u001b[1;34mf\"index implies {len(index)}.\"\u001b[0m\u001b[1;33m\u001b[0m\u001b[1;33m\u001b[0m\u001b[0m\n\u001b[0;32m    294\u001b[0m                         )\n",
      "\u001b[1;31mValueError\u001b[0m: Length of passed values is 1725, index implies 1."
     ]
    }
   ],
   "source": [
    "a = pd.Series(temp, index=temp_df.columns)"
   ]
  },
  {
   "cell_type": "code",
   "execution_count": null,
   "metadata": {},
   "outputs": [],
   "source": []
  }
 ],
 "metadata": {
  "language_info": {
   "name": "python",
   "codemirror_mode": {
    "name": "ipython",
    "version": 3
   },
   "version": "3.7.7-final"
  },
  "orig_nbformat": 2,
  "file_extension": ".py",
  "mimetype": "text/x-python",
  "name": "python",
  "npconvert_exporter": "python",
  "pygments_lexer": "ipython3",
  "version": 3,
  "kernelspec": {
   "name": "python3",
   "display_name": "Python 3"
  }
 },
 "nbformat": 4,
 "nbformat_minor": 2
}