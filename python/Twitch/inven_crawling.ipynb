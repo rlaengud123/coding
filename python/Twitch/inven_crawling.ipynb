{
 "nbformat": 4,
 "nbformat_minor": 2,
 "metadata": {
  "language_info": {
   "name": "python",
   "codemirror_mode": {
    "name": "ipython",
    "version": 3
   },
   "version": "3.7.6-final"
  },
  "orig_nbformat": 2,
  "file_extension": ".py",
  "mimetype": "text/x-python",
  "name": "python",
  "npconvert_exporter": "python",
  "pygments_lexer": "ipython3",
  "version": 3,
  "kernelspec": {
   "name": "python37664bitlrcnconda81488d0fdaed43d5852de4dbfc33ce1f",
   "display_name": "Python 3.7.6 64-bit ('lrcn': conda)"
  }
 },
 "cells": [
  {
   "cell_type": "code",
   "execution_count": 2,
   "metadata": {},
   "outputs": [],
   "source": [
    "f = open(\"./team.txt\", 'r', encoding='UTF8')\n",
    "line = f.read()"
   ]
  },
  {
   "cell_type": "code",
   "execution_count": 382,
   "metadata": {},
   "outputs": [
    {
     "output_type": "error",
     "ename": "SyntaxError",
     "evalue": "invalid syntax (<ipython-input-382-619293ca200b>, line 2)",
     "traceback": [
      "\u001b[1;36m  File \u001b[1;32m\"<ipython-input-382-619293ca200b>\"\u001b[1;36m, line \u001b[1;32m2\u001b[0m\n\u001b[1;33m    import pandas as pd|\u001b[0m\n\u001b[1;37m                       ^\u001b[0m\n\u001b[1;31mSyntaxError\u001b[0m\u001b[1;31m:\u001b[0m invalid syntax\n"
     ]
    }
   ],
   "source": [
    "list_full = list(line.split('<'))"
   ]
  },
  {
   "cell_type": "code",
   "execution_count": 9,
   "metadata": {},
   "outputs": [],
   "source": [
    "import time\n",
    "from selenium import webdriver\n",
    "import requests\n",
    "from bs4 import BeautifulSoup\n",
    "import pandas as pd\n",
    "\n",
    "\n",
    "list_full = []\n",
    "driver = webdriver.Firefox()\n",
    "df = pd.DataFrame(columns=['team', 'cp1','cp2','cp3','cp4','cp5','pl1','pl2','pl3','pl4','pl5','score','date','stage','title'])\n",
    "\n",
    "\n",
    "\n",
    "for i in range(1,50):\n",
    "    driver.get('http://lol.inven.co.kr/dataninfo/match/teamList.php?pg=' + str(i));   \n",
    "    res = driver.page_source\n",
    "    soup = BeautifulSoup(res, 'html.parser')\n",
    "    title = soup.find(id='lolDbMatchTeamList')\n",
    "\n",
    "    list_page = []\n",
    "    for j in title:\n",
    "        list_page.append(str(j))\n",
    "    match_list = []\n",
    "    for k in list_page:\n",
    "        if 'listFrame' in k:\n",
    "            match_list.append(k.split('listFrame')[1].split('id=\"')[1].split('>')[0].split('\"')[0])\n",
    "\n",
    "    time.sleep(2)\t\t\t\t\n",
    "    for l in match_list:\n",
    "        search_box = driver.find_element_by_xpath('//*[@id=\"{}\"]/div[5]/a'.format(l))  \n",
    "        search_box.send_keys('\\n')\t\t\n",
    "        search_box.click()\t\t\t\n",
    "\n",
    "\n",
    "    res2 = driver.page_source\n",
    "    soup2 = BeautifulSoup(res2, 'html.parser')\n",
    "    title2 = soup2.find(id='lolDbMatchTeamList')\n",
    "\n",
    "    \n",
    "    for m in range(0,25):\n",
    "        list_left = []\n",
    "        list_right = []\n",
    "\n",
    "        lTeam = str(soup2.find_all(class_='lTeam')[m]).split('<') #0부터 24까지\n",
    "        for i in lTeam:\n",
    "            if 'teamname' in i:\n",
    "                list_right.append(i.split('>')[1])\n",
    "\n",
    "\n",
    "        wTeam = str(soup2.find_all(class_='wTeam')[m]).split('<')\n",
    "        for i in wTeam:\n",
    "            if 'teamname' in i:\n",
    "                list_left.append(i.split('>')[1])\n",
    "\n",
    "\n",
    "        left = str(soup2.find_all(class_='left')[m]).split('<')\n",
    "        for i in left:\n",
    "            if 'champicon' in i:\n",
    "                list_left.append(i.split('(')[2].split(')')[0].split('\\'')[1])\n",
    "        for i in left:\n",
    "            if 'playername color1' in i:\n",
    "                list_left.append(i.split('>')[1])\n",
    "\n",
    "        right = str(soup2.find_all(class_='right')[m]).split('<')\n",
    "        for i in right:\n",
    "            if 'champicon' in i:\n",
    "                list_right.append(i.split('(')[2].split(')')[0].split('\\'')[1])\n",
    "        for i in right:\n",
    "            if 'playername color2' in i:\n",
    "                list_right.append(i.split('>')[1])\n",
    "        for i in lTeam:\n",
    "            if 'color2 tx5' in i:\n",
    "                list_right.append(i.split('>')[1])\n",
    "\n",
    "        for i in wTeam:\n",
    "            if 'color1 tx5' in i:\n",
    "                list_left.append(i.split('>')[1])\n",
    "\n",
    "        listTop = str(soup2.find_all(class_='listTop')[m]).split('<')\n",
    "        for i in listTop:\n",
    "            if 'title' in i:\n",
    "                list_left.append(i.split('>')[1])\n",
    "                list_right.append(i.split('>')[1])\n",
    "            if 'date' in i:\n",
    "                list_left.append(i.split('>')[1])\n",
    "                list_right.append(i.split('>')[1])\n",
    "            if 'stage' in i:\n",
    "                list_left.append(i.split('>')[1])\n",
    "                list_right.append(i.split('>')[1])\n",
    "\n",
    "        a_series1 = pd.Series(list_right, index = df.columns)\n",
    "        a_series2 = pd.Series(list_left, index = df.columns)\n",
    "        df = df.append(a_series1, ignore_index=True)\n",
    "        df = df.append(a_series2, ignore_index=True)\n",
    "\n",
    "    list_full.append(str(title2))\n",
    "\n"
   ]
  },
  {
   "cell_type": "code",
   "execution_count": 12,
   "metadata": {},
   "outputs": [],
   "source": [
    "df.to_csv(\"./result.csv\",index=False, encoding='utf-8-sig')"
   ]
  },
  {
   "cell_type": "code",
   "execution_count": 7,
   "metadata": {},
   "outputs": [],
   "source": [
    "import pandas as pd\n",
    "df = pd.DataFrame(columns=['team', 'cp1','cp2','cp3','cp4','cp5','pl1','pl2','pl3','pl4','pl5','score','date','stage','title'])\n",
    "for m in range(0,25):\n",
    "    list_left = []\n",
    "    list_right = []\n",
    "\n",
    "    lTeam = str(soup2.find_all(class_='lTeam')[m]).split('<') #0부터 24까지\n",
    "    for i in lTeam:\n",
    "        if 'teamname' in i:\n",
    "            list_right.append(i.split('>')[1])\n",
    "\n",
    "\n",
    "    wTeam = str(soup2.find_all(class_='wTeam')[m]).split('<')\n",
    "    for i in wTeam:\n",
    "        if 'teamname' in i:\n",
    "            list_left.append(i.split('>')[1])\n",
    "\n",
    "\n",
    "    left = str(soup2.find_all(class_='left')[m]).split('<')\n",
    "    for i in left:\n",
    "        if 'champicon' in i:\n",
    "            list_left.append(i.split('(')[2].split(')')[0].split('\\'')[1])\n",
    "    for i in left:\n",
    "        if 'playername color1' in i:\n",
    "            list_left.append(i.split('>')[1])\n",
    "\n",
    "    right = str(soup2.find_all(class_='right')[m]).split('<')\n",
    "    for i in right:\n",
    "         if 'champicon' in i:\n",
    "             list_right.append(i.split('(')[2].split(')')[0].split('\\'')[1])\n",
    "    for i in right:\n",
    "         if 'playername color2' in i:\n",
    "             list_right.append(i.split('>')[1])\n",
    "    for i in lTeam:\n",
    "         if 'color2 tx5' in i:\n",
    "             list_right.append(i.split('>')[1])\n",
    "\n",
    "    for i in wTeam:\n",
    "         if 'color1 tx5' in i:\n",
    "             list_left.append(i.split('>')[1])\n",
    "\n",
    "    listTop = str(soup2.find_all(class_='listTop')[m]).split('<')\n",
    "    for i in listTop:\n",
    "         if 'title' in i:\n",
    "             list_left.append(i.split('>')[1])\n",
    "             list_right.append(i.split('>')[1])\n",
    "         if 'date' in i:\n",
    "             list_left.append(i.split('>')[1])\n",
    "             list_right.append(i.split('>')[1])\n",
    "         if 'stage' in i:\n",
    "             list_left.append(i.split('>')[1])\n",
    "             list_right.append(i.split('>')[1])\n",
    "\n",
    "    a_series1 = pd.Series(list_right, index = df.columns)\n",
    "    a_series2 = pd.Series(list_left, index = df.columns)\n",
    "    df = df.append(a_series1, ignore_index=True)\n",
    "    df = df.append(a_series2, ignore_index=True)"
   ]
  },
  {
   "cell_type": "code",
   "execution_count": 8,
   "metadata": {},
   "outputs": [
    {
     "output_type": "execute_result",
     "data": {
      "text/plain": "                   team    cp1     cp2   cp3    cp4     cp5         pl1  \\\n0            APK Prince    사이온  자르반 4세   르블랑  미스 포츈    노틸러스   APK ikssu   \n1               DragonX    제이스    세주아니  사일러스    바루스    모르가나   DRX Doran   \n2               DragonX   아트록스    세주아니   아지르   칼리스타  블리츠크랭크   DRX Doran   \n3            APK Prince    판테온     엘리스    에코  아펠리오스     쓰레쉬   APK ikssu   \n4            APK Prince     오른  자르반 4세   르블랑    트위치      유미   APK ikssu   \n5               DragonX    아칼리    세주아니  아트록스  아펠리오스    알리스타   DRX Doran   \n6               Griffin     럼블  자르반 4세    조이   칼리스타      타릭   GRF Sword   \n7   Hanwha Life Esports   사일러스     렉사이   아칼리  아펠리오스     브라움   HLE CuVee   \n8   Hanwha Life Esports     나르     트런들    조이     세나    마오카이   HLE CuVee   \n9               Griffin  블라디미르      세트   코르키    바루스    탐 켄치  GRF Untara   \n10       SANDBOX Gaming    루시안     트런들   신드라  미스 포츈      타릭   SB Summit   \n11        DAMWON Gaming    제이스     올라프    조이   칼리스타      바드  DWG Nuguri   \n12        DAMWON Gaming    제이스     올라프   갈리오    바루스     쓰레쉬  DWG Nuguri   \n13       SANDBOX Gaming     오른     리 신   르블랑   칼리스타     브라움   SB Summit   \n14       SANDBOX Gaming   아트록스     트런들   르블랑  미스 포츈      라칸   SB Summit   \n15        DAMWON Gaming     세트    세주아니   코르키   이즈리얼      타릭  DWG Nuguri   \n16                   T1    제이스     트런들   아지르  미스 포츈     브라움    T1 Canna   \n17       Afreeca Freecs     케넨   그레이브즈    럼블    바루스      타릭     AF Kiin   \n18       Afreeca Freecs    제이스     트런들   신드라    시비르     브라움     AF Kiin   \n19                   T1    루시안    그라가스   아칼리    바루스    알리스타    T1 Canna   \n20           kt Rolster  모데카이저    세주아니   질리언    바루스      타릭   KT SoHwan   \n21        Gen.G eSports     오른     렉사이   아지르   칼리스타      라칸  GEN Rascal   \n22        Gen.G eSports     오른     렉사이  사일러스   칼리스타      세트  GEN Rascal   \n23           kt Rolster      쉔  자르반 4세   갈리오  아펠리오스     브라움      KT Ray   \n24           kt Rolster    제이스    세주아니   벨코즈    바루스     브라움   KT SoHwan   \n25        Gen.G eSports     세트    사일러스   아지르   칼리스타      타릭  GEN Rascal   \n26        Gen.G eSports     오른  자르반 4세  사일러스  미스 포츈      바드  GEN Rascal   \n27  Hanwha Life Esports   갱플랭크    세주아니   르블랑    바루스      타릭   HLE CuVee   \n28  Hanwha Life Esports     케일     렉사이   르블랑    바루스     브라움   HLE CuVee   \n29        Gen.G eSports     오른  자르반 4세    조이  미스 포츈      라칸  GEN Rascal   \n30        Gen.G eSports   아트록스     트런들   아지르  아펠리오스     브라움  GEN Rascal   \n31  Hanwha Life Esports     나르     엘리스    조이   칼리스타      타릭   HLE CuVee   \n32       Afreeca Freecs     오른  자르반 4세   갈리오  미스 포츈    노틸러스     AF Kiin   \n33              DragonX   사일러스     올라프  아트록스    바루스    모르가나   DRX Doran   \n34              DragonX   이렐리아  자르반 4세   르블랑    바루스     쓰레쉬   DRX Doran   \n35       Afreeca Freecs    제이스     트런들   갈리오   칼리스타      타릭     AF Kiin   \n36       Afreeca Freecs    제이스  자르반 4세  애니비아     세나    노틸러스     AF Kiin   \n37              DragonX     오른     올라프   아지르    바루스    모르가나   DRX Doran   \n38       SANDBOX Gaming     오른  자르반 4세   코르키   이즈리얼    노틸러스   SB Summit   \n39           kt Rolster   아트록스     올라프   아지르  미스 포츈      유미   KT SoHwan   \n40           kt Rolster     오른     트런들   질리언  미스 포츈      유미   KT SoHwan   \n41       SANDBOX Gaming   아트록스     렉사이   아지르    바루스     카르마   SB Summit   \n42  Hanwha Life Esports     케넨     엘리스    조이  미스 포츈      타릭   HLE CuVee   \n43           APK Prince   아트록스     트런들   르블랑   이즈리얼     브라움   APK ikssu   \n44           APK Prince     럼블     트런들  이렐리아  미스 포츈     브라움   APK ikssu   \n45  Hanwha Life Esports     나르     엘리스    조이   칼리스타      타릭   HLE CuVee   \n46  Hanwha Life Esports     케넨    그라가스    조이  미스 포츈      타릭   HLE CuVee   \n47           APK Prince   아트록스     트런들   르블랑   이즈리얼     브라움   APK ikssu   \n48                   T1     세트     올라프   카사딘    카이사    알리스타    T1 Canna   \n49           kt Rolster     케넨  자르반 4세   아지르  미스 포츈      타릭   KT SoHwan   \n\n             pl2            pl3         pl4          pl5 score        date  \\\n0   APK Flawless      APK Cover  APK HyBrid   APK Secret     L  2020.04.16   \n1     DRX Pyosik      DRX Chovy    DRX Deft    DRX Keria     W  2020.04.16   \n2     DRX Pyosik      DRX Chovy    DRX Deft    DRX Keria     L  2020.04.16   \n3   APK Flawless     APK Cover5  APK HyBrid   APK Secret     W  2020.04.16   \n4   APK Flawless      APK Cover  APK HyBrid   APK Secret     L  2020.04.16   \n5     DRX Pyosik      DRX Chovy    DRX Deft    DRX Keria     W  2020.04.16   \n6     GRF Tarzan       GRF Ucal   GRF Viper    GRF Irove     W  2020.04.16   \n7       HLE Haru       HLE Lava    HLE Vsta  HLE Lehends     L  2020.04.16   \n8       HLE Haru       HLE Lava    HLE Vsta  HLE Lehends     L  2020.04.16   \n9     GRF Tarzan       GRF Ucal   GRF Viper    GRF Irove     W  2020.04.16   \n10    SB OnFleek        SB Fate      SB Leo   SB GorillA     L  2020.04.15   \n11    DWG Canyon  DWG ShowMaker   DWG Ghost    DWG BeryL     W  2020.04.15   \n12    DWG Canyon  DWG ShowMaker   DWG Ghost    DWG BeryL     W  2020.04.15   \n13    SB OnFleek        SB Fate      SB Leo   SB GorillA     L  2020.04.15   \n14    SB OnFleek        SB Fate      SB Leo   SB GorillA     W  2020.04.15   \n15    DWG Canyon  DWG ShowMaker   DWG Ghost    DWG BeryL     L  2020.04.15   \n16       T1 Cuzz       T1 Faker    T1 Teddy    T1 Effort     W  2020.04.15   \n17     AF Spirit      AF All IN   AF Mystic     AF Jelly     L  2020.04.15   \n18     AF Spirit      AF All IN   AF Mystic     AF Jelly     L  2020.04.15   \n19       T1 Cuzz       T1 Faker    T1 Teddy    T1 Effort     W  2020.04.15   \n20       KT Bono        KT Kuro   KT Aiming     KT TusiN     L  2020.04.15   \n21      GEN Clid        GEN BDD   GEN Ruler     GEN Life     W  2020.04.15   \n22      GEN Clid        GEN BDD   GEN Ruler     GEN Life     W  2020.04.15   \n23    KT Malrang        KT Kuro   KT Aiming     KT TusiN     L  2020.04.15   \n24       KT Bono        KT Kuro   KT Aiming     KT TusiN     W  2020.04.15   \n25      GEN Clid        GEN BDD   GEN Ruler   GEN Kellin     L  2020.04.15   \n26      GEN Clid        GEN BDD   GEN Ruler     GEN Life     L  2020.04.12   \n27      HLE Haru       HLE Lava    HLE Vsta  HLE Lehends     W  2020.04.12   \n28      HLE Haru       HLE Lava    HLE Vsta  HLE Lehends     W  2020.04.12   \n29      GEN Clid        GEN BDD   GEN Ruler     GEN Life     L  2020.04.12   \n30      GEN Clid        GEN BDD   GEN Ruler     GEN Life     W  2020.04.12   \n31      HLE Haru      HLE Tempt    HLE Vsta  HLE Lehends     L  2020.04.12   \n32     AF Spirit      AF All IN   AF Mystic     AF Jelly     L  2020.04.12   \n33    DRX Pyosik      DRX Chovy    DRX Deft    DRX Keria     W  2020.04.12   \n34    DRX Pyosik      DRX Chovy    DRX Deft    DRX Keria     L  2020.04.12   \n35     AF Spirit      AF All IN   AF Mystic     AF Jelly     W  2020.04.12   \n36     AF Spirit      AF All IN   AF Mystic     AF Jelly     L  2020.04.12   \n37    DRX Pyosik      DRX Chovy    DRX Deft    DRX Keria     W  2020.04.12   \n38    SB OnFleek        SB Dove    SB Route   SB GorillA     L  2020.04.11   \n39       KT Bono        KT Kuro   KT Aiming     KT TusiN     W  2020.04.11   \n40       KT Bono        KT Kuro   KT Aiming     KT TusiN     W  2020.04.11   \n41    SB OnFleek        SB Dove    SB Route   SB GorillA     L  2020.04.11   \n42      HLE Haru      HLE Tempt    HLE Vsta  HLE Lehends     L  2020.04.11   \n43  APK Flawless      APK Cover  APK HyBrid   APK Secret     W  2020.04.11   \n44  APK Flawless      APK Cover  APK HyBrid   APK Secret     L  2020.04.11   \n45      HLE Haru      HLE Tempt    HLE Vsta  HLE Lehends     W  2020.04.11   \n46      HLE Haru      HLE Tempt    HLE Vsta  HLE Lehends     L  2020.04.11   \n47  APK Flawless      APK Cover  APK HyBrid   APK Secret     W  2020.04.11   \n48       T1 Cuzz       T1 Faker    T1 Teddy    T1 Effort     L  2020.04.10   \n49       KT Bono        KT Kuro   KT Aiming     KT TusiN     W  2020.04.10   \n\n                          stage         title  \n0   2020 LoL 챔피언스 코리아 스프링 정규 시즌  40일차 2경기 3세트  \n1   2020 LoL 챔피언스 코리아 스프링 정규 시즌  40일차 2경기 3세트  \n2   2020 LoL 챔피언스 코리아 스프링 정규 시즌  40일차 2경기 2세트  \n3   2020 LoL 챔피언스 코리아 스프링 정규 시즌  40일차 2경기 2세트  \n4   2020 LoL 챔피언스 코리아 스프링 정규 시즌  40일차 2경기 1세트  \n5   2020 LoL 챔피언스 코리아 스프링 정규 시즌  40일차 2경기 1세트  \n6   2020 LoL 챔피언스 코리아 스프링 정규 시즌  40일차 1경기 2세트  \n7   2020 LoL 챔피언스 코리아 스프링 정규 시즌  40일차 1경기 2세트  \n8   2020 LoL 챔피언스 코리아 스프링 정규 시즌  40일차 1경기 1세트  \n9   2020 LoL 챔피언스 코리아 스프링 정규 시즌  40일차 1경기 1세트  \n10  2020 LoL 챔피언스 코리아 스프링 정규 시즌  39일차 3경기 3세트  \n11  2020 LoL 챔피언스 코리아 스프링 정규 시즌  39일차 3경기 3세트  \n12  2020 LoL 챔피언스 코리아 스프링 정규 시즌  39일차 3경기 2세트  \n13  2020 LoL 챔피언스 코리아 스프링 정규 시즌  39일차 3경기 2세트  \n14  2020 LoL 챔피언스 코리아 스프링 정규 시즌  39일차 3경기 1세트  \n15  2020 LoL 챔피언스 코리아 스프링 정규 시즌  39일차 3경기 1세트  \n16  2020 LoL 챔피언스 코리아 스프링 정규 시즌  39일차 2경기 2세트  \n17  2020 LoL 챔피언스 코리아 스프링 정규 시즌  39일차 2경기 2세트  \n18  2020 LoL 챔피언스 코리아 스프링 정규 시즌  39일차 2경기 1세트  \n19  2020 LoL 챔피언스 코리아 스프링 정규 시즌  39일차 2경기 1세트  \n20  2020 LoL 챔피언스 코리아 스프링 정규 시즌  39일차 1경기 3세트  \n21  2020 LoL 챔피언스 코리아 스프링 정규 시즌  39일차 1경기 3세트  \n22  2020 LoL 챔피언스 코리아 스프링 정규 시즌  39일차 1경기 2세트  \n23  2020 LoL 챔피언스 코리아 스프링 정규 시즌  39일차 1경기 2세트  \n24  2020 LoL 챔피언스 코리아 스프링 정규 시즌  39일차 1경기 1세트  \n25  2020 LoL 챔피언스 코리아 스프링 정규 시즌  39일차 1경기 1세트  \n26  2020 LoL 챔피언스 코리아 스프링 정규 시즌  38일차 2경기 3세트  \n27  2020 LoL 챔피언스 코리아 스프링 정규 시즌  38일차 2경기 3세트  \n28  2020 LoL 챔피언스 코리아 스프링 정규 시즌  38일차 2경기 2세트  \n29  2020 LoL 챔피언스 코리아 스프링 정규 시즌  38일차 2경기 2세트  \n30  2020 LoL 챔피언스 코리아 스프링 정규 시즌  38일차 2경기 1세트  \n31  2020 LoL 챔피언스 코리아 스프링 정규 시즌  38일차 2경기 1세트  \n32  2020 LoL 챔피언스 코리아 스프링 정규 시즌  38일차 1경기 3세트  \n33  2020 LoL 챔피언스 코리아 스프링 정규 시즌  38일차 1경기 3세트  \n34  2020 LoL 챔피언스 코리아 스프링 정규 시즌  38일차 1경기 2세트  \n35  2020 LoL 챔피언스 코리아 스프링 정규 시즌  38일차 1경기 2세트  \n36  2020 LoL 챔피언스 코리아 스프링 정규 시즌  38일차 1경기 1세트  \n37  2020 LoL 챔피언스 코리아 스프링 정규 시즌  38일차 1경기 1세트  \n38  2020 LoL 챔피언스 코리아 스프링 정규 시즌  37일차 2경기 2세트  \n39  2020 LoL 챔피언스 코리아 스프링 정규 시즌  37일차 2경기 2세트  \n40  2020 LoL 챔피언스 코리아 스프링 정규 시즌  37일차 2경기 1세트  \n41  2020 LoL 챔피언스 코리아 스프링 정규 시즌  37일차 2경기 1세트  \n42  2020 LoL 챔피언스 코리아 스프링 정규 시즌  37일차 1경기 3세트  \n43  2020 LoL 챔피언스 코리아 스프링 정규 시즌  37일차 1경기 3세트  \n44  2020 LoL 챔피언스 코리아 스프링 정규 시즌  37일차 1경기 2세트  \n45  2020 LoL 챔피언스 코리아 스프링 정규 시즌  37일차 1경기 2세트  \n46  2020 LoL 챔피언스 코리아 스프링 정규 시즌  37일차 1경기 1세트  \n47  2020 LoL 챔피언스 코리아 스프링 정규 시즌  37일차 1경기 1세트  \n48  2020 LoL 챔피언스 코리아 스프링 정규 시즌  36일차 2경기 2세트  \n49  2020 LoL 챔피언스 코리아 스프링 정규 시즌  36일차 2경기 2세트  ",
      "text/html": "<div>\n<style scoped>\n    .dataframe tbody tr th:only-of-type {\n        vertical-align: middle;\n    }\n\n    .dataframe tbody tr th {\n        vertical-align: top;\n    }\n\n    .dataframe thead th {\n        text-align: right;\n    }\n</style>\n<table border=\"1\" class=\"dataframe\">\n  <thead>\n    <tr style=\"text-align: right;\">\n      <th></th>\n      <th>team</th>\n      <th>cp1</th>\n      <th>cp2</th>\n      <th>cp3</th>\n      <th>cp4</th>\n      <th>cp5</th>\n      <th>pl1</th>\n      <th>pl2</th>\n      <th>pl3</th>\n      <th>pl4</th>\n      <th>pl5</th>\n      <th>score</th>\n      <th>date</th>\n      <th>stage</th>\n      <th>title</th>\n    </tr>\n  </thead>\n  <tbody>\n    <tr>\n      <th>0</th>\n      <td>APK Prince</td>\n      <td>사이온</td>\n      <td>자르반 4세</td>\n      <td>르블랑</td>\n      <td>미스 포츈</td>\n      <td>노틸러스</td>\n      <td>APK ikssu</td>\n      <td>APK Flawless</td>\n      <td>APK Cover</td>\n      <td>APK HyBrid</td>\n      <td>APK Secret</td>\n      <td>L</td>\n      <td>2020.04.16</td>\n      <td>2020 LoL 챔피언스 코리아 스프링 정규 시즌</td>\n      <td>40일차 2경기 3세트</td>\n    </tr>\n    <tr>\n      <th>1</th>\n      <td>DragonX</td>\n      <td>제이스</td>\n      <td>세주아니</td>\n      <td>사일러스</td>\n      <td>바루스</td>\n      <td>모르가나</td>\n      <td>DRX Doran</td>\n      <td>DRX Pyosik</td>\n      <td>DRX Chovy</td>\n      <td>DRX Deft</td>\n      <td>DRX Keria</td>\n      <td>W</td>\n      <td>2020.04.16</td>\n      <td>2020 LoL 챔피언스 코리아 스프링 정규 시즌</td>\n      <td>40일차 2경기 3세트</td>\n    </tr>\n    <tr>\n      <th>2</th>\n      <td>DragonX</td>\n      <td>아트록스</td>\n      <td>세주아니</td>\n      <td>아지르</td>\n      <td>칼리스타</td>\n      <td>블리츠크랭크</td>\n      <td>DRX Doran</td>\n      <td>DRX Pyosik</td>\n      <td>DRX Chovy</td>\n      <td>DRX Deft</td>\n      <td>DRX Keria</td>\n      <td>L</td>\n      <td>2020.04.16</td>\n      <td>2020 LoL 챔피언스 코리아 스프링 정규 시즌</td>\n      <td>40일차 2경기 2세트</td>\n    </tr>\n    <tr>\n      <th>3</th>\n      <td>APK Prince</td>\n      <td>판테온</td>\n      <td>엘리스</td>\n      <td>에코</td>\n      <td>아펠리오스</td>\n      <td>쓰레쉬</td>\n      <td>APK ikssu</td>\n      <td>APK Flawless</td>\n      <td>APK Cover5</td>\n      <td>APK HyBrid</td>\n      <td>APK Secret</td>\n      <td>W</td>\n      <td>2020.04.16</td>\n      <td>2020 LoL 챔피언스 코리아 스프링 정규 시즌</td>\n      <td>40일차 2경기 2세트</td>\n    </tr>\n    <tr>\n      <th>4</th>\n      <td>APK Prince</td>\n      <td>오른</td>\n      <td>자르반 4세</td>\n      <td>르블랑</td>\n      <td>트위치</td>\n      <td>유미</td>\n      <td>APK ikssu</td>\n      <td>APK Flawless</td>\n      <td>APK Cover</td>\n      <td>APK HyBrid</td>\n      <td>APK Secret</td>\n      <td>L</td>\n      <td>2020.04.16</td>\n      <td>2020 LoL 챔피언스 코리아 스프링 정규 시즌</td>\n      <td>40일차 2경기 1세트</td>\n    </tr>\n    <tr>\n      <th>5</th>\n      <td>DragonX</td>\n      <td>아칼리</td>\n      <td>세주아니</td>\n      <td>아트록스</td>\n      <td>아펠리오스</td>\n      <td>알리스타</td>\n      <td>DRX Doran</td>\n      <td>DRX Pyosik</td>\n      <td>DRX Chovy</td>\n      <td>DRX Deft</td>\n      <td>DRX Keria</td>\n      <td>W</td>\n      <td>2020.04.16</td>\n      <td>2020 LoL 챔피언스 코리아 스프링 정규 시즌</td>\n      <td>40일차 2경기 1세트</td>\n    </tr>\n    <tr>\n      <th>6</th>\n      <td>Griffin</td>\n      <td>럼블</td>\n      <td>자르반 4세</td>\n      <td>조이</td>\n      <td>칼리스타</td>\n      <td>타릭</td>\n      <td>GRF Sword</td>\n      <td>GRF Tarzan</td>\n      <td>GRF Ucal</td>\n      <td>GRF Viper</td>\n      <td>GRF Irove</td>\n      <td>W</td>\n      <td>2020.04.16</td>\n      <td>2020 LoL 챔피언스 코리아 스프링 정규 시즌</td>\n      <td>40일차 1경기 2세트</td>\n    </tr>\n    <tr>\n      <th>7</th>\n      <td>Hanwha Life Esports</td>\n      <td>사일러스</td>\n      <td>렉사이</td>\n      <td>아칼리</td>\n      <td>아펠리오스</td>\n      <td>브라움</td>\n      <td>HLE CuVee</td>\n      <td>HLE Haru</td>\n      <td>HLE Lava</td>\n      <td>HLE Vsta</td>\n      <td>HLE Lehends</td>\n      <td>L</td>\n      <td>2020.04.16</td>\n      <td>2020 LoL 챔피언스 코리아 스프링 정규 시즌</td>\n      <td>40일차 1경기 2세트</td>\n    </tr>\n    <tr>\n      <th>8</th>\n      <td>Hanwha Life Esports</td>\n      <td>나르</td>\n      <td>트런들</td>\n      <td>조이</td>\n      <td>세나</td>\n      <td>마오카이</td>\n      <td>HLE CuVee</td>\n      <td>HLE Haru</td>\n      <td>HLE Lava</td>\n      <td>HLE Vsta</td>\n      <td>HLE Lehends</td>\n      <td>L</td>\n      <td>2020.04.16</td>\n      <td>2020 LoL 챔피언스 코리아 스프링 정규 시즌</td>\n      <td>40일차 1경기 1세트</td>\n    </tr>\n    <tr>\n      <th>9</th>\n      <td>Griffin</td>\n      <td>블라디미르</td>\n      <td>세트</td>\n      <td>코르키</td>\n      <td>바루스</td>\n      <td>탐 켄치</td>\n      <td>GRF Untara</td>\n      <td>GRF Tarzan</td>\n      <td>GRF Ucal</td>\n      <td>GRF Viper</td>\n      <td>GRF Irove</td>\n      <td>W</td>\n      <td>2020.04.16</td>\n      <td>2020 LoL 챔피언스 코리아 스프링 정규 시즌</td>\n      <td>40일차 1경기 1세트</td>\n    </tr>\n    <tr>\n      <th>10</th>\n      <td>SANDBOX Gaming</td>\n      <td>루시안</td>\n      <td>트런들</td>\n      <td>신드라</td>\n      <td>미스 포츈</td>\n      <td>타릭</td>\n      <td>SB Summit</td>\n      <td>SB OnFleek</td>\n      <td>SB Fate</td>\n      <td>SB Leo</td>\n      <td>SB GorillA</td>\n      <td>L</td>\n      <td>2020.04.15</td>\n      <td>2020 LoL 챔피언스 코리아 스프링 정규 시즌</td>\n      <td>39일차 3경기 3세트</td>\n    </tr>\n    <tr>\n      <th>11</th>\n      <td>DAMWON Gaming</td>\n      <td>제이스</td>\n      <td>올라프</td>\n      <td>조이</td>\n      <td>칼리스타</td>\n      <td>바드</td>\n      <td>DWG Nuguri</td>\n      <td>DWG Canyon</td>\n      <td>DWG ShowMaker</td>\n      <td>DWG Ghost</td>\n      <td>DWG BeryL</td>\n      <td>W</td>\n      <td>2020.04.15</td>\n      <td>2020 LoL 챔피언스 코리아 스프링 정규 시즌</td>\n      <td>39일차 3경기 3세트</td>\n    </tr>\n    <tr>\n      <th>12</th>\n      <td>DAMWON Gaming</td>\n      <td>제이스</td>\n      <td>올라프</td>\n      <td>갈리오</td>\n      <td>바루스</td>\n      <td>쓰레쉬</td>\n      <td>DWG Nuguri</td>\n      <td>DWG Canyon</td>\n      <td>DWG ShowMaker</td>\n      <td>DWG Ghost</td>\n      <td>DWG BeryL</td>\n      <td>W</td>\n      <td>2020.04.15</td>\n      <td>2020 LoL 챔피언스 코리아 스프링 정규 시즌</td>\n      <td>39일차 3경기 2세트</td>\n    </tr>\n    <tr>\n      <th>13</th>\n      <td>SANDBOX Gaming</td>\n      <td>오른</td>\n      <td>리 신</td>\n      <td>르블랑</td>\n      <td>칼리스타</td>\n      <td>브라움</td>\n      <td>SB Summit</td>\n      <td>SB OnFleek</td>\n      <td>SB Fate</td>\n      <td>SB Leo</td>\n      <td>SB GorillA</td>\n      <td>L</td>\n      <td>2020.04.15</td>\n      <td>2020 LoL 챔피언스 코리아 스프링 정규 시즌</td>\n      <td>39일차 3경기 2세트</td>\n    </tr>\n    <tr>\n      <th>14</th>\n      <td>SANDBOX Gaming</td>\n      <td>아트록스</td>\n      <td>트런들</td>\n      <td>르블랑</td>\n      <td>미스 포츈</td>\n      <td>라칸</td>\n      <td>SB Summit</td>\n      <td>SB OnFleek</td>\n      <td>SB Fate</td>\n      <td>SB Leo</td>\n      <td>SB GorillA</td>\n      <td>W</td>\n      <td>2020.04.15</td>\n      <td>2020 LoL 챔피언스 코리아 스프링 정규 시즌</td>\n      <td>39일차 3경기 1세트</td>\n    </tr>\n    <tr>\n      <th>15</th>\n      <td>DAMWON Gaming</td>\n      <td>세트</td>\n      <td>세주아니</td>\n      <td>코르키</td>\n      <td>이즈리얼</td>\n      <td>타릭</td>\n      <td>DWG Nuguri</td>\n      <td>DWG Canyon</td>\n      <td>DWG ShowMaker</td>\n      <td>DWG Ghost</td>\n      <td>DWG BeryL</td>\n      <td>L</td>\n      <td>2020.04.15</td>\n      <td>2020 LoL 챔피언스 코리아 스프링 정규 시즌</td>\n      <td>39일차 3경기 1세트</td>\n    </tr>\n    <tr>\n      <th>16</th>\n      <td>T1</td>\n      <td>제이스</td>\n      <td>트런들</td>\n      <td>아지르</td>\n      <td>미스 포츈</td>\n      <td>브라움</td>\n      <td>T1 Canna</td>\n      <td>T1 Cuzz</td>\n      <td>T1 Faker</td>\n      <td>T1 Teddy</td>\n      <td>T1 Effort</td>\n      <td>W</td>\n      <td>2020.04.15</td>\n      <td>2020 LoL 챔피언스 코리아 스프링 정규 시즌</td>\n      <td>39일차 2경기 2세트</td>\n    </tr>\n    <tr>\n      <th>17</th>\n      <td>Afreeca Freecs</td>\n      <td>케넨</td>\n      <td>그레이브즈</td>\n      <td>럼블</td>\n      <td>바루스</td>\n      <td>타릭</td>\n      <td>AF Kiin</td>\n      <td>AF Spirit</td>\n      <td>AF All IN</td>\n      <td>AF Mystic</td>\n      <td>AF Jelly</td>\n      <td>L</td>\n      <td>2020.04.15</td>\n      <td>2020 LoL 챔피언스 코리아 스프링 정규 시즌</td>\n      <td>39일차 2경기 2세트</td>\n    </tr>\n    <tr>\n      <th>18</th>\n      <td>Afreeca Freecs</td>\n      <td>제이스</td>\n      <td>트런들</td>\n      <td>신드라</td>\n      <td>시비르</td>\n      <td>브라움</td>\n      <td>AF Kiin</td>\n      <td>AF Spirit</td>\n      <td>AF All IN</td>\n      <td>AF Mystic</td>\n      <td>AF Jelly</td>\n      <td>L</td>\n      <td>2020.04.15</td>\n      <td>2020 LoL 챔피언스 코리아 스프링 정규 시즌</td>\n      <td>39일차 2경기 1세트</td>\n    </tr>\n    <tr>\n      <th>19</th>\n      <td>T1</td>\n      <td>루시안</td>\n      <td>그라가스</td>\n      <td>아칼리</td>\n      <td>바루스</td>\n      <td>알리스타</td>\n      <td>T1 Canna</td>\n      <td>T1 Cuzz</td>\n      <td>T1 Faker</td>\n      <td>T1 Teddy</td>\n      <td>T1 Effort</td>\n      <td>W</td>\n      <td>2020.04.15</td>\n      <td>2020 LoL 챔피언스 코리아 스프링 정규 시즌</td>\n      <td>39일차 2경기 1세트</td>\n    </tr>\n    <tr>\n      <th>20</th>\n      <td>kt Rolster</td>\n      <td>모데카이저</td>\n      <td>세주아니</td>\n      <td>질리언</td>\n      <td>바루스</td>\n      <td>타릭</td>\n      <td>KT SoHwan</td>\n      <td>KT Bono</td>\n      <td>KT Kuro</td>\n      <td>KT Aiming</td>\n      <td>KT TusiN</td>\n      <td>L</td>\n      <td>2020.04.15</td>\n      <td>2020 LoL 챔피언스 코리아 스프링 정규 시즌</td>\n      <td>39일차 1경기 3세트</td>\n    </tr>\n    <tr>\n      <th>21</th>\n      <td>Gen.G eSports</td>\n      <td>오른</td>\n      <td>렉사이</td>\n      <td>아지르</td>\n      <td>칼리스타</td>\n      <td>라칸</td>\n      <td>GEN Rascal</td>\n      <td>GEN Clid</td>\n      <td>GEN BDD</td>\n      <td>GEN Ruler</td>\n      <td>GEN Life</td>\n      <td>W</td>\n      <td>2020.04.15</td>\n      <td>2020 LoL 챔피언스 코리아 스프링 정규 시즌</td>\n      <td>39일차 1경기 3세트</td>\n    </tr>\n    <tr>\n      <th>22</th>\n      <td>Gen.G eSports</td>\n      <td>오른</td>\n      <td>렉사이</td>\n      <td>사일러스</td>\n      <td>칼리스타</td>\n      <td>세트</td>\n      <td>GEN Rascal</td>\n      <td>GEN Clid</td>\n      <td>GEN BDD</td>\n      <td>GEN Ruler</td>\n      <td>GEN Life</td>\n      <td>W</td>\n      <td>2020.04.15</td>\n      <td>2020 LoL 챔피언스 코리아 스프링 정규 시즌</td>\n      <td>39일차 1경기 2세트</td>\n    </tr>\n    <tr>\n      <th>23</th>\n      <td>kt Rolster</td>\n      <td>쉔</td>\n      <td>자르반 4세</td>\n      <td>갈리오</td>\n      <td>아펠리오스</td>\n      <td>브라움</td>\n      <td>KT Ray</td>\n      <td>KT Malrang</td>\n      <td>KT Kuro</td>\n      <td>KT Aiming</td>\n      <td>KT TusiN</td>\n      <td>L</td>\n      <td>2020.04.15</td>\n      <td>2020 LoL 챔피언스 코리아 스프링 정규 시즌</td>\n      <td>39일차 1경기 2세트</td>\n    </tr>\n    <tr>\n      <th>24</th>\n      <td>kt Rolster</td>\n      <td>제이스</td>\n      <td>세주아니</td>\n      <td>벨코즈</td>\n      <td>바루스</td>\n      <td>브라움</td>\n      <td>KT SoHwan</td>\n      <td>KT Bono</td>\n      <td>KT Kuro</td>\n      <td>KT Aiming</td>\n      <td>KT TusiN</td>\n      <td>W</td>\n      <td>2020.04.15</td>\n      <td>2020 LoL 챔피언스 코리아 스프링 정규 시즌</td>\n      <td>39일차 1경기 1세트</td>\n    </tr>\n    <tr>\n      <th>25</th>\n      <td>Gen.G eSports</td>\n      <td>세트</td>\n      <td>사일러스</td>\n      <td>아지르</td>\n      <td>칼리스타</td>\n      <td>타릭</td>\n      <td>GEN Rascal</td>\n      <td>GEN Clid</td>\n      <td>GEN BDD</td>\n      <td>GEN Ruler</td>\n      <td>GEN Kellin</td>\n      <td>L</td>\n      <td>2020.04.15</td>\n      <td>2020 LoL 챔피언스 코리아 스프링 정규 시즌</td>\n      <td>39일차 1경기 1세트</td>\n    </tr>\n    <tr>\n      <th>26</th>\n      <td>Gen.G eSports</td>\n      <td>오른</td>\n      <td>자르반 4세</td>\n      <td>사일러스</td>\n      <td>미스 포츈</td>\n      <td>바드</td>\n      <td>GEN Rascal</td>\n      <td>GEN Clid</td>\n      <td>GEN BDD</td>\n      <td>GEN Ruler</td>\n      <td>GEN Life</td>\n      <td>L</td>\n      <td>2020.04.12</td>\n      <td>2020 LoL 챔피언스 코리아 스프링 정규 시즌</td>\n      <td>38일차 2경기 3세트</td>\n    </tr>\n    <tr>\n      <th>27</th>\n      <td>Hanwha Life Esports</td>\n      <td>갱플랭크</td>\n      <td>세주아니</td>\n      <td>르블랑</td>\n      <td>바루스</td>\n      <td>타릭</td>\n      <td>HLE CuVee</td>\n      <td>HLE Haru</td>\n      <td>HLE Lava</td>\n      <td>HLE Vsta</td>\n      <td>HLE Lehends</td>\n      <td>W</td>\n      <td>2020.04.12</td>\n      <td>2020 LoL 챔피언스 코리아 스프링 정규 시즌</td>\n      <td>38일차 2경기 3세트</td>\n    </tr>\n    <tr>\n      <th>28</th>\n      <td>Hanwha Life Esports</td>\n      <td>케일</td>\n      <td>렉사이</td>\n      <td>르블랑</td>\n      <td>바루스</td>\n      <td>브라움</td>\n      <td>HLE CuVee</td>\n      <td>HLE Haru</td>\n      <td>HLE Lava</td>\n      <td>HLE Vsta</td>\n      <td>HLE Lehends</td>\n      <td>W</td>\n      <td>2020.04.12</td>\n      <td>2020 LoL 챔피언스 코리아 스프링 정규 시즌</td>\n      <td>38일차 2경기 2세트</td>\n    </tr>\n    <tr>\n      <th>29</th>\n      <td>Gen.G eSports</td>\n      <td>오른</td>\n      <td>자르반 4세</td>\n      <td>조이</td>\n      <td>미스 포츈</td>\n      <td>라칸</td>\n      <td>GEN Rascal</td>\n      <td>GEN Clid</td>\n      <td>GEN BDD</td>\n      <td>GEN Ruler</td>\n      <td>GEN Life</td>\n      <td>L</td>\n      <td>2020.04.12</td>\n      <td>2020 LoL 챔피언스 코리아 스프링 정규 시즌</td>\n      <td>38일차 2경기 2세트</td>\n    </tr>\n    <tr>\n      <th>30</th>\n      <td>Gen.G eSports</td>\n      <td>아트록스</td>\n      <td>트런들</td>\n      <td>아지르</td>\n      <td>아펠리오스</td>\n      <td>브라움</td>\n      <td>GEN Rascal</td>\n      <td>GEN Clid</td>\n      <td>GEN BDD</td>\n      <td>GEN Ruler</td>\n      <td>GEN Life</td>\n      <td>W</td>\n      <td>2020.04.12</td>\n      <td>2020 LoL 챔피언스 코리아 스프링 정규 시즌</td>\n      <td>38일차 2경기 1세트</td>\n    </tr>\n    <tr>\n      <th>31</th>\n      <td>Hanwha Life Esports</td>\n      <td>나르</td>\n      <td>엘리스</td>\n      <td>조이</td>\n      <td>칼리스타</td>\n      <td>타릭</td>\n      <td>HLE CuVee</td>\n      <td>HLE Haru</td>\n      <td>HLE Tempt</td>\n      <td>HLE Vsta</td>\n      <td>HLE Lehends</td>\n      <td>L</td>\n      <td>2020.04.12</td>\n      <td>2020 LoL 챔피언스 코리아 스프링 정규 시즌</td>\n      <td>38일차 2경기 1세트</td>\n    </tr>\n    <tr>\n      <th>32</th>\n      <td>Afreeca Freecs</td>\n      <td>오른</td>\n      <td>자르반 4세</td>\n      <td>갈리오</td>\n      <td>미스 포츈</td>\n      <td>노틸러스</td>\n      <td>AF Kiin</td>\n      <td>AF Spirit</td>\n      <td>AF All IN</td>\n      <td>AF Mystic</td>\n      <td>AF Jelly</td>\n      <td>L</td>\n      <td>2020.04.12</td>\n      <td>2020 LoL 챔피언스 코리아 스프링 정규 시즌</td>\n      <td>38일차 1경기 3세트</td>\n    </tr>\n    <tr>\n      <th>33</th>\n      <td>DragonX</td>\n      <td>사일러스</td>\n      <td>올라프</td>\n      <td>아트록스</td>\n      <td>바루스</td>\n      <td>모르가나</td>\n      <td>DRX Doran</td>\n      <td>DRX Pyosik</td>\n      <td>DRX Chovy</td>\n      <td>DRX Deft</td>\n      <td>DRX Keria</td>\n      <td>W</td>\n      <td>2020.04.12</td>\n      <td>2020 LoL 챔피언스 코리아 스프링 정규 시즌</td>\n      <td>38일차 1경기 3세트</td>\n    </tr>\n    <tr>\n      <th>34</th>\n      <td>DragonX</td>\n      <td>이렐리아</td>\n      <td>자르반 4세</td>\n      <td>르블랑</td>\n      <td>바루스</td>\n      <td>쓰레쉬</td>\n      <td>DRX Doran</td>\n      <td>DRX Pyosik</td>\n      <td>DRX Chovy</td>\n      <td>DRX Deft</td>\n      <td>DRX Keria</td>\n      <td>L</td>\n      <td>2020.04.12</td>\n      <td>2020 LoL 챔피언스 코리아 스프링 정규 시즌</td>\n      <td>38일차 1경기 2세트</td>\n    </tr>\n    <tr>\n      <th>35</th>\n      <td>Afreeca Freecs</td>\n      <td>제이스</td>\n      <td>트런들</td>\n      <td>갈리오</td>\n      <td>칼리스타</td>\n      <td>타릭</td>\n      <td>AF Kiin</td>\n      <td>AF Spirit</td>\n      <td>AF All IN</td>\n      <td>AF Mystic</td>\n      <td>AF Jelly</td>\n      <td>W</td>\n      <td>2020.04.12</td>\n      <td>2020 LoL 챔피언스 코리아 스프링 정규 시즌</td>\n      <td>38일차 1경기 2세트</td>\n    </tr>\n    <tr>\n      <th>36</th>\n      <td>Afreeca Freecs</td>\n      <td>제이스</td>\n      <td>자르반 4세</td>\n      <td>애니비아</td>\n      <td>세나</td>\n      <td>노틸러스</td>\n      <td>AF Kiin</td>\n      <td>AF Spirit</td>\n      <td>AF All IN</td>\n      <td>AF Mystic</td>\n      <td>AF Jelly</td>\n      <td>L</td>\n      <td>2020.04.12</td>\n      <td>2020 LoL 챔피언스 코리아 스프링 정규 시즌</td>\n      <td>38일차 1경기 1세트</td>\n    </tr>\n    <tr>\n      <th>37</th>\n      <td>DragonX</td>\n      <td>오른</td>\n      <td>올라프</td>\n      <td>아지르</td>\n      <td>바루스</td>\n      <td>모르가나</td>\n      <td>DRX Doran</td>\n      <td>DRX Pyosik</td>\n      <td>DRX Chovy</td>\n      <td>DRX Deft</td>\n      <td>DRX Keria</td>\n      <td>W</td>\n      <td>2020.04.12</td>\n      <td>2020 LoL 챔피언스 코리아 스프링 정규 시즌</td>\n      <td>38일차 1경기 1세트</td>\n    </tr>\n    <tr>\n      <th>38</th>\n      <td>SANDBOX Gaming</td>\n      <td>오른</td>\n      <td>자르반 4세</td>\n      <td>코르키</td>\n      <td>이즈리얼</td>\n      <td>노틸러스</td>\n      <td>SB Summit</td>\n      <td>SB OnFleek</td>\n      <td>SB Dove</td>\n      <td>SB Route</td>\n      <td>SB GorillA</td>\n      <td>L</td>\n      <td>2020.04.11</td>\n      <td>2020 LoL 챔피언스 코리아 스프링 정규 시즌</td>\n      <td>37일차 2경기 2세트</td>\n    </tr>\n    <tr>\n      <th>39</th>\n      <td>kt Rolster</td>\n      <td>아트록스</td>\n      <td>올라프</td>\n      <td>아지르</td>\n      <td>미스 포츈</td>\n      <td>유미</td>\n      <td>KT SoHwan</td>\n      <td>KT Bono</td>\n      <td>KT Kuro</td>\n      <td>KT Aiming</td>\n      <td>KT TusiN</td>\n      <td>W</td>\n      <td>2020.04.11</td>\n      <td>2020 LoL 챔피언스 코리아 스프링 정규 시즌</td>\n      <td>37일차 2경기 2세트</td>\n    </tr>\n    <tr>\n      <th>40</th>\n      <td>kt Rolster</td>\n      <td>오른</td>\n      <td>트런들</td>\n      <td>질리언</td>\n      <td>미스 포츈</td>\n      <td>유미</td>\n      <td>KT SoHwan</td>\n      <td>KT Bono</td>\n      <td>KT Kuro</td>\n      <td>KT Aiming</td>\n      <td>KT TusiN</td>\n      <td>W</td>\n      <td>2020.04.11</td>\n      <td>2020 LoL 챔피언스 코리아 스프링 정규 시즌</td>\n      <td>37일차 2경기 1세트</td>\n    </tr>\n    <tr>\n      <th>41</th>\n      <td>SANDBOX Gaming</td>\n      <td>아트록스</td>\n      <td>렉사이</td>\n      <td>아지르</td>\n      <td>바루스</td>\n      <td>카르마</td>\n      <td>SB Summit</td>\n      <td>SB OnFleek</td>\n      <td>SB Dove</td>\n      <td>SB Route</td>\n      <td>SB GorillA</td>\n      <td>L</td>\n      <td>2020.04.11</td>\n      <td>2020 LoL 챔피언스 코리아 스프링 정규 시즌</td>\n      <td>37일차 2경기 1세트</td>\n    </tr>\n    <tr>\n      <th>42</th>\n      <td>Hanwha Life Esports</td>\n      <td>케넨</td>\n      <td>엘리스</td>\n      <td>조이</td>\n      <td>미스 포츈</td>\n      <td>타릭</td>\n      <td>HLE CuVee</td>\n      <td>HLE Haru</td>\n      <td>HLE Tempt</td>\n      <td>HLE Vsta</td>\n      <td>HLE Lehends</td>\n      <td>L</td>\n      <td>2020.04.11</td>\n      <td>2020 LoL 챔피언스 코리아 스프링 정규 시즌</td>\n      <td>37일차 1경기 3세트</td>\n    </tr>\n    <tr>\n      <th>43</th>\n      <td>APK Prince</td>\n      <td>아트록스</td>\n      <td>트런들</td>\n      <td>르블랑</td>\n      <td>이즈리얼</td>\n      <td>브라움</td>\n      <td>APK ikssu</td>\n      <td>APK Flawless</td>\n      <td>APK Cover</td>\n      <td>APK HyBrid</td>\n      <td>APK Secret</td>\n      <td>W</td>\n      <td>2020.04.11</td>\n      <td>2020 LoL 챔피언스 코리아 스프링 정규 시즌</td>\n      <td>37일차 1경기 3세트</td>\n    </tr>\n    <tr>\n      <th>44</th>\n      <td>APK Prince</td>\n      <td>럼블</td>\n      <td>트런들</td>\n      <td>이렐리아</td>\n      <td>미스 포츈</td>\n      <td>브라움</td>\n      <td>APK ikssu</td>\n      <td>APK Flawless</td>\n      <td>APK Cover</td>\n      <td>APK HyBrid</td>\n      <td>APK Secret</td>\n      <td>L</td>\n      <td>2020.04.11</td>\n      <td>2020 LoL 챔피언스 코리아 스프링 정규 시즌</td>\n      <td>37일차 1경기 2세트</td>\n    </tr>\n    <tr>\n      <th>45</th>\n      <td>Hanwha Life Esports</td>\n      <td>나르</td>\n      <td>엘리스</td>\n      <td>조이</td>\n      <td>칼리스타</td>\n      <td>타릭</td>\n      <td>HLE CuVee</td>\n      <td>HLE Haru</td>\n      <td>HLE Tempt</td>\n      <td>HLE Vsta</td>\n      <td>HLE Lehends</td>\n      <td>W</td>\n      <td>2020.04.11</td>\n      <td>2020 LoL 챔피언스 코리아 스프링 정규 시즌</td>\n      <td>37일차 1경기 2세트</td>\n    </tr>\n    <tr>\n      <th>46</th>\n      <td>Hanwha Life Esports</td>\n      <td>케넨</td>\n      <td>그라가스</td>\n      <td>조이</td>\n      <td>미스 포츈</td>\n      <td>타릭</td>\n      <td>HLE CuVee</td>\n      <td>HLE Haru</td>\n      <td>HLE Tempt</td>\n      <td>HLE Vsta</td>\n      <td>HLE Lehends</td>\n      <td>L</td>\n      <td>2020.04.11</td>\n      <td>2020 LoL 챔피언스 코리아 스프링 정규 시즌</td>\n      <td>37일차 1경기 1세트</td>\n    </tr>\n    <tr>\n      <th>47</th>\n      <td>APK Prince</td>\n      <td>아트록스</td>\n      <td>트런들</td>\n      <td>르블랑</td>\n      <td>이즈리얼</td>\n      <td>브라움</td>\n      <td>APK ikssu</td>\n      <td>APK Flawless</td>\n      <td>APK Cover</td>\n      <td>APK HyBrid</td>\n      <td>APK Secret</td>\n      <td>W</td>\n      <td>2020.04.11</td>\n      <td>2020 LoL 챔피언스 코리아 스프링 정규 시즌</td>\n      <td>37일차 1경기 1세트</td>\n    </tr>\n    <tr>\n      <th>48</th>\n      <td>T1</td>\n      <td>세트</td>\n      <td>올라프</td>\n      <td>카사딘</td>\n      <td>카이사</td>\n      <td>알리스타</td>\n      <td>T1 Canna</td>\n      <td>T1 Cuzz</td>\n      <td>T1 Faker</td>\n      <td>T1 Teddy</td>\n      <td>T1 Effort</td>\n      <td>L</td>\n      <td>2020.04.10</td>\n      <td>2020 LoL 챔피언스 코리아 스프링 정규 시즌</td>\n      <td>36일차 2경기 2세트</td>\n    </tr>\n    <tr>\n      <th>49</th>\n      <td>kt Rolster</td>\n      <td>케넨</td>\n      <td>자르반 4세</td>\n      <td>아지르</td>\n      <td>미스 포츈</td>\n      <td>타릭</td>\n      <td>KT SoHwan</td>\n      <td>KT Bono</td>\n      <td>KT Kuro</td>\n      <td>KT Aiming</td>\n      <td>KT TusiN</td>\n      <td>W</td>\n      <td>2020.04.10</td>\n      <td>2020 LoL 챔피언스 코리아 스프링 정규 시즌</td>\n      <td>36일차 2경기 2세트</td>\n    </tr>\n  </tbody>\n</table>\n</div>"
     },
     "metadata": {},
     "execution_count": 8
    }
   ],
   "source": [
    "df"
   ]
  },
  {
   "cell_type": "code",
   "execution_count": 396,
   "metadata": {},
   "outputs": [
    {
     "output_type": "execute_result",
     "data": {
      "text/plain": "Empty DataFrame\nColumns: [team, cp1, cp2, cp3, cp4, cp5, pl1, pl2, pl3, pl4, pl5, score, date, stage, title]\nIndex: []",
      "text/html": "<div>\n<style scoped>\n    .dataframe tbody tr th:only-of-type {\n        vertical-align: middle;\n    }\n\n    .dataframe tbody tr th {\n        vertical-align: top;\n    }\n\n    .dataframe thead th {\n        text-align: right;\n    }\n</style>\n<table border=\"1\" class=\"dataframe\">\n  <thead>\n    <tr style=\"text-align: right;\">\n      <th></th>\n      <th>team</th>\n      <th>cp1</th>\n      <th>cp2</th>\n      <th>cp3</th>\n      <th>cp4</th>\n      <th>cp5</th>\n      <th>pl1</th>\n      <th>pl2</th>\n      <th>pl3</th>\n      <th>pl4</th>\n      <th>pl5</th>\n      <th>score</th>\n      <th>date</th>\n      <th>stage</th>\n      <th>title</th>\n    </tr>\n  </thead>\n  <tbody>\n  </tbody>\n</table>\n</div>"
     },
     "metadata": {},
     "execution_count": 396
    }
   ],
   "source": [
    "df"
   ]
  },
  {
   "cell_type": "code",
   "execution_count": 398,
   "metadata": {},
   "outputs": [
    {
     "output_type": "execute_result",
     "data": {
      "text/plain": "['Gen.G eSports',\n '클레드',\n '다이애나',\n '오리아나',\n '미스 포츈',\n '모르가나',\n 'T1 Canna',\n 'T1 Cuzz',\n 'T1 Faker',\n 'T1 Teddy',\n 'T1 Effort',\n 'W',\n '2020.02.16',\n '2020 LoL 챔피언스 코리아 스프링 정규 시즌',\n '10일차 2경기 2세트']"
     },
     "metadata": {},
     "execution_count": 398
    }
   ],
   "source": [
    "list_right"
   ]
  },
  {
   "cell_type": "code",
   "execution_count": 399,
   "metadata": {},
   "outputs": [],
   "source": []
  },
  {
   "cell_type": "code",
   "execution_count": 400,
   "metadata": {},
   "outputs": [
    {
     "output_type": "execute_result",
     "data": {
      "text/plain": "            team  cp1   cp2   cp3    cp4   cp5       pl1      pl2       pl3  \\\n0  Gen.G eSports  클레드  다이애나  오리아나  미스 포츈  모르가나  T1 Canna  T1 Cuzz  T1 Faker   \n\n        pl4        pl5 score        date                        stage  \\\n0  T1 Teddy  T1 Effort     W  2020.02.16  2020 LoL 챔피언스 코리아 스프링 정규 시즌   \n\n          title  \n0  10일차 2경기 2세트  ",
      "text/html": "<div>\n<style scoped>\n    .dataframe tbody tr th:only-of-type {\n        vertical-align: middle;\n    }\n\n    .dataframe tbody tr th {\n        vertical-align: top;\n    }\n\n    .dataframe thead th {\n        text-align: right;\n    }\n</style>\n<table border=\"1\" class=\"dataframe\">\n  <thead>\n    <tr style=\"text-align: right;\">\n      <th></th>\n      <th>team</th>\n      <th>cp1</th>\n      <th>cp2</th>\n      <th>cp3</th>\n      <th>cp4</th>\n      <th>cp5</th>\n      <th>pl1</th>\n      <th>pl2</th>\n      <th>pl3</th>\n      <th>pl4</th>\n      <th>pl5</th>\n      <th>score</th>\n      <th>date</th>\n      <th>stage</th>\n      <th>title</th>\n    </tr>\n  </thead>\n  <tbody>\n    <tr>\n      <th>0</th>\n      <td>Gen.G eSports</td>\n      <td>클레드</td>\n      <td>다이애나</td>\n      <td>오리아나</td>\n      <td>미스 포츈</td>\n      <td>모르가나</td>\n      <td>T1 Canna</td>\n      <td>T1 Cuzz</td>\n      <td>T1 Faker</td>\n      <td>T1 Teddy</td>\n      <td>T1 Effort</td>\n      <td>W</td>\n      <td>2020.02.16</td>\n      <td>2020 LoL 챔피언스 코리아 스프링 정규 시즌</td>\n      <td>10일차 2경기 2세트</td>\n    </tr>\n  </tbody>\n</table>\n</div>"
     },
     "metadata": {},
     "execution_count": 400
    }
   ],
   "source": []
  }
 ]
}