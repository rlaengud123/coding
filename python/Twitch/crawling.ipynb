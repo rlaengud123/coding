{
 "nbformat": 4,
 "nbformat_minor": 2,
 "metadata": {
  "language_info": {
   "name": "python",
   "codemirror_mode": {
    "name": "ipython",
    "version": 3
   },
   "version": "3.7.6-final"
  },
  "orig_nbformat": 2,
  "file_extension": ".py",
  "mimetype": "text/x-python",
  "name": "python",
  "npconvert_exporter": "python",
  "pygments_lexer": "ipython3",
  "version": 3,
  "kernelspec": {
   "name": "python37664bitlrcnconda81488d0fdaed43d5852de4dbfc33ce1f",
   "display_name": "Python 3.7.6 64-bit ('lrcn': conda)"
  }
 },
 "cells": [
  {
   "cell_type": "code",
   "execution_count": 76,
   "metadata": {},
   "outputs": [],
   "source": [
    "f = open(\"./id.txt\", 'r')\n",
    "line = f.read()"
   ]
  },
  {
   "cell_type": "code",
   "execution_count": 77,
   "metadata": {},
   "outputs": [],
   "source": [
    "list_ = list(line.split('<'))"
   ]
  },
  {
   "cell_type": "code",
   "execution_count": 78,
   "metadata": {
    "tags": [
     "outputPrepend"
    ]
   },
   "outputs": [],
   "source": [
    "video_id_full = []\n",
    "for i in list_:\n",
    "    if 'tw-full-width tw-interactive tw-link tw-link--hover-underline-none tw-link--inherit' in i:\n",
    "        video_id_full.append(i)"
   ]
  },
  {
   "cell_type": "code",
   "execution_count": 79,
   "metadata": {
    "tags": [
     "outputPrepend"
    ]
   },
   "outputs": [],
   "source": [
    "video_id = []\n",
    "for i in video_id_full:\n",
    "    video_id.append(i.split('href')[1].split('/')[2].split('?')[0])"
   ]
  },
  {
   "cell_type": "code",
   "execution_count": 97,
   "metadata": {},
   "outputs": [
    {
     "output_type": "execute_result",
     "data": {
      "text/plain": "['593452129',\n '592499039',\n '589915716',\n '588984253',\n '588052356',\n '587147156',\n '586295763',\n '583792771',\n '582912469',\n '582051293',\n '581234594',\n '580425846',\n '578115785',\n '577269823',\n '576461010',\n '575682764',\n '574896953',\n '574187855',\n '573421561',\n '572658264',\n '571856846',\n '562672307',\n '562175883',\n '561679806',\n '560149995',\n '559584184',\n '559053235',\n '558556143',\n '558052440',\n '556509021',\n '555945639',\n '555401470',\n '554875041',\n '554363672',\n '552790470',\n '552231431',\n '551724932',\n '551223273',\n '550724245',\n '549209598',\n '548646739',\n '548102436',\n '547608140',\n '547109211',\n '518519770',\n '518035556',\n '517597850',\n '506426581',\n '503357368',\n '502883532',\n '500273976',\n '499774308',\n '497139239',\n '496665959',\n '496217166',\n '495788829',\n '494894969',\n '494460837',\n '493980365',\n '493516874',\n '491789589',\n '491381691',\n '490466710',\n '490013076',\n '489606327',\n '489177739',\n '485370533',\n '479878155',\n '479398902',\n '478993149',\n '478050369',\n '477079156',\n '476191765',\n '474778032',\n '472048532',\n '471104863',\n '470191566',\n '468834414',\n '468372151',\n '467913522',\n '467460915',\n '465615058',\n '465134639',\n '464664304',\n '464192580',\n '462334451',\n '461870047',\n '461400197',\n '460911928',\n '459039482',\n '458591527',\n '458138005',\n '457679947',\n '455831891',\n '455341085',\n '454871360',\n '454404102',\n '452561876',\n '452107420',\n '451646082',\n '451187873',\n '450724293',\n '449372886',\n '448928259',\n '448474946',\n '448147483',\n '448060973',\n '446237876',\n '445776313',\n '445375380',\n '445374661',\n '445318510',\n '445317833',\n '445302049',\n '444853316',\n '444391654',\n '443023305',\n '442552981',\n '442084685',\n '441614119',\n '441143518',\n '439789553',\n '439319367',\n '438819858',\n '438365977',\n '437912997',\n '436555262',\n '436083009',\n '435612818',\n '435167513',\n '434716584',\n '426869245',\n '426377076',\n '425952907',\n '424670121',\n '424250883',\n '423792187',\n '423292744',\n '422860096',\n '421559374',\n '421122362',\n '420621383',\n '419245712',\n '418802189',\n '414256941',\n '413256413',\n '412778227',\n '411832315',\n '410315530',\n '407457306',\n '406397444',\n '405423139',\n '403960817',\n '403403519',\n '402876459',\n '402388026',\n '400378301',\n '399807785',\n '399268148',\n '398784215',\n '396835440',\n '396277909',\n '395748264',\n '395268008',\n '393268509',\n '392683639',\n '392138062',\n '391638335',\n '389582060',\n '388999837',\n '388454355',\n '387935374',\n '385880241',\n '385288827',\n '384730166',\n '384213759',\n '383687548',\n '382056069',\n '381465351',\n '380890178',\n '380414944',\n '379896830',\n '374457276',\n '373842574',\n '373285771',\n '372771800',\n '372211484',\n '370613074',\n '370007461',\n '369418142',\n '368910124',\n '368411353',\n '366853384',\n '366256341',\n '365716406',\n '365226896',\n '364727783',\n '346550680',\n '346049428',\n '345618051',\n '330942774',\n '328431697',\n '327970702',\n '325411081',\n '324947239',\n '323747928',\n '323331933',\n '322926522',\n '322480618',\n '321999766',\n '321530531',\n '321108176',\n '320713900',\n '319420633',\n '318970697',\n '318208300',\n '317807282',\n '317414511',\n '317408087',\n '317015249',\n '313203581',\n '312771632',\n '312374758',\n '311586862',\n '310785508',\n '309879403',\n '309065241',\n '307372160',\n '298776271',\n '297557214',\n '296279166',\n '294983059',\n '294567874',\n '294144241',\n '293337177',\n '292937919',\n '292133135',\n '291727571',\n '291321527',\n '290523079',\n '290138840',\n '289757896',\n '289378947',\n '288944855',\n '288553600',\n '287733252',\n '287327364',\n '286918603',\n '286511664',\n '286097349',\n '285681881',\n '284878342',\n '284487267',\n '284089206',\n '283668508',\n '283293375',\n '282151656',\n '281785624',\n '281399020',\n '281083416',\n '281071594',\n '281048621',\n '280729780',\n '279999374',\n '279612766',\n '279238636',\n '278868191',\n '278501686',\n '278089814',\n '277730067',\n '276940044',\n '276547976',\n '276150049',\n '275763423',\n '275331600',\n '274973631',\n '274232916',\n '273850750',\n '273469841',\n '273097339',\n '272677697',\n '272323369',\n '263433967',\n '263045418',\n '262665255',\n '261589638',\n '261236127',\n '260878429',\n '260486966',\n '260103781',\n '259397378',\n '259032945',\n '258303133',\n '257920319',\n '257559969',\n '257205765',\n '253171973',\n '252029410',\n '251272639',\n '250188762',\n '247986496',\n '246465955',\n '244954127',\n '242649376',\n '242242346',\n '241501873',\n '241130624',\n '240787254',\n '240771831',\n '240771732',\n '240771642',\n '240757920',\n '240036473',\n '239663404',\n '238953168',\n '238607824',\n '238262769',\n '237556472',\n '237164666',\n '236454753',\n '236104583',\n '235761613',\n '235063055',\n '234672075',\n '233970035',\n '233634928',\n '233300993',\n '232649296',\n '232642641',\n '232642151',\n '232642000',\n '232641790',\n '232636990',\n '232635087',\n '232265816',\n '231574357',\n '231248501',\n '230928829',\n '230928013',\n '227914023',\n '227548193']"
     },
     "metadata": {},
     "execution_count": 97
    }
   ],
   "source": [
    "video_id"
   ]
  },
  {
   "cell_type": "code",
   "execution_count": 90,
   "metadata": {},
   "outputs": [],
   "source": [
    "video_name_full = []\n",
    "for i in list_:\n",
    "    if 'h3 class=\"tw-ellipsis tw-font-size-5\"' in i:\n",
    "        video_name_full.append(i)"
   ]
  },
  {
   "cell_type": "code",
   "execution_count": 95,
   "metadata": {
    "tags": [
     "outputPrepend"
    ]
   },
   "outputs": [],
   "source": [
    "video_name = []\n",
    "for i in video_name_full:\n",
    "    video_name.append(i.split('title')[1].split('\"')[1])"
   ]
  },
  {
   "cell_type": "code",
   "execution_count": 96,
   "metadata": {},
   "outputs": [
    {
     "output_type": "execute_result",
     "data": {
      "text/plain": "['[2020 우리은행 LCK Spring Split] GRF vs. HLE - DRX vs. APK',\n '[2020 우리은행 LCK Spring Split] GEN vs. KT - T1 vs. AF - DWG vs. SB',\n '[2020 우리은행 LCK Spring Split] DRX vs. AF - HLE vs. GEN',\n '[2020 우리은행 LCK Spring Split] APK vs. HLE - SB vs. KT',\n '[2020 우리은행 LCK Spring Split] DRX vs. DWG - T1 vs. KT',\n '[2020 우리은행 LCK Spring Split] SB vs. T1 - AF vs. GRF',\n '[2020 우리은행 LCK Spring Split] DWG vs. GRF - APK vs. GEN',\n '[2020 우리은행 LCK Spring Split] DWG vs. T1 - APK vs. GRF - HLE vs. AF',\n '[2020 우리은행 LCK Spring Split] APK vs. KT - SB vs. HLE - GEN vs. DRX',\n '[2020 우리은행 LCK Spring Split] GEN vs. SB - GRF vs. T1 - AF vs. DWG',\n '[2020 우리은행 LCK Spring Split] AF vs. APK - DWG vs. HLE - KT vs. DRX',\n '[2020 우리은행 LCK Spring Split] DRX vs. SB - KT vs. GRF - GEN vs. T1',\n '[2020 우리은행 LCK Spring Split] T1 vs. HLE - APK vs. SB - KT vs. AF',\n '[2020 우리은행 LCK Spring Split] DWG vs. APK - AF vs. GEN - GRF vs. DRX',\n '[2020 우리은행 LCK Spring Split] HLE vs. KT - SB vs. GRF - T1 vs. DRX',\n '[2020 우리은행 LCK Spring Split] AF vs. SB - T1 vs. APK - GEN vs. DWG',\n '[2020 우리은행 LCK Spring Split] GRF vs. GEN - KT vs. DWG - HLE vs. DRX',\n '페이커 2000킬 기념영상 ',\n 'LCK 해설진들이 뽑은  LCK 올스타 팀은? [2020 우리은행 2라운드 LCK  LOL분 토론 1-3편]',\n 'LCK 2라운드를 관전하기 위해 주목해야할 포인트는? [2020 우리은행 2라운드 LCK  LOL분 토론 1-2편]',\n 'LCK는 과연 정말로 지루할까? [2020 우리은행 2라운드 LCK  LOL 분 토론 1-1편]',\n '[2020 우리은행 LCK Spring Split] GRF vs. KT',\n '[2020 우리은행 LCK Spring Split] SB vs. GEN  - AF vs. T1',\n '[2020 우리은행 LCK Spring Split] DWG vs. DRX - HLE vs. APK',\n '[2020 우리은행 LCK Spring Split] GEN vs. APK - DRX vs. GRF',\n '[2020 우리은행 LCK Spring Split] KT vs. HLE - DWG vs. AF',\n '[2020 우리은행 LCK Spring Split] APK vs. DRX - T1 vs. SB',\n '[2020 우리은행 LCK Spring Split] GEN vs. AF - HLE vs. DWG',\n '[2020 우리은행 LCK Spring Split] KT vs. SB - T1 vs. GRF',\n '[2020 우리은행 LCK Spring Split] AF vs. KT - SB vs. DWG',\n '[2020 우리은행 LCK Spring Split] HLE vs. GRF - APK vs. T1',\n '[2020 우리은행 LCK Spring Split] SB vs. AF - DRX vs. GEN',\n '[2020 우리은행 LCK Spring Split] GRF vs. DWG - KT vs. APK',\n '[2020 우리은행 LCK Spring Split] GEN vs. HLE - DRX vs. T1',\n '[2020 우리은행 LCK Spring Split] DWG vs. KT  - T1 vs. GEN',\n '[2020 우리은행 LCK Spring Split] AF vs. DRX  - HLE vs. SB',\n '[2020 우리은행 LCK Spring Split] DWG vs. GEN  - GRF vs. APK',\n '[2020 우리은행 LCK Spring Split] KT vs. T1  - DRX vs. HLE',\n '[2020 우리은행 LCK Spring Split] APK vs. AF - GRF vs. SB',\n '[2020 우리은행 LCK Spring Split] SB vs. DRX - AF vs. HLE',\n '[2020 우리은행 LCK Spring Split] APK vs. DWG - GEN vs. GRF',\n '[2020 우리은행 LCK Spring Split] HLE vs. T1 - DRX vs. KT',\n '[2020 우리은행 LCK Spring Split] SB vs. APK - GRF vs. AF',\n '[2020 우리은행 LCK Spring Split] T1 vs. DWG - KT vs. GEN',\n '2019 LoL 올스타전 3일차',\n '2019 LoL 올스타전 2일차',\n '2019 LoL 올스타전 1일차',\n '2019 LoL 월드 챔피언십 결승전 : FPX vs. G2',\n '2019 LoL 월드 챔피언십 4강전 2일차 : SKT vs. G2',\n '2019 LoL 월드 챔피언십 4강전 1일차 : IG vs. FPX',\n '2019 LoL 월드 챔피언십 8강전 1일차 : SKT vs. SPY l DWG vs. G2',\n '2019 LoL 월드 챔피언십 8강전 1일차 : GRF vs. IG l FPX vs. FNC',\n '2019 LoL 월드 챔피언십 그룹 스테이지 8일차',\n '2019 LoL 월드 챔피언십 그룹 스테이지 7일차',\n '2019 LoL 월드 챔피언십 그룹 스테이지 6일차',\n '2019 LoL 월드 챔피언십 그룹 스테이지 5일차',\n '2019 LoL 월드 챔피언십 그룹 스테이지 4일차',\n '2019 LoL 월드 챔피언십 그룹 스테이지 3일차',\n '2019 LoL 월드 챔피언십 그룹 스테이지 2일차',\n '2019 LoL 월드 챔피언십 그룹 스테이지 1일차',\n '2019 LoL 월드 챔피언십 플레이-인 넉아웃 스테이지 2일차 :  HKA vs. ISG l SPY vs. UOL',\n '2019 LoL 월드 챔피언십 플레이-인 넉아웃 스테이지 1일차 :  DWG vs. LK l CG vs. RYL',\n '2019 LoL 월드 챔피언십 플레이-인 그룹 스테이지 4일차',\n '2019 LoL 월드 챔피언십 플레이-인 그룹 스테이지 3일차',\n '2019 LoL 월드 챔피언십 플레이-인 그룹 스테이지 2일차',\n '2019 LoL 월드 챔피언십 플레이-인 그룹 스테이지 1일차',\n '2019 LoL 월드 챔피언십 조추첨식',\n '[2020 LCK 스프링 승강전] JAG vs. HLE',\n '[2020 LCK 스프링 승강전] APK vs. JAG | HLE vs. DYN',\n '[2020 LCK 스프링 승강전] HLE vs. APK | JAG vs. DYN',\n '[2019 LoL 월드챔피언십 한국대표팀 선발전] Finals | DWG vs. KZ',\n '[2019 LoL 월드챔피언십 한국대표팀 선발전] Round 2 | SB vs. KZ',\n '[2019 LoL 월드챔피언십 한국대표팀 선발전] Round 1 | KZ vs. AF',\n '[2019 우리은행 LCK Summer] Playoffs Finals | GRF vs. SKT',\n '[2019 우리은행 LCK Summer] Playoffs Semifinals | DWG vs. SKT',\n '[2019 우리은행 LCK Summer] Playoffs Round 1 | SB vs. SKT',\n '[2019 우리은행 LCK Summer] Wild Card | SKT vs. AF',\n '[2019 우리은행 LCK Summer] DWG vs. GEN - HLE vs. GRF',\n '[2019 우리은행 LCK Summer] KZ vs. KT - SB vs. SKT',\n '[2019 우리은행 LCK Summer] GRF vs. JAG - AF vs. HLE',\n '[2019 우리은행 LCK Summer] SKT vs. DWG - KT vs. SB',\n '[2019 우리은행 LCK Summer] GRF vs. KZ - GEN vs. AF',\n '[2019 우리은행 LCK Summer] HLE vs. SKT - KT vs. JAG',\n '[2019 우리은행 LCK Summer] AF vs. SB - GEN vs. GRF',\n '[2019 우리은행 LCK Summer] JAG vs. KZ - DWG vs. KT',\n '[2019 우리은행 LCK Summer] HLE vs. DWG - KZ vs. SB',\n '[2019 우리은행 LCK Summer] JAG vs. GEN - SKT vs. AF',\n '[2019 우리은행 LCK Summer] KT vs. HLE - SB vs. GRF',\n '[2019 우리은행 LCK Summer] SKT vs. KZ - AF vs. DWG',\n '[2019 우리은행 LCK Summer] GRF vs. SKT - DWG vs. JAG',\n '[2019 우리은행 LCK Summer] KZ vs. AF - GEN vs. KT',\n '[2019 우리은행 LCK Summer] DWG vs. SB - JAG vs. HLE',\n '[2019 우리은행 LCK Summer] KT vs. GRF - SKT vs. GEN',\n '[2019 우리은행 LCK Summer] JAG vs. AF - HLE vs. SB',\n '[2019 우리은행 LCK Summer] GRF vs. DWG - GEN vs. KZ',\n '[2019 우리은행 LCK Summer] JAG vs. SKT - AF vs. KT',\n '[2019 우리은행 LCK Summer] SB vs. GEN - KZ vs. HLE',\n '[2019 우리은행 LCK Summer] AF vs. GRF - HLE vs. GEN',\n '[2019 우리은행 LCK Summer] SB vs. JAG - DWG vs. KZ',\n '[2019 우리은행 LCK Summer] GRF vs. GEN - KT vs. SKT',\n '[2019 우리은행 LCK Summer] SB vs. DWG - AF vs. JAG',\n '[2019 우리은행 LCK Summer] KT vs. KZ - SKT vs. HLE',\n 'FINALS | Rift Rivals: KR vs. CN (2019)',\n 'SEMI FINALS | Rift Rivals: CN vs. LMS/VN (2019)',\n 'Day 2 | Rift Rivals: KR/CN/LMS/VN (2019)',\n 'Day 1 | Rift Rivals: KR/CN/LMS/VN (2019)',\n 'Day 1 | Rift Rivals: KR/CN/LMS/VN (2019)',\n '[2019 우리은행 LCK Summer] DWG vs. HLE - KZ vs. GRF',\n '[2019 우리은행 LCK Summer] GEN vs. SKT - KT vs. AF',\n '[2019 우리은행 LCK Summer] HLE vs. KZ - JAG vs. SB',\n '[2019 우리은행 LCK Summer] HLE vs. KZ - JAG vs. SB',\n '[2019 우리은행 LCK Summer] HLE vs. KZ - JAG vs. SB',\n '[2019 우리은행 LCK Summer] HLE vs. KZ - JAG vs. SB',\n '[2019 우리은행 LCK Summer] HLE vs. KZ - JAG vs. SB',\n '[2019 우리은행 LCK Summer] DWG vs. AF - SKT vs. KT',\n '[2019 우리은행 LCK Summer] GEN vs. SB - JAG vs. GRF',\n '[2019 우리은행 LCK Summer] AF vs. GEN - SB vs. KT',\n '[2019 우리은행 LCK Summer] SKT vs. GRF - HLE vs. JAG',\n '[2019 우리은행 LCK Summer] SB vs. AF - KZ vs. DWG',\n '[2019 우리은행 LCK Summer] GRF vs. KT - GEN vs. HLE',\n '[2019 우리은행 LCK Summer] DWG vs. SKT - KZ vs. JAG',\n '[2019 우리은행 LCK Summer] KT vs. GEN - JAG vs. DWG',\n '[2019 우리은행 LCK Summer] AF vs. KZ - SKT vs. SB',\n '[2019 우리은행 LCK Summer] KT vs. DWG - GRF vs. HLE',\n '[2019 우리은행 LCK Summer] GEN vs. JAG - KZ vs. SKT',\n '[2019 우리은행 LCK Summer] HLE vs. AF - GRF vs. SB',\n '[2019 우리은행 LCK Summer] SB vs. KZ - AF vs. SKT',\n '[2019 우리은행 LCK Summer] HLE vs. KT - DWG vs. GRF',\n '[2019 우리은행 LCK Summer] SKT vs. JAG - KZ vs. GEN',\n '[2019 우리은행 LCK Summer] SB vs. HLE - GRF vs. AF',\n '[2019 우리은행 LCK Summer] JAG vs. KT - GEN vs. DWG',\n 'G2 vs. TL | Finals | 2019 Mid-Season Invitational | G2 Esports vs. Team Liquid',\n 'SKT vs. G2 | Semifinals Day 2 | 2019 Mid-Season Invitational | SK telecom T1 vs. G2 Esports',\n 'IG vs. TL | Semifinals Day 1 | 2019 Mid-Season Invitational | Invictus Gaming vs. Team Liquid',\n 'Group Stage Day 5 | 2019 Mid-Season Invitational',\n 'Group Stage Day 4 | 2019 Mid-Season Invitational',\n 'Group Stage Day 3 | 2019 Mid-Season Invitational',\n 'Group Stage Day 2 | 2019 Mid-Season Invitational',\n 'Group Stage Day 1 | 2019 Mid-Season Invitational',\n 'PVB vs. VEG | Play-In Knockouts | MSI 2019 | Phong V? Buffalo vs. Vega Squadron',\n 'TL vs. PVB - FW vs. VEG | Play-In Knockouts | 2019 Mid-Season Invitational',\n 'Play-In Stage | Day 3 | 2019 Mid-Season Invitational',\n 'Play-In Groups | Day 2 | 2019 Mid-Season Invitational',\n 'Play-In Groups | Day 1 | 2019 Mid-Season Invitational',\n '[2019 스무살우리 LCK Spring Split] Summer Promotion I JAG vs. ESS',\n '[2019 스무살우리 LCK Spring Split] Summer Promotion I VSG vs. ESS',\n '[2019 스무살우리 LCK Spring Split] Summer Promotion I KT vs. JAG',\n '[2019 스무살우리 LCK Spring Split] Summer Promotion I KT vs. VSG, JAG vs. ESS',\n '[2019 스무살우리 LCK Spring Split] FINALS I GRF vs. SKT',\n '[2019 스무살우리 LCK Spring Split] Playoffs 2라운드 I SKT vs. KZ',\n '[2019 스무살우리 LCK Spring Split] Playoffs 1라운드 I KZ vs. DWG',\n '[2019 스무살우리 LCK Spring Split] WILD CARD I SB vs. DWG',\n '[2019 스무살우리 LCK Spring Split]  JAG vs. GRF - KT vs. DWG',\n '[2019 스무살우리 LCK Spring Split]  SB vs. GEN - SKT vs. AF',\n '[2019 스무살우리 LCK Spring Split]  HLE vs. KT - GRF vs. KZ',\n '[2019 스무살우리 LCK Spring Split]  JAG vs. SKT - GEN vs. DWG',\n '[2019 스무살우리 LCK Spring Split]  HLE vs. SB - AF vs. KZ',\n '[2019 스무살우리 LCK Spring Split]  JAG vs. KT - GRF vs. DWG',\n '[2019 스무살우리 LCK Spring Split]  AF vs. GEN - SKT vs. SB',\n '[2019 스무살우리 LCK Spring Split]  GRF vs. HLE - KZ vs. KT',\n '[2019 스무살우리 LCK Spring Split]  HLE vs. SKT - GEN vs. KZ',\n '[2019 스무살우리 LCK Spring Split]  AF vs. GRF - KT vs. SB',\n '[2019 스무살우리 LCK Spring Split]  KZ vs. JAG - DWG vs. HLE',\n '[2019 스무살우리 LCK Spring Split]  GRF vs. GEN - SKT vs. KT',\n '[2019 스무살우리 LCK Spring Split]  KT vs. AF - SB vs. GRF',\n '[2019 스무살우리 LCK Spring Split]  HLE vs. JAG - KZ vs. DWG',\n '[2019 스무살우리 LCK Spring Split]  SKT vs. GRF - KT vs. GEN',\n '[2019 스무살우리 LCK Spring Split]  SB vs. DWG - JAG vs. AF',\n '[2019 스무살우리 LCK Spring Split]  GEN vs. HLE - KZ vs. SKT',\n '[2019 스무살우리 LCK Spring Split]  AF vs. DWG - SB vs. JAG',\n '[2019 스무살우리 LCK Spring Split]  KZ vs. HLE - SKT vs. GEN',\n '[2019 스무살우리 LCK Spring Split]  SB vs. AF - DWG vs. JAG',\n '[2019 스무살우리 LCK Spring Split]  DWG vs. SKT - HLE vs. AF',\n '[2019 스무살우리 LCK Spring Split]  KZ vs. SB - GEN vs. JAG',\n '[2019 스무살우리 LCK Spring Split]  HLE vs. DWG - KT vs. GRF',\n 'LCK Spring:  KZ vs. JAG - AF vs. SB',\n 'LCK Spring:  GRF vs. GEN - KT vs. SKT',\n 'LCK Spring:  AF vs. GRF - KT vs. SB',\n 'LCK Spring: GEN vs. SKT - DWG vs. JAG',\n 'LCK Spring: KT vs. GRF - KZ vs. HLE',\n 'LCK Spring: AF vs. DWG - SB vs. JAG',\n 'LCK Spring: GEN vs. HLE - KZ vs. SKT',\n 'LCK Spring: KZ vs. GEN - HLE vs. SKT',\n 'LCK Spring: KT vs. AF - GRF vs. SB',\n 'LCK Spring: KZ vs. DWG - HLE vs. JAG',\n 'LCK Spring: GRF vs. SKT - KT vs. GEN',\n 'LCK Spring: DWG vs. SB - AF vs. JAG',\n 'LCK Spring: DWG vs. SKT - GEN vs. JAG',\n 'LCK Spring: AF vs. KZ - HLE vs. SB',\n 'LCK Spring: KT vs. JAG - GRF vs. DWG',\n 'LCK Spring: SB vs. SKT - AF vs. GEN',\n 'LCK Spring: KT vs. KZ - GRF vs. HLE',\n 'LCK Spring: KZ vs. SB - AF vs. HLE',\n 'LCK Spring: KT vs. DWG - GRF vs. JAG',\n 'LCK Spring: GEN vs. SB - AF vs. SKT',\n 'LCK Spring: KT vs. HLE - KZ vs. GRF',\n 'LCK Spring: SKT vs. JAG - GEN vs. DWG',\n '2018 LoL All-star Day 3',\n '2018 LoL All-star Day 2',\n '2018 LoL All-star Day 1',\n '2018 LoL World Championship 결승 IG VS FNC',\n '2018 LoL World Championship 4강 C9 VS FNC ',\n '2018 LoL World Championship 4강 G2 VS IG',\n '2018 LoL World Championship 8강 AFS VS C9 l FNC VS EDG',\n '2018 LoL World Championship 8강 KT VS IG l RNG VS G2',\n '2018 LoL World Championship 그룹 스테이지 Day 8',\n '2018 LoL World Championship 그룹 스테이지 Day 7',\n '2018 LoL World Championship 그룹 스테이지 Day 6',\n '2018 LoL World Championship 그룹 스테이지 Day 5',\n '2018 LoL World Championship 그룹 스테이지 Day 4',\n '2018 LoL World Championship 그룹 스테이지 Day 3',\n '2018 LoL World Championship 그룹 스테이지 Day 2',\n '2018 LoL World Championship 그룹 스테이지 Day 1',\n '2018 LoL World Championship 플레이 인 스테이지 Day 6 : G2 VS INF l GRX VS SUP',\n '2018 LoL World Championship 플레이 인 스테이지 Day 5 : C9 VS GMB l EDG VS DFM',\n '2018 LoL World Championship 플레이 인 스테이지 Day 4',\n '2018 LoL World Championship 플레이 인 스테이지 Day 3',\n '2018 LoL World Championship 플레이 인 스테이지 Day 2',\n '2018 LoL World Championship 플레이 인 스테이지 Day 2 : EDG VS INF',\n '2018 LoL World Championship 플레이 인 스테이지 Day 1',\n '2019 LCK 스프링 승강전 : BtC vs. MVP',\n '2019 LCK 스프링 승강전 : MVP vs. bbq',\n '2019 LCK 스프링 승강전 : BtC vs. DWG',\n '2019 LCK 스프링 승강전 : MVP vs. BtC | bbq vs. DWG',\n '2018 LoL 월드챔피언십 한국대표팀 선발전: KZ vs. GEN',\n '2018 LoL 월드챔피언십 한국대표팀 선발전: GRF vs. GEN',\n '2018 LoL 월드챔피언십 한국대표팀 선발전: GEN vs. SKT',\n 'LCK Summer Finals: kt Rolster vs. Griffin',\n 'LCK Playoffs: Griffin vs Afreeca Freecs',\n 'LCK Summer Playoff R1: KZ vs AFs',\n 'LCK Summer WILD CARD: GEN vs. AFs',\n 'LCK Summer: SKT vs. KZ - MVP vs. KT',\n 'LCK Summer: AFS vs. JAG - GRF vs. BBQ',\n 'LCK Summer: GEN vs. MVP - HLE vs. KT',\n 'LCK Summer: AFs vs. HEL -KZ vs. bbq',\n 'LCK Summer: SKT vs. GRF - GEN vs. JAG',\n 'LCK Summer: HLE vs. MVP - JAG vs. KT',\n 'LCK Summer: BBQ vs. GEN - SKT vs. AFS',\n 'LCK Summer: JAG vs. GRF - KZ vs. HLE',\n 'LCK Summer: SKT vs. GEN - KT vs. bbq',\n 'LCK Summer: AFS vs. KZ - GRF vs. MVP',\n 'LCK Summer: BBQ vs. HLE - JAG vs. SKT',\n 'LCK Summer: KZ vs. KT - GEN vs. GRF',\n 'LCK Summer: SKT vs. BBQ - HLE vs. JAG - MVP vs. AFS',\n 'LCK Summer: GRF vs. KZ - GEN vs. KT',\n 'LCK Summer: KZ vs. MVP - AFs vs. GEN',\n 'LCK Summer: GRF vs. KT - SKT vs. HLE',\n 'LCK Summer: JAG vs. MVP - bbq vs. AFs',\n 'LCK Summer: HLE vs. GRF - KT vs. SKT',\n 'LCK Summer: GEN vs. KZ - JAG vs. bbq',\n 'LCK Summer: AFs vs. GRF - MVP vs. SKT',\n 'LCK Summer: KT vs. AFs - HLE vs. GEN',\n 'LCK Summer: KZ vs. JAG - MVP vs. BBQ',\n 'LCK Summer: GRF vs. GEN - HLE vs. SKT',\n 'LCK Summer: BBQ vs. JAG - MVP vs. KZ',\n 'LCK Summer: GRF vs, AFS - KT vs. HLE',\n '2018  LoL Rift Rivals - 4일차(파이널)',\n '2018  LoL Rift Rivals - 3일차(세미 파이널)',\n '2018  LoL Rift Rivals - 2일차(그룹 스테이지)',\n '2018  LoL Rift Rivals - 1일차(그룹 스테이지)',\n '2018  LoL Rift Rivals - 1일차(그룹 스테이지)',\n '2018  LoL Rift Raivals - 1일차(그룹 스테이지)',\n '2018 아시안게임 리그 오브 레전드 시범경기 - 2일차',\n '2018 아시안게임 리그 오브 레전드 시범경기 - 1일차',\n 'LCK Summer: GEN vs. AFs - KT vs. MVP',\n 'LCK Summer: HLE vs. KZ - BBQ vs. SKT',\n 'LCK Summer: AFs vs. MVP - JAG vs. GEN',\n 'LCK Summer: KT vs. GRF - KZ vs. SKT',\n 'LCK Summer: MVP vs. HLE - GEN vs. BBQ l JAG vs. AFS',\n 'LCK Summer: SKT vs. KT - KZ vs. GRF',\n 'LCK Summer: SKT vs. JAG - bbq vs. KZ',\n 'LCK Summer: KT vs. GEN - AFS vs. HLE',\n 'LCK Summer: GRF vs. SKT - MVP vs. JAG',\n 'LCK Summer: KZ vs. AFS - BBQ vs. KT',\n 'LCK Summer: GRF vs. JAG - SKT vs. MVP - GEN vs. HLE',\n 'LCK Summer: KT vs. KZ | AFs vs. bbq',\n 'LCK Summer: MVP vs. GEN | JAG vs. HLE',\n 'LCK Summer: AF vs. KT | bbq vs. GRF',\n 'LCK Summer: JAG vs. KZ | GEN vs. SKT',\n 'LCK Summer: KZ vs. GEN - AFS vs. SKT - KT vs. JAG',\n 'LCK Summer: KZ vs. GEN - AFS vs. SKT - KT vs. JAG',\n 'LCK Summer: bbq vs. MVP | GRF vs. HLE',\n 'Finals | Mid-Season Invitational | Royal Never Give Up vs. KING-ZONE DragonX (2018)',\n 'FW vs. KZ | Semifinals | Mid-Season Invitational | Flash Wolves vs. KING-ZONE DragonX (2018)',\n 'RNG vs. FNC | Semifinals | Mid-Season Invitational | Royal Never Give Up vs. Fnatic (2018)',\n 'Group Stage Day 5 | Mid-Season Invitational (2018)',\n 'Group Stage Day 4 | Mid-Season Invitational (2018)',\n 'Group Stage Day 3 | Mid-Season Invitational (2018)',\n 'Mid-Season Invitational: Group Stage Day 2',\n 'Group Stage Day 1 | Mid-Season Invitational (2018)',\n 'FW vs. GMB | Play-In Knockout | Mid-Season Invitational | Flash Wolves vs. Gambit Esports (2018)',\n 'EVS vs. SUP | Play-In Knockout | Mid-Season Invitational | EVOS Esports vs. BAUSuperMassive (2018)',\n 'MSI Play-In Day 4',\n 'MSI Play-In Day 3',\n 'MSI Play-In Day 2',\n 'MSI Play-In Groups Day 1',\n 'LCK Summer Promotion: MVP vs. KDM',\n 'LCK Summer Promotion: MVP vs. FIN',\n 'LCK Summer Promotion: Day 1',\n 'LCK Spring Finals: KZ vs. AFs',\n 'LCK Spring Playoffs: AFs vs. KT',\n 'LCK Spring Playoffs: KT vs. SKT',\n 'LCK Spring Playoffs: SKT vs. KSV',\n 'LCK Spring: KDM vs. SKT | KT vs. AFs',\n 'LCK Spring: KSV vs. KZ | ROX vs. JAG',\n 'LCK Spring: BBQ vs. KDM | SKT vs. MVP',\n 'LCK Spring: KSV vs. ROX | KZ vs. JAG',\n 'LCK Spring: MVP vs. KT | bbq vs. AFs',\n 'LCK Spring: MVP vs. KT | bbq vs. AFs',\n 'LCK Spring: MVP vs. KT | bbq vs. AFs',\n 'LCK Spring: MVP vs. KT | bbq vs. AFs',\n 'LCK Spring: MVP vs. KT | bbq vs. AFs',\n 'LCK Spring: MVP vs. AFS | BBQ vs. KT',\n 'LCK Spring: MVP vs. AFS | BBQ vs. KT',\n 'LCK Spring: JAG vs. AFS | KZ vs. KT',\n 'LCK Spring: MVP vs. KDM | SKT vs. bbq',\n 'LCK Spring: ROX vs. KZ | KSV vs. JAG',\n 'LCK Spring: AFs vs. KDM | KZ vs. bbq',\n 'LCK Spring: MVP vs. JAG | KT vs. KSV',\n 'LCK Spring: SKT vs. KT | AFS vs. ROX',\n 'LCK Spring: JAG vs. KDM | bbq vs. KSV',\n 'LCK Spring: SKT vs. KZ | ROX vs. MVP',\n 'LCK Spring: KDM vs. KZ | ROX vs. bbq',\n 'LCK Spring: KDM vs. KZ | ROX vs. bbq',\n 'LCK Spring: AFS vs. SKT | KT vs. KDM',\n 'LCK Spring: JAG vs. BBQ | KZ vs. MVP',\n 'LCK Spring: AFs vs. KSV | KT vs. ROX',\n 'LCK Spring: JAG vs. KT | MVP vs. bbq',\n 'LCK Spring: JAG vs. KT | MVP vs. bbq',\n 'LCK Spring: JAG vs. KT | MVP vs. bbq',\n 'LCK Spring: JAG vs. KT | MVP vs. bbq',\n 'LCK Spring: JAG vs. KT | MVP vs. bbq',\n 'LCK Spring: ROX vs. SKT | KZ vs. AFS',\n 'LCK Spring: ROX vs. SKT | KZ vs. AFS',\n 'LCK Spring: ROX vs. SKT | KZ vs. AFS',\n 'LCK Spring: BBQ vs. KZ | KDM vs. KSV',\n 'LCK Spring: AFS vs. JAG | MVP vs. ROX',\n 'LCK Spring: SKT vs. KSV | KDM vs. KT',\n 'LCK Spring: SKT vs. KSV | KDM vs. KT',\n 'LCK Spring: SKT vs. KSV | KDM vs. KT',\n 'LCK Spring: JAG vs. KZ | bbq vs. MVP']"
     },
     "metadata": {},
     "execution_count": 96
    }
   ],
   "source": [
    "video_name"
   ]
  },
  {
   "cell_type": "code",
   "execution_count": null,
   "metadata": {},
   "outputs": [],
   "source": []
  }
 ]
}