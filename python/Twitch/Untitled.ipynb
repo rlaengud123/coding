{
 "cells": [
  {
   "cell_type": "code",
   "execution_count": 3,
   "metadata": {},
   "outputs": [],
   "source": [
    "import json\n",
    "import urllib.request\n",
    "from datetime import datetime\n",
    "from datetime import timedelta\n",
    "import re\n",
    "\n",
    "def collectClip(videoID, lim, Clientid, File):\n",
    "    url = \"https://api.twitch.tv/kraken/videos/\" + videoID # + \"&limit=\" + str(lim)\n",
    "    req = urllib.request.Request(url, headers = {\"Client-ID\": Clientid, \"Accept\" : \"application/vnd.twitchtv.v5+json\"})\n",
    "    u = urllib.request.urlopen(req)\n",
    "    c = u.read().decode('utf-8')\n",
    "    js = json.loads(c)\n",
    "    \n",
    "    return js\n",
    "    # collectChat(js, lim, Clientid, File)\n",
    "\n",
    "# def collectChat(j, limit, clientId, f):\n",
    "\n",
    "\n",
    ""
   ]
  },
  {
   "cell_type": "code",
   "execution_count": 4,
   "metadata": {},
   "outputs": [],
   "source": [
    "if __name__ == \"__main__\":\n",
    "    file = open(\"clipchat.txt\", \"w\", encoding=\"utf-8\")\n",
    "    videoID = \"583792771\"\n",
    "    Limit = 1\n",
    "    ClientId = \"7lwx13o4czugl09409d7nntm1epfwt\" # Client id 추가\n",
    "    js = collectClip(videoID, Limit, ClientId, file)\n",
    "    file.close()"
   ]
  },
  {
   "cell_type": "code",
   "execution_count": 7,
   "metadata": {},
   "outputs": [
    {
     "output_type": "execute_result",
     "data": {
      "text/plain": "{'title': '[2020 우리은행 LCK Spring Split] DWG vs. T1 - APK vs. GRF - HLE vs. AF',\n 'description': None,\n 'description_html': None,\n 'broadcast_id': 37393614160,\n 'broadcast_type': 'archive',\n 'status': 'recorded',\n 'tag_list': '',\n 'views': 31223,\n 'url': 'https://www.twitch.tv/videos/583792771',\n 'language': 'ko',\n 'created_at': '2020-04-05T05:39:43Z',\n 'viewable': 'public',\n 'viewable_at': None,\n 'published_at': '2020-04-05T05:39:43Z',\n '_id': 'v583792771',\n 'recorded_at': '2020-04-05T05:39:42Z',\n 'game': 'League of Legends',\n 'length': 28653,\n 'preview': {'small': 'https://static-cdn.jtvnw.net/cf_vods/d2nvs31859zcd8/20baf2ce1fbb73b5fb72_lck_korea_37393614160_1405907751/thumb/custom-328612ce-5f6a-4790-b72a-f87bc503e7c9-80x45.jpeg',\n  'medium': 'https://static-cdn.jtvnw.net/cf_vods/d2nvs31859zcd8/20baf2ce1fbb73b5fb72_lck_korea_37393614160_1405907751/thumb/custom-328612ce-5f6a-4790-b72a-f87bc503e7c9-320x180.jpeg',\n  'large': 'https://static-cdn.jtvnw.net/cf_vods/d2nvs31859zcd8/20baf2ce1fbb73b5fb72_lck_korea_37393614160_1405907751/thumb/custom-328612ce-5f6a-4790-b72a-f87bc503e7c9-640x360.jpeg',\n  'template': 'https://static-cdn.jtvnw.net/cf_vods/d2nvs31859zcd8/20baf2ce1fbb73b5fb72_lck_korea_37393614160_1405907751/thumb/custom-328612ce-5f6a-4790-b72a-f87bc503e7c9-{width}x{height}.jpeg'},\n 'animated_preview_url': 'https://d2nvs31859zcd8.cloudfront.net/20baf2ce1fbb73b5fb72_lck_korea_37393614160_1405907751/storyboards/583792771-strip-0.jpg',\n 'thumbnails': {'small': [{'type': 'custom',\n    'url': 'https://static-cdn.jtvnw.net/cf_vods/d2nvs31859zcd8/20baf2ce1fbb73b5fb72_lck_korea_37393614160_1405907751/thumb/custom-328612ce-5f6a-4790-b72a-f87bc503e7c9-80x45.jpeg'},\n   {'type': 'generated',\n    'url': 'https://static-cdn.jtvnw.net/cf_vods/d2nvs31859zcd8/20baf2ce1fbb73b5fb72_lck_korea_37393614160_1405907751/thumb/thumb0-80x45.jpg'},\n   {'type': 'generated',\n    'url': 'https://static-cdn.jtvnw.net/cf_vods/d2nvs31859zcd8/20baf2ce1fbb73b5fb72_lck_korea_37393614160_1405907751/thumb/thumb1-80x45.jpg'},\n   {'type': 'generated',\n    'url': 'https://static-cdn.jtvnw.net/cf_vods/d2nvs31859zcd8/20baf2ce1fbb73b5fb72_lck_korea_37393614160_1405907751/thumb/thumb2-80x45.jpg'},\n   {'type': 'generated',\n    'url': 'https://static-cdn.jtvnw.net/cf_vods/d2nvs31859zcd8/20baf2ce1fbb73b5fb72_lck_korea_37393614160_1405907751/thumb/thumb3-80x45.jpg'}],\n  'medium': [{'type': 'custom',\n    'url': 'https://static-cdn.jtvnw.net/cf_vods/d2nvs31859zcd8/20baf2ce1fbb73b5fb72_lck_korea_37393614160_1405907751/thumb/custom-328612ce-5f6a-4790-b72a-f87bc503e7c9-320x180.jpeg'},\n   {'type': 'generated',\n    'url': 'https://static-cdn.jtvnw.net/cf_vods/d2nvs31859zcd8/20baf2ce1fbb73b5fb72_lck_korea_37393614160_1405907751/thumb/thumb0-320x180.jpg'},\n   {'type': 'generated',\n    'url': 'https://static-cdn.jtvnw.net/cf_vods/d2nvs31859zcd8/20baf2ce1fbb73b5fb72_lck_korea_37393614160_1405907751/thumb/thumb1-320x180.jpg'},\n   {'type': 'generated',\n    'url': 'https://static-cdn.jtvnw.net/cf_vods/d2nvs31859zcd8/20baf2ce1fbb73b5fb72_lck_korea_37393614160_1405907751/thumb/thumb2-320x180.jpg'},\n   {'type': 'generated',\n    'url': 'https://static-cdn.jtvnw.net/cf_vods/d2nvs31859zcd8/20baf2ce1fbb73b5fb72_lck_korea_37393614160_1405907751/thumb/thumb3-320x180.jpg'}],\n  'large': [{'type': 'custom',\n    'url': 'https://static-cdn.jtvnw.net/cf_vods/d2nvs31859zcd8/20baf2ce1fbb73b5fb72_lck_korea_37393614160_1405907751/thumb/custom-328612ce-5f6a-4790-b72a-f87bc503e7c9-640x360.jpeg'},\n   {'type': 'generated',\n    'url': 'https://static-cdn.jtvnw.net/cf_vods/d2nvs31859zcd8/20baf2ce1fbb73b5fb72_lck_korea_37393614160_1405907751/thumb/thumb0-640x360.jpg'},\n   {'type': 'generated',\n    'url': 'https://static-cdn.jtvnw.net/cf_vods/d2nvs31859zcd8/20baf2ce1fbb73b5fb72_lck_korea_37393614160_1405907751/thumb/thumb1-640x360.jpg'},\n   {'type': 'generated',\n    'url': 'https://static-cdn.jtvnw.net/cf_vods/d2nvs31859zcd8/20baf2ce1fbb73b5fb72_lck_korea_37393614160_1405907751/thumb/thumb2-640x360.jpg'},\n   {'type': 'generated',\n    'url': 'https://static-cdn.jtvnw.net/cf_vods/d2nvs31859zcd8/20baf2ce1fbb73b5fb72_lck_korea_37393614160_1405907751/thumb/thumb3-640x360.jpg'}],\n  'template': [{'type': 'custom',\n    'url': 'https://static-cdn.jtvnw.net/cf_vods/d2nvs31859zcd8/20baf2ce1fbb73b5fb72_lck_korea_37393614160_1405907751/thumb/custom-328612ce-5f6a-4790-b72a-f87bc503e7c9-{width}x{height}.jpeg'},\n   {'type': 'generated',\n    'url': 'https://static-cdn.jtvnw.net/cf_vods/d2nvs31859zcd8/20baf2ce1fbb73b5fb72_lck_korea_37393614160_1405907751/thumb/thumb0-{width}x{height}.jpg'},\n   {'type': 'generated',\n    'url': 'https://static-cdn.jtvnw.net/cf_vods/d2nvs31859zcd8/20baf2ce1fbb73b5fb72_lck_korea_37393614160_1405907751/thumb/thumb1-{width}x{height}.jpg'},\n   {'type': 'generated',\n    'url': 'https://static-cdn.jtvnw.net/cf_vods/d2nvs31859zcd8/20baf2ce1fbb73b5fb72_lck_korea_37393614160_1405907751/thumb/thumb2-{width}x{height}.jpg'},\n   {'type': 'generated',\n    'url': 'https://static-cdn.jtvnw.net/cf_vods/d2nvs31859zcd8/20baf2ce1fbb73b5fb72_lck_korea_37393614160_1405907751/thumb/thumb3-{width}x{height}.jpg'}]},\n 'fps': {'160p30': 29.969072465028614,\n  '360p30': 29.969072465028614,\n  '480p30': 29.969072465028614,\n  '720p30': 29.969072465028614,\n  '720p60': 59.935074799879345,\n  'chunked': 59.935074799879345},\n 'seek_previews_url': 'https://d2nvs31859zcd8.cloudfront.net/20baf2ce1fbb73b5fb72_lck_korea_37393614160_1405907751/storyboards/583792771-info.json',\n 'resolutions': {'160p30': '284x160',\n  '360p30': '640x360',\n  '480p30': '852x480',\n  '720p30': '1280x720',\n  '720p60': '1280x720',\n  'chunked': '1920x1080'},\n 'restriction': '',\n 'channel': {'mature': False,\n  'status': '[2020 우리은행 LCK Spring Split] DWG vs. GRF - APK vs. GEN',\n  'broadcaster_language': 'ko',\n  'broadcaster_software': 'unknown_rtmp',\n  'display_name': 'LCK_Korea',\n  'game': 'League of Legends',\n  'language': 'en',\n  '_id': 190835892,\n  'name': 'lck_korea',\n  'created_at': '2018-01-15T01:40:09.577844Z',\n  'updated_at': '2020-04-06T12:30:51.975177Z',\n  'partner': True,\n  'logo': 'https://static-cdn.jtvnw.net/jtv_user_pictures/768a63fc-5b33-4106-aebd-8e8f32729bd0-profile_image-300x300.png',\n  'video_banner': 'https://static-cdn.jtvnw.net/jtv_user_pictures/64dfd05e-72d1-40ea-940e-62b84ffd27a8-channel_offline_image-1920x1080.jpeg',\n  'profile_banner': 'https://static-cdn.jtvnw.net/jtv_user_pictures/57f57600-aae8-4912-889c-181dd9586d21-profile_banner-480.jpeg',\n  'profile_banner_background_color': '',\n  'url': 'https://www.twitch.tv/lck_korea',\n  'views': 140457091,\n  'followers': 524568,\n  'broadcaster_type': '0cpm',\n  'description': '',\n  'private_video': False,\n  'privacy_options_enabled': False},\n 'increment_view_count_url': 'https://countess.twitch.tv/ping.gif?u=%7B%22id%22%3A%22583792771%22%2C%22type%22%3A%22vod%22%7D'}"
     },
     "metadata": {},
     "execution_count": 7
    }
   ],
   "source": [
    "js\n",
    "\n",
    "# id = js['clips'][num]['vod']['id']\n",
    "# offset = js['clips'][num]['vod']['offset']\n",
    "# duration = js['clips'][num]['duration']"
   ]
  },
  {
   "cell_type": "code",
   "execution_count": 10,
   "metadata": {},
   "outputs": [
    {
     "output_type": "error",
     "ename": "SyntaxError",
     "evalue": "unexpected EOF while parsing (<ipython-input-10-4f88774811d7>, line 56)",
     "traceback": [
      "\u001b[1;36m  File \u001b[1;32m\"<ipython-input-10-4f88774811d7>\"\u001b[1;36m, line \u001b[1;32m56\u001b[0m\n\u001b[1;33m    #     print(e)\u001b[0m\n\u001b[1;37m                  ^\u001b[0m\n\u001b[1;31mSyntaxError\u001b[0m\u001b[1;31m:\u001b[0m unexpected EOF while parsing\n"
     ]
    }
   ],
   "source": [
    "for num in range(int(limit)):\n",
    "    id = js['_id']\n",
    "    # offset = js['clips'][num]['vod']['offset']\n",
    "    # duration = js['clips'][num]['duration']\n",
    "\n",
    "    cursor = \"\"\n",
    "    count = 0\n",
    "\n",
    "    while(1):\n",
    "        try:\n",
    "            url2 = \"\"\n",
    "            if count == 0:\n",
    "                url2 = \"https://api.twitch.tv/kraken/videos/\" + str(id) + \"/comments?content_offset_seconds=\" + str(1)\n",
    "            else:\n",
    "                url2 = \"https://api.twitch.tv/kraken/videos/\" + str(id) + \"/comments?cursor=\" + str(cursor)\n",
    "            req2 = urllib.request.Request(url2, headers = {\"Client-ID\": clientId, \"Accept\" : \"application/vnd.twitchtv.v5+json\"})\n",
    "            u2 = urllib.request.urlopen(req2)\n",
    "            c2 = u2.read().decode('utf-8')\n",
    "            j2 = json.loads(c2)\n",
    "            endCount = 0\n",
    "            try:\n",
    "                for number, com in enumerate(j2['comments']):\n",
    "\n",
    "                    dateString = j2['comments'][number]['created_at']\n",
    "                    if \".\" in dateString:\n",
    "                        dateString = re.sub(r\".[0-9]+Z\",\"Z\", dateString)\n",
    "                    date = datetime.strptime(dateString, \"%Y-%m-%dT%H:%M:%SZ\")\n",
    "\n",
    "                    if (int(offset) + int(duration)) < int(j2['comments'][number]['content_offset_seconds']):\n",
    "                        endCount = 1\n",
    "                        break\n",
    "                    else:\n",
    "                        f.write(str(j['clips'][num]['title']) + \"\\t\" +\n",
    "                                str(j['clips'][num]['game']) + \"\\t\" +\n",
    "                                str(j['clips'][num]['views']) + \"\\t\" +\n",
    "                                str(j['clips'][num]['duration']) + \"\\t\" +\n",
    "                                str(j['clips'][num]['vod']['url']) + \"\\t\" +\n",
    "                                str(date + timedelta(hours=9)) + \"\\t\" +\n",
    "                                str(j2['comments'][number]['commenter']['name']) + \"\\t\" +\n",
    "                                str(j2['comments'][number]['message']['body']) + \"\\n\")\n",
    "\n",
    "            except Exception as e:\n",
    "                print(e)\n",
    "\n",
    "            if endCount == 1:\n",
    "                break\n",
    "\n",
    "            if j2['_next']:\n",
    "                cursor = j2['_next']\n",
    "\n",
    "            count = count + 1\n",
    "\n",
    "        except Exception as e:\n",
    "            print(e)\n"
   ]
  },
  {
   "cell_type": "code",
   "execution_count": 17,
   "metadata": {
    "tags": [
     "outputPrepend"
    ]
   },
   "outputs": [
    {
     "output_type": "stream",
     "name": "stdout",
     "text": "nnel_id': '190835892', 'content_type': 'video', 'content_id': '583792771', 'content_offset_seconds': 101.007, 'commenter': {'display_name': 'pongpong1050', '_id': '262737226', 'name': 'pongpong1050', 'type': 'user', 'bio': None, 'created_at': '2018-09-26T12:37:45.345778Z', 'updated_at': '2020-04-04T13:31:20.08211Z', 'logo': 'https://static-cdn.jtvnw.net/jtv_user_pictures/1cee5d51-8cbb-4d4b-b695-7c0896c76d1e-profile_image-300x300.png'}, 'source': 'chat', 'state': 'published', 'message': {'body': '3경기는 볼것도 없이 아프리카가 이기겠지', 'fragments': [{'text': '3경기는 볼것도 없이 아프리카가 이기겠지'}], 'is_action': False, 'user_color': '#00FF7F', 'user_notice_params': {}}}, {'_id': '716e6d40-2ffe-4333-9e7f-efa43259d532', 'created_at': '2020-04-05T05:41:28.561Z', 'updated_at': '2020-04-05T05:41:28.561Z', 'channel_id': '190835892', 'content_type': 'video', 'content_id': '583792771', 'content_offset_seconds': 104.861, 'commenter': {'display_name': 'qtr7751', '_id': '247362757', 'name': 'qtr7751', 'type': 'user', 'bio': None, 'created_at': '2018-08-12T11:43:14.190336Z', 'updated_at': '2020-04-01T04:36:06.146007Z', 'logo': 'https://static-cdn.jtvnw.net/user-default-pictures-uv/75305d54-c7cc-40d1-bb9c-91fbe85943c7-profile_image-300x300.png'}, 'source': 'chat', 'state': 'published', 'message': {'body': 'ㅌ1 1등 ㄱㅈㅇ', 'fragments': [{'text': 'ㅌ1 1등 ㄱㅈㅇ'}], 'is_action': False, 'user_notice_params': {}}}, {'_id': 'a062e696-681b-4bae-b3a0-d4cc8360d3cf', 'created_at': '2020-04-05T05:41:28.803Z', 'updated_at': '2020-04-05T05:41:28.803Z', 'channel_id': '190835892', 'content_type': 'video', 'content_id': '583792771', 'content_offset_seconds': 105.103, 'commenter': {'display_name': 'abc4628', '_id': '450250764', 'name': 'abc4628', 'type': 'user', 'bio': None, 'created_at': '2019-07-23T23:55:49.984216Z', 'updated_at': '2020-04-04T13:04:46.343498Z', 'logo': 'https://static-cdn.jtvnw.net/user-default-pictures-uv/294c98b5-e34d-42cd-a8f0-140b72fba9b0-profile_image-300x300.png'}, 'source': 'chat', 'state': 'published', 'message': {'body': '시작했네', 'fragments': [{'text': '시작했네'}], 'is_action': False, 'user_notice_params': {}}}, {'_id': 'f50623d3-1dee-492b-9c68-a500471bf449', 'created_at': '2020-04-05T05:41:35.465Z', 'updated_at': '2020-04-05T05:41:35.465Z', 'channel_id': '190835892', 'content_type': 'video', 'content_id': '583792771', 'content_offset_seconds': 111.765, 'commenter': {'display_name': '히온', '_id': '143224216', 'name': 'gjstmddl12', 'type': 'user', 'bio': None, 'created_at': '2016-12-29T17:41:10.638684Z', 'updated_at': '2020-03-01T11:37:40.251991Z', 'logo': 'https://static-cdn.jtvnw.net/user-default-pictures-uv/75305d54-c7cc-40d1-bb9c-91fbe85943c7-profile_image-300x300.png'}, 'source': 'chat', 'state': 'published', 'message': {'body': 'ㄷㄷㄷㅈ', 'fragments': [{'text': 'ㄷㄷㄷㅈ'}], 'is_action': False, 'user_notice_params': {}}}, {'_id': '8b1bed7c-6499-48bc-b708-b443ea7be0c8', 'created_at': '2020-04-05T05:41:41.667Z', 'updated_at': '2020-04-05T05:41:41.667Z', 'channel_id': '190835892', 'content_type': 'video', 'content_id': '583792771', 'content_offset_seconds': 117.967, 'commenter': {'display_name': '슈소', '_id': '159292154', 'name': 'jjm9075', 'type': 'user', 'bio': None, 'created_at': '2017-06-06T15:02:19.656316Z', 'updated_at': '2020-04-06T04:49:54.106232Z', 'logo': 'https://static-cdn.jtvnw.net/user-default-pictures-uv/dbdc9198-def8-11e9-8681-784f43822e80-profile_image-300x300.png'}, 'source': 'chat', 'state': 'published', 'message': {'body': 'ㅎㅇ', 'fragments': [{'text': 'ㅎㅇ'}], 'is_action': False, 'user_notice_params': {}}}, {'_id': '156907ac-0c8c-46f8-bcc4-0c9aac5ba7c2', 'created_at': '2020-04-05T05:41:45.526Z', 'updated_at': '2020-04-05T05:41:45.526Z', 'channel_id': '190835892', 'content_type': 'video', 'content_id': '583792771', 'content_offset_seconds': 121.826, 'commenter': {'display_name': 'cys0625', '_id': '138114174', 'name': 'cys0625', 'type': 'user', 'bio': None, 'created_at': '2016-10-28T11:16:52.073243Z', 'updated_at': '2020-03-05T13:48:40.526367Z', 'logo': 'https://static-cdn.jtvnw.net/user-default-pictures-uv/998f01ae-def8-11e9-b95c-784f43822e80-profile_image-300x300.png'}, 'source': 'chat', 'state': 'published', 'message': {'body': '킹갓황제티원', 'fragments': [{'text': '킹갓황제티원'}], 'is_action': False, 'user_notice_params': {'msg-id': 'highlighted-message'}}}, {'_id': '78b19eb5-9cd6-426a-aa1a-f08d613ce0e0', 'created_at': '2020-04-05T05:41:51.03Z', 'updated_at': '2020-04-05T05:41:51.03Z', 'channel_id': '190835892', 'content_type': 'video', 'content_id': '583792771', 'content_offset_seconds': 127.33, 'commenter': {'display_name': '재호조아', '_id': '429728504', 'name': 'tjddns1139', 'type': 'user', 'bio': None, 'created_at': '2019-04-13T10:04:58.251077Z', 'updated_at': '2020-03-25T09:15:02.961319Z', 'logo': 'https://static-cdn.jtvnw.net/user-default-pictures-uv/ead5c8b2-a4c9-4724-b1dd-9f00b46cbd3d-profile_image-300x300.png'}, 'source': 'chat', 'state': 'published', 'message': {'body': 'SirUwU SirUwU SirUwU SirPrise SirPrise SirPrise SirSad SirSad SirSad SirMad SirMad SirMad SirSword SirSword SirSword SirShield SirShield SirShield', 'emoticons': [{'_id': '301544927', 'begin': 0, 'end': 5}, {'_id': '301544927', 'begin': 7, 'end': 12}, {'_id': '301544927', 'begin': 14, 'end': 19}, {'_id': '301544926', 'begin': 21, 'end': 28}, {'_id': '301544926', 'begin': 30, 'end': 37}, {'_id': '301544926', 'begin': 39, 'end': 46}, {'_id': '301544924', 'begin': 48, 'end': 53}, {'_id': '301544924', 'begin': 55, 'end': 60}, {'_id': '301544924', 'begin': 62, 'end': 67}, {'_id': '301544923', 'begin': 69, 'end': 74}, {'_id': '301544923', 'begin': 76, 'end': 81}, {'_id': '301544923', 'begin': 83, 'end': 88}, {'_id': '301544922', 'begin': 90, 'end': 97}, {'_id': '301544922', 'begin': 99, 'end': 106}, {'_id': '301544922', 'begin': 108, 'end': 115}, {'_id': '301544919', 'begin': 117, 'end': 125}, {'_id': '301544919', 'begin': 127, 'end': 135}, {'_id': '301544919', 'begin': 137, 'end': 145}], 'fragments': [{'text': 'SirUwU', 'emoticon': {'emoticon_id': '301544927', 'emoticon_set_id': ''}}, {'text': ' '}, {'text': 'SirUwU', 'emoticon': {'emoticon_id': '301544927', 'emoticon_set_id': ''}}, {'text': ' '}, {'text': 'SirUwU', 'emoticon': {'emoticon_id': '301544927', 'emoticon_set_id': ''}}, {'text': ' '}, {'text': 'SirPrise', 'emoticon': {'emoticon_id': '301544926', 'emoticon_set_id': ''}}, {'text': ' '}, {'text': 'SirPrise', 'emoticon': {'emoticon_id': '301544926', 'emoticon_set_id': ''}}, {'text': ' '}, {'text': 'SirPrise', 'emoticon': {'emoticon_id': '301544926', 'emoticon_set_id': ''}}, {'text': ' '}, {'text': 'SirSad', 'emoticon': {'emoticon_id': '301544924', 'emoticon_set_id': ''}}, {'text': ' '}, {'text': 'SirSad', 'emoticon': {'emoticon_id': '301544924', 'emoticon_set_id': ''}}, {'text': ' '}, {'text': 'SirSad', 'emoticon': {'emoticon_id': '301544924', 'emoticon_set_id': ''}}, {'text': ' '}, {'text': 'SirMad', 'emoticon': {'emoticon_id': '301544923', 'emoticon_set_id': ''}}, {'text': ' '}, {'text': 'SirMad', 'emoticon': {'emoticon_id': '301544923', 'emoticon_set_id': ''}}, {'text': ' '}, {'text': 'SirMad', 'emoticon': {'emoticon_id': '301544923', 'emoticon_set_id': ''}}, {'text': ' '}, {'text': 'SirSword', 'emoticon': {'emoticon_id': '301544922', 'emoticon_set_id': ''}}, {'text': ' '}, {'text': 'SirSword', 'emoticon': {'emoticon_id': '301544922', 'emoticon_set_id': ''}}, {'text': ' '}, {'text': 'SirSword', 'emoticon': {'emoticon_id': '301544922', 'emoticon_set_id': ''}}, {'text': ' '}, {'text': 'SirShield', 'emoticon': {'emoticon_id': '301544919', 'emoticon_set_id': ''}}, {'text': ' '}, {'text': 'SirShield', 'emoticon': {'emoticon_id': '301544919', 'emoticon_set_id': ''}}, {'text': ' '}, {'text': 'SirShield', 'emoticon': {'emoticon_id': '301544919', 'emoticon_set_id': ''}}], 'is_action': False, 'user_notice_params': {}}}, {'_id': '0b7ae03a-42a8-47a6-bbff-9f8904d6523b', 'created_at': '2020-04-05T05:41:52.841Z', 'updated_at': '2020-04-05T05:41:52.841Z', 'channel_id': '190835892', 'content_type': 'video', 'content_id': '583792771', 'content_offset_seconds': 129.141, 'commenter': {'display_name': '주교박주연', '_id': '184047738', 'name': 'eugene1216', 'type': 'user', 'bio': '박주연', 'created_at': '2017-12-02T10:00:11.974018Z', 'updated_at': '2020-04-02T11:04:53.729575Z', 'logo': 'https://static-cdn.jtvnw.net/jtv_user_pictures/62edbe05-9621-4dae-95f8-4d42fac9a258-profile_image-300x300.png'}, 'source': 'chat', 'state': 'published', 'message': {'body': '쨔스', 'fragments': [{'text': '쨔스'}], 'is_action': False, 'user_notice_params': {}}}, {'_id': 'a2571efd-79a8-4a64-a2a3-7e035f4e44ee', 'created_at': '2020-04-05T05:41:53.344Z', 'updated_at': '2020-04-05T05:41:53.344Z', 'channel_id': '190835892', 'content_type': 'video', 'content_id': '583792771', 'content_offset_seconds': 129.644, 'commenter': {'display_name': '안뇽안뇽안뇽', '_id': '137538584', 'name': 'dnjfehdwk', 'type': 'user', 'bio': '안 뇨옹~~~~~~~~~', 'created_at': '2016-10-21T08:38:09.741833Z', 'updated_at': '2019-12-16T03:51:37.780104Z', 'logo': 'https://static-cdn.jtvnw.net/jtv_user_pictures/c9db4eaf-df66-4701-b0d2-1d5dede60d5b-profile_image-300x300.jpg'}, 'source': 'chat', 'state': 'published', 'message': {'body': '아프리카 5연패인가?', 'fragments': [{'text': '아프리카 5연패인가?'}], 'is_action': False, 'user_notice_params': {}}}, {'_id': 'a04bc9e0-4a6b-4cf0-bb96-9858903d94d5', 'created_at': '2020-04-05T05:41:54.273Z', 'updated_at': '2020-04-05T05:41:54.273Z', 'channel_id': '190835892', 'content_type': 'video', 'content_id': '583792771', 'content_offset_seconds': 130.573, 'commenter': {'display_name': '도룬29', '_id': '452874958', 'name': 'dorun2952', 'type': 'user', 'bio': None, 'created_at': '2019-08-06T09:54:54.664174Z', 'updated_at': '2020-02-12T14:19:38.679796Z', 'logo': 'https://static-cdn.jtvnw.net/user-default-pictures-uv/998f01ae-def8-11e9-b95c-784f43822e80-profile_image-300x300.png'}, 'source': 'chat', 'state': 'published', 'message': {'body': '응 t1이미1등이야', 'fragments': [{'text': '응 t1이미1등이야'}], 'is_action': False, 'user_notice_params': {}}}, {'_id': 'c09fab09-1cfe-421e-8eae-ed6ad8f0a82f', 'created_at': '2020-04-05T05:41:55.193Z', 'updated_at': '2020-04-05T05:41:55.193Z', 'channel_id': '190835892', 'content_type': 'video', 'content_id': '583792771', 'content_offset_seconds': 131.493, 'commenter': {'display_name': '꿍딱', '_id': '145424753', 'name': 'rlarl9924', 'type': 'user', 'bio': None, 'created_at': '2017-01-21T08:08:40.116119Z', 'updated_at': '2020-04-03T09:15:15.994251Z', 'logo': 'https://static-cdn.jtvnw.net/user-default-pictures-uv/cdd517fe-def4-11e9-948e-784f43822e80-profile_image-300x300.png'}, 'source': 'chat', 'state': 'published', 'message': {'body': '드르렁 대실분들은 미리나가', 'fragments': [{'text': '드르렁 대실분들은 미리나가'}], 'is_action': False, 'user_color': '#9ACD32', 'user_notice_params': {}}}, {'_id': 'dc066862-34f7-41c0-9fd5-7f07b8c95a91', 'created_at': '2020-04-05T05:41:57.435Z', 'updated_at': '2020-04-05T05:41:57.435Z', 'channel_id': '190835892', 'content_type': 'video', 'content_id': '583792771', 'content_offset_seconds': 133.735, 'commenter': {'display_name': '오슈슈링', '_id': '138893551', 'name': 'ohminwoo', 'type': 'user', 'bio': None, 'created_at': '2016-11-06T10:22:30.14607Z', 'updated_at': '2020-04-05T05:41:57.541655Z', 'logo': 'https://static-cdn.jtvnw.net/user-default-pictures-uv/41780b5a-def8-11e9-94d9-784f43822e80-profile_image-300x300.png'}, 'source': 'chat', 'state': 'published', 'message': {'body': '오늘도 꿀잼잇네', 'fragments': [{'text': '오늘도 꿀잼잇네'}], 'is_action': False, 'user_color': '#0000FF', 'user_notice_params': {}}}, {'_id': 'b03745e0-3c11-4299-b8fe-0cf0e2870d4e', 'created_at': '2020-04-05T05:41:59.86Z', 'updated_at': '2020-04-05T05:41:59.86Z', 'channel_id': '190835892', 'content_type': 'video', 'content_id': '583792771', 'content_offset_seconds': 136.16, 'commenter': {'display_name': 'jadsonbraganca', '_id': '259731227', 'name': 'jadsonbraganca', 'type': 'user', 'bio': 'JBRAGANÇA', 'created_at': '2018-09-17T16:43:42.833996Z', 'updated_at': '2020-04-05T05:41:59.941891Z', 'logo': 'https://static-cdn.jtvnw.net/user-default-pictures-uv/294c98b5-e34d-42cd-a8f0-140b72fba9b0-profile_image-300x300.png'}, 'source': 'chat', 'state': 'published', 'message': {'body': 'T1 CHAMPIONS', 'fragments': [{'text': 'T1 CHAMPIONS'}], 'is_action': False, 'user_notice_params': {}}}, {'_id': '874c261e-b3aa-4d0c-baf7-24f46ac8dcee', 'created_at': '2020-04-05T05:42:01.908Z', 'updated_at': '2020-04-05T05:42:01.908Z', 'channel_id': '190835892', 'content_type': 'video', 'content_id': '583792771', 'content_offset_seconds': 138.208, 'commenter': {'display_name': 'wintercloud00', '_id': '113424622', 'name': 'wintercloud00', 'type': 'user', 'bio': 'Can u say uwu?', 'created_at': '2016-01-21T11:14:59.364221Z', 'updated_at': '2020-04-06T03:06:43.935332Z', 'logo': 'https://static-cdn.jtvnw.net/jtv_user_pictures/1c2dd85f-bb12-4eb0-a327-b044189d0d11-profile_image-300x300.png'}, 'source': 'chat', 'state': 'published', 'message': {'body': 'gamergirlLaugh', 'emoticons': [{'_id': '301313646', 'begin': 0, 'end': 13}], 'fragments': [{'text': 'gamergirlLaugh', 'emoticon': {'emoticon_id': '301313646', 'emoticon_set_id': ''}}], 'is_action': False, 'user_badges': [{'_id': 'premium', 'version': '1'}], 'user_color': '#53D0D0', 'user_notice_params': {}}}, {'_id': 'ff730dd4-ff49-4767-a50d-dfbae1e1f7a0', 'created_at': '2020-04-05T05:42:03.96Z', 'updated_at': '2020-04-05T05:42:03.96Z', 'channel_id': '190835892', 'content_type': 'video', 'content_id': '583792771', 'content_offset_seconds': 140.26, 'commenter': {'display_name': 'Net9097', '_id': '190024511', 'name': 'net9097', 'type': 'user', 'bio': None, 'created_at': '2018-01-11T05:21:26.119726Z', 'updated_at': '2020-02-28T08:36:01.87369Z', 'logo': 'https://static-cdn.jtvnw.net/jtv_user_pictures/64ac6a28-b62c-45a7-ba11-da83195c8507-profile_image-300x300.png'}, 'source': 'chat', 'state': 'published', 'message': {'body': '한화는 강강약약이라 ㄹㄱㄴ', 'fragments': [{'text': '한화는 강강약약이라 ㄹㄱㄴ'}], 'is_action': False, 'user_notice_params': {}}}, {'_id': 'a3f833b8-fdaa-4d55-96a1-d4aec3d873ef', 'created_at': '2020-04-05T05:42:06.59Z', 'updated_at': '2020-04-05T05:42:06.59Z', 'channel_id': '190835892', 'content_type': 'video', 'content_id': '583792771', 'content_offset_seconds': 142.89, 'commenter': {'display_name': 'riotsdog', '_id': '487530383', 'name': 'riotsdog', 'type': 'user', 'bio': None, 'created_at': '2020-01-23T15:04:35.742302Z', 'updated_at': '2020-01-23T15:04:35.742302Z', 'logo': 'https://static-cdn.jtvnw.net/user-default-pictures-uv/294c98b5-e34d-42cd-a8f0-140b72fba9b0-profile_image-300x300.png'}, 'source': 'chat', 'state': 'published', 'message': {'body': '와 lck', 'fragments': [{'text': '와 lck'}], 'is_action': False, 'user_notice_params': {}}}, {'_id': 'df30d0f6-b351-4cfb-830a-9685dba6bf71', 'created_at': '2020-04-05T05:42:08.894Z', 'updated_at': '2020-04-05T05:42:08.894Z', 'channel_id': '190835892', 'content_type': 'video', 'content_id': '583792771', 'content_offset_seconds': 145.194, 'commenter': {'display_name': 'sspc5064', '_id': '188165853', 'name': 'sspc5064', 'type': 'user', 'bio': None, 'created_at': '2017-12-31T12:20:23.918038Z', 'updated_at': '2020-03-12T14:40:01.166389Z', 'logo': 'https://static-cdn.jtvnw.net/user-default-pictures-uv/75305d54-c7cc-40d1-bb9c-91fbe85943c7-profile_image-300x300.png'}, 'source': 'chat', 'state': 'published', 'message': {'body': '담원 티원?', 'fragments': [{'text': '담원 티원?'}], 'is_action': False, 'user_notice_params': {}}}, {'_id': 'addb2607-3094-4f74-8639-6bb55421537c', 'created_at': '2020-04-05T05:42:13.445Z', 'updated_at': '2020-04-05T05:42:13.445Z', 'channel_id': '190835892', 'content_type': 'video', 'content_id': '583792771', 'content_offset_seconds': 149.745, 'commenter': {'display_name': 'wonseok1827', '_id': '142417679', 'name': 'wonseok1827', 'type': 'user', 'bio': None, 'created_at': '2016-12-20T14:10:10.432975Z', 'updated_at': '2020-04-06T09:45:33.174231Z', 'logo': 'https://static-cdn.jtvnw.net/user-default-pictures-uv/215b7342-def9-11e9-9a66-784f43822e80-profile_image-300x300.png'}, 'source': 'chat', 'state': 'published', 'message': {'body': '뭐야 왜이리 일찍시작하냐', 'fragments': [{'text': '뭐야 왜이리 일찍시작하냐'}], 'is_action': False, 'user_notice_params': {}}}, {'_id': '96a20c76-ca48-4bcc-ae8d-4384caf64694', 'created_at': '2020-04-05T05:42:29.018Z', 'updated_at': '2020-04-05T05:42:29.018Z', 'channel_id': '190835892', 'content_type': 'video', 'content_id': '583792771', 'content_offset_seconds': 165.318, 'commenter': {'display_name': 'Diegox2711', '_id': '162259805', 'name': 'diegox2711', 'type': 'user', 'bio': None, 'created_at': '2017-07-01T00:11:43.658531Z', 'updated_at': '2020-03-20T13:30:04.30626Z', 'logo': 'https://static-cdn.jtvnw.net/user-default-pictures-uv/cdd517fe-def4-11e9-948e-784f43822e80-profile_image-300x300.png'}, 'source': 'chat', 'state': 'published', 'message': {'body': 'good luck T1!', 'fragments': [{'text': 'good luck T1!'}], 'is_action': False, 'user_notice_params': {}}}, {'_id': 'e47cc1ce-5400-4c1f-b8a4-eff546a2b0f1', 'created_at': '2020-04-05T05:42:33.22Z', 'updated_at': '2020-04-05T05:42:33.22Z', 'channel_id': '190835892', 'content_type': 'video', 'content_id': '583792771', 'content_offset_seconds': 169.52, 'commenter': {'display_name': '아이리스빅팬번바카', '_id': '25870729', 'name': 'vkay__kr', 'type': 'user', 'bio': 'The Korean Kay~', 'created_at': '2011-11-01T21:18:04.218765Z', 'updated_at': '2020-04-06T06:11:54.189655Z', 'logo': 'https://static-cdn.jtvnw.net/jtv_user_pictures/78fd490e-d9f7-47ef-bfa7-010eec93ae3f-profile_image-300x300.png'}, 'source': 'chat', 'state': 'published', 'message': {'body': 'SKT #1', 'fragments': [{'text': 'SKT #1'}], 'is_action': False, 'user_color': '#FDD7A0', 'user_notice_params': {}}}, {'_id': '0d7cad2f-4fa7-46e7-bf2c-a19aa44ded10', 'created_at': '2020-04-05T05:42:41.086Z', 'updated_at': '2020-04-05T05:42:41.086Z', 'channel_id': '190835892', 'content_type': 'video', 'content_id': '583792771', 'content_offset_seconds': 177.386, 'commenter': {'display_name': '스요잉', '_id': '74593906', 'name': 'wongcal', 'type': 'user', 'bio': None, 'created_at': '2014-11-06T12:32:22.58Z', 'updated_at': '2020-03-30T18:38:05.975095Z', 'logo': 'https://static-cdn.jtvnw.net/user-default-pictures-uv/ead5c8b2-a4c9-4724-b1dd-9f00b46cbd3d-profile_image-300x300.png'}, 'source': 'chat', 'state': 'published', 'message': {'body': 'Tㅔㄱ스', 'fragments': [{'text': 'Tㅔㄱ스'}], 'is_action': False, 'user_notice_params': {}}}, {'_id': 'cdec4865-639a-4887-b2c8-ebbc1ad13356', 'created_at': '2020-04-05T05:42:42.428Z', 'updated_at': '2020-04-05T05:42:42.428Z', 'channel_id': '190835892', 'content_type': 'video', 'content_id': '583792771', 'content_offset_seconds': 178.728, 'commenter': {'display_name': 'couling33', '_id': '490975496', 'name': 'couling33', 'type': 'user', 'bio': None, 'created_at': '2020-02-07T22:32:41.644293Z', 'updated_at': '2020-04-05T05:42:42.508527Z', 'logo': 'https://static-cdn.jtvnw.net/user-default-pictures-uv/ebb84563-db81-4b9c-8940-64ed33ccfc7b-profile_image-300x300.png'}, 'source': 'chat', 'state': 'published', 'message': {'body': 'T1', 'fragments': [{'text': 'T1'}], 'is_action': False, 'user_notice_params': {}}}, {'_id': 'd0237fa9-725c-48e4-8a0c-2ea69a74fdff', 'created_at': '2020-04-05T05:42:43.935Z', 'updated_at': '2020-04-05T05:42:43.935Z', 'channel_id': '190835892', 'content_type': 'video', 'content_id': '583792771', 'content_offset_seconds': 180.235, 'commenter': {'display_name': 'cielazer', '_id': '174722019', 'name': 'cielazer', 'type': 'user', 'bio': None, 'created_at': '2017-09-19T02:27:19.979201Z', 'updated_at': '2020-04-05T06:24:05.419866Z', 'logo': 'https://static-cdn.jtvnw.net/jtv_user_pictures/66002befa11a180e-profile_image-300x300.png'}, 'source': 'chat', 'state': 'published', 'message': {'body': '뭔소리 인터넷상으로 하는거라 원래 3시부터가 시작임', 'fragments': [{'text': '뭔소리 인터넷상으로 하는거라 원래 3시부터가 시작임'}], 'is_action': False, 'user_notice_params': {}}}], '_next': 'eyJpZCI6ImQwMjM3ZmE5LTcyNWMtNDhlNC04YTBjLTJlYTY5YTc0ZmRmZiIsImhrIjoiYnJvYWRjYXN0OjM3MzkzNjE0MTYwIiwic2siOiJBQUFBS2ZiWDJNQVdBdFlMai1WMXdBIn0f'}\n"
    }
   ],
   "source": [
    "clientId = \"7lwx13o4czugl09409d7nntm1epfwt\"\n",
    "id = videoID\n",
    "    # offset = js['clips'][num]['vod']['offset']\n",
    "    # duration = js['clips'][num]['duration']\n",
    "\n",
    "cursor = \"\"\n",
    "count = 0\n",
    "url2 = \"\"\n",
    "if count == 0:\n",
    "    url2 = \"https://api.twitch.tv/kraken/videos/\" + str(id) + \"/comments?content_offset_seconds=\" + str(1)\n",
    "else:\n",
    "    url2 = \"https://api.twitch.tv/kraken/videos/\" + str(id) + \"/comments?cursor=\" + str(cursor)\n",
    "req2 = urllib.request.Request(url2, headers = {\"Client-ID\": clientId, \"Accept\" : \"application/vnd.twitchtv.v5+json\"})\n",
    "u2 = urllib.request.urlopen(req2)\n",
    "c2 = u2.read().decode('utf-8')\n",
    "j2 = json.loads(c2)\n",
    "print(j2)"
   ]
  },
  {
   "cell_type": "code",
   "execution_count": 44,
   "metadata": {},
   "outputs": [
    {
     "output_type": "execute_result",
     "data": {
      "text/plain": "{'_id': '84ee36aa-6056-4084-abd3-bb83de69f9a9',\n 'created_at': '2020-04-05T05:40:51.722Z',\n 'updated_at': '2020-04-05T05:40:51.722Z',\n 'channel_id': '190835892',\n 'content_type': 'video',\n 'content_id': '583792771',\n 'content_offset_seconds': 68.022,\n 'commenter': {'display_name': 'ckdwhfhs89',\n  '_id': '435461130',\n  'name': 'ckdwhfhs89',\n  'type': 'user',\n  'bio': None,\n  'created_at': '2019-05-13T05:53:47.294227Z',\n  'updated_at': '2020-03-31T00:55:32.280245Z',\n  'logo': 'https://static-cdn.jtvnw.net/user-default-pictures-uv/13e5fa74-defa-11e9-809c-784f43822e80-profile_image-300x300.png'},\n 'source': 'chat',\n 'state': 'published',\n 'message': {'body': '트하',\n  'fragments': [{'text': '트하'}],\n  'is_action': False,\n  'user_notice_params': {}}}"
     },
     "metadata": {},
     "execution_count": 44
    }
   ],
   "source": [
    "j2['comments'][15]"
   ]
  },
  {
   "cell_type": "code",
   "execution_count": 40,
   "metadata": {},
   "outputs": [
    {
     "output_type": "stream",
     "name": "stdout",
     "text": "1빠\n엘하\n?\n에롸\n2빠\n오우 짜쓰\nㅎㅎㅎㅎ\nt11\n?\nㅎㅇ\n티원!!!!!!!!!!!!! 1황입니다\nㅎㅇ\nboxHi\n담원 화이팅\n만세ㅣ\n트하\n오우쉣\n담원 무섭다 !!!\nㅎㅇ\n쟈스\nㄷㄷㄷㅈ\n와 개재밌겠다\nㅠㅗㅗㅗㅕ\n이 브금은 마치 절벽위의 사나이가 그리움을 달래는듯한 브금이군.,..\ntq 기릿\nㄷㄷㄷㅈ\n1Qk\n트하\n1\nt1 ㅎㅇㅌ\n아 왜 LCK가 LCK KOREA보다 빨리 시작하는데 ㅋㅋㅋ\n1\n1등\n1황! 1황!\nнихао блять\napk경기밖에 안보인다 ㅋㅋ\n3경기는 볼것도 없이 아프리카가 이기겠지\nㅌ1 1등 ㄱㅈㅇ\n시작했네\nㄷㄷㄷㅈ\nㅎㅇ\n킹갓황제티원\nSirUwU SirUwU SirUwU SirPrise SirPrise SirPrise SirSad SirSad SirSad SirMad SirMad SirMad SirSword SirSword SirSword SirShield SirShield SirShield\n쨔스\n아프리카 5연패인가?\n응 t1이미1등이야\n드르렁 대실분들은 미리나가\n오늘도 꿀잼잇네\nT1 CHAMPIONS\ngamergirlLaugh\n한화는 강강약약이라 ㄹㄱㄴ\n와 lck\n담원 티원?\n뭐야 왜이리 일찍시작하냐\ngood luck T1!\nSKT #1\nTㅔㄱ스\nT1\n뭔소리 인터넷상으로 하는거라 원래 3시부터가 시작임\n"
    }
   ],
   "source": [
    "for i in range(len(j2['comments'])):\n",
    "    print(j2['comments'][i]['message']['body'])"
   ]
  }
 ],
 "metadata": {
  "kernelspec": {
   "display_name": "Python 3",
   "language": "python",
   "name": "python3"
  },
  "language_info": {
   "codemirror_mode": {
    "name": "ipython",
    "version": 3
   },
   "file_extension": ".py",
   "mimetype": "text/x-python",
   "name": "python",
   "nbconvert_exporter": "python",
   "pygments_lexer": "ipython3",
   "version": "3.7.6-final"
  }
 },
 "nbformat": 4,
 "nbformat_minor": 2
}