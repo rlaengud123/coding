{
 "cells": [
  {
   "cell_type": "code",
   "execution_count": 26,
   "metadata": {},
   "outputs": [],
   "source": [
    "import warnings\n",
    "warnings.simplefilter(\"ignore\")\n",
    "\n",
    "import konlpy\n",
    "konlpy.__version__\n",
    "\n",
    "from konlpy.corpus import kolaw\n",
    "from konlpy.corpus import kobill\n",
    "from konlpy.tag import *\n",
    "import pandas as pd"
   ]
  },
  {
   "cell_type": "code",
   "execution_count": 9,
   "metadata": {},
   "outputs": [],
   "source": [
    "c = kolaw.open('constitution.txt').read()\n",
    "d = kobill.open('1809890.txt').read()"
   ]
  },
  {
   "cell_type": "code",
   "execution_count": 7,
   "metadata": {},
   "outputs": [],
   "source": [
    "hannanum = Hannanum()\n",
    "kkma = Kkma()\n",
    "komoran = Komoran()\n",
    "okt = Okt()"
   ]
  },
  {
   "cell_type": "code",
   "execution_count": 10,
   "metadata": {},
   "outputs": [
    {
     "output_type": "execute_result",
     "data": {
      "text/plain": "['대한민국헌법', '유구', '역사', '전통', '빛', '우리', '대한국민', '3·1운동']"
     },
     "metadata": {},
     "execution_count": 10
    }
   ],
   "source": [
    "hannanum.nouns(c[:40])"
   ]
  },
  {
   "cell_type": "code",
   "execution_count": 11,
   "metadata": {},
   "outputs": [
    {
     "output_type": "execute_result",
     "data": {
      "text/plain": "['대한',\n '대한민국',\n '대한민국헌법',\n '민국',\n '헌법',\n '유구',\n '역사',\n '전통',\n '우리',\n '국민',\n '3',\n '1',\n '1운동',\n '운동']"
     },
     "metadata": {},
     "execution_count": 11
    }
   ],
   "source": [
    "kkma.nouns(c[:40])"
   ]
  },
  {
   "cell_type": "code",
   "execution_count": 12,
   "metadata": {},
   "outputs": [
    {
     "output_type": "execute_result",
     "data": {
      "text/plain": "['대한민국', '헌법', '역사', '전통', '국민', '운동']"
     },
     "metadata": {},
     "execution_count": 12
    }
   ],
   "source": [
    "komoran.nouns(\"\\n\".join([s for s in c[:40].split(\"\\n\") if s]))"
   ]
  },
  {
   "cell_type": "code",
   "execution_count": 13,
   "metadata": {},
   "outputs": [
    {
     "output_type": "execute_result",
     "data": {
      "text/plain": "['대한민국', '헌법', '유구', '역사', '전통', '우리', '국민', '운동']"
     },
     "metadata": {},
     "execution_count": 13
    }
   ],
   "source": [
    "okt.nouns(c[:40])"
   ]
  },
  {
   "cell_type": "markdown",
   "metadata": {},
   "source": [
    "형태소추출"
   ]
  },
  {
   "cell_type": "code",
   "execution_count": 14,
   "metadata": {},
   "outputs": [
    {
     "output_type": "execute_result",
     "data": {
      "text/plain": "['대한민국헌법',\n '유구',\n '하',\n 'ㄴ',\n '역사',\n '와',\n '전통',\n '에',\n '빛',\n '나는',\n '우리',\n '대한국민',\n '은',\n '3·1운동',\n '으로']"
     },
     "metadata": {},
     "execution_count": 14
    }
   ],
   "source": [
    "hannanum.morphs(c[:40])"
   ]
  },
  {
   "cell_type": "code",
   "execution_count": 15,
   "metadata": {},
   "outputs": [
    {
     "output_type": "execute_result",
     "data": {
      "text/plain": "['대한민국',\n '헌법',\n '유구',\n '하',\n 'ㄴ',\n '역사',\n '와',\n '전통',\n '에',\n '빛나',\n '는',\n '우리',\n '대하',\n 'ㄴ',\n '국민',\n '은',\n '3',\n '·',\n '1',\n '운동',\n '으로']"
     },
     "metadata": {},
     "execution_count": 15
    }
   ],
   "source": [
    "kkma.morphs(c[:40])"
   ]
  },
  {
   "cell_type": "code",
   "execution_count": 16,
   "metadata": {},
   "outputs": [
    {
     "output_type": "execute_result",
     "data": {
      "text/plain": "['대한민국',\n '헌법',\n '유구',\n '하',\n 'ㄴ',\n '역사',\n '와',\n '전통',\n '에',\n '빛나',\n '는',\n '우리',\n '대하',\n 'ㄴ',\n '국민',\n '은',\n '3',\n '·',\n '1',\n '운동',\n '으로']"
     },
     "metadata": {},
     "execution_count": 16
    }
   ],
   "source": [
    "komoran.morphs(\"\\n\".join([s for s in c[:40].split(\"\\n\") if s]))"
   ]
  },
  {
   "cell_type": "code",
   "execution_count": 17,
   "metadata": {},
   "outputs": [
    {
     "output_type": "execute_result",
     "data": {
      "text/plain": "['대한민국',\n '헌법',\n '\\n\\n',\n '유구',\n '한',\n '역사',\n '와',\n '전통',\n '에',\n '빛나는',\n '우리',\n '대',\n '한',\n '국민',\n '은',\n '3',\n '·',\n '1',\n '운동',\n '으로']"
     },
     "metadata": {},
     "execution_count": 17
    }
   ],
   "source": [
    "okt.morphs(c[:40])"
   ]
  },
  {
   "cell_type": "markdown",
   "metadata": {},
   "source": [
    "품사 부착"
   ]
  },
  {
   "cell_type": "code",
   "execution_count": 18,
   "metadata": {},
   "outputs": [
    {
     "output_type": "execute_result",
     "data": {
      "text/plain": "[('대한민국헌법', 'N'),\n ('유구', 'N'),\n ('하', 'X'),\n ('ㄴ', 'E'),\n ('역사', 'N'),\n ('와', 'J'),\n ('전통', 'N'),\n ('에', 'J'),\n ('빛', 'N'),\n ('나는', 'J'),\n ('우리', 'N'),\n ('대한국민', 'N'),\n ('은', 'J'),\n ('3·1운동', 'N'),\n ('으로', 'J')]"
     },
     "metadata": {},
     "execution_count": 18
    }
   ],
   "source": [
    "hannanum.pos(c[:40])"
   ]
  },
  {
   "cell_type": "code",
   "execution_count": 19,
   "metadata": {},
   "outputs": [
    {
     "output_type": "execute_result",
     "data": {
      "text/plain": "[('대한민국', 'NNG'),\n ('헌법', 'NNG'),\n ('유구', 'NNG'),\n ('하', 'XSV'),\n ('ㄴ', 'ETD'),\n ('역사', 'NNG'),\n ('와', 'JC'),\n ('전통', 'NNG'),\n ('에', 'JKM'),\n ('빛나', 'VV'),\n ('는', 'ETD'),\n ('우리', 'NNM'),\n ('대하', 'VV'),\n ('ㄴ', 'ETD'),\n ('국민', 'NNG'),\n ('은', 'JX'),\n ('3', 'NR'),\n ('·', 'SP'),\n ('1', 'NR'),\n ('운동', 'NNG'),\n ('으로', 'JKM')]"
     },
     "metadata": {},
     "execution_count": 19
    }
   ],
   "source": [
    "kkma.pos(c[:40])"
   ]
  },
  {
   "cell_type": "code",
   "execution_count": 20,
   "metadata": {},
   "outputs": [
    {
     "output_type": "execute_result",
     "data": {
      "text/plain": "[('대한민국', 'NNP'),\n ('헌법', 'NNP'),\n ('유구', 'XR'),\n ('하', 'XSA'),\n ('ㄴ', 'ETM'),\n ('역사', 'NNG'),\n ('와', 'JC'),\n ('전통', 'NNG'),\n ('에', 'JKB'),\n ('빛나', 'VV'),\n ('는', 'ETM'),\n ('우리', 'NP'),\n ('대하', 'VV'),\n ('ㄴ', 'ETM'),\n ('국민', 'NNP'),\n ('은', 'JX'),\n ('3', 'SN'),\n ('·', 'SP'),\n ('1', 'SN'),\n ('운동', 'NNP'),\n ('으로', 'JKB')]"
     },
     "metadata": {},
     "execution_count": 20
    }
   ],
   "source": [
    "komoran.pos(\"\\n\".join([s for s in c[:40].split(\"\\n\") if s]))"
   ]
  },
  {
   "cell_type": "code",
   "execution_count": 22,
   "metadata": {},
   "outputs": [
    {
     "output_type": "execute_result",
     "data": {
      "text/plain": "[('대한민국', 'Noun'),\n ('헌법', 'Noun'),\n ('\\n\\n', 'Foreign'),\n ('유구', 'Noun'),\n ('한', 'Josa'),\n ('역사', 'Noun'),\n ('와', 'Josa'),\n ('전통', 'Noun'),\n ('에', 'Josa'),\n ('빛나는', 'Verb'),\n ('우리', 'Noun'),\n ('대', 'Modifier'),\n ('한', 'Modifier'),\n ('국민', 'Noun'),\n ('은', 'Josa'),\n ('3', 'Number'),\n ('·', 'Punctuation'),\n ('1', 'Number'),\n ('운동', 'Noun'),\n ('으로', 'Josa')]"
     },
     "metadata": {},
     "execution_count": 22
    }
   ],
   "source": [
    "okt.pos(c[:40])"
   ]
  },
  {
   "cell_type": "code",
   "execution_count": 24,
   "metadata": {},
   "outputs": [
    {
     "output_type": "execute_result",
     "data": {
      "text/plain": "{'Adjective': '형용사',\n 'Adverb': '부사',\n 'Alpha': '알파벳',\n 'Conjunction': '접속사',\n 'Determiner': '관형사',\n 'Eomi': '어미',\n 'Exclamation': '감탄사',\n 'Foreign': '외국어, 한자 및 기타기호',\n 'Hashtag': '트위터 해쉬태그',\n 'Josa': '조사',\n 'KoreanParticle': '(ex: ㅋㅋ)',\n 'Noun': '명사',\n 'Number': '숫자',\n 'PreEomi': '선어말어미',\n 'Punctuation': '구두점',\n 'ScreenName': '트위터 아이디',\n 'Suffix': '접미사',\n 'Unknown': '미등록어',\n 'Verb': '동사'}"
     },
     "metadata": {},
     "execution_count": 24
    }
   ],
   "source": [
    "okt.tagset"
   ]
  },
  {
   "cell_type": "code",
   "execution_count": 28,
   "metadata": {},
   "outputs": [
    {
     "output_type": "execute_result",
     "data": {
      "text/plain": "   Hannanum-기호 Hannanum-품사 Kkma-기호     Kkma-품사 Komoran-기호 Komoran-품사  \\\n0            E          어미      EC       연결 어미         EC      연결 어미   \n1           EC       연결 어미     ECD   의존적 연결 어미         EF      종결 어미   \n2           EF       종결 어미     ECE    대등 연결 어미         EP      선어말어미   \n3           EP       선어말어미     ECS   보조적 연결 어미        ETM  관형형 전성 어미   \n4           ET       전성 어미      EF       종결 어미        ETN  명사형 전성 어미   \n..         ...         ...     ...         ...        ...        ...   \n62           *           *     XPV      용언 접두사          *          *   \n63           *           *      XR          어근          *          *   \n64           *           *     XSA  형용사 파생 접미사          *          *   \n65           *           *     XSN    명사파생 접미사          *          *   \n66           *           *     XSV   동사 파생 접미사          *          *   \n\n         OKT-기호 OKT-품사  \n0     Adjective    형용사  \n1        Adverb     부사  \n2         Alpha    알파벳  \n3   Conjunction    접속사  \n4    Determiner    관형사  \n..          ...    ...  \n62            *      *  \n63            *      *  \n64            *      *  \n65            *      *  \n66            *      *  \n\n[67 rows x 8 columns]",
      "text/html": "<div>\n<style scoped>\n    .dataframe tbody tr th:only-of-type {\n        vertical-align: middle;\n    }\n\n    .dataframe tbody tr th {\n        vertical-align: top;\n    }\n\n    .dataframe thead th {\n        text-align: right;\n    }\n</style>\n<table border=\"1\" class=\"dataframe\">\n  <thead>\n    <tr style=\"text-align: right;\">\n      <th></th>\n      <th>Hannanum-기호</th>\n      <th>Hannanum-품사</th>\n      <th>Kkma-기호</th>\n      <th>Kkma-품사</th>\n      <th>Komoran-기호</th>\n      <th>Komoran-품사</th>\n      <th>OKT-기호</th>\n      <th>OKT-품사</th>\n    </tr>\n  </thead>\n  <tbody>\n    <tr>\n      <th>0</th>\n      <td>E</td>\n      <td>어미</td>\n      <td>EC</td>\n      <td>연결 어미</td>\n      <td>EC</td>\n      <td>연결 어미</td>\n      <td>Adjective</td>\n      <td>형용사</td>\n    </tr>\n    <tr>\n      <th>1</th>\n      <td>EC</td>\n      <td>연결 어미</td>\n      <td>ECD</td>\n      <td>의존적 연결 어미</td>\n      <td>EF</td>\n      <td>종결 어미</td>\n      <td>Adverb</td>\n      <td>부사</td>\n    </tr>\n    <tr>\n      <th>2</th>\n      <td>EF</td>\n      <td>종결 어미</td>\n      <td>ECE</td>\n      <td>대등 연결 어미</td>\n      <td>EP</td>\n      <td>선어말어미</td>\n      <td>Alpha</td>\n      <td>알파벳</td>\n    </tr>\n    <tr>\n      <th>3</th>\n      <td>EP</td>\n      <td>선어말어미</td>\n      <td>ECS</td>\n      <td>보조적 연결 어미</td>\n      <td>ETM</td>\n      <td>관형형 전성 어미</td>\n      <td>Conjunction</td>\n      <td>접속사</td>\n    </tr>\n    <tr>\n      <th>4</th>\n      <td>ET</td>\n      <td>전성 어미</td>\n      <td>EF</td>\n      <td>종결 어미</td>\n      <td>ETN</td>\n      <td>명사형 전성 어미</td>\n      <td>Determiner</td>\n      <td>관형사</td>\n    </tr>\n    <tr>\n      <th>...</th>\n      <td>...</td>\n      <td>...</td>\n      <td>...</td>\n      <td>...</td>\n      <td>...</td>\n      <td>...</td>\n      <td>...</td>\n      <td>...</td>\n    </tr>\n    <tr>\n      <th>62</th>\n      <td>*</td>\n      <td>*</td>\n      <td>XPV</td>\n      <td>용언 접두사</td>\n      <td>*</td>\n      <td>*</td>\n      <td>*</td>\n      <td>*</td>\n    </tr>\n    <tr>\n      <th>63</th>\n      <td>*</td>\n      <td>*</td>\n      <td>XR</td>\n      <td>어근</td>\n      <td>*</td>\n      <td>*</td>\n      <td>*</td>\n      <td>*</td>\n    </tr>\n    <tr>\n      <th>64</th>\n      <td>*</td>\n      <td>*</td>\n      <td>XSA</td>\n      <td>형용사 파생 접미사</td>\n      <td>*</td>\n      <td>*</td>\n      <td>*</td>\n      <td>*</td>\n    </tr>\n    <tr>\n      <th>65</th>\n      <td>*</td>\n      <td>*</td>\n      <td>XSN</td>\n      <td>명사파생 접미사</td>\n      <td>*</td>\n      <td>*</td>\n      <td>*</td>\n      <td>*</td>\n    </tr>\n    <tr>\n      <th>66</th>\n      <td>*</td>\n      <td>*</td>\n      <td>XSV</td>\n      <td>동사 파생 접미사</td>\n      <td>*</td>\n      <td>*</td>\n      <td>*</td>\n      <td>*</td>\n    </tr>\n  </tbody>\n</table>\n<p>67 rows × 8 columns</p>\n</div>"
     },
     "metadata": {},
     "execution_count": 28
    }
   ],
   "source": [
    "tagsets = pd.DataFrame()\n",
    "N = 67\n",
    "tagsets[\"Hannanum-기호\"] = list(hannanum.tagset.keys()) + list(\"*\" * (N - len(hannanum.tagset)))\n",
    "tagsets[\"Hannanum-품사\"] = list(hannanum.tagset.values()) + list(\"*\" * (N - len(hannanum.tagset)))\n",
    "tagsets[\"Kkma-기호\"] = list(kkma.tagset.keys()) + list(\"*\" * (N - len(kkma.tagset)))\n",
    "tagsets[\"Kkma-품사\"] = list(kkma.tagset.values()) + list(\"*\" * (N - len(kkma.tagset)))\n",
    "tagsets[\"Komoran-기호\"] = list(komoran.tagset.keys()) + list(\"*\" * (N - len(komoran.tagset)))\n",
    "tagsets[\"Komoran-품사\"] = list(komoran.tagset.values()) + list(\"*\" * (N - len(komoran.tagset)))\n",
    "tagsets[\"OKT-기호\"] = list(okt.tagset.keys()) + list(\"*\" * (N - len(okt.tagset)))\n",
    "tagsets[\"OKT-품사\"] = list(okt.tagset.values()) + list(\"*\" * (N - len(okt.tagset)))\n",
    "tagsets"
   ]
  }
 ],
 "metadata": {
  "language_info": {
   "codemirror_mode": {
    "name": "ipython",
    "version": 3
   },
   "file_extension": ".py",
   "mimetype": "text/x-python",
   "name": "python",
   "nbconvert_exporter": "python",
   "pygments_lexer": "ipython3",
   "version": "3.7.7-final"
  },
  "orig_nbformat": 2,
  "kernelspec": {
   "name": "python37764bitnlpconda4bc174be4b094e18ac866cf8287c5a91",
   "display_name": "Python 3.7.7 64-bit ('nlp': conda)"
  }
 },
 "nbformat": 4,
 "nbformat_minor": 2
}