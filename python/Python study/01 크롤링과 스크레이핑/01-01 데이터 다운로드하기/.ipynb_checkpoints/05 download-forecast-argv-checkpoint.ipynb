{
 "cells": [
  {
   "cell_type": "code",
   "execution_count": 1,
   "metadata": {},
   "outputs": [
    {
     "name": "stdout",
     "output_type": "stream",
     "text": [
      "url= http://www.kma.go.kr/weather/forecast/mid-term-rss3.jsp?stnId=-f\n",
      "\n"
     ]
    }
   ],
   "source": [
    "#!usr/bin/env python3\n",
    "\n",
    "#라이브러리를 읽어 들입니다.\n",
    "import sys\n",
    "import urllib.request as req\n",
    "import urllib.parse as parse\n",
    "\n",
    "#명령줄 매개변수 추출\n",
    "if len(sys.argv)<=1:\n",
    "    print(\"USAGE: download-forecast-argv <Region Number\")\n",
    "    sys.exit()\n",
    "regionNumber = sys.argv[1]\n",
    "\n",
    "#매개변수를 URL 인코딩합니다.\n",
    "API = \"http://www.kma.go.kr/weather/forecast/mid-term-rss3.jsp\"\n",
    "values = {\n",
    "    'stnId':regionNumber\n",
    "}\n",
    "params = parse.urlencode(values)\n",
    "url = API + \"?\" + params\n",
    "print(\"url=\", url)\n",
    "\n",
    "#다운로드합니다.\n",
    "\n",
    "data = req.urlopen(url).read()\n",
    "text = data.decode(\"utf-8\")\n",
    "print(text)"
   ]
  },
  {
   "cell_type": "code",
   "execution_count": null,
   "metadata": {},
   "outputs": [],
   "source": []
  }
 ],
 "metadata": {
  "kernelspec": {
   "display_name": "Python 3",
   "language": "python",
   "name": "python3"
  },
  "language_info": {
   "codemirror_mode": {
    "name": "ipython",
    "version": 3
   },
   "file_extension": ".py",
   "mimetype": "text/x-python",
   "name": "python",
   "nbconvert_exporter": "python",
   "pygments_lexer": "ipython3",
   "version": "3.7.3"
  }
 },
 "nbformat": 4,
 "nbformat_minor": 2
}
