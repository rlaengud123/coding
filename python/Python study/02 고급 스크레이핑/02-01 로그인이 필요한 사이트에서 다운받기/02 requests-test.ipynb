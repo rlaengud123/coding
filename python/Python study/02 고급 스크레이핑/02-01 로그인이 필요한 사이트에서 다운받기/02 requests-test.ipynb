{
 "cells": [
  {
   "cell_type": "code",
   "execution_count": 1,
   "metadata": {},
   "outputs": [
    {
     "name": "stdout",
     "output_type": "stream",
     "text": [
      "2019/06/22 04:24:07\n",
      "b'2019/06/22 04:24:07'\n"
     ]
    }
   ],
   "source": [
    "#데이터 가져오기\n",
    "import requests\n",
    "r = requests.get(\"http://api.aoikujira.com/time/get.php\")\n",
    "\n",
    "#텍스트 형식으로 데이터 추출하기\n",
    "text = r.text\n",
    "print(text)\n",
    "\n",
    "#바이너리 형식으로 데이터 추출하기\n",
    "bin = r.content\n",
    "print(bin)"
   ]
  },
  {
   "cell_type": "code",
   "execution_count": null,
   "metadata": {},
   "outputs": [],
   "source": []
  }
 ],
 "metadata": {
  "kernelspec": {
   "display_name": "Python 3",
   "language": "python",
   "name": "python3"
  },
  "language_info": {
   "codemirror_mode": {
    "name": "ipython",
    "version": 3
   },
   "file_extension": ".py",
   "mimetype": "text/x-python",
   "name": "python",
   "nbconvert_exporter": "python",
   "pygments_lexer": "ipython3",
   "version": "3.7.3"
  }
 },
 "nbformat": 4,
 "nbformat_minor": 2
}
