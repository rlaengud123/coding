{
 "cells": [
  {
   "cell_type": "code",
   "execution_count": 2,
   "metadata": {},
   "outputs": [
    {
     "name": "stdout",
     "output_type": "stream",
     "text": [
      "마일리지: 2,000\n",
      "이코인: 0\n"
     ]
    }
   ],
   "source": [
    "#로그인을 위한 모듈 추출하기\n",
    "import requests\n",
    "from bs4 import BeautifulSoup\n",
    "from urllib.parse import urljoin\n",
    "\n",
    "#아이디와 비밀번호 지정하기\n",
    "USER = \"rlaengud123\"\n",
    "PASS = \"dngkgk11!!\"\n",
    "\n",
    "#세션 시작하기\n",
    "session = requests.session()\n",
    "#로그인하기\n",
    "login_info = {\n",
    "    \"m_id\": USER, #아이디 지정\n",
    "    \"m_passwd\": PASS #비밀번호 지정\n",
    "}\n",
    "\n",
    "url_login = \"http://www.hanbit.co.kr/member/login_proc.php\"\n",
    "res = session.post(url_login, data=login_info)\n",
    "res.raise_for_status() #오류가 발생하면 예외가 발생합니다.\n",
    "\n",
    "#마이페이지에 접근하기\n",
    "url_mypage = \"http://www.hanbit.co.kr/myhanbit/myhanbit.html\"\n",
    "res = session.get(url_mypage)\n",
    "res.raise_for_status()\n",
    "\n",
    "#마일리지와 이코인 가져오기\n",
    "soup = BeautifulSoup(res.text, \"html.parser\")\n",
    "mileage = soup.select_one(\".mileage_section1 span\").get_text()\n",
    "ecoin = soup.select_one(\".mileage_section2 span\").get_text()\n",
    "print(\"마일리지: \" + mileage)\n",
    "print(\"이코인: \" + ecoin)"
   ]
  },
  {
   "cell_type": "code",
   "execution_count": null,
   "metadata": {},
   "outputs": [],
   "source": []
  }
 ],
 "metadata": {
  "kernelspec": {
   "display_name": "Python 3",
   "language": "python",
   "name": "python3"
  },
  "language_info": {
   "codemirror_mode": {
    "name": "ipython",
    "version": 3
   },
   "file_extension": ".py",
   "mimetype": "text/x-python",
   "name": "python",
   "nbconvert_exporter": "python",
   "pygments_lexer": "ipython3",
   "version": "3.7.3"
  }
 },
 "nbformat": 4,
 "nbformat_minor": 2
}
