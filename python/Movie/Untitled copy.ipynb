{
 "cells": [
  {
   "cell_type": "code",
   "execution_count": 1,
   "metadata": {},
   "outputs": [],
   "source": [
    "import json\n",
    "import urllib.request\n",
    "from datetime import datetime\n",
    "from datetime import timedelta\n",
    "import re"
   ]
  },
  {
   "cell_type": "code",
   "execution_count": 5,
   "metadata": {},
   "outputs": [],
   "source": [
    "def collectClip(channel, lim, Clientid, File):\n",
    "    url = \"https://api.twitch.tv/kraken/clips/top?channel=\" + channel + \"&limit=\" + str(lim)\n",
    "    req = urllib.request.Request(url, headers = {\"Client-ID\": Clientid, \"Accept\" : \"application/vnd.twitchtv.v5+json\"})\n",
    "    u = urllib.request.urlopen(req)\n",
    "    c = u.read().decode('utf-8')\n",
    "    js = json.loads(c)\n",
    "\n",
    "    return js\n",
    "    #collectChat(js, lim, Clientid, File)\n",
    "\n",
    "def collectChat(j, limit, clientId, f):\n",
    "    for num in range(int(limit)):\n",
    "        id = j['clips'][num]['vod']['id']\n",
    "        offset = j['clips'][num]['vod']['offset']\n",
    "        duration = j['clips'][num]['duration']\n",
    "\n",
    "        cursor = \"\"\n",
    "        count = 0\n",
    "\n",
    "        while(1):\n",
    "            try:\n",
    "                url2 = \"\"\n",
    "                if count == 0:\n",
    "                    url2 = \"https://api.twitch.tv/kraken/videos/\" + str(id) + \"/comments?content_offset_seconds=\" + str(offset)\n",
    "                else:\n",
    "                    url2 = \"https://api.twitch.tv/kraken/videos/\" + str(id) + \"/comments?cursor=\" + str(cursor)\n",
    "                req2 = urllib.request.Request(url2, headers = {\"Client-ID\": clientId, \"Accept\" : \"application/vnd.twitchtv.v5+json\"})\n",
    "                u2 = urllib.request.urlopen(req2)\n",
    "                c2 = u2.read().decode('utf-8')\n",
    "                j2 = json.loads(c2)\n",
    "                endCount = 0\n",
    "                try:\n",
    "                    for number, com in enumerate(j2['comments']):\n",
    "\n",
    "                        dateString = j2['comments'][number]['created_at']\n",
    "                        if \".\" in dateString:\n",
    "                            dateString = re.sub(r\".[0-9]+Z\",\"Z\", dateString)\n",
    "                        date = datetime.strptime(dateString, \"%Y-%m-%dT%H:%M:%SZ\")\n",
    "\n",
    "                        if (int(offset) + int(duration)) < int(j2['comments'][number]['content_offset_seconds']):\n",
    "                            endCount = 1\n",
    "                            break\n",
    "                        else:\n",
    "                            f.write(str(j['clips'][num]['title']) + \"\\t\" +\n",
    "                                    str(j['clips'][num]['game']) + \"\\t\" +\n",
    "                                    str(j['clips'][num]['views']) + \"\\t\" +\n",
    "                                    str(j['clips'][num]['duration']) + \"\\t\" +\n",
    "                                    str(j['clips'][num]['vod']['url']) + \"\\t\" +\n",
    "                                    str(date + timedelta(hours=9)) + \"\\t\" +\n",
    "                                    str(j2['comments'][number]['commenter']['name']) + \"\\t\" +\n",
    "                                    str(j2['comments'][number]['message']['body']) + \"\\n\")\n",
    "\n",
    "                except Exception as e:\n",
    "                    print(e)\n",
    "\n",
    "                if endCount == 1:\n",
    "                    break\n",
    "\n",
    "                if j2['_next']:\n",
    "                    cursor = j2['_next']\n",
    "\n",
    "                count = count + 1\n",
    "\n",
    "            except Exception as e:\n",
    "                print(e)"
   ]
  },
  {
   "cell_type": "code",
   "execution_count": 6,
   "metadata": {},
   "outputs": [],
   "source": [
    "if __name__ == \"__main__\":\n",
    "    file = open(\"clipchat.txt\", \"w\", encoding=\"utf-8\")\n",
    "    Channel = \"hanryang1125\"\n",
    "    Limit = 1\n",
    "    ClientId = \"7lwx13o4czugl09409d7nntm1epfwt\" # Client id 추가\n",
    "    js = collectClip(Channel, Limit, ClientId, file)\n",
    "    file.close()"
   ]
  },
  {
   "cell_type": "code",
   "execution_count": 7,
   "metadata": {},
   "outputs": [
    {
     "output_type": "execute_result",
     "data": {
      "text/plain": "{'clips': [{'slug': 'SleepyInspiringPuffinGivePLZ',\n   'tracking_id': '659780404',\n   'url': 'https://clips.twitch.tv/SleepyInspiringPuffinGivePLZ?tt_medium=clips_api&tt_content=url',\n   'embed_url': 'https://clips.twitch.tv/embed?clip=SleepyInspiringPuffinGivePLZ&tt_medium=clips_api&tt_content=embed',\n   'embed_html': \"<iframe src='https://clips.twitch.tv/embed?clip=SleepyInspiringPuffinGivePLZ&tt_medium=clips_api&tt_content=embed' width='640' height='360' frameborder='0' scrolling='no' allowfullscreen='true'></iframe>\",\n   'broadcaster': {'id': '103825127',\n    'name': 'hanryang1125',\n    'display_name': '풍월량',\n    'channel_url': 'https://www.twitch.tv/hanryang1125',\n    'logo': 'https://static-cdn.jtvnw.net/jtv_user_pictures/hanryang1125-profile_image-58261d78af47d249-150x150.jpeg'},\n   'curator': {'id': '137897233',\n    'name': 'symgathy12',\n    'display_name': '키레이토',\n    'channel_url': 'https://www.twitch.tv/symgathy12',\n    'logo': 'https://static-cdn.jtvnw.net/jtv_user_pictures/9fad9e14-ae28-4e26-9857-de2bc799fab4-profile_image-150x150.png'},\n   'vod': {'id': '583024208',\n    'url': 'https://www.twitch.tv/videos/583024208?t=4h3m48s',\n    'offset': 14628,\n    'preview_image_url': 'https://vod-secure.twitch.tv/_404/404_processing_320x240.png'},\n   'broadcast_id': '37381840752',\n   'game': 'Teamfight Tactics',\n   'language': 'ko',\n   'title': '이 악무는 시청자들 생길까봐 선조치하는 스트리머',\n   'views': 38552,\n   'duration': 28,\n   'created_at': '2020-04-04T15:08:11Z',\n   'thumbnails': {'medium': 'https://clips-media-assets2.twitch.tv/37381840752-offset-14652-preview-480x272.jpg',\n    'small': 'https://clips-media-assets2.twitch.tv/37381840752-offset-14652-preview-260x147.jpg',\n    'tiny': 'https://clips-media-assets2.twitch.tv/37381840752-offset-14652-preview-86x45.jpg'}}],\n '_cursor': 'MQ=='}"
     },
     "metadata": {},
     "execution_count": 7
    }
   ],
   "source": [
    "js\n",
    "\n",
    "# id = js['clips'][num]['vod']['id']\n",
    "# offset = js['clips'][num]['vod']['offset']\n",
    "# duration = js['clips'][num]['duration']"
   ]
  }
 ],
 "metadata": {
  "kernelspec": {
   "display_name": "Python 3",
   "language": "python",
   "name": "python3"
  },
  "language_info": {
   "codemirror_mode": {
    "name": "ipython",
    "version": 3
   },
   "file_extension": ".py",
   "mimetype": "text/x-python",
   "name": "python",
   "nbconvert_exporter": "python",
   "pygments_lexer": "ipython3",
   "version": "3.7.6-final"
  }
 },
 "nbformat": 4,
 "nbformat_minor": 2
}