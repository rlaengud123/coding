{
 "cells": [
  {
   "cell_type": "code",
   "execution_count": 1,
   "metadata": {},
   "outputs": [],
   "source": [
    "import json\n",
    "import urllib.request\n",
    "from datetime import datetime\n",
    "from datetime import timedelta\n",
    "import re\n",
    "\n"
   ]
  },
  {
   "cell_type": "code",
   "execution_count": 2,
   "metadata": {},
   "outputs": [],
   "source": [
    "def collectClip(channel, lim, Clientid, File):\n",
    "    url = \"https://api.twitch.tv/kraken/clips/top?channel=\" + channel + \"&limit=\" + str(lim)\n",
    "    req = urllib.request.Request(url, headers = {\"Client-ID\": '7lwx13o4czugl09409d7nntm1epfwt', \"Accept\" : \"application/vnd.twitchtv.v5+json\"})\n",
    "    u = urllib.request.urlopen(req)\n",
    "    c = u.read().decode('utf-8')\n",
    "    js = json.loads(c)\n",
    "\n",
    "    collectChat(js, lim, Clientid, File)\n",
    "\n",
    "def collectChat(j, limit, clientId, f):\n",
    "    for num in range(int(limit)):\n",
    "        id = j['clips'][num]['vod']['id']\n",
    "        offset = j['clips'][num]['vod']['offset']\n",
    "        duration = j['clips'][num]['duration']\n",
    "\n",
    "        cursor = \"\"\n",
    "        count = 0\n",
    "\n",
    "        while(1):\n",
    "            try:\n",
    "                url2 = \"\"\n",
    "                if count == 0:\n",
    "                    url2 = \"https://api.twitch.tv/kraken/videos/\" + str(id) + \"/comments?content_offset_seconds=\" + str(offset)\n",
    "                else:\n",
    "                    url2 = \"https://api.twitch.tv/kraken/videos/\" + str(id) + \"/comments?cursor=\" + str(cursor)\n",
    "                req2 = urllib.request.Request(url2, headers = {\"Client-ID\": clientId, \"Accept\" : \"application/vnd.twitchtv.v5+json\"})\n",
    "                u2 = urllib.request.urlopen(req2)\n",
    "                c2 = u2.read().decode('utf-8')\n",
    "                j2 = json.loads(c2)\n",
    "                endCount = 0\n",
    "                try:\n",
    "                    for number, com in enumerate(j2['comments']):\n",
    "\n",
    "                        dateString = j2['comments'][number]['created_at']\n",
    "                        if \".\" in dateString:\n",
    "                            dateString = re.sub(r\".[0-9]+Z\",\"Z\", dateString)\n",
    "                        date = datetime.strptime(dateString, \"%Y-%m-%dT%H:%M:%SZ\")\n",
    "\n",
    "                        if (int(offset) + int(duration)) < int(j2['comments'][number]['content_offset_seconds']):\n",
    "                            endCount = 1\n",
    "                            break\n",
    "                        else:\n",
    "                            f.write(str(j['clips'][num]['title']) + \"\\t\" +\n",
    "                                    str(j['clips'][num]['game']) + \"\\t\" +\n",
    "                                    str(j['clips'][num]['views']) + \"\\t\" +\n",
    "                                    str(j['clips'][num]['duration']) + \"\\t\" +\n",
    "                                    str(j['clips'][num]['vod']['url']) + \"\\t\" +\n",
    "                                    str(date + timedelta(hours=9)) + \"\\t\" +\n",
    "                                    str(j2['comments'][number]['commenter']['name']) + \"\\t\" +\n",
    "                                    str(j2['comments'][number]['message']['body']) + \"\\n\")\n",
    "\n",
    "                except Exception as e:\n",
    "                    print(e)\n",
    "\n",
    "                if endCount == 1:\n",
    "                    break\n",
    "\n",
    "                if j2['_next']:\n",
    "                    cursor = j2['_next']\n",
    "\n",
    "                count = count + 1\n",
    "\n",
    "            except Exception as e:\n",
    "                print(e)\n",
    "\n"
   ]
  },
  {
   "cell_type": "code",
   "execution_count": null,
   "metadata": {},
   "outputs": [],
   "source": [
    "if __name__ == \"__main__\":\n",
    "    file = open(\"clipchat.txt\", \"w\", encoding=\"utf-8\")\n",
    "    Channel = \"lck_korea\"\n",
    "    Limit = 5\n",
    "    ClientId = \"\" # Client id 추가\n",
    "    collectClip(Channel, Limit, ClientId, file)\n",
    "    file.close()"
   ]
  }
 ],
 "metadata": {
  "kernelspec": {
   "display_name": "Python 3",
   "language": "python",
   "name": "python3"
  },
  "language_info": {
   "codemirror_mode": {
    "name": "ipython",
    "version": 3
   },
   "file_extension": ".py",
   "mimetype": "text/x-python",
   "name": "python",
   "nbconvert_exporter": "python",
   "pygments_lexer": "ipython3",
   "version": "3.7.2"
  }
 },
 "nbformat": 4,
 "nbformat_minor": 2
}
