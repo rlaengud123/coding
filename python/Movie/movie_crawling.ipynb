{
 "cells": [
  {
   "cell_type": "code",
   "execution_count": 3,
   "metadata": {},
   "outputs": [],
   "source": [
    "import time\n",
    "from selenium import webdriver\n",
    "import requests\n",
    "from bs4 import BeautifulSoup\n",
    "import pandas as pd\n",
    "\n",
    "driver = webdriver.Firefox()\n",
    "\n",
    "driver.get('https://namu.wiki/w/%ED%95%9C%EA%B5%AD%20%EC%98%81%ED%99%94/%EB%AA%A9%EB%A1%9D');   \n",
    "res = driver.page_source\n",
    "soup = BeautifulSoup(res, 'html.parser')\n",
    "title = soup.find_all(class_='wiki-paragraph')\n",
    "\n",
    "time.sleep(2)\n"
   ]
  },
  {
   "cell_type": "code",
   "execution_count": 4,
   "metadata": {},
   "outputs": [],
   "source": [
    "list_title = []\n",
    "list_ = str(title).split('<')\n",
    "for i in list_:\n",
    "    if 'title' in i:\n",
    "        list_title.append(i.split('title')[1].split('>')[1])"
   ]
  },
  {
   "cell_type": "code",
   "execution_count": 34,
   "metadata": {},
   "outputs": [],
   "source": [
    "df = pd.DataFrame(columns=['title','act1','act2','act3','act4','act5'])"
   ]
  },
  {
   "cell_type": "code",
   "execution_count": 35,
   "metadata": {
    "tags": [
     "outputPrepend"
    ]
   },
   "outputs": [],
   "source": [
    "import time\n",
    "from selenium import webdriver\n",
    "import requests\n",
    "from bs4 import BeautifulSoup\n",
    "import pandas as pd\n",
    "from selenium.common.exceptions import NoSuchElementException,StaleElementReferenceException\n",
    "\n",
    "\n",
    "driver = webdriver.Firefox()\n",
    "\n",
    "\n",
    "\n",
    "for k,j in enumerate(list_title):\n",
    "    driver.get('https://search.naver.com/search.naver?sm=tab_hty.top&where=nexearch&query=' +j);   \n",
    "    res = driver.page_source\n",
    "    soup = BeautifulSoup(res, 'html.parser')\n",
    "    title = soup.find(id='_movie_tab')\n",
    "    \n",
    "    time.sleep(2)\n",
    "    try:\n",
    "        search_box = driver.find_element_by_xpath('//*[@id=\"_movie_tab\"]/div/ul/li[1]/a')\n",
    "        search_box.click()\n",
    "    except NoSuchElementException:\n",
    "        driver.get('https://search.naver.com/search.naver?sm=tab_hty.top&where=nexearch&query=' +j + '영화');   \n",
    "        res = driver.page_source\n",
    "        soup = BeautifulSoup(res, 'html.parser')\n",
    "        title = soup.find(id='_movie_tab')\n",
    "        try:\n",
    "            search_box = driver.find_element_by_xpath('//*[@id=\"_movie_tab\"]/div/ul/li[1]/a')\n",
    "            search_box.click()\n",
    "        except NoSuchElementException:\n",
    "            continue\n",
    "    \n",
    "    time.sleep(2)\n",
    "    res2 = driver.page_source\n",
    "    soup2 = BeautifulSoup(res2, 'html.parser')\n",
    "    character = str(soup2.find_all(class_='scm_ellipsis _ellipsis')).split('<')\n",
    "\n",
    "    list_ = []\n",
    "    list_.append(j)\n",
    "    for i in character:\n",
    "        if 'title' in i:\n",
    "            list_.append(i.split('>')[1])\n",
    "    if len(list_) == 6:\n",
    "        a_series = pd.Series(list_, index = df.columns)\n",
    "        df = df.append(a_series, ignore_index=True)\n",
    "\n",
    "    \n"
   ]
  },
  {
   "cell_type": "code",
   "execution_count": 37,
   "metadata": {},
   "outputs": [],
   "source": [
    "df.to_csv(\"./result.csv\",index=False, encoding='utf-8-sig')"
   ]
  },
  {
   "cell_type": "markdown",
   "metadata": {},
   "source": [
    "df"
   ]
  }
 ],
 "metadata": {
  "language_info": {
   "name": "python",
   "codemirror_mode": {
    "name": "ipython",
    "version": 3
   },
   "version": "3.7.6-final"
  },
  "orig_nbformat": 2,
  "file_extension": ".py",
  "mimetype": "text/x-python",
  "name": "python",
  "npconvert_exporter": "python",
  "pygments_lexer": "ipython3",
  "version": 3,
  "kernelspec": {
   "name": "python37664bitlrcnconda81488d0fdaed43d5852de4dbfc33ce1f",
   "display_name": "Python 3.7.6 64-bit ('lrcn': conda)"
  }
 },
 "nbformat": 4,
 "nbformat_minor": 2
}