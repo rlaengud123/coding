{
 "nbformat": 4,
 "nbformat_minor": 2,
 "metadata": {
  "language_info": {
   "name": "python",
   "codemirror_mode": {
    "name": "ipython",
    "version": 3
   },
   "version": "3.7.6-final"
  },
  "orig_nbformat": 2,
  "file_extension": ".py",
  "mimetype": "text/x-python",
  "name": "python",
  "npconvert_exporter": "python",
  "pygments_lexer": "ipython3",
  "version": 3,
  "kernelspec": {
   "name": "python37664bitlrcnconda81488d0fdaed43d5852de4dbfc33ce1f",
   "display_name": "Python 3.7.6 64-bit ('lrcn': conda)"
  }
 },
 "cells": [
  {
   "cell_type": "code",
   "execution_count": 2,
   "metadata": {},
   "outputs": [],
   "source": [
    "f = open(\"./team.txt\", 'r', encoding='UTF8')\n",
    "line = f.read()"
   ]
  },
  {
   "cell_type": "code",
   "execution_count": 382,
   "metadata": {},
   "outputs": [
    {
     "output_type": "error",
     "ename": "SyntaxError",
     "evalue": "invalid syntax (<ipython-input-382-619293ca200b>, line 2)",
     "traceback": [
      "\u001b[1;36m  File \u001b[1;32m\"<ipython-input-382-619293ca200b>\"\u001b[1;36m, line \u001b[1;32m2\u001b[0m\n\u001b[1;33m    import pandas as pd|\u001b[0m\n\u001b[1;37m                       ^\u001b[0m\n\u001b[1;31mSyntaxError\u001b[0m\u001b[1;31m:\u001b[0m invalid syntax\n"
     ]
    }
   ],
   "source": [
    "list_full = list(line.split('<'))"
   ]
  },
  {
   "cell_type": "code",
   "execution_count": 30,
   "metadata": {},
   "outputs": [
    {
     "output_type": "error",
     "ename": "ValueError",
     "evalue": "Length of passed values is 5, index implies 15.",
     "traceback": [
      "\u001b[1;31m---------------------------------------------------------------------------\u001b[0m",
      "\u001b[1;31mValueError\u001b[0m                                Traceback (most recent call last)",
      "\u001b[1;32m<ipython-input-30-c342c1fd0443>\u001b[0m in \u001b[0;36m<module>\u001b[1;34m\u001b[0m\n\u001b[0;32m     89\u001b[0m                 \u001b[0mlist_right\u001b[0m\u001b[1;33m.\u001b[0m\u001b[0mappend\u001b[0m\u001b[1;33m(\u001b[0m\u001b[0mi\u001b[0m\u001b[1;33m.\u001b[0m\u001b[0msplit\u001b[0m\u001b[1;33m(\u001b[0m\u001b[1;34m'>'\u001b[0m\u001b[1;33m)\u001b[0m\u001b[1;33m[\u001b[0m\u001b[1;36m1\u001b[0m\u001b[1;33m]\u001b[0m\u001b[1;33m)\u001b[0m\u001b[1;33m\u001b[0m\u001b[1;33m\u001b[0m\u001b[0m\n\u001b[0;32m     90\u001b[0m \u001b[1;33m\u001b[0m\u001b[0m\n\u001b[1;32m---> 91\u001b[1;33m         \u001b[0ma_series1\u001b[0m \u001b[1;33m=\u001b[0m \u001b[0mpd\u001b[0m\u001b[1;33m.\u001b[0m\u001b[0mSeries\u001b[0m\u001b[1;33m(\u001b[0m\u001b[0mlist_right\u001b[0m\u001b[1;33m,\u001b[0m \u001b[0mindex\u001b[0m \u001b[1;33m=\u001b[0m \u001b[0mdf\u001b[0m\u001b[1;33m.\u001b[0m\u001b[0mcolumns\u001b[0m\u001b[1;33m)\u001b[0m\u001b[1;33m\u001b[0m\u001b[1;33m\u001b[0m\u001b[0m\n\u001b[0m\u001b[0;32m     92\u001b[0m         \u001b[0ma_series2\u001b[0m \u001b[1;33m=\u001b[0m \u001b[0mpd\u001b[0m\u001b[1;33m.\u001b[0m\u001b[0mSeries\u001b[0m\u001b[1;33m(\u001b[0m\u001b[0mlist_left\u001b[0m\u001b[1;33m,\u001b[0m \u001b[0mindex\u001b[0m \u001b[1;33m=\u001b[0m \u001b[0mdf\u001b[0m\u001b[1;33m.\u001b[0m\u001b[0mcolumns\u001b[0m\u001b[1;33m)\u001b[0m\u001b[1;33m\u001b[0m\u001b[1;33m\u001b[0m\u001b[0m\n\u001b[0;32m     93\u001b[0m         \u001b[0mdf\u001b[0m \u001b[1;33m=\u001b[0m \u001b[0mdf\u001b[0m\u001b[1;33m.\u001b[0m\u001b[0mappend\u001b[0m\u001b[1;33m(\u001b[0m\u001b[0ma_series1\u001b[0m\u001b[1;33m,\u001b[0m \u001b[0mignore_index\u001b[0m\u001b[1;33m=\u001b[0m\u001b[1;32mTrue\u001b[0m\u001b[1;33m)\u001b[0m\u001b[1;33m\u001b[0m\u001b[1;33m\u001b[0m\u001b[0m\n",
      "\u001b[1;32m~\\Anaconda3\\envs\\lrcn\\lib\\site-packages\\pandas\\core\\series.py\u001b[0m in \u001b[0;36m__init__\u001b[1;34m(self, data, index, dtype, name, copy, fastpath)\u001b[0m\n\u001b[0;32m    290\u001b[0m                     \u001b[1;32mif\u001b[0m \u001b[0mlen\u001b[0m\u001b[1;33m(\u001b[0m\u001b[0mindex\u001b[0m\u001b[1;33m)\u001b[0m \u001b[1;33m!=\u001b[0m \u001b[0mlen\u001b[0m\u001b[1;33m(\u001b[0m\u001b[0mdata\u001b[0m\u001b[1;33m)\u001b[0m\u001b[1;33m:\u001b[0m\u001b[1;33m\u001b[0m\u001b[1;33m\u001b[0m\u001b[0m\n\u001b[0;32m    291\u001b[0m                         raise ValueError(\n\u001b[1;32m--> 292\u001b[1;33m                             \u001b[1;34mf\"Length of passed values is {len(data)}, \"\u001b[0m\u001b[1;33m\u001b[0m\u001b[1;33m\u001b[0m\u001b[0m\n\u001b[0m\u001b[0;32m    293\u001b[0m                             \u001b[1;34mf\"index implies {len(index)}.\"\u001b[0m\u001b[1;33m\u001b[0m\u001b[1;33m\u001b[0m\u001b[0m\n\u001b[0;32m    294\u001b[0m                         )\n",
      "\u001b[1;31mValueError\u001b[0m: Length of passed values is 5, index implies 15."
     ]
    }
   ],
   "source": [
    "import time\n",
    "from selenium import webdriver\n",
    "import requests\n",
    "from bs4 import BeautifulSoup\n",
    "import pandas as pd\n",
    "\n",
    "\n",
    "list_full = []\n",
    "driver = webdriver.Firefox()\n",
    "df = pd.DataFrame(columns=['team', 'cp1','cp2','cp3','cp4','cp5','pl1','pl2','pl3','pl4','pl5','score','date','stage','title'])\n",
    "\n",
    "\n",
    "\n",
    "for l in range(50,61):\n",
    "    driver.get('http://lol.inven.co.kr/dataninfo/match/teamList.php?pg=' + str(l));   \n",
    "    res = driver.page_source\n",
    "    soup = BeautifulSoup(res, 'html.parser')\n",
    "    title = soup.find(id='lolDbMatchTeamList')\n",
    "\n",
    "    list_page = []\n",
    "    for j in title:\n",
    "        list_page.append(str(j))\n",
    "    match_list = []\n",
    "    for k in list_page:\n",
    "        if 'listFrame' in k:\n",
    "            match_list.append(k.split('listFrame')[1].split('id=\"')[1].split('>')[0].split('\"')[0])\n",
    "\n",
    "    time.sleep(2)\t\t\t\t\n",
    "    for l in match_list:\n",
    "        search_box = driver.find_element_by_xpath('//*[@id=\"{}\"]/div[5]/a'.format(l))  \n",
    "        search_box.send_keys('\\n')\t\t\n",
    "        search_box.click()\t\t\t\n",
    "\n",
    "\n",
    "    res2 = driver.page_source\n",
    "    soup2 = BeautifulSoup(res2, 'html.parser')\n",
    "    title2 = soup2.find(id='lolDbMatchTeamList')\n",
    "\n",
    "    \n",
    "    for m in range(0,25):\n",
    "        list_left = []\n",
    "        list_right = []\n",
    "\n",
    "        lTeam = str(soup2.find_all(class_='lTeam')[m]).split('<') #0부터 24까지\n",
    "        for i in lTeam:\n",
    "            if 'teamname' in i:\n",
    "                list_right.append(i.split('>')[1])\n",
    "\n",
    "\n",
    "        wTeam = str(soup2.find_all(class_='wTeam')[m]).split('<')\n",
    "        for i in wTeam:\n",
    "            if 'teamname' in i:\n",
    "                list_left.append(i.split('>')[1])\n",
    "\n",
    "\n",
    "        left = str(soup2.find_all(class_='left')[m]).split('<')\n",
    "        for i in left:\n",
    "            if 'champicon' in i:\n",
    "                list_left.append(i.split('(')[2].split(')')[0].split('\\'')[1])\n",
    "        for i in left:\n",
    "            if 'playername color1' in i:\n",
    "                list_left.append(i.split('>')[1])\n",
    "\n",
    "        right = str(soup2.find_all(class_='right')[m]).split('<')\n",
    "        for i in right:\n",
    "            if 'champicon' in i:\n",
    "                list_right.append(i.split('(')[2].split(')')[0].split('\\'')[1])\n",
    "        for i in right:\n",
    "            if 'playername color2' in i:\n",
    "                list_right.append(i.split('>')[1])\n",
    "        for i in lTeam:\n",
    "            if 'color2 tx5' in i:\n",
    "                list_right.append(i.split('>')[1])\n",
    "\n",
    "        for i in wTeam:\n",
    "            if 'color1 tx5' in i:\n",
    "                list_left.append(i.split('>')[1])\n",
    "\n",
    "        listTop = str(soup2.find_all(class_='listTop')[m]).split('<')\n",
    "        for i in listTop:\n",
    "            if 'title' in i:\n",
    "                list_left.append(i.split('>')[1])\n",
    "                list_right.append(i.split('>')[1])\n",
    "            if 'date' in i:\n",
    "                list_left.append(i.split('>')[1])\n",
    "                list_right.append(i.split('>')[1])\n",
    "            if 'stage' in i:\n",
    "                list_left.append(i.split('>')[1])\n",
    "                list_right.append(i.split('>')[1])\n",
    "\n",
    "        a_series1 = pd.Series(list_right, index = df.columns)\n",
    "        a_series2 = pd.Series(list_left, index = df.columns)\n",
    "        df = df.append(a_series1, ignore_index=True)\n",
    "        df = df.append(a_series2, ignore_index=True)\n",
    "\n",
    "    list_full.append(str(title2))\n",
    "\n",
    ""
   ]
  },
  {
   "cell_type": "code",
   "execution_count": 34,
   "metadata": {},
   "outputs": [],
   "source": [
    "df.to_csv(\"./result3.csv\",index=False, encoding='utf-8-sig')"
   ]
  },
  {
   "cell_type": "code",
   "execution_count": 31,
   "metadata": {},
   "outputs": [],
   "source": [
    "list_right = ['RNG','블라디미르','스카너','이렐리아','케이틀린','브라움','RNG Letme','RNG Karsa','RNG Xiaohu','RNG Uzi','RNG Ming', 'W', '2018.05.11', '2018 MSI', 'Group Stage 1일차 ']"
   ]
  },
  {
   "cell_type": "code",
   "execution_count": 32,
   "metadata": {},
   "outputs": [],
   "source": [
    "a_series1 = pd.Series(list_right, index = df.columns)\n",
    "a_series2 = pd.Series(list_left, index = df.columns)\n",
    "df = df.append(a_series1, ignore_index=True)\n",
    "df = df.append(a_series2, ignore_index=True)"
   ]
  },
  {
   "cell_type": "code",
   "execution_count": 27,
   "metadata": {},
   "outputs": [
    {
     "output_type": "execute_result",
     "data": {
      "text/plain": "'/div>'"
     },
     "metadata": {},
     "execution_count": 27
    }
   ],
   "source": [
    "i"
   ]
  },
  {
   "cell_type": "code",
   "execution_count": 33,
   "metadata": {},
   "outputs": [],
   "source": [
    "#import pandas as pd\n",
    "#df = pd.DataFrame(columns=['team', 'cp1','cp2','cp3','cp4','cp5','pl1','pl2','pl3','pl4','pl5','score','date','stage','title'])\n",
    "for m in range(7,25):\n",
    "    list_left = []\n",
    "    list_right = []\n",
    "\n",
    "    lTeam = str(soup2.find_all(class_='lTeam')[m]).split('<') #0부터 24까지\n",
    "    for i in lTeam:\n",
    "        if 'teamname' in i:\n",
    "            list_right.append(i.split('>')[1])\n",
    "\n",
    "\n",
    "    wTeam = str(soup2.find_all(class_='wTeam')[m]).split('<')\n",
    "    for i in wTeam:\n",
    "        if 'teamname' in i:\n",
    "            list_left.append(i.split('>')[1])\n",
    "\n",
    "\n",
    "    left = str(soup2.find_all(class_='left')[m]).split('<')\n",
    "    for i in left:\n",
    "        if 'champicon' in i:\n",
    "            list_left.append(i.split('(')[2].split(')')[0].split('\\'')[1])\n",
    "    for i in left:\n",
    "        if 'playername color1' in i:\n",
    "            list_left.append(i.split('>')[1])\n",
    "\n",
    "    right = str(soup2.find_all(class_='right')[m]).split('<')\n",
    "    for i in right:\n",
    "         if 'champicon' in i:\n",
    "             list_right.append(i.split('(')[2].split(')')[0].split('\\'')[1])\n",
    "    for i in right:\n",
    "         if 'playername color2' in i:\n",
    "             list_right.append(i.split('>')[1])\n",
    "    for i in lTeam:\n",
    "         if 'color2 tx5' in i:\n",
    "             list_right.append(i.split('>')[1])\n",
    "\n",
    "    for i in wTeam:\n",
    "         if 'color1 tx5' in i:\n",
    "             list_left.append(i.split('>')[1])\n",
    "\n",
    "    listTop = str(soup2.find_all(class_='listTop')[m]).split('<')\n",
    "    for i in listTop:\n",
    "         if 'title' in i:\n",
    "             list_left.append(i.split('>')[1])\n",
    "             list_right.append(i.split('>')[1])\n",
    "         if 'date' in i:\n",
    "             list_left.append(i.split('>')[1])\n",
    "             list_right.append(i.split('>')[1])\n",
    "         if 'stage' in i:\n",
    "             list_left.append(i.split('>')[1])\n",
    "             list_right.append(i.split('>')[1])\n",
    "\n",
    "    a_series1 = pd.Series(list_right, index = df.columns)\n",
    "    a_series2 = pd.Series(list_left, index = df.columns)\n",
    "    df = df.append(a_series1, ignore_index=True)\n",
    "    df = df.append(a_series2, ignore_index=True)"
   ]
  },
  {
   "cell_type": "code",
   "execution_count": 14,
   "metadata": {},
   "outputs": [
    {
     "output_type": "execute_result",
     "data": {
      "text/plain": "          team    cp1   cp2   cp3    cp4   cp5             pl1           pl2  \\\n2445    SKT T1     오른  킨드레드   스웨인    바루스  탐 켄치     SKT T1 Thal  SKT T1 Blank   \n2446    kt 롤스터     나르  세주아니   아지르    바루스  모르가나         KT Smeb      KT Score   \n2447  진에어 그린윙스   갱플랭크   스카너  오리아나   이즈리얼     쉔  Jin Air SoHwan  Jin Air UmTi   \n2448  진에어 그린윙스  블라디미르   트런들  오리아나     자야  알리스타  Jin Air SoHwan  Jin Air UmTi   \n2449    kt 롤스터     케넨  그라가스   라이즈  트리스타나    라칸         KT Smeb      KT Score   \n\n                pl3            pl4            pl5 score        date  \\\n2445  SKT T1 Pirean    SKT T1 Bang  SKT T1 Effort     L  2018.08.04   \n2446        KT Ucal        KT Deft        KT Mata     W  2018.08.02   \n2447  Jin Air Grace  Jin Air Teddy   Jin Air Nova     L  2018.08.02   \n2448  Jin Air Grace  Jin Air Teddy   Jin Air Nova     L  2018.08.02   \n2449        KT Ucal        KT Deft        KT Mata     W  2018.08.02   \n\n                  stage         title  \n2445  2018 LCK 섬머 정규 시즌  39일차 1경기 1세트  \n2446  2018 LCK 섬머 정규 시즌  38일차 2경기 3세트  \n2447  2018 LCK 섬머 정규 시즌  38일차 2경기 3세트  \n2448  2018 LCK 섬머 정규 시즌  38일차 2경기 2세트  \n2449  2018 LCK 섬머 정규 시즌  38일차 2경기 2세트  ",
      "text/html": "<div>\n<style scoped>\n    .dataframe tbody tr th:only-of-type {\n        vertical-align: middle;\n    }\n\n    .dataframe tbody tr th {\n        vertical-align: top;\n    }\n\n    .dataframe thead th {\n        text-align: right;\n    }\n</style>\n<table border=\"1\" class=\"dataframe\">\n  <thead>\n    <tr style=\"text-align: right;\">\n      <th></th>\n      <th>team</th>\n      <th>cp1</th>\n      <th>cp2</th>\n      <th>cp3</th>\n      <th>cp4</th>\n      <th>cp5</th>\n      <th>pl1</th>\n      <th>pl2</th>\n      <th>pl3</th>\n      <th>pl4</th>\n      <th>pl5</th>\n      <th>score</th>\n      <th>date</th>\n      <th>stage</th>\n      <th>title</th>\n    </tr>\n  </thead>\n  <tbody>\n    <tr>\n      <th>2445</th>\n      <td>SKT T1</td>\n      <td>오른</td>\n      <td>킨드레드</td>\n      <td>스웨인</td>\n      <td>바루스</td>\n      <td>탐 켄치</td>\n      <td>SKT T1 Thal</td>\n      <td>SKT T1 Blank</td>\n      <td>SKT T1 Pirean</td>\n      <td>SKT T1 Bang</td>\n      <td>SKT T1 Effort</td>\n      <td>L</td>\n      <td>2018.08.04</td>\n      <td>2018 LCK 섬머 정규 시즌</td>\n      <td>39일차 1경기 1세트</td>\n    </tr>\n    <tr>\n      <th>2446</th>\n      <td>kt 롤스터</td>\n      <td>나르</td>\n      <td>세주아니</td>\n      <td>아지르</td>\n      <td>바루스</td>\n      <td>모르가나</td>\n      <td>KT Smeb</td>\n      <td>KT Score</td>\n      <td>KT Ucal</td>\n      <td>KT Deft</td>\n      <td>KT Mata</td>\n      <td>W</td>\n      <td>2018.08.02</td>\n      <td>2018 LCK 섬머 정규 시즌</td>\n      <td>38일차 2경기 3세트</td>\n    </tr>\n    <tr>\n      <th>2447</th>\n      <td>진에어 그린윙스</td>\n      <td>갱플랭크</td>\n      <td>스카너</td>\n      <td>오리아나</td>\n      <td>이즈리얼</td>\n      <td>쉔</td>\n      <td>Jin Air SoHwan</td>\n      <td>Jin Air UmTi</td>\n      <td>Jin Air Grace</td>\n      <td>Jin Air Teddy</td>\n      <td>Jin Air Nova</td>\n      <td>L</td>\n      <td>2018.08.02</td>\n      <td>2018 LCK 섬머 정규 시즌</td>\n      <td>38일차 2경기 3세트</td>\n    </tr>\n    <tr>\n      <th>2448</th>\n      <td>진에어 그린윙스</td>\n      <td>블라디미르</td>\n      <td>트런들</td>\n      <td>오리아나</td>\n      <td>자야</td>\n      <td>알리스타</td>\n      <td>Jin Air SoHwan</td>\n      <td>Jin Air UmTi</td>\n      <td>Jin Air Grace</td>\n      <td>Jin Air Teddy</td>\n      <td>Jin Air Nova</td>\n      <td>L</td>\n      <td>2018.08.02</td>\n      <td>2018 LCK 섬머 정규 시즌</td>\n      <td>38일차 2경기 2세트</td>\n    </tr>\n    <tr>\n      <th>2449</th>\n      <td>kt 롤스터</td>\n      <td>케넨</td>\n      <td>그라가스</td>\n      <td>라이즈</td>\n      <td>트리스타나</td>\n      <td>라칸</td>\n      <td>KT Smeb</td>\n      <td>KT Score</td>\n      <td>KT Ucal</td>\n      <td>KT Deft</td>\n      <td>KT Mata</td>\n      <td>W</td>\n      <td>2018.08.02</td>\n      <td>2018 LCK 섬머 정규 시즌</td>\n      <td>38일차 2경기 2세트</td>\n    </tr>\n  </tbody>\n</table>\n</div>"
     },
     "metadata": {},
     "execution_count": 14
    }
   ],
   "source": [
    "df.tail()"
   ]
  },
  {
   "cell_type": "code",
   "execution_count": 396,
   "metadata": {},
   "outputs": [
    {
     "output_type": "execute_result",
     "data": {
      "text/plain": "Empty DataFrame\nColumns: [team, cp1, cp2, cp3, cp4, cp5, pl1, pl2, pl3, pl4, pl5, score, date, stage, title]\nIndex: []",
      "text/html": "<div>\n<style scoped>\n    .dataframe tbody tr th:only-of-type {\n        vertical-align: middle;\n    }\n\n    .dataframe tbody tr th {\n        vertical-align: top;\n    }\n\n    .dataframe thead th {\n        text-align: right;\n    }\n</style>\n<table border=\"1\" class=\"dataframe\">\n  <thead>\n    <tr style=\"text-align: right;\">\n      <th></th>\n      <th>team</th>\n      <th>cp1</th>\n      <th>cp2</th>\n      <th>cp3</th>\n      <th>cp4</th>\n      <th>cp5</th>\n      <th>pl1</th>\n      <th>pl2</th>\n      <th>pl3</th>\n      <th>pl4</th>\n      <th>pl5</th>\n      <th>score</th>\n      <th>date</th>\n      <th>stage</th>\n      <th>title</th>\n    </tr>\n  </thead>\n  <tbody>\n  </tbody>\n</table>\n</div>"
     },
     "metadata": {},
     "execution_count": 396
    }
   ],
   "source": [
    "df"
   ]
  },
  {
   "cell_type": "code",
   "execution_count": 398,
   "metadata": {},
   "outputs": [
    {
     "output_type": "execute_result",
     "data": {
      "text/plain": "['Gen.G eSports',\n '클레드',\n '다이애나',\n '오리아나',\n '미스 포츈',\n '모르가나',\n 'T1 Canna',\n 'T1 Cuzz',\n 'T1 Faker',\n 'T1 Teddy',\n 'T1 Effort',\n 'W',\n '2020.02.16',\n '2020 LoL 챔피언스 코리아 스프링 정규 시즌',\n '10일차 2경기 2세트']"
     },
     "metadata": {},
     "execution_count": 398
    }
   ],
   "source": [
    "list_right"
   ]
  },
  {
   "cell_type": "code",
   "execution_count": 399,
   "metadata": {},
   "outputs": [],
   "source": []
  },
  {
   "cell_type": "code",
   "execution_count": 400,
   "metadata": {},
   "outputs": [
    {
     "output_type": "execute_result",
     "data": {
      "text/plain": "            team  cp1   cp2   cp3    cp4   cp5       pl1      pl2       pl3  \\\n0  Gen.G eSports  클레드  다이애나  오리아나  미스 포츈  모르가나  T1 Canna  T1 Cuzz  T1 Faker   \n\n        pl4        pl5 score        date                        stage  \\\n0  T1 Teddy  T1 Effort     W  2020.02.16  2020 LoL 챔피언스 코리아 스프링 정규 시즌   \n\n          title  \n0  10일차 2경기 2세트  ",
      "text/html": "<div>\n<style scoped>\n    .dataframe tbody tr th:only-of-type {\n        vertical-align: middle;\n    }\n\n    .dataframe tbody tr th {\n        vertical-align: top;\n    }\n\n    .dataframe thead th {\n        text-align: right;\n    }\n</style>\n<table border=\"1\" class=\"dataframe\">\n  <thead>\n    <tr style=\"text-align: right;\">\n      <th></th>\n      <th>team</th>\n      <th>cp1</th>\n      <th>cp2</th>\n      <th>cp3</th>\n      <th>cp4</th>\n      <th>cp5</th>\n      <th>pl1</th>\n      <th>pl2</th>\n      <th>pl3</th>\n      <th>pl4</th>\n      <th>pl5</th>\n      <th>score</th>\n      <th>date</th>\n      <th>stage</th>\n      <th>title</th>\n    </tr>\n  </thead>\n  <tbody>\n    <tr>\n      <th>0</th>\n      <td>Gen.G eSports</td>\n      <td>클레드</td>\n      <td>다이애나</td>\n      <td>오리아나</td>\n      <td>미스 포츈</td>\n      <td>모르가나</td>\n      <td>T1 Canna</td>\n      <td>T1 Cuzz</td>\n      <td>T1 Faker</td>\n      <td>T1 Teddy</td>\n      <td>T1 Effort</td>\n      <td>W</td>\n      <td>2020.02.16</td>\n      <td>2020 LoL 챔피언스 코리아 스프링 정규 시즌</td>\n      <td>10일차 2경기 2세트</td>\n    </tr>\n  </tbody>\n</table>\n</div>"
     },
     "metadata": {},
     "execution_count": 400
    }
   ],
   "source": []
  }
 ]
}