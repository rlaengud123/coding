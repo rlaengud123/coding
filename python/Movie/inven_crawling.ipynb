{
 "cells": [
  {
   "cell_type": "code",
   "execution_count": 68,
   "metadata": {
    "tags": [
     "outputPrepend"
    ]
   },
   "outputs": [
    {
     "output_type": "stream",
     "name": "stdout",
     "text": "이병헌\n이성민\n곽도원\n이희준\n김소진\n"
    }
   ],
   "source": [
    "import time\n",
    "from selenium import webdriver\n",
    "import requests\n",
    "from bs4 import BeautifulSoup\n",
    "import pandas as pd\n",
    "\n",
    "driver = webdriver.Firefox()\n",
    "\n",
    "driver.get('https://search.naver.com/search.naver?sm=tab_hty.top&where=nexearch&query=' +'남산의 부장들');   \n",
    "res = driver.page_source\n",
    "soup = BeautifulSoup(res, 'html.parser')\n",
    "title = soup.find(id='_movie_tab')\n",
    "\n",
    "time.sleep(2)\n",
    "\n",
    "search_box = driver.find_element_by_xpath('//*[@id=\"_movie_tab\"]/div/ul/li[1]/a')\n",
    "search_box.click()\n",
    "\n",
    "res2 = driver.page_source\n",
    "soup2 = BeautifulSoup(res2, 'html.parser')\n",
    "character = str(soup2.find_all(class_='scm_ellipsis _ellipsis')).split('<')\n",
    "\n",
    "for i in character:\n",
    "    if 'title' in i:\n",
    "        print(i.split('>')[1])"
   ]
  },
  {
   "cell_type": "code",
   "execution_count": 69,
   "metadata": {},
   "outputs": [],
   "source": [
    "import time\n",
    "from selenium import webdriver\n",
    "import requests\n",
    "from bs4 import BeautifulSoup\n",
    "import pandas as pd\n",
    "\n",
    "driver = webdriver.Firefox()\n",
    "\n",
    "driver.get('https://namu.wiki/w/%ED%95%9C%EA%B5%AD%20%EC%98%81%ED%99%94/%EB%AA%A9%EB%A1%9D');   \n",
    "res = driver.page_source\n",
    "soup = BeautifulSoup(res, 'html.parser')\n",
    "title = soup.find_all(class_='wiki-paragraph')\n",
    "\n",
    "time.sleep(2)\n"
   ]
  },
  {
   "cell_type": "code",
   "execution_count": 85,
   "metadata": {
    "tags": [
     "outputPrepend"
    ]
   },
   "outputs": [],
   "source": [
    "list_title = []\n",
    "list_ = str(title).split('<')\n",
    "for i in list_:\n",
    "    if 'title' in i:\n",
    "        list_title.append(i.split('title')[1].split('>')[1])"
   ]
  },
  {
   "cell_type": "code",
   "execution_count": 86,
   "metadata": {},
   "outputs": [
    {
     "output_type": "execute_result",
     "data": {
      "text/plain": "['',\n '한국 영화',\n '10억',\n '18: 우리들의 성장 느와르',\n '1987',\n '1991, 봄',\n '1999, 면회',\n '1급기밀',\n '1번가의 기적',\n '2009 로스트 메모리즈',\n '26년',\n '3,000',\n '4요일',\n '4인용 식탁',\n '5백만불의 사나이',\n '7광구',\n '7급 공무원',\n '7번방의 선물',\n '8월의 크리스마스',\n '가깝고도 먼 길',\n '가려진 시간',\n '가루지기',\n '가문의 영광',\n '가문의 영광',\n '가문의 위기',\n '가문의 부활',\n '가문의 수난',\n '가문의 귀환',\n '가비',\n '가슴 달린 남자',\n '가위',\n '가을로',\n '가을비 우산속에',\n '가족의 탄생',\n '각설탕',\n '간기남',\n '간신',\n '간첩',\n '간첩 리철진',\n '간기남',\n '감기',\n '감시자들',\n '강남1970',\n '강변부인',\n '강원도의 힘',\n '강철대오: 구국의 철가방',\n '강철비',\n '개그맨',\n '개들의 전쟁',\n '개를 훔치는 완벽한 방법',\n '거룩한 계보',\n '거북이 달린다',\n '거울 속으로',\n '거짓말',\n '건축무한육면각체의 비밀',\n '건축학개론',\n '걷기왕',\n '걸프렌즈',\n '검사외전',\n '검은 사제들',\n '검은 집',\n '게임의 법칙',\n '겨울여자',\n '결정적 한방',\n '결혼은, 미친 짓이다',\n '결혼전야',\n '경계',\n '경성학교: 사라진 소녀들',\n '고고70',\n '고교얄개',\n '고래사냥',\n '고死: 피의 중간고사',\n '고死: 피의 중간고사',\n '고死 두번째 이야기: 교생실습',\n '고산자, 대동여지도',\n '고속도로',\n '고양이를 부탁해',\n '고지전',\n '곡성',\n '곤지암',\n '골든 슬럼버',\n '공공의 적',\n '공공의 적2',\n '강철중: 공공의 적 1-1',\n '공동경비구역 JSA',\n '공모자들',\n '공범',\n '공범자들',\n '공작',\n '공정사회',\n '공조',\n '공포의 외인구단',\n '과속스캔들',\n '관능의 법칙',\n '관상',\n '광복절 특사',\n '광식이 동생 광태',\n '광해, 왕이 된 남자',\n '괴물',\n '괴시',\n '구르믈 버서난 달처럼',\n '구미호',\n '구미호 가족',\n '구세주: 리턴즈',\n '구타유발자들',\n '국가대표',\n '국가대표 2',\n '국제시장',\n '군도: 민란의 시대',\n '군함도',\n '굿모닝 프레지던트',\n '굿바이 싱글',\n '궁합',\n '귀신이 산다',\n '귀여워',\n '귀향',\n '그것만이 내 세상',\n '그날의 분위기',\n '그녀를 믿지 마세요',\n '그놈 목소리',\n '그놈이다',\n '그대를 사랑합니다',\n '그대 안의 블루',\n '그때 그 사람들',\n '그럼에도 불구하고',\n '그림자 살인',\n '그물',\n '그해 여름',\n '극락도 살인사건',\n '극비수사',\n '극한직업',\n '글러브',\n '글로리데이',\n '기담',\n '기방도령',\n '기술자들',\n '기생충',\n '기억의 밤',\n '긴급조치 19호',\n '김관장 대 김관장 대 김관장',\n '김복남 살인 사건의 전말',\n '김씨 표류기',\n '김종욱 찾기',\n '까',\n '까불지마',\n '깡패수업',\n '꽃순이를 아시나요',\n '꽃잎',\n '꾼',\n '꿈의 제인',\n '끝까지 간다',\n '나가요 미스콜',\n '나는 77번 아가씨',\n '나는 고양이로소이다',\n '나는 왕이로소이다',\n '나를 잊지 말아요',\n '나비(2001)',\n '나비(2003)',\n '나의 독재자',\n '나의 사랑 나의 신부(1990)',\n '나의 사랑 나의 신부(2014)',\n '나의 절친 악당들',\n '나의 PS 파트너',\n '나쁜남자',\n '나쁜 녀석들: 더 무비',\n '나쁜놈은 죽는다',\n '나쁜 영화',\n '나쁜 피',\n '나탈리',\n '나랏말싸미',\n '낙동강은 흐르는가',\n '남과 여',\n '남극일기',\n '남부군',\n '남영동1985',\n '남자가 사랑할 때',\n '남자사용설명서',\n '남쪽으로 튀어',\n '남한산성',\n '너는 내 운명',\n '넘버 3',\n '내가 버린 남자',\n '내가 버린 여자',\n '내가 살인범이다',\n '내 깡패 같은 애인',\n '내 마음의 풍금',\n '내 머리속의 지우개',\n '내부자들',\n '내사랑 내곁에',\n '내 아내의 모든것',\n '내 여자친구를 소개합니다',\n '내 연애의 기억',\n '내 친구 정일우',\n '노무현입니다',\n '노브레싱',\n '노후 대책 없다',\n '녹색의자',\n '누구나 비밀은 있다',\n '눈에는 눈 이에는 이',\n '늑대소년',\n '늑대의 유혹',\n '님아, 그 강을 건너지 마오',\n '님은 먼 곳에',\n '다세포 소녀',\n '다찌마와 리',\n '다이빙벨',\n '닥터 봉',\n '닫힌 교문을 열며',\n '당신, 거기 있어줄래요',\n '달마야 놀자',\n '달마야 서울가자',\n '달은… 해가 꾸는 꿈',\n '달콤한 인생',\n '당신의 부탁',\n '대립군',\n '대배우',\n '대한민국 헌법 제1조',\n '대호',\n '댄싱퀸',\n '더 게임',\n '더 킥',\n '더 킹',\n '더 테러 라이브',\n '더 폰',\n '덕혜옹주',\n '도가니',\n '도리화가',\n '도마 안중근',\n '도둑들',\n '도레미파솔라시도',\n '도마뱀',\n '도희야',\n '독전',\n '돈을 갖고 튀어라',\n '돈 크라이 마미',\n '돈을 갖고 튀어라',\n '돈의 맛',\n '돌아와요 부산항애',\n '돌려차기',\n '돌멩이의 꿈',\n '돌아오지 않는 해병',\n '돌연변이',\n '동감',\n '동갑내기 과외하기',\n '동갑내기 과외하기2',\n '동네사람들',\n '동주',\n '동창생',\n '돼지가 우물에 빠진 날',\n '된장',\n '두근두근 내 인생',\n '두만강',\n '두사부일체',\n '디 워',\n '디 워 2',\n '또 하나의 약속',\n '똑바로 살아라',\n '똥개',\n '똥파리',\n '뚫어야 산다',\n '라디오 스타',\n '라라',\n '라스트 갓파더',\n '라이터를 켜라',\n '럭키',\n '런닝맨',\n '레나',\n '레드슈즈',\n '레드 아이',\n '레슬러',\n '로니를 찾아서',\n '로마서 8:37',\n '로봇, 소리',\n '롤러코스터',\n '루시드 드림',\n '리얼',\n '마고',\n '마녀',\n '마담 뺑덕',\n '마더',\n '마돈나',\n '마스터',\n '마약왕',\n '마유미',\n '마음이...',\n '마이웨이',\n '마이 파더',\n '마파도',\n '만남의광장',\n '만추',\n '만추(2011년)',\n '말미잘-엄마와 별과 말미잘',\n '말아톤',\n '말죽거리 잔혹사',\n '망원동 인공위성',\n '멋진 하루',\n '명량',\n '맨데이트: 신이 주신 임무',\n '맨발의 기봉이',\n '맨홀',\n '메소드(영화)',\n '모노폴리',\n '목숨 건 연애',\n '목포는 항구다',\n '몬스터',\n '무뢰한',\n '무방비도시',\n '무사',\n '무서운 이야기',\n '무서운 이야기 2',\n '무서운 이야기 3',\n '무서운 집',\n '무수단',\n '무영검',\n '무현, 두 도시 이야기',\n '미나 문방구',\n '미녀는 괴로워',\n '미술관 옆 동물원',\n '미스터 고',\n '미스터 소크라테스',\n '미스 프레지던트',\n '미쓰 백',\n '미쓰 와이프',\n '미씽: 사라진 여자',\n '미워도 다시한번',\n '미인',\n '미인도',\n '미지왕',\n '미확인 동영상: 절대클릭금지',\n '밀양(영화)',\n '밀정',\n '바람',\n '바람과 함께 사라지다',\n '바람난 가족',\n '바람 바람 바람',\n '바람의 파이터',\n '바람 피기 좋은 날',\n '바르게 살자',\n '바보',\n '바보들의 행진',\n '바비',\n '바이오맨',\n '박대박(영화)',\n '박수건달',\n '박수칠 때 떠나라',\n '박열',\n '박쥐',\n '박하 사탕',\n '반가운 살인자',\n '반두비',\n '반창꼬',\n '반칙왕',\n '밤섬해적단 서울불바다',\n '밤의 여왕',\n '방울토마토',\n '방자전',\n '방황하는 칼날',\n '배우는 배우다',\n '백만장자와 결혼하는 길',\n '백야',\n '백야행 - 하얀 어둠 속을 걷다',\n '번지점프를 하다',\n '범죄도시',\n '범죄와의 전쟁: 나쁜놈들 전성시대',\n '범죄의 여왕',\n '범죄의 재구성',\n '베를린',\n '베스트셀러',\n '베테랑',\n '변호인',\n '보안관',\n '보통사람',\n '복면달호',\n '복수는 나의 것',\n '복수혈전',\n '봄날은 간다',\n '봉이 김선달',\n '봉자',\n '부당거래',\n '부라더',\n '부러진 화살',\n '부산행',\n '분노의 윤리학',\n '분홍신',\n '불꽃처럼 나비처럼',\n '불신지옥',\n '불청객',\n '불한당: 나쁜 놈들의 세상',\n '뷰티풀 선데이',\n '뷰티 인사이드',\n '브라보 마이 라이프',\n '블라인드',\n '블랙잭',\n '블루',\n '비밀은 없다',\n '비스티 보이즈',\n '비열한 거리',\n '비천괴수',\n '비천무',\n '비트',\n '빅매치',\n '빨간마후라',\n '뺑반',\n '뻐꾸기도 밤에 우는가',\n '사과',\n '사냥',\n '사도',\n '사랑니(영화)',\n '사랑방 손님과 어머니',\n '사랑하기 때문에',\n '사랑하는 사람아',\n '사생결단',\n '산딸기',\n '산상수훈',\n '살어리랏다',\n '살인의 추억',\n '살인의뢰',\n '살인자',\n '살인자의 기억법',\n '삼거리극장',\n '삼인조',\n '상류사회',\n '상의원',\n '색즉시공',\n '생과부 위자료 청구소송',\n '생활의 발견',\n '서부전선',\n '서양골동양과자점 앤티크',\n '서편제',\n '석조저택 살인사건',\n '선데이서울',\n '선생 김봉두',\n '설국열차',\n '섬. 사라진 사람들',\n '성난 변호사',\n '성냥팔이 소녀의 재림',\n '성실한 나라의 앨리스',\n '세기말',\n '세븐 데이즈',\n '소공녀',\n '소름',\n '소셜포비아',\n '소수의견',\n '소원',\n '쇼킹 넘버1',\n '수상한 그녀',\n '수색역',\n '순수의 시대',\n '순정',\n '순천',\n '숨바꼭질',\n '숲속의 바보',\n '쉿! 그녀에겐 비밀이에요',\n '슈팅걸스',\n '슈퍼스타 감사용',\n '스물',\n '스승의 은혜',\n '스카우트',\n '스캔들 - 조선남녀상열지사',\n \"스타박'스 다방\",\n '스플릿',\n '슬로우 비디오',\n '쉬리',\n '슈퍼맨이었던 사나이',\n '시간이탈자',\n '시발, 놈 - 인류의 시작',\n '시라노;연애 조작단',\n '시실리 2km',\n '시월애',\n '식객',\n '식객: 김치전쟁',\n '신과함께',\n '신과함께-죄와 벌',\n '신과함께-인과 연',\n '신기전',\n '신데렐라',\n '신라의 달밤',\n '신세계',\n '신장 개업',\n '신의 한 수',\n '실미도',\n '실종',\n '실종: 사라진 아내',\n '심야의 FM',\n '싱글라이더',\n '싱글즈',\n '싸울아비',\n '싸움',\n '싸움의 기술',\n '싸이보그지만 괜찮아',\n '쌍화점',\n '써니',\n '썸머타임',\n '쎄시봉',\n '쏜다',\n '아가씨',\n '아기와 나',\n '아내가 결혼했다',\n '아는 여자',\n '아들',\n '아라한 장풍대작전',\n '아래층 여자와 윗층 남자',\n '아리랑',\n '아벤고 공수군단',\n '아부의 왕',\n '아수라',\n '아이들…',\n '아이 캔 스피크',\n '아저씨',\n '아찌,아빠',\n '아프리카',\n '아홉살 인생',\n '악녀',\n '악마를 보았다',\n '악어',\n '악의 연대기',\n '안녕 형아',\n '안시성',\n '알바트로스',\n '알 포인트',\n '암살',\n '애마부인',\n '애인(1982년 영화)',\n '애인(2005년 영화)',\n '애자',\n '앨리스 원더랜드에서 온 소년',\n '앵무새 몸으로 울었다',\n '어깨동무',\n '어린 신부',\n '얼굴',\n '여감방',\n '여고괴담 시리즈',\n '여고괴담',\n '여고괴담 두번째 이야기',\n '여고괴담 3 - 여우 계단',\n '여고괴담 4 - 목소리',\n '여고생 시집가기',\n '여곡성',\n '여로(영화)',\n '여배우들',\n '여선생 VS 여제자',\n '여왕벌',\n '여자들',\n '여중생A',\n '역린',\n '연가시',\n '연애의 목적',\n '연애의 온도',\n '연평해전',\n '연풍연가',\n '열정같은소리하고있네',\n '열한번째 엄마',\n '열한시',\n '염력',\n '엽기적인 그녀',\n '엽기적인 그녀 2',\n '예의없는 것들',\n '오감도',\n '오늘의 연애',\n '오발탄',\n '오빠생각',\n '오! 브라더스',\n '오! 수정',\n '오! 해피데이',\n '오 꿈의 나라',\n '오로라 공주',\n '오싹한 연애',\n '오아시스',\n '옥자',\n '올가미',\n '올드마린보이',\n '올드보이',\n '와니와준하',\n '와이키키 브라더스',\n '와일드 카드',\n '완득이',\n '완벽한 파트너',\n '왕의 남자',\n '용가리',\n '용서받지 못한 자',\n '용의자',\n '용의자X',\n '우는 남자',\n '우뢰매',\n '우리들',\n '우리들의 일그러진 영웅',\n '우리들의 행복한 시간',\n '우리 생애 최고의 순간',\n '우리에게 내일은 없다',\n '우리 이웃의 범죄',\n '우리 형',\n '우아한 거짓말',\n '우아한 세계',\n '우주괴인 왕마귀',\n '우주의 크리스마스',\n '울지 않으리',\n '울학교 이티',\n '워낭소리',\n '원스 어폰 어 타임',\n '월하의 맹서',\n '웨딩드레스',\n '웰컴 투 동막골',\n '위대한 소원',\n '위대한 유산',\n '유감스러운 도시',\n '유령',\n '유리정원',\n '육체의 약속',\n '육혈포 강도단',\n '은교',\n '은밀하게 위대하게',\n '은하해방전선',\n '은행나무 침대',\n '의뢰인',\n '의형제',\n '이것이 우리의 끝이다',\n '이끼',\n '이리',\n '이별계약',\n '이웃사람',\n '이웃집 좀비',\n '이장과 군수',\n '이중간첩',\n '이층의 악당',\n '이태원 살인 사건',\n '인디안 썸머',\n '인류멸망보고서',\n '인정사정 볼 것 없다',\n '인천상륙작전',\n '인사동 스캔들',\n '인어공주',\n '인터뷰',\n '임금님의 사건수첩',\n '일대일',\n '일진',\n '자녀목',\n '자백',\n '자카르타',\n '자칼이 온다',\n '작전',\n '잘 살아보세',\n '잘 알지도 못하면서',\n '잠복근무',\n '장군의 아들',\n '장화, 홍련',\n '재밌는 영화',\n '재심',\n '적도의 꽃',\n '전국 노래자랑',\n '전설의 고향',\n '전설의 주먹',\n '전우치',\n '접속',\n '젓가락',\n '정글쥬스',\n '제니, 주노',\n '제보자',\n '제5의 사나이',\n '젝스키스 에이틴',\n '조선마술사',\n '조선명탐정: 각시투구꽃의 비밀',\n '조선명탐정: 사라진 놉의 딸',\n '조선명탐정: 흡혈괴마의 비밀',\n '조선미녀삼총사',\n '조용한 가족',\n '조작된 도시',\n '조폭 마누라',\n '족보',\n '족구왕',\n '좋은 놈, 나쁜 놈, 이상한 놈',\n '주글래 살래',\n '주먹이 운다',\n '주유소 습격사건',\n '주홍글씨',\n '죽거나 혹은 나쁘거나',\n '죽여주는 여자',\n '죽음보다 깊은 잠',\n '중독노래방',\n '중천',\n '즐거운 인생',\n '증발(영화)',\n '지구를 지켜라',\n '지금은맞고그때는틀리다',\n '지금 만나러 갑니다',\n '지슬: 끝나지 않은 세월 2',\n '직지코드',\n '진아의 벌레먹은 장미',\n '집으로...',\n '집으로 가는 길',\n '집행자',\n '짝패',\n '짱',\n '찌라시: 위험한 소문',\n '찍히면 죽는다',\n '차우',\n '차이나 타운',\n '차형사',\n '참견은 노, 사랑은 오예',\n '창공으로',\n '챔피언(영화)',\n '챔피언 마빡이',\n '천국의 계단(영화)',\n '천국의 우편배달부',\n '천군',\n '천안함 프로젝트',\n '천하장사 마돈나',\n '철암계곡의 혈투',\n '청년경찰',\n '청담보살',\n '청연',\n '체인지',\n '체포왕',\n '초능력자',\n '초록물고기',\n '초인',\n '최강 로맨스',\n '최악의 하루',\n '최종병기 활',\n '최후의 증인',\n '추격자',\n '춘몽',\n '춘향뎐',\n '출국',\n '치외법권',\n '친구',\n '친구2',\n '친절한 금자씨',\n '카운트 다운',\n '카트',\n '카페 느와르',\n '코리아',\n '쿼바디스',\n '퀵',\n '크로싱',\n '클래식',\n '클레멘타인',\n '키다리 아저씨',\n '킬리만자로',\n '킬러들의 수다',\n '킹콩을 들다',\n '타워',\n '타짜',\n '타짜: 신의 손',\n '타짜: 원 아이드 잭',\n '타투',\n '탐정: 더 비기닝',\n '탐정: 리턴즈',\n '탐정 홍길동: 사라진 마을',\n '터널',\n '터널 3D',\n '태',\n '태극기 휘날리며',\n '태백산맥',\n '태풍',\n '택시운전사',\n '톱스타',\n '퇴마록',\n '투 가이즈',\n '투명인간',\n '투캅스',\n '투혼',\n '튜브',\n '트럭',\n '트릭',\n '트윈스터즈',\n '특별수사: 사형수의 편지',\n '특별시민',\n '특종: 량첸살인기',\n '티끌모아 로맨스',\n '타클라마칸',\n '파괴된 사나이(영화)',\n '파란나비효과',\n '파송송 계란탁',\n '파수꾼(영화)',\n '파울볼',\n '파이란',\n '파파로티',\n '파업전야',\n '판도라',\n '팔도강산',\n '패션왕',\n '퍼펙트 게임',\n '페이스메이커',\n '편지',\n '평양성',\n '평화의 시대',\n '포화속으로',\n '폭력의 씨앗',\n '폭력써클',\n '폭풍전야',\n '표적',\n '푸른소금',\n '품행제로',\n '프리즌',\n '플란다스의 개',\n '플랜맨',\n '피끓는 청춘',\n '피도 눈물도 없이',\n '피아골',\n '하녀(1960)',\n '하녀(2010)',\n '하루',\n '하류인생',\n '하면 된다',\n '하모니',\n '하얀전쟁',\n '하울링',\n '하이힐',\n '하피',\n '하하하',\n '한공주',\n '한반도',\n '할렐루야',\n '함정',\n '해가 서쪽에서 뜬다면',\n '해무',\n '해바라기',\n '해빙',\n '해안선',\n '해어화',\n '해운대',\n '해적: 바다로 간 산적',\n '해피 엔드',\n '핸드폰',\n '행복',\n '행복은 성적순이 아니잖아요',\n '허삼관',\n '허풍',\n '헬로우 고스트',\n '헬머니',\n '현기증(한국 영화)',\n '혈의 누',\n '협녀, 칼의 기억',\n '협상',\n '형',\n '형사 DUELIST',\n '호로비츠를 위하여',\n '혼숨',\n '홀리데이',\n '화려한 휴가',\n '화산고',\n '화이: 괴물을 삼킨 아이',\n '화차',\n '환절기',\n '황산벌',\n '황제를 위하여',\n '황진이',\n '황해',\n '회사원',\n '효자동 이발사',\n '후궁: 제왕의 첩',\n '후아유',\n '희생부활자',\n '히말라야',\n '히어로',\n 'B급 며느리',\n 'B형 남자친구',\n 'GP506',\n 'H',\n 'M',\n 'O양의 아파트',\n 'R2B: 리턴 투 베이스',\n 'S 다이어리',\n 'YMCA 야구단']"
     },
     "metadata": {},
     "execution_count": 86
    }
   ],
   "source": [
    "list_title"
   ]
  },
  {
   "cell_type": "code",
   "execution_count": 64,
   "metadata": {},
   "outputs": [],
   "source": [
    "search_box.get_attribute('')"
   ]
  },
  {
   "cell_type": "code",
   "execution_count": 9,
   "metadata": {},
   "outputs": [],
   "source": [
    "import time\n",
    "from selenium import webdriver\n",
    "import requests\n",
    "from bs4 import BeautifulSoup\n",
    "import pandas as pd\n",
    "\n",
    "\n",
    "list_full = []\n",
    "driver = webdriver.Firefox()\n",
    "df = pd.DataFrame(columns=['team', 'cp1','cp2','cp3','cp4','cp5','pl1','pl2','pl3','pl4','pl5','score','date','stage','title'])\n",
    "\n",
    "\n",
    "\n",
    "for i in range(1,50):\n",
    "    driver.get('http://lol.inven.co.kr/dataninfo/match/teamList.php?pg=' + str(i));   \n",
    "    res = driver.page_source\n",
    "    soup = BeautifulSoup(res, 'html.parser')\n",
    "    title = soup.find(id='lolDbMatchTeamList')\n",
    "\n",
    "    list_page = []\n",
    "    for j in title:\n",
    "        list_page.append(str(j))\n",
    "    match_list = []\n",
    "    for k in list_page:\n",
    "        if 'listFrame' in k:\n",
    "            match_list.append(k.split('listFrame')[1].split('id=\"')[1].split('>')[0].split('\"')[0])\n",
    "\n",
    "    time.sleep(2)\t\t\t\t\n",
    "    for l in match_list:\n",
    "        search_box = driver.find_element_by_xpath('//*[@id=\"{}\"]/div[5]/a'.format(l))  \n",
    "        search_box.send_keys('\\n')\t\t\n",
    "        search_box.click()\t\t\t\n",
    "\n",
    "\n",
    "    res2 = driver.page_source\n",
    "    soup2 = BeautifulSoup(res2, 'html.parser')\n",
    "    title2 = soup2.find(id='lolDbMatchTeamList')\n",
    "\n",
    "    \n",
    "    for m in range(0,25):\n",
    "        list_left = []\n",
    "        list_right = []\n",
    "\n",
    "        lTeam = str(soup2.find_all(class_='lTeam')[m]).split('<') #0부터 24까지\n",
    "        for i in lTeam:\n",
    "            if 'teamname' in i:\n",
    "                list_right.append(i.split('>')[1])\n",
    "\n",
    "\n",
    "        wTeam = str(soup2.find_all(class_='wTeam')[m]).split('<')\n",
    "        for i in wTeam:\n",
    "            if 'teamname' in i:\n",
    "                list_left.append(i.split('>')[1])\n",
    "\n",
    "\n",
    "        left = str(soup2.find_all(class_='left')[m]).split('<')\n",
    "        for i in left:\n",
    "            if 'champicon' in i:\n",
    "                list_left.append(i.split('(')[2].split(')')[0].split('\\'')[1])\n",
    "        for i in left:\n",
    "            if 'playername color1' in i:\n",
    "                list_left.append(i.split('>')[1])\n",
    "\n",
    "        right = str(soup2.find_all(class_='right')[m]).split('<')\n",
    "        for i in right:\n",
    "            if 'champicon' in i:\n",
    "                list_right.append(i.split('(')[2].split(')')[0].split('\\'')[1])\n",
    "        for i in right:\n",
    "            if 'playername color2' in i:\n",
    "                list_right.append(i.split('>')[1])\n",
    "        for i in lTeam:\n",
    "            if 'color2 tx5' in i:\n",
    "                list_right.append(i.split('>')[1])\n",
    "\n",
    "        for i in wTeam:\n",
    "            if 'color1 tx5' in i:\n",
    "                list_left.append(i.split('>')[1])\n",
    "\n",
    "        listTop = str(soup2.find_all(class_='listTop')[m]).split('<')\n",
    "        for i in listTop:\n",
    "            if 'title' in i:\n",
    "                list_left.append(i.split('>')[1])\n",
    "                list_right.append(i.split('>')[1])\n",
    "            if 'date' in i:\n",
    "                list_left.append(i.split('>')[1])\n",
    "                list_right.append(i.split('>')[1])\n",
    "            if 'stage' in i:\n",
    "                list_left.append(i.split('>')[1])\n",
    "                list_right.append(i.split('>')[1])\n",
    "\n",
    "        a_series1 = pd.Series(list_right, index = df.columns)\n",
    "        a_series2 = pd.Series(list_left, index = df.columns)\n",
    "        df = df.append(a_series1, ignore_index=True)\n",
    "        df = df.append(a_series2, ignore_index=True)\n",
    "\n",
    "    list_full.append(str(title2))\n",
    "\n"
   ]
  },
  {
   "cell_type": "code",
   "execution_count": 12,
   "metadata": {},
   "outputs": [],
   "source": [
    "df.to_csv(\"./result.csv\",index=False, encoding='utf-8-sig')"
   ]
  },
  {
   "cell_type": "code",
   "execution_count": 7,
   "metadata": {},
   "outputs": [],
   "source": [
    "import pandas as pd\n",
    "df = pd.DataFrame(columns=['team', 'cp1','cp2','cp3','cp4','cp5','pl1','pl2','pl3','pl4','pl5','score','date','stage','title'])\n",
    "for m in range(0,25):\n",
    "    list_left = []\n",
    "    list_right = []\n",
    "\n",
    "    lTeam = str(soup2.find_all(class_='lTeam')[m]).split('<') #0부터 24까지\n",
    "    for i in lTeam:\n",
    "        if 'teamname' in i:\n",
    "            list_right.append(i.split('>')[1])\n",
    "\n",
    "\n",
    "    wTeam = str(soup2.find_all(class_='wTeam')[m]).split('<')\n",
    "    for i in wTeam:\n",
    "        if 'teamname' in i:\n",
    "            list_left.append(i.split('>')[1])\n",
    "\n",
    "\n",
    "    left = str(soup2.find_all(class_='left')[m]).split('<')\n",
    "    for i in left:\n",
    "        if 'champicon' in i:\n",
    "            list_left.append(i.split('(')[2].split(')')[0].split('\\'')[1])\n",
    "    for i in left:\n",
    "        if 'playername color1' in i:\n",
    "            list_left.append(i.split('>')[1])\n",
    "\n",
    "    right = str(soup2.find_all(class_='right')[m]).split('<')\n",
    "    for i in right:\n",
    "         if 'champicon' in i:\n",
    "             list_right.append(i.split('(')[2].split(')')[0].split('\\'')[1])\n",
    "    for i in right:\n",
    "         if 'playername color2' in i:\n",
    "             list_right.append(i.split('>')[1])\n",
    "    for i in lTeam:\n",
    "         if 'color2 tx5' in i:\n",
    "             list_right.append(i.split('>')[1])\n",
    "\n",
    "    for i in wTeam:\n",
    "         if 'color1 tx5' in i:\n",
    "             list_left.append(i.split('>')[1])\n",
    "\n",
    "    listTop = str(soup2.find_all(class_='listTop')[m]).split('<')\n",
    "    for i in listTop:\n",
    "         if 'title' in i:\n",
    "             list_left.append(i.split('>')[1])\n",
    "             list_right.append(i.split('>')[1])\n",
    "         if 'date' in i:\n",
    "             list_left.append(i.split('>')[1])\n",
    "             list_right.append(i.split('>')[1])\n",
    "         if 'stage' in i:\n",
    "             list_left.append(i.split('>')[1])\n",
    "             list_right.append(i.split('>')[1])\n",
    "\n",
    "    a_series1 = pd.Series(list_right, index = df.columns)\n",
    "    a_series2 = pd.Series(list_left, index = df.columns)\n",
    "    df = df.append(a_series1, ignore_index=True)\n",
    "    df = df.append(a_series2, ignore_index=True)"
   ]
  }
 ],
 "metadata": {
  "language_info": {
   "name": "python",
   "codemirror_mode": {
    "name": "ipython",
    "version": 3
   },
   "version": "3.7.6-final"
  },
  "orig_nbformat": 2,
  "file_extension": ".py",
  "mimetype": "text/x-python",
  "name": "python",
  "npconvert_exporter": "python",
  "pygments_lexer": "ipython3",
  "version": 3,
  "kernelspec": {
   "name": "python37664bitlrcnconda81488d0fdaed43d5852de4dbfc33ce1f",
   "display_name": "Python 3.7.6 64-bit ('lrcn': conda)"
  }
 },
 "nbformat": 4,
 "nbformat_minor": 2
}