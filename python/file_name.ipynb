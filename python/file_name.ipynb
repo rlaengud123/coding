{
 "cells": [
  {
   "cell_type": "code",
   "execution_count": 17,
   "metadata": {},
   "outputs": [],
   "source": [
    "import os\n",
    "import pandas as pd\n",
    "\n",
    "path = r'F:\\FDAI\\성모병원\\성모병원 전처리 데이터\\h_data\\1'\n",
    "\n",
    "folder_list = os.listdir(path)\n",
    "\n",
    "df = pd.DataFrame(columns=['folder','true'])\n",
    "\n",
    "for i in folder_list:\n",
    "    temp = []\n",
    "    temp.append(i)\n",
    "    temp.append(os.listdir(os.path.join(path,i))[0][:4])\n",
    "\n",
    "    a = pd.Series(temp, index=df.columns)\n",
    "    df = df.append(a, ignore_index=True)\n",
    "    \n",
    "    "
   ]
  },
  {
   "cell_type": "code",
   "execution_count": 20,
   "metadata": {},
   "outputs": [],
   "source": [
    "df.to_csv('./가습기살균제.csv', index=False, encoding='utf-8-sig')"
   ]
  }
 ],
 "metadata": {
  "language_info": {
   "codemirror_mode": {
    "name": "ipython",
    "version": 3
   },
   "file_extension": ".py",
   "mimetype": "text/x-python",
   "name": "python",
   "nbconvert_exporter": "python",
   "pygments_lexer": "ipython3",
   "version": "3.7.6-final"
  },
  "orig_nbformat": 2,
  "kernelspec": {
   "name": "python37664bitlrcnconda81488d0fdaed43d5852de4dbfc33ce1f",
   "display_name": "Python 3.7.6 64-bit ('lrcn': conda)"
  }
 },
 "nbformat": 4,
 "nbformat_minor": 2
}