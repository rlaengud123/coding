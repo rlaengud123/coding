{
 "cells": [
  {
   "cell_type": "code",
   "execution_count": 1,
   "metadata": {},
   "outputs": [],
   "source": [
    "import os\n",
    "import cv2\n",
    "import numpy as np\n",
    "import glob"
   ]
  },
  {
   "cell_type": "code",
   "execution_count": 10,
   "metadata": {},
   "outputs": [],
   "source": [
    "path = r'F:/cmc_resize'\n",
    "path_list = os.listdir(path)\n",
    "for j in range(0,len(path_list)):\n",
    "    file_dir = path + '/' + path_list[j]\n",
    "    file_list = os.listdir(file_dir)\n",
    "    for i in range(0,len(file_list)):\n",
    "        image_dir = file_dir + \"/\" + file_list[i] + \"/*.bmp\"\n",
    "        image_path = file_dir + \"/\" + file_list[i]\n",
    "        image_list = os.listdir(image_path)\n",
    "        img_array = []\n",
    "        for filename in glob.glob(image_dir):\n",
    "            img = cv2.imread(filename)\n",
    "            height, width, layers = img.shape\n",
    "            size = (width,height)\n",
    "            img_array.append(img)\n",
    "        save_name = r'F:/cmc_data2' +'/' + path_list[j] + \"/\" + file_list[i] + \".avi\"\n",
    "        out = cv2.VideoWriter(save_name, cv2.VideoWriter_fourcc(*'DIVX'), 1, size)\n",
    "\n",
    "        for i in range(len(img_array)):\n",
    "            out.write(img_array[i])\n",
    "        out.release()\n"
   ]
  },
  {
   "cell_type": "code",
   "execution_count": 3,
   "metadata": {},
   "outputs": [],
   "source": [
    "path = r'F:/data2'\n",
    "path_list = os.listdir(path)\n",
    "for j in range(0,len(path_list)):\n",
    "    file_dir = path + '/' + path_list[j]\n",
    "    file_list = os.listdir(file_dir)\n",
    "    for i in range(0,len(file_list)):\n",
    "        image_dir = file_dir + \"/\" + file_list[i] + \"/*.bmp\"\n",
    "        image_path = file_dir + \"/\" + file_list[i]\n",
    "        image_list = os.listdir(image_path)\n",
    "        img_array = []\n",
    "        for filename in glob.glob(image_dir):\n",
    "            img = cv2.imread(filename)\n",
    "            height, width, layers = img.shape\n",
    "            size = (width,height)\n",
    "            img_array.append(img)\n",
    "        save_name = r'F:/data_avi' +'/' + path_list[j] + \"/\" + file_list[i] + \".avi\"\n",
    "        out = cv2.VideoWriter(save_name, cv2.VideoWriter_fourcc(*'DIVX'), 1, size)\n",
    "\n",
    "        for i in range(len(img_array)):\n",
    "            out.write(img_array[i])\n",
    "        out.release()\n"
   ]
  },
  {
   "cell_type": "code",
   "execution_count": 2,
   "metadata": {},
   "outputs": [],
   "source": [
    "path = r'F:/h_data2'\n",
    "path_list = os.listdir(path)\n",
    "for j in range(0,len(path_list)):\n",
    "    file_dir = path + '/' + path_list[j]\n",
    "    file_list = os.listdir(file_dir)\n",
    "    for i in range(0,len(file_list)):\n",
    "        image_dir = file_dir + \"/\" + file_list[i] + \"/*.bmp\"\n",
    "        image_path = file_dir + \"/\" + file_list[i]\n",
    "        image_list = os.listdir(image_path)\n",
    "        img_array = []\n",
    "        for filename in glob.glob(image_dir):\n",
    "            img = cv2.imread(filename)\n",
    "            height, width, layers = img.shape\n",
    "            size = (width,height)\n",
    "            img_array.append(img)\n",
    "        save_name = r'F:/h_data_avi' +'/' + path_list[j] + \"/\" + file_list[i] + \".avi\"\n",
    "        out = cv2.VideoWriter(save_name, cv2.VideoWriter_fourcc(*'DIVX'), 1, size)\n",
    "\n",
    "        for i in range(len(img_array)):\n",
    "            out.write(img_array[i])\n",
    "        out.release()\n",
    ""
   ]
  },
  {
   "cell_type": "code",
   "execution_count": null,
   "metadata": {},
   "outputs": [],
   "source": []
  }
 ],
 "metadata": {
  "kernelspec": {
   "display_name": "Python 3",
   "language": "python",
   "name": "python3"
  },
  "language_info": {
   "codemirror_mode": {
    "name": "ipython",
    "version": 3
   },
   "file_extension": ".py",
   "mimetype": "text/x-python",
   "name": "python",
   "nbconvert_exporter": "python",
   "pygments_lexer": "ipython3",
   "version": "3.6.9-final"
  }
 },
 "nbformat": 4,
 "nbformat_minor": 2
}