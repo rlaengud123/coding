{
 "cells": [
  {
   "cell_type": "code",
   "execution_count": 3,
   "metadata": {},
   "outputs": [],
   "source": [
    "import os\n",
    "from PIL import Image\n",
    "\n",
    "all_path = \"f://cmc_resize\"\n",
    "all_list = ['0']\n",
    "for k in range(0, len(all_list)):\n",
    "    folder_path = \"f://cmc_resize/\" + str(all_list[k])\n",
    "    folder_list = os.listdir(folder_path)\n",
    "    aug_count = 1\n",
    "    \n",
    "    for j in range(0,len(folder_list)):\n",
    "        image_path = \"f://cmc_resize/\" + str(all_list[k]) + \"/\" + folder_list[j]\n",
    "        image_list = os.listdir(image_path)\n",
    "        count = 0\n",
    "        if(len(image_list) > 30):\n",
    "    #         if(len(image_list) > 40):\n",
    "    #             cut_1 = int(len(image_list) * 0.1)\n",
    "    #             cut_2 = int(len(image_list) * 0.9)\n",
    "    #             image_list = image_list[cut_1:cut_2]\n",
    "            degree = -5\n",
    "            for i in range(0,len(image_list)):\n",
    "\n",
    "#                 a = int((len(image_list)/30)*i)\n",
    "\n",
    "                if not os.path.isdir(\"f://cmc_resize/\" + all_list[k] + \"/\" + str(aug_count) + \"_\" + str(degree)):\n",
    "                    os.mkdir(\"f://cmc_resize/\" + all_list[k] + \"/\" + str(aug_count) + \"_\" + str(degree))\n",
    "\n",
    "\n",
    "#                 if count == 30:\n",
    "#                     break\n",
    "                path = \"f://cmc_resize/\" + str(all_list[k]) + \"/\" + str(folder_list[j]) + \"/\" + str(image_list[i]) #i가 아니라 a로 바꿔야함\n",
    "                img = Image.open(path)\n",
    "                img = img.rotate(degree)\n",
    "                sign_0 = \"00\"\n",
    "                if count > 10:\n",
    "                    sign_0 = \"0\"\n",
    "                if count >= 100:\n",
    "                    sign_0 = \"\"\n",
    "                new_path = \"f://cmc_resize/\" + all_list[k] + \"/\" + str(aug_count) + \"_\" + str(degree) + \"/\" + sign_0 + str(count) +\".bmp\"\n",
    "                img.save(new_path)\n",
    "                count = count + 1\n",
    "        aug_count += 1\n",
    "        if aug_count == 150:\n",
    "            break\n",
    "            "
   ]
  },
  {
   "cell_type": "code",
   "execution_count": null,
   "metadata": {},
   "outputs": [],
   "source": []
  }
 ],
 "metadata": {
  "kernelspec": {
   "display_name": "Python 3",
   "language": "python",
   "name": "python3"
  },
  "language_info": {
   "codemirror_mode": {
    "name": "ipython",
    "version": 3
   },
   "file_extension": ".py",
   "mimetype": "text/x-python",
   "name": "python",
   "nbconvert_exporter": "python",
   "pygments_lexer": "ipython3",
   "version": "3.7.2"
  }
 },
 "nbformat": 4,
 "nbformat_minor": 2
}
